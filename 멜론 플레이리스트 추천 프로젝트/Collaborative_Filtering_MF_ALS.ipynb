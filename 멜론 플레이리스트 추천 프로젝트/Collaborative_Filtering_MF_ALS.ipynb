{
 "cells": [
  {
   "cell_type": "markdown",
   "metadata": {
    "id": "9a6wmbkVHVlt"
   },
   "source": [
    "# Colab drive mount"
   ]
  },
  {
   "cell_type": "code",
   "execution_count": null,
   "metadata": {
    "colab": {
     "base_uri": "https://localhost:8080/"
    },
    "executionInfo": {
     "elapsed": 253,
     "status": "ok",
     "timestamp": 1642038909909,
     "user": {
      "displayName": "유상준",
      "photoUrl": "https://lh3.googleusercontent.com/a-/AOh14GjwhV3OPaZeVbcnb0L540CX4dtB2wGRfCVw4E8=s64",
      "userId": "06620102043085366517"
     },
     "user_tz": -540
    },
    "id": "H_pyHQSUHY0c",
    "outputId": "99995f7f-334a-4065-ea8f-2266314cb9b4"
   },
   "outputs": [
    {
     "name": "stdout",
     "output_type": "stream",
     "text": [
      "/content/drive/MyDrive/네카라쿠배/최종 프로젝트/code\n"
     ]
    }
   ],
   "source": [
    "#cd /content/drive/MyDrive/네카라쿠배/최종 프로젝트/code"
   ]
  },
  {
   "cell_type": "code",
   "execution_count": null,
   "metadata": {
    "colab": {
     "base_uri": "https://localhost:8080/"
    },
    "executionInfo": {
     "elapsed": 326,
     "status": "ok",
     "timestamp": 1642038911333,
     "user": {
      "displayName": "유상준",
      "photoUrl": "https://lh3.googleusercontent.com/a-/AOh14GjwhV3OPaZeVbcnb0L540CX4dtB2wGRfCVw4E8=s64",
      "userId": "06620102043085366517"
     },
     "user_tz": -540
    },
    "id": "GwxHlL-aHirY",
    "outputId": "66a33fa7-90cb-4ef3-c115-4faf0e2349f7"
   },
   "outputs": [
    {
     "name": "stdout",
     "output_type": "stream",
     "text": [
      "Collaborative_Filtering_MF_ALS.ipynb  \u001b[0m\u001b[01;34m__pycache__\u001b[0m/\n",
      "EDA_sj.ipynb                          set_matplotlib_hangul.py\n"
     ]
    }
   ],
   "source": [
    "#ls"
   ]
  },
  {
   "cell_type": "code",
   "execution_count": 25,
   "metadata": {},
   "outputs": [
    {
     "name": "stdout",
     "output_type": "stream",
     "text": [
      "Requirement already satisfied: nbformat in /Users/jun/miniforge3/envs/ds_study/lib/python3.10/site-packages (5.1.3)\r\n",
      "Requirement already satisfied: jupyter-core in /Users/jun/miniforge3/envs/ds_study/lib/python3.10/site-packages (from nbformat) (4.9.1)\r\n",
      "Requirement already satisfied: jsonschema!=2.5.0,>=2.4 in /Users/jun/miniforge3/envs/ds_study/lib/python3.10/site-packages (from nbformat) (4.3.3)\r\n",
      "Requirement already satisfied: ipython-genutils in /Users/jun/miniforge3/envs/ds_study/lib/python3.10/site-packages (from nbformat) (0.2.0)\r\n",
      "Requirement already satisfied: traitlets>=4.1 in /Users/jun/miniforge3/envs/ds_study/lib/python3.10/site-packages (from nbformat) (5.1.1)\r\n",
      "Requirement already satisfied: attrs>=17.4.0 in /Users/jun/miniforge3/envs/ds_study/lib/python3.10/site-packages (from jsonschema!=2.5.0,>=2.4->nbformat) (21.4.0)\r\n",
      "Requirement already satisfied: pyrsistent!=0.17.0,!=0.17.1,!=0.17.2,>=0.14.0 in /Users/jun/miniforge3/envs/ds_study/lib/python3.10/site-packages (from jsonschema!=2.5.0,>=2.4->nbformat) (0.18.0)\r\n"
     ]
    }
   ],
   "source": [
    "#!pip install nbformat"
   ]
  },
  {
   "cell_type": "markdown",
   "metadata": {
    "id": "lLuIWVfIHrQe"
   },
   "source": [
    "# Module import, \bPre-Work"
   ]
  },
  {
   "cell_type": "code",
   "execution_count": 1,
   "metadata": {
    "id": "thW-afcIIrMF"
   },
   "outputs": [],
   "source": [
    "from collections import Counter\n",
    "\n",
    "import numpy as np\n",
    "import pandas as pd\n",
    "\n",
    "import scipy.sparse as spr\n",
    "import pickle"
   ]
  },
  {
   "cell_type": "code",
   "execution_count": 2,
   "metadata": {
    "id": "An5xbNYG7hvq"
   },
   "outputs": [],
   "source": [
    "# 결과값 저장하기 위한 write_json 함수 작성\n",
    "# arena_util.py\n",
    "# -*- coding: utf-8 -*-\n",
    "\n",
    "import io\n",
    "import os\n",
    "import json\n",
    "import distutils.dir_util\n",
    "from collections import Counter\n",
    "\n",
    "import numpy as np\n",
    "\n",
    "\n",
    "def write_json(data, fname):\n",
    "    def _conv(o):\n",
    "        if isinstance(o, np.int64) or isinstance(o, np.int32):\n",
    "            return int(o)\n",
    "        raise TypeError\n",
    "\n",
    "    parent = os.path.dirname(fname)\n",
    "    distutils.dir_util.mkpath(\"../data/\" + parent)\n",
    "    with io.open(\"../data/\" + fname, \"w\", encoding=\"utf8\") as f:\n",
    "        json_str = json.dumps(data, ensure_ascii=False, default=_conv)\n",
    "        f.write(json_str)\n",
    "\n",
    "'''\n",
    "def load_json(fname):\n",
    "    with open(fname, encoding='utf8') as f:\n",
    "        json_obj = json.load(f)\n",
    "\n",
    "    return json_obj\n",
    "\n",
    "\n",
    "def debug_json(r):\n",
    "    print(json.dumps(r, ensure_ascii=False, indent=4))\n",
    "'''"
   ]
  },
  {
   "cell_type": "markdown",
   "metadata": {
    "id": "crIjwAEtHOk7"
   },
   "source": [
    "# Load Data"
   ]
  },
  {
   "cell_type": "code",
   "execution_count": 3,
   "metadata": {
    "colab": {
     "base_uri": "https://localhost:8080/"
    },
    "executionInfo": {
     "elapsed": 269,
     "status": "ok",
     "timestamp": 1642038900057,
     "user": {
      "displayName": "유상준",
      "photoUrl": "https://lh3.googleusercontent.com/a-/AOh14GjwhV3OPaZeVbcnb0L540CX4dtB2wGRfCVw4E8=s64",
      "userId": "06620102043085366517"
     },
     "user_tz": -540
    },
    "id": "OmMJYyqaJG9W",
    "outputId": "951a07fd-33c8-43b6-c908-0d60308ebd3a"
   },
   "outputs": [
    {
     "name": "stdout",
     "output_type": "stream",
     "text": [
      "Collaborative_Filtering_MF_ALS.ipynb\r\n",
      "Collaborative_Filtering_MF_ALS.ipynb.zip\r\n"
     ]
    }
   ],
   "source": [
    "ls"
   ]
  },
  {
   "cell_type": "code",
   "execution_count": 4,
   "metadata": {
    "id": "1J_GnztkIuTv"
   },
   "outputs": [],
   "source": [
    "song_meta = pd.read_json(\"../data/song_meta.json\")\n",
    "train = pd.read_json(\"../data/train.json\")\n",
    "test = pd.read_json(\"../data/val.json\")"
   ]
  },
  {
   "cell_type": "markdown",
   "metadata": {
    "id": "_N9DeqxTJ2f6"
   },
   "source": [
    "## Data Preprocessing"
   ]
  },
  {
   "cell_type": "markdown",
   "metadata": {
    "id": "IP_p3we7Poyq"
   },
   "source": [
    "playlist, song, tag의 id(각각 nid, sid, tid)를 새로 생성하는 이유는, 새로 생성할 id를 matrix의 row, column index로 사용할 것이기 때문입니다.\n",
    "\n",
    "- plylst_id_nid : playlist id -> nid\n",
    "- plylst_nid_id : playlist nid -> id\n",
    "- song_id_sid : song id -> sid\n",
    "- song_sid_id : song sid -> id\n",
    "- tag_id_tid : tag id -> tid\n",
    "- tag_tid_id : tag tid -> id\n",
    "- song_dict : song id -> count\n",
    "- tag_dict : tag id -> count"
   ]
  },
  {
   "cell_type": "code",
   "execution_count": 5,
   "metadata": {
    "id": "AU1b8AwJJ5cR"
   },
   "outputs": [],
   "source": [
    "# train + test => new train\n",
    "plylst = pd.concat([train, test], ignore_index=True)\n",
    "n_plylst = len(plylst)\n",
    "\n",
    "# playlist id\n",
    "plylst[\"nid\"] = range(n_plylst)\n",
    "\n",
    "# id <-> nid\n",
    "plylst_id_nid = dict(zip(plylst[\"id\"],plylst[\"nid\"]))\n",
    "plylst_nid_id = dict(zip(plylst[\"nid\"],plylst[\"id\"]))"
   ]
  },
  {
   "cell_type": "code",
   "execution_count": 6,
   "metadata": {
    "id": "0pa3d4wYQpCZ"
   },
   "outputs": [],
   "source": [
    "plylst_tag = plylst['tags']\n",
    "tag_counter = Counter([tg for tgs in plylst_tag for tg in tgs])\n",
    "tag_dict = {x: tag_counter[x] for x in tag_counter}\n",
    "\n",
    "tag_id_tid = dict()\n",
    "tag_tid_id = dict()\n",
    "for i, t in enumerate(tag_dict):\n",
    "  tag_id_tid[t] = i\n",
    "  tag_tid_id[i] = t\n",
    "\n",
    "n_tags = len(tag_dict)\n",
    "\n",
    "plylst_song = plylst['songs']\n",
    "song_counter = Counter([sg for sgs in plylst_song for sg in sgs])\n",
    "song_dict = {x: song_counter[x] for x in song_counter}\n",
    "\n",
    "song_id_sid = dict()\n",
    "song_sid_id = dict()\n",
    "for i, t in enumerate(song_dict):\n",
    "  song_id_sid[t] = i\n",
    "  song_sid_id[i] = t\n",
    "\n",
    "n_songs = len(song_dict)"
   ]
  },
  {
   "cell_type": "markdown",
   "metadata": {
    "id": "yasM1px9Rp9q"
   },
   "source": [
    "plylst의 songs와 tags를 새로운 id로 변환하여 DataFrame에 추가합니다"
   ]
  },
  {
   "cell_type": "code",
   "execution_count": 7,
   "metadata": {
    "id": "Bkd8EkxeTXMo"
   },
   "outputs": [],
   "source": [
    "plylst['songs_id'] = plylst['songs'].map(lambda x: [song_id_sid.get(s) for s in x if song_id_sid.get(s) != None])\n",
    "plylst['tags_id'] = plylst['tags'].map(lambda x: [tag_id_tid.get(t) for t in x if tag_id_tid.get(t) != None])"
   ]
  },
  {
   "cell_type": "code",
   "execution_count": 8,
   "metadata": {
    "colab": {
     "base_uri": "https://localhost:8080/"
    },
    "executionInfo": {
     "elapsed": 11,
     "status": "ok",
     "timestamp": 1642039255702,
     "user": {
      "displayName": "유상준",
      "photoUrl": "https://lh3.googleusercontent.com/a-/AOh14GjwhV3OPaZeVbcnb0L540CX4dtB2wGRfCVw4E8=s64",
      "userId": "06620102043085366517"
     },
     "user_tz": -540
    },
    "id": "5OZHqvdZUWI-",
    "outputId": "ebd56cc2-0b1e-4b1e-9d80-17877f00efbf"
   },
   "outputs": [
    {
     "name": "stderr",
     "output_type": "stream",
     "text": [
      "/Users/jun/miniforge3/envs/ds_study/lib/python3.10/site-packages/pandas/core/indexing.py:1667: SettingWithCopyWarning: \n",
      "A value is trying to be set on a copy of a slice from a DataFrame.\n",
      "Try using .loc[row_indexer,col_indexer] = value instead\n",
      "\n",
      "See the caveats in the documentation: https://pandas.pydata.org/pandas-docs/stable/user_guide/indexing.html#returning-a-view-versus-a-copy\n",
      "  self.obj[key] = value\n"
     ]
    }
   ],
   "source": [
    "plylst_use = plylst[['nid','updt_date','songs_id','tags_id']]\n",
    "plylst_use.loc[:,'num_songs'] = plylst_use['songs_id'].map(len)\n",
    "plylst_use.loc[:,'num_tags'] = plylst_use['tags_id'].map(len)\n",
    "plylst_use = plylst_use.set_index('nid')"
   ]
  },
  {
   "cell_type": "code",
   "execution_count": 9,
   "metadata": {
    "colab": {
     "base_uri": "https://localhost:8080/",
     "height": 238
    },
    "executionInfo": {
     "elapsed": 424,
     "status": "ok",
     "timestamp": 1642039256122,
     "user": {
      "displayName": "유상준",
      "photoUrl": "https://lh3.googleusercontent.com/a-/AOh14GjwhV3OPaZeVbcnb0L540CX4dtB2wGRfCVw4E8=s64",
      "userId": "06620102043085366517"
     },
     "user_tz": -540
    },
    "id": "4JkaJ0QGHOTo",
    "outputId": "594f2451-800f-4129-e639-45cd478b11c5"
   },
   "outputs": [
    {
     "data": {
      "text/html": [
       "<div>\n",
       "<style scoped>\n",
       "    .dataframe tbody tr th:only-of-type {\n",
       "        vertical-align: middle;\n",
       "    }\n",
       "\n",
       "    .dataframe tbody tr th {\n",
       "        vertical-align: top;\n",
       "    }\n",
       "\n",
       "    .dataframe thead th {\n",
       "        text-align: right;\n",
       "    }\n",
       "</style>\n",
       "<table border=\"1\" class=\"dataframe\">\n",
       "  <thead>\n",
       "    <tr style=\"text-align: right;\">\n",
       "      <th></th>\n",
       "      <th>updt_date</th>\n",
       "      <th>songs_id</th>\n",
       "      <th>tags_id</th>\n",
       "      <th>num_songs</th>\n",
       "      <th>num_tags</th>\n",
       "    </tr>\n",
       "    <tr>\n",
       "      <th>nid</th>\n",
       "      <th></th>\n",
       "      <th></th>\n",
       "      <th></th>\n",
       "      <th></th>\n",
       "      <th></th>\n",
       "    </tr>\n",
       "  </thead>\n",
       "  <tbody>\n",
       "    <tr>\n",
       "      <th>0</th>\n",
       "      <td>2013-12-19 18:36:19.000</td>\n",
       "      <td>[0, 1, 2, 3, 4, 5, 6, 7, 8, 9, 10, 11, 12, 13,...</td>\n",
       "      <td>[0]</td>\n",
       "      <td>19</td>\n",
       "      <td>1</td>\n",
       "    </tr>\n",
       "    <tr>\n",
       "      <th>1</th>\n",
       "      <td>2014-12-02 16:19:42.000</td>\n",
       "      <td>[19, 20, 21, 22, 23, 24, 25, 26, 27, 28, 29, 3...</td>\n",
       "      <td>[1, 2]</td>\n",
       "      <td>42</td>\n",
       "      <td>2</td>\n",
       "    </tr>\n",
       "    <tr>\n",
       "      <th>2</th>\n",
       "      <td>2017-08-28 07:09:34.000</td>\n",
       "      <td>[61, 62, 63, 64, 65, 66, 67, 68, 69, 70, 71, 7...</td>\n",
       "      <td>[3, 4]</td>\n",
       "      <td>28</td>\n",
       "      <td>2</td>\n",
       "    </tr>\n",
       "    <tr>\n",
       "      <th>3</th>\n",
       "      <td>2019-12-05 15:15:18.000</td>\n",
       "      <td>[89, 90, 91, 92, 93, 94, 95, 96, 97, 98, 99, 1...</td>\n",
       "      <td>[5, 6, 7, 8, 9, 10, 11, 12, 13, 14]</td>\n",
       "      <td>38</td>\n",
       "      <td>10</td>\n",
       "    </tr>\n",
       "    <tr>\n",
       "      <th>4</th>\n",
       "      <td>2011-10-25 13:54:56.000</td>\n",
       "      <td>[127, 128, 129, 130, 131, 132, 133, 134, 135, ...</td>\n",
       "      <td>[15]</td>\n",
       "      <td>53</td>\n",
       "      <td>1</td>\n",
       "    </tr>\n",
       "  </tbody>\n",
       "</table>\n",
       "</div>"
      ],
      "text/plain": [
       "                   updt_date  \\\n",
       "nid                            \n",
       "0    2013-12-19 18:36:19.000   \n",
       "1    2014-12-02 16:19:42.000   \n",
       "2    2017-08-28 07:09:34.000   \n",
       "3    2019-12-05 15:15:18.000   \n",
       "4    2011-10-25 13:54:56.000   \n",
       "\n",
       "                                              songs_id  \\\n",
       "nid                                                      \n",
       "0    [0, 1, 2, 3, 4, 5, 6, 7, 8, 9, 10, 11, 12, 13,...   \n",
       "1    [19, 20, 21, 22, 23, 24, 25, 26, 27, 28, 29, 3...   \n",
       "2    [61, 62, 63, 64, 65, 66, 67, 68, 69, 70, 71, 7...   \n",
       "3    [89, 90, 91, 92, 93, 94, 95, 96, 97, 98, 99, 1...   \n",
       "4    [127, 128, 129, 130, 131, 132, 133, 134, 135, ...   \n",
       "\n",
       "                                 tags_id  num_songs  num_tags  \n",
       "nid                                                            \n",
       "0                                    [0]         19         1  \n",
       "1                                 [1, 2]         42         2  \n",
       "2                                 [3, 4]         28         2  \n",
       "3    [5, 6, 7, 8, 9, 10, 11, 12, 13, 14]         38        10  \n",
       "4                                   [15]         53         1  "
      ]
     },
     "execution_count": 9,
     "metadata": {},
     "output_type": "execute_result"
    }
   ],
   "source": [
    "plylst_train = plylst_use.copy()\n",
    "plylst_train.head()"
   ]
  },
  {
   "cell_type": "markdown",
   "metadata": {
    "id": "4-6iehcsJ_Ye"
   },
   "source": [
    "## Make Sparse Matrix with scipy.sparse"
   ]
  },
  {
   "cell_type": "markdown",
   "metadata": {
    "id": "MtsmQyJyjMFu"
   },
   "source": [
    "row가 playlist(nid)이고 column이 item(sid or tid)인 sparse matrix A를 만듭니다."
   ]
  },
  {
   "cell_type": "code",
   "execution_count": 10,
   "metadata": {
    "id": "n3Rz08Xown_e"
   },
   "outputs": [],
   "source": [
    "row = np.repeat(range(n_plylst), plylst_train['num_songs'])\n",
    "col = [song for songs in plylst_train['songs_id'] for song in songs]\n",
    "dat = np.repeat(1, plylst_train['num_songs'].sum())\n",
    "train_songs_A = spr.csr_matrix((dat, (row, col)), shape=(n_plylst, n_songs))\n",
    "\n",
    "row = np.repeat(range(n_plylst), plylst_train['num_tags'])\n",
    "col = [tag for tags in plylst_train['tags_id'] for tag in tags]\n",
    "dat = np.repeat(1, plylst_train['num_tags'].sum())\n",
    "train_tags_A = spr.csr_matrix((dat, (row, col)), shape=(n_plylst, n_tags))"
   ]
  },
  {
   "cell_type": "code",
   "execution_count": 11,
   "metadata": {
    "id": "7_QIIL2zCIzt"
   },
   "outputs": [],
   "source": [
    "#전치행렬이 필요없는것으로 판단되어 코드 제거\n",
    "#train_songs_A_T = train_songs_A.T.tocsr()\n",
    "#train_tags_A_T = train_tags_A.T.tocsr()"
   ]
  },
  {
   "cell_type": "code",
   "execution_count": 12,
   "metadata": {
    "colab": {
     "base_uri": "https://localhost:8080/"
    },
    "executionInfo": {
     "elapsed": 585,
     "status": "ok",
     "timestamp": 1642039402020,
     "user": {
      "displayName": "유상준",
      "photoUrl": "https://lh3.googleusercontent.com/a-/AOh14GjwhV3OPaZeVbcnb0L540CX4dtB2wGRfCVw4E8=s64",
      "userId": "06620102043085366517"
     },
     "user_tz": -540
    },
    "id": "LNsuiuy-CQip",
    "outputId": "78fdc3a4-eef9-49c6-deb3-0298fb8bafea"
   },
   "outputs": [
    {
     "data": {
      "text/plain": [
       "<138086x638336 sparse matrix of type '<class 'numpy.int64'>'\n",
       "\twith 5707070 stored elements in Compressed Sparse Row format>"
      ]
     },
     "execution_count": 12,
     "metadata": {},
     "output_type": "execute_result"
    }
   ],
   "source": [
    "train_songs_A"
   ]
  },
  {
   "cell_type": "code",
   "execution_count": 13,
   "metadata": {
    "colab": {
     "base_uri": "https://localhost:8080/"
    },
    "executionInfo": {
     "elapsed": 269,
     "status": "ok",
     "timestamp": 1642039385228,
     "user": {
      "displayName": "유상준",
      "photoUrl": "https://lh3.googleusercontent.com/a-/AOh14GjwhV3OPaZeVbcnb0L540CX4dtB2wGRfCVw4E8=s64",
      "userId": "06620102043085366517"
     },
     "user_tz": -540
    },
    "id": "zfnwlRpfLAvK",
    "outputId": "feb643ae-0130-49c7-86ee-a0ad37217d51"
   },
   "outputs": [
    {
     "data": {
      "text/plain": [
       "0.9999352538107777"
      ]
     },
     "execution_count": 13,
     "metadata": {},
     "output_type": "execute_result"
    }
   ],
   "source": [
    "1 - (5707070/(138086*638336))"
   ]
  },
  {
   "cell_type": "code",
   "execution_count": 15,
   "metadata": {
    "colab": {
     "base_uri": "https://localhost:8080/"
    },
    "executionInfo": {
     "elapsed": 274,
     "status": "ok",
     "timestamp": 1642039336438,
     "user": {
      "displayName": "유상준",
      "photoUrl": "https://lh3.googleusercontent.com/a-/AOh14GjwhV3OPaZeVbcnb0L540CX4dtB2wGRfCVw4E8=s64",
      "userId": "06620102043085366517"
     },
     "user_tz": -540
    },
    "id": "SuYiLNwPECsn",
    "outputId": "b32dc524-69c2-44d1-c427-813e78f86835"
   },
   "outputs": [
    {
     "data": {
      "text/plain": [
       "99.99352538107777"
      ]
     },
     "execution_count": 15,
     "metadata": {},
     "output_type": "execute_result"
    }
   ],
   "source": [
    "# Sparsity: 얼마나 비어있나?\n",
    "# Sparsity of plylst x songs matrix\n",
    "matrix_size = train_songs_A.shape[0]* train_songs_A.shape[1]\n",
    "num_songs = len(train_songs_A.nonzero()[0])\n",
    "sparsity = 100 * (1 - (num_songs / matrix_size))\n",
    "sparsity"
   ]
  },
  {
   "cell_type": "code",
   "execution_count": 16,
   "metadata": {
    "colab": {
     "base_uri": "https://localhost:8080/"
    },
    "executionInfo": {
     "elapsed": 251,
     "status": "ok",
     "timestamp": 1642039409140,
     "user": {
      "displayName": "유상준",
      "photoUrl": "https://lh3.googleusercontent.com/a-/AOh14GjwhV3OPaZeVbcnb0L540CX4dtB2wGRfCVw4E8=s64",
      "userId": "06620102043085366517"
     },
     "user_tz": -540
    },
    "id": "fhd_cud8LOSf",
    "outputId": "f68e3340-73c3-45f0-9be9-c12404b77313"
   },
   "outputs": [
    {
     "data": {
      "text/plain": [
       "<138086x30197 sparse matrix of type '<class 'numpy.int64'>'\n",
       "\twith 503669 stored elements in Compressed Sparse Row format>"
      ]
     },
     "execution_count": 16,
     "metadata": {},
     "output_type": "execute_result"
    }
   ],
   "source": [
    "train_tags_A"
   ]
  },
  {
   "cell_type": "code",
   "execution_count": 17,
   "metadata": {
    "colab": {
     "base_uri": "https://localhost:8080/"
    },
    "executionInfo": {
     "elapsed": 258,
     "status": "ok",
     "timestamp": 1642039424925,
     "user": {
      "displayName": "유상준",
      "photoUrl": "https://lh3.googleusercontent.com/a-/AOh14GjwhV3OPaZeVbcnb0L540CX4dtB2wGRfCVw4E8=s64",
      "userId": "06620102043085366517"
     },
     "user_tz": -540
    },
    "id": "15RoCkl5LOSg",
    "outputId": "69334b17-cc65-48e0-e7d6-594eeccd8804"
   },
   "outputs": [
    {
     "data": {
      "text/plain": [
       "0.9998792097797401"
      ]
     },
     "execution_count": 17,
     "metadata": {},
     "output_type": "execute_result"
    }
   ],
   "source": [
    "1 - (503669/(138086*30197))"
   ]
  },
  {
   "cell_type": "code",
   "execution_count": 18,
   "metadata": {
    "colab": {
     "base_uri": "https://localhost:8080/"
    },
    "executionInfo": {
     "elapsed": 246,
     "status": "ok",
     "timestamp": 1642039464722,
     "user": {
      "displayName": "유상준",
      "photoUrl": "https://lh3.googleusercontent.com/a-/AOh14GjwhV3OPaZeVbcnb0L540CX4dtB2wGRfCVw4E8=s64",
      "userId": "06620102043085366517"
     },
     "user_tz": -540
    },
    "id": "ApktHElTLOSg",
    "outputId": "9bd2891a-8681-4523-935f-b0575e5efcc8"
   },
   "outputs": [
    {
     "data": {
      "text/plain": [
       "99.98792097797401"
      ]
     },
     "execution_count": 18,
     "metadata": {},
     "output_type": "execute_result"
    }
   ],
   "source": [
    "# Sparsity: 얼마나 비어있나?\n",
    "# Sparsity of plylst x tags matrix\n",
    "matrix_size = train_tags_A.shape[0]* train_tags_A.shape[1]\n",
    "num_tags = len(train_tags_A.nonzero()[0])\n",
    "sparsity = 100 * (1 - (num_tags / matrix_size))\n",
    "sparsity"
   ]
  },
  {
   "cell_type": "markdown",
   "metadata": {
    "id": "_booGPxqLe6q"
   },
   "source": [
    "- 첫번째 한계점 발생 : sparsity가 대략 99.5% 이하 수준일 때까지 Collaborative Filtering이 효과가 있는데, 우리의 데이터는 99.9%를 웃돈다.. "
   ]
  },
  {
   "cell_type": "markdown",
   "metadata": {
    "id": "JHQahvAxMrHx"
   },
   "source": [
    "## Make train, test sparse matrix"
   ]
  },
  {
   "cell_type": "markdown",
   "metadata": {
    "id": "1RByEDgjMFZ-"
   },
   "source": [
    "### 의사 결정의 갈림길\n",
    "- train set에서 일부를 가려 test set을 생성할 것이다.\n",
    "- 기존의 val.json의 songs과 tags는 일부가 가려져있다.\n",
    "\n",
    "- 그렇다면 이 상황에서, \n",
    "    - 1. train.json의 \b일정 비율 만큼 songs들과 tags들만 가릴것이냐? \n",
    "    - 2. train+val 의 데이터에서 songs들과 tags들을 일정 비율 함께 가릴것이냐?\n",
    "\n",
    "\n",
    "- 우선 2번의 방법을 선택 후 진행 => 추후 변경 가능의 여지를 남겨두자"
   ]
  },
  {
   "cell_type": "code",
   "execution_count": 19,
   "metadata": {
    "id": "WdB_9-FWLxy6"
   },
   "outputs": [],
   "source": [
    "import random\n",
    "def make_train (matrix, percentage = .2):\n",
    "    '''\n",
    "    -----------------------------------------------------\n",
    "    설명\n",
    "    유저-아이템 행렬 (matrix)에서 \n",
    "    1. 0 이상의 값을 가지면 1의 값을 갖도록 binary하게 테스트 데이터를 만들고\n",
    "    2. 훈련 데이터는 원본 행렬에서 percentage 비율만큼 0으로 바뀜\n",
    "    \n",
    "    -----------------------------------------------------\n",
    "    반환\n",
    "    training_set: 훈련 데이터에서 percentage 비율만큼 0으로 바뀐 행렬\n",
    "    test_set:     원본 유저-아이템 행렬의 복사본\n",
    "    user_inds:    훈련 데이터에서 0으로 바뀐 유저의 index\n",
    "    '''\n",
    "    test_set = matrix.copy()\n",
    "    test_set[test_set !=0] = 1 # binary하게 만들기\n",
    "    \n",
    "    training_set = matrix.copy()\n",
    "    nonzero_inds = training_set.nonzero()\n",
    "    nonzero_pairs = list(zip(nonzero_inds[0], nonzero_inds[1]))\n",
    "    \n",
    "    random.seed(0)\n",
    "    num_samples = int(np.ceil(percentage * len(nonzero_pairs)))\n",
    "    samples = random.sample(nonzero_pairs, num_samples)\n",
    "    \n",
    "    user_inds = [index[0] for index in samples]\n",
    "    item_inds = [index[1] for index in samples]\n",
    "    \n",
    "    training_set[user_inds, item_inds] = 0\n",
    "    training_set.eliminate_zeros()\n",
    "    \n",
    "    return training_set, test_set, list(set(user_inds))\n",
    "\n",
    "# 훈련, 테스트 데이터 생성\n",
    "train_songs_A, test_songs_A, product_users_altered = make_train(train_songs_A, 0.2)\n",
    "train_tags_A, test_tags_A, product_users_altered = make_train(train_tags_A, 0.2)\n",
    "\n",
    "# 훈련데이터는 일부분의 1이 0으로 가려지고, 테스트 데이터는 가려지지 않은 데이터\n",
    "# 훈련데이터로 학습하고 테스트 데이터로 성능을 평가하기 위한 방법"
   ]
  },
  {
   "cell_type": "markdown",
   "metadata": {
    "id": "CfAxsWhNOSpp"
   },
   "source": [
    "- train_songs_A 와 test_songs_A의 비교"
   ]
  },
  {
   "cell_type": "code",
   "execution_count": 20,
   "metadata": {
    "colab": {
     "base_uri": "https://localhost:8080/"
    },
    "executionInfo": {
     "elapsed": 388,
     "status": "ok",
     "timestamp": 1642040194791,
     "user": {
      "displayName": "유상준",
      "photoUrl": "https://lh3.googleusercontent.com/a-/AOh14GjwhV3OPaZeVbcnb0L540CX4dtB2wGRfCVw4E8=s64",
      "userId": "06620102043085366517"
     },
     "user_tz": -540
    },
    "id": "Y16BmVMELxwl",
    "outputId": "ef7c792d-e766-4dc1-d4e9-84381f69e55a"
   },
   "outputs": [
    {
     "data": {
      "text/plain": [
       "<138086x638336 sparse matrix of type '<class 'numpy.int64'>'\n",
       "\twith 4565656 stored elements in Compressed Sparse Row format>"
      ]
     },
     "execution_count": 20,
     "metadata": {},
     "output_type": "execute_result"
    }
   ],
   "source": [
    "train_songs_A"
   ]
  },
  {
   "cell_type": "code",
   "execution_count": 21,
   "metadata": {
    "colab": {
     "base_uri": "https://localhost:8080/"
    },
    "executionInfo": {
     "elapsed": 259,
     "status": "ok",
     "timestamp": 1642040203830,
     "user": {
      "displayName": "유상준",
      "photoUrl": "https://lh3.googleusercontent.com/a-/AOh14GjwhV3OPaZeVbcnb0L540CX4dtB2wGRfCVw4E8=s64",
      "userId": "06620102043085366517"
     },
     "user_tz": -540
    },
    "id": "4Tc22_uaLxuO",
    "outputId": "f09e010f-f1e2-4ae0-d13b-2fac41272ed9"
   },
   "outputs": [
    {
     "data": {
      "text/plain": [
       "<138086x638336 sparse matrix of type '<class 'numpy.int64'>'\n",
       "\twith 5707070 stored elements in Compressed Sparse Row format>"
      ]
     },
     "execution_count": 21,
     "metadata": {},
     "output_type": "execute_result"
    }
   ],
   "source": [
    "test_songs_A"
   ]
  },
  {
   "cell_type": "code",
   "execution_count": 22,
   "metadata": {},
   "outputs": [
    {
     "data": {
      "text/plain": [
       "0.9999482030486222"
      ]
     },
     "execution_count": 22,
     "metadata": {},
     "output_type": "execute_result"
    }
   ],
   "source": [
    "# train_songs_A 의 Sparsity\n",
    "1 - (4565656/(138086*638336))"
   ]
  },
  {
   "cell_type": "markdown",
   "metadata": {
    "id": "6uT_KhNtPmXJ"
   },
   "source": [
    "## ALS 구현 (without implicit module)"
   ]
  },
  {
   "cell_type": "code",
   "execution_count": 23,
   "metadata": {
    "id": "FxYs-vdWQstH"
   },
   "outputs": [],
   "source": [
    "# from scipy.sparse.linalg import spsolve"
   ]
  },
  {
   "cell_type": "code",
   "execution_count": 24,
   "metadata": {
    "collapsed": true,
    "id": "Dcu9C41VLxrr"
   },
   "outputs": [
    {
     "ename": "IndentationError",
     "evalue": "unexpected indent (2464828638.py, line 17)",
     "output_type": "error",
     "traceback": [
      "\u001b[0;36m  File \u001b[0;32m\"/var/folders/8p/gs84m2q96dgb1865nxypp42h0000gn/T/ipykernel_899/2464828638.py\"\u001b[0;36m, line \u001b[0;32m17\u001b[0m\n\u001b[0;31m    '''\u001b[0m\n\u001b[0m    ^\u001b[0m\n\u001b[0;31mIndentationError\u001b[0m\u001b[0;31m:\u001b[0m unexpected indent\n"
     ]
    }
   ],
   "source": [
    "'''\n",
    "def implicit_weighted_ALS(training_set, lambda_val =.1, alpha = 40, n_iter = 10, rank_size = 20, seed = 0):\n",
    "    '''\n",
    "#     협업 필터링에 기반한 ALS\n",
    "#     -----------------------------------------------------\n",
    "#     input\n",
    "#     1. training_set : m x n 행렬로, m은 유저 수, n은 아이템 수를 의미. csr 행렬 (희소 행렬) 형태여야 함 \n",
    "#     2. lambda_val: ALS의 정규화 term. 이 값을 늘리면 bias는 늘지만 분산은 감소. default값은 0.1\n",
    "#     3. alpha: 신뢰 행렬과 관련한 모수 (C_{ui} = 1 + alpha * r_{ui}). 이를 감소시키면 평점 간의 신뢰도의 다양성이 감소\n",
    "#     4. n_iter: 반복 횟수\n",
    "#     5. rank_size: 유저/ 아이템 특성 벡터의 잠재 특성의 개수. 논문에서는 20 ~ 200 사이를 추천하고 있음. 이를 늘리면 과적합 위험성이 있으나 \n",
    "#     bias가 감소\n",
    "#     6. seed: 난수 생성에 필요한 seed\n",
    "#     -----------------------------------------------------\n",
    "#     반환\n",
    "#     유저와 아이템에 대한 특성 벡터\n",
    "    '''\n",
    "    \n",
    "    # 1. Confidence matrix\n",
    "    # C = 1+ alpha * r_{ui}\n",
    "    conf = (alpha*training_set) # sparse 행렬 형태를 유지하기 위해서 1을 나중에 더함\n",
    "    \n",
    "    num_user = conf.shape[0]\n",
    "    num_item = conf.shape[1]\n",
    "\n",
    "    # X와 Y 초기화\n",
    "    rstate = np.random.RandomState(seed)\n",
    "    X = spr.csr_matrix(rstate.normal(size = (num_user, rank_size)))\n",
    "    Y = spr.csr_matrix(rstate.normal(size = (num_item, rank_size)))\n",
    "    X_eye = spr.eye(num_user)\n",
    "    Y_eye = spr.eye(num_item)\n",
    "    \n",
    "    # 정규화 term: 𝝀I\n",
    "    lambda_eye = lambda_val * spr.eye (rank_size)\n",
    "    \n",
    "    # 반복 시작\n",
    "    for i in range(n_iter):\n",
    "        yTy = Y.T.dot(Y)\n",
    "        xTx = X.T.dot(X)\n",
    "        \n",
    "        # Y를 고정해놓고 X에 대해 반복\n",
    "        # Xu = (yTy + yT(Cu-I)Y + 𝝀I)^{-1} yTCuPu\n",
    "        for u in range(num_user):\n",
    "            conf_samp = conf[u,:].toarray() # Cu\n",
    "            pref = conf_samp.copy()\n",
    "            pref[pref!=0] = 1\n",
    "            # Cu-I: 위에서 conf에 1을 더하지 않았으니까 I를 빼지 않음 \n",
    "            CuI = spr.diags(conf_samp, [0])\n",
    "            # yT(Cu-I)Y\n",
    "            yTCuIY = Y.T.dot(CuI).dot(Y)\n",
    "            # yTCuPu\n",
    "            yTCupu = Y.T.dot(CuI+Y_eye).dot(pref.T)\n",
    "            \n",
    "            X[u] = spsolve(yTy + yTCuIY + lambda_eye, yTCupu)\n",
    "        \n",
    "        # X를 고정해놓고 Y에 대해 반복\n",
    "        # Yi = (xTx + xT(Cu-I)X + 𝝀I)^{-1} xTCiPi\n",
    "        for i in range(num_item):\n",
    "            conf_samp = conf[:,i].T.toarray()\n",
    "            pref = conf_samp.copy()\n",
    "            pref[pref!=0] = 1\n",
    "            \n",
    "            #Ci-I\n",
    "            CiI = spr.diags (conf_samp, [0])\n",
    "            # xT(Ci-I)X\n",
    "            xTCiIX = X.T.dot(CiI).dot(X)\n",
    "            # xTCiPi\n",
    "            xTCiPi = X.T.dot(CiI+ X_eye).dot(pref.T)\n",
    "            \n",
    "            Y[i] = spsolve(xTx + xTCiIX + lambda_eye, xTCiPi)\n",
    "            \n",
    "        return X, Y.T\n",
    "'''"
   ]
  },
  {
   "cell_type": "markdown",
   "metadata": {
    "id": "Z_LwDVF2QZGn"
   },
   "source": [
    "- 1회 반복 수행해보기\n",
    "    - lambda = 0.1, alpha = 30, latent dimension = 100"
   ]
  },
  {
   "cell_type": "code",
   "execution_count": 25,
   "metadata": {
    "colab": {
     "base_uri": "https://localhost:8080/",
     "height": 312
    },
    "executionInfo": {
     "elapsed": 270523,
     "status": "error",
     "timestamp": 1642049465497,
     "user": {
      "displayName": "유상준",
      "photoUrl": "https://lh3.googleusercontent.com/a-/AOh14GjwhV3OPaZeVbcnb0L540CX4dtB2wGRfCVw4E8=s64",
      "userId": "06620102043085366517"
     },
     "user_tz": -540
    },
    "id": "ZxSaKkSgLxoN",
    "outputId": "9779696a-8409-4ed1-f67f-9f43595be785"
   },
   "outputs": [],
   "source": [
    "# user_vecs, item_vecs = implicit_weighted_ALS(train_songs_A, lambda_val = 0.1, alpha = 30, n_iter = 1, rank_size = 100)"
   ]
  },
  {
   "cell_type": "markdown",
   "metadata": {
    "id": "LcoAjOy6T7pP"
   },
   "source": [
    "- 계산량이 상당히 많아서 그런지, 1회 반복임에도 오래걸렸다. (~분)\n",
    "- 이를 해결하기 위해 implicit module을 이용한다고 한다.\n",
    "    - 병렬처리가 가능"
   ]
  },
  {
   "cell_type": "markdown",
   "metadata": {
    "id": "OWADbr6zRv-Y"
   },
   "source": [
    "- 첫번째 플레이리스트의 벡터 확인해보기"
   ]
  },
  {
   "cell_type": "code",
   "execution_count": 26,
   "metadata": {
    "id": "cFWnh7ACHDke"
   },
   "outputs": [],
   "source": [
    "# first = user_vecs[0].dot(item_vecs).toarray() # 1x\n",
    "# first[0,:5]"
   ]
  },
  {
   "cell_type": "markdown",
   "metadata": {
    "id": "vN4J6f6PS85o"
   },
   "source": [
    "## ALS구현 (with implicit module)"
   ]
  },
  {
   "cell_type": "code",
   "execution_count": 27,
   "metadata": {
    "colab": {
     "base_uri": "https://localhost:8080/"
    },
    "executionInfo": {
     "elapsed": 4477,
     "status": "ok",
     "timestamp": 1642051329845,
     "user": {
      "displayName": "유상준",
      "photoUrl": "https://lh3.googleusercontent.com/a-/AOh14GjwhV3OPaZeVbcnb0L540CX4dtB2wGRfCVw4E8=s64",
      "userId": "06620102043085366517"
     },
     "user_tz": -540
    },
    "id": "EUeEMfdY3h7J",
    "outputId": "bbcd456e-5417-48d7-82cc-53af122bff74",
    "scrolled": true
   },
   "outputs": [],
   "source": [
    "#pip install --upgrade pip setuptools wheel"
   ]
  },
  {
   "cell_type": "code",
   "execution_count": 28,
   "metadata": {
    "colab": {
     "base_uri": "https://localhost:8080/"
    },
    "executionInfo": {
     "elapsed": 35473,
     "status": "ok",
     "timestamp": 1642051368270,
     "user": {
      "displayName": "유상준",
      "photoUrl": "https://lh3.googleusercontent.com/a-/AOh14GjwhV3OPaZeVbcnb0L540CX4dtB2wGRfCVw4E8=s64",
      "userId": "06620102043085366517"
     },
     "user_tz": -540
    },
    "id": "dr9DkF3i3Kz0",
    "outputId": "f8a8fb19-c4ad-4079-8373-9c9b1de809ca"
   },
   "outputs": [],
   "source": [
    "#!pip install implicit"
   ]
  },
  {
   "cell_type": "code",
   "execution_count": 29,
   "metadata": {
    "colab": {
     "base_uri": "https://localhost:8080/",
     "height": 305
    },
    "executionInfo": {
     "elapsed": 291,
     "status": "error",
     "timestamp": 1642051239171,
     "user": {
      "displayName": "유상준",
      "photoUrl": "https://lh3.googleusercontent.com/a-/AOh14GjwhV3OPaZeVbcnb0L540CX4dtB2wGRfCVw4E8=s64",
      "userId": "06620102043085366517"
     },
     "user_tz": -540
    },
    "id": "YYZVQ8J6SuoA",
    "outputId": "a0e75bd7-fe25-45fa-b0d0-ecc75314865d",
    "scrolled": true
   },
   "outputs": [],
   "source": [
    "import implicit"
   ]
  },
  {
   "cell_type": "markdown",
   "metadata": {
    "id": "_3Uro9uYTYaz"
   },
   "source": [
    "- alpha 값이 parameter로 지정 할 수 없기 때문에, 따로 지정해줘서 sparse matrix와 곱한 결과\u001d",
    " 인자로 넣어줘야함 (train_songs_A * alpha)\n",
    "- sparse matrix의 자료형이 double이어야함 (상관 없는 것 같다)"
   ]
  },
  {
   "cell_type": "code",
   "execution_count": 39,
   "metadata": {
    "id": "brjvNiD5TWRV"
   },
   "outputs": [
    {
     "data": {
      "application/vnd.jupyter.widget-view+json": {
       "model_id": "ccfed84709554bf8832226ae5215aff6",
       "version_major": 2,
       "version_minor": 0
      },
      "text/plain": [
       "  0%|          | 0/1 [00:00<?, ?it/s]"
      ]
     },
     "metadata": {},
     "output_type": "display_data"
    }
   ],
   "source": [
    "#Building the model - plylst x song\n",
    "model = implicit.als.AlternatingLeastSquares(factors=200, regularization=0.1, iterations=1, random_state=13)\n",
    "alpha_val = 30\n",
    "data_conf = (train_songs_A * alpha_val) # double이나 int나 거의 비슷한 결과\n",
    "model.fit(data_conf.T)"
   ]
  },
  {
   "cell_type": "code",
   "execution_count": 40,
   "metadata": {},
   "outputs": [
    {
     "data": {
      "application/vnd.jupyter.widget-view+json": {
       "model_id": "400a9efa6ed54637b7d1c82117e49de8",
       "version_major": 2,
       "version_minor": 0
      },
      "text/plain": [
       "  0%|          | 0/1 [00:00<?, ?it/s]"
      ]
     },
     "metadata": {},
     "output_type": "display_data"
    }
   ],
   "source": [
    "#Building the model - plylst x song\n",
    "model2 = implicit.als.AlternatingLeastSquares(factors=30, regularization=0.1, iterations=1, random_state=13)\n",
    "alpha_val = 30\n",
    "data_conf = (train_tags_A * alpha_val) # double이나 int나 거의 비슷한 결과\n",
    "model2.fit(data_conf.T)"
   ]
  },
  {
   "cell_type": "markdown",
   "metadata": {},
   "source": [
    "### 모델 만드는 함수 build_model, 모델 적합 함수 fit_model 만들기"
   ]
  },
  {
   "cell_type": "code",
   "execution_count": 30,
   "metadata": {},
   "outputs": [],
   "source": [
    "def build_model(factors=200, regularization=0.1, iteration=100, random_state=13):\n",
    "    model = implicit.als.AlternatingLeastSquares(factors=factors, regularization=regularization, iterations=iteration, random_state=random_state)\n",
    "    \n",
    "    return model\n",
    "\n",
    "def fit_model(model, ui_sparse_matrix, alpha = 40):\n",
    "    #global model\n",
    "    data_conf = (ui_sparse_matrix * alpha)\n",
    "    model.fit(data_conf.T)"
   ]
  },
  {
   "cell_type": "markdown",
   "metadata": {},
   "source": [
    "- 하이퍼 파라미터 종류\n",
    "```\n",
    "alpha : 신뢰 행렬 만들 때의 파라미터, 플레이리스트에 노래의 존재 여부에 대한 스케일링 term이고 평점간의 신뢰도의 다양성과 정비례\n",
    "factors : 잠재행렬의 차원의 수 (줄이고 싶은 차원의 수)\n",
    "regularization : The regularization factor to use\n",
    "iterations : 반복 수\n",
    "random_state : 초기 값 설정시 random seed\n",
    "```"
   ]
  },
  {
   "cell_type": "markdown",
   "metadata": {},
   "source": [
    "- song_model : playlist와 song에 대한 학습\n",
    "- tag_model : playlist와 tag에 대한 학습"
   ]
  },
  {
   "cell_type": "markdown",
   "metadata": {},
   "source": [
    "### 곡 추천 함수 만들기"
   ]
  },
  {
   "cell_type": "markdown",
   "metadata": {},
   "source": [
    "### def recommend(nid):\n",
    "- 찾고자 하는 플레이리스트의 nid를 받는다\n",
    "- 미리 학습한 모델을 기반으로 300개와 30개의 tag를 추천해준다\n",
    "- 그 중 존재 하지 않는 곡들과 tag들에 한해 추천 목록에 추가해준다 "
   ]
  },
  {
   "cell_type": "code",
   "execution_count": 32,
   "metadata": {},
   "outputs": [],
   "source": [
    "def recommend(nid, song_model, tag_model):\n",
    "    rec_sid = song_model.recommend(nid,test_songs_A, N = 300)\n",
    "    rec_tid = tag_model.recommend(nid,test_tags_A, N = 30)\n",
    "    \n",
    "    exist_sid = plylst_train.loc[nid]['songs_id']\n",
    "    exist_tid = plylst_train.loc[nid]['tags_id']\n",
    "    \n",
    "    final_rec_songs = []\n",
    "    final_rec_tags = []\n",
    "    \n",
    "    for sid, score in rec_sid:\n",
    "        if sid not in exist_sid:\n",
    "            final_rec_songs.append(song_sid_id[sid])\n",
    "            if len(final_rec_songs) == 100:\n",
    "                break\n",
    "    for tid, score in rec_tid:\n",
    "        if tid not in exist_tid:\n",
    "            final_rec_tags.append(tag_tid_id[tid])\n",
    "            if len(final_rec_tags) == 10:\n",
    "                break\n",
    "    \n",
    "    return plylst_nid_id[nid], final_rec_songs, final_rec_tags\n",
    "    "
   ]
  },
  {
   "cell_type": "code",
   "execution_count": 33,
   "metadata": {},
   "outputs": [],
   "source": [
    "def recommend_songs(nid, song_model):\n",
    "    rec_sid = song_model.recommend(nid,test_songs_A, N = 300)\n",
    "    \n",
    "    exist_sid = plylst_train.loc[nid]['songs_id']\n",
    "    \n",
    "    final_rec_songs = []\n",
    "    \n",
    "    for sid, score in rec_sid:\n",
    "        if sid not in exist_sid:\n",
    "            final_rec_songs.append(song_sid_id[sid])\n",
    "            if len(final_rec_songs) == 100:\n",
    "                break\n",
    "    \n",
    "    return plylst_nid_id[nid], final_rec_songs\n",
    "    "
   ]
  },
  {
   "cell_type": "code",
   "execution_count": 34,
   "metadata": {},
   "outputs": [],
   "source": [
    "def recommend_tags(nid, tag_model):\n",
    "    rec_tid = tag_model.recommend(nid,test_tags_A, N = 30)\n",
    "    \n",
    "    exist_tid = plylst_train.loc[nid]['tags_id']\n",
    "    \n",
    "    final_rec_tags = []\n",
    "    \n",
    "    for tid, score in rec_tid:\n",
    "        if tid not in exist_tid:\n",
    "            final_rec_tags.append(tag_tid_id[tid])\n",
    "            if len(final_rec_tags) == 10:\n",
    "                break\n",
    "    return plylst_nid_id[nid], final_rec_tags\n",
    "    "
   ]
  },
  {
   "cell_type": "markdown",
   "metadata": {},
   "source": [
    "### recommend_ver2 : tag 예측 성능이 좋지 못하여서 개선한 함수\n",
    "- 1. 적합이 완료된 song_model을 이용하여 similar한 playlists 30개를 받아온다.\n",
    "- 2. similar한 순서대로 playlists들의 tag를 가져와서 추가한다\n",
    "- 3. tag가 10개가 차면 멈춘다."
   ]
  },
  {
   "cell_type": "code",
   "execution_count": 134,
   "metadata": {},
   "outputs": [
    {
     "data": {
      "text/plain": [
       "[(115071, 1.0000001), (72420, 0.94864124)]"
      ]
     },
     "execution_count": 134,
     "metadata": {},
     "output_type": "execute_result"
    }
   ],
   "source": [
    "song_model.similar_users(115071,2)"
   ]
  },
  {
   "cell_type": "code",
   "execution_count": 153,
   "metadata": {},
   "outputs": [
    {
     "data": {
      "text/plain": [
       "updt_date                              2015-11-29 12:00:12.000\n",
       "songs_id     [98384, 130472, 38811, 82767, 73386, 256279, 4...\n",
       "tags_id                                                   [86]\n",
       "num_songs                                                   28\n",
       "num_tags                                                     1\n",
       "Name: 72420, dtype: object"
      ]
     },
     "execution_count": 153,
     "metadata": {},
     "output_type": "execute_result"
    }
   ],
   "source": [
    "#plylst.loc[115071,:]\n",
    "plylst_train.loc[72420,:]"
   ]
  },
  {
   "cell_type": "code",
   "execution_count": 40,
   "metadata": {
    "collapsed": true
   },
   "outputs": [
    {
     "ename": "NameError",
     "evalue": "name 'model' is not defined",
     "output_type": "error",
     "traceback": [
      "\u001b[0;31m---------------------------------------------------------------------------\u001b[0m",
      "\u001b[0;31mNameError\u001b[0m                                 Traceback (most recent call last)",
      "\u001b[0;32m/var/folders/8p/gs84m2q96dgb1865nxypp42h0000gn/T/ipykernel_899/3483035270.py\u001b[0m in \u001b[0;36m<module>\u001b[0;34m\u001b[0m\n\u001b[0;32m----> 1\u001b[0;31m \u001b[0;32mdef\u001b[0m \u001b[0mrecommend_ver2\u001b[0m\u001b[0;34m(\u001b[0m\u001b[0mnid\u001b[0m\u001b[0;34m,\u001b[0m \u001b[0msong_model\u001b[0m \u001b[0;34m=\u001b[0m \u001b[0mmodel\u001b[0m\u001b[0;34m)\u001b[0m\u001b[0;34m:\u001b[0m\u001b[0;34m\u001b[0m\u001b[0;34m\u001b[0m\u001b[0m\n\u001b[0m\u001b[1;32m      2\u001b[0m     \u001b[0mrec_sid\u001b[0m \u001b[0;34m=\u001b[0m \u001b[0msong_model\u001b[0m\u001b[0;34m.\u001b[0m\u001b[0mrecommend\u001b[0m\u001b[0;34m(\u001b[0m\u001b[0mnid\u001b[0m\u001b[0;34m,\u001b[0m\u001b[0mtest_songs_A\u001b[0m\u001b[0;34m,\u001b[0m \u001b[0mN\u001b[0m \u001b[0;34m=\u001b[0m \u001b[0;36m300\u001b[0m\u001b[0;34m)\u001b[0m\u001b[0;34m\u001b[0m\u001b[0;34m\u001b[0m\u001b[0m\n\u001b[1;32m      3\u001b[0m     \u001b[0msim_user_idxs\u001b[0m \u001b[0;34m=\u001b[0m \u001b[0msong_model\u001b[0m\u001b[0;34m.\u001b[0m\u001b[0msimilar_users\u001b[0m\u001b[0;34m(\u001b[0m\u001b[0mnid\u001b[0m\u001b[0;34m,\u001b[0m \u001b[0mN\u001b[0m \u001b[0;34m=\u001b[0m \u001b[0;36m500\u001b[0m\u001b[0;34m)\u001b[0m\u001b[0;34m\u001b[0m\u001b[0;34m\u001b[0m\u001b[0m\n\u001b[1;32m      4\u001b[0m \u001b[0;34m\u001b[0m\u001b[0m\n\u001b[1;32m      5\u001b[0m     \u001b[0mexist_sid\u001b[0m \u001b[0;34m=\u001b[0m \u001b[0mplylst_train\u001b[0m\u001b[0;34m.\u001b[0m\u001b[0mloc\u001b[0m\u001b[0;34m[\u001b[0m\u001b[0mnid\u001b[0m\u001b[0;34m]\u001b[0m\u001b[0;34m[\u001b[0m\u001b[0;34m'songs_id'\u001b[0m\u001b[0;34m]\u001b[0m\u001b[0;34m\u001b[0m\u001b[0;34m\u001b[0m\u001b[0m\n",
      "\u001b[0;31mNameError\u001b[0m: name 'model' is not defined"
     ]
    }
   ],
   "source": [
    "def recommend_ver2(nid, song_model = model):\n",
    "    rec_sid = song_model.recommend(nid,test_songs_A, N = 300)\n",
    "    sim_user_idxs = song_model.similar_users(nid, N = 500)\n",
    "    \n",
    "    exist_sid = plylst_train.loc[nid]['songs_id']\n",
    "    exist_tid = plylst_train.loc[nid]['tags_id']\n",
    "    \n",
    "    final_rec_songs = []\n",
    "    final_rec_tags_tid = []\n",
    "    \n",
    "    # 노래 추천\n",
    "    for sid, score in rec_sid:\n",
    "        if sid not in exist_sid:\n",
    "            final_rec_songs.append(song_sid_id[sid])\n",
    "            if len(final_rec_songs) == 100:\n",
    "                break\n",
    "                \n",
    "    # 태그 추천\n",
    "    for sim_nid, score in sim_user_idxs[1:]: # tid (중복제외) 10개를 추천 받아보자\n",
    "        rec_tids = plylst_train.loc[sim_nid,'tags_id']\n",
    "        for each in rec_tids:\n",
    "            if (each not in exist_tid): # 기존 플레이리스트에 없다면,\n",
    "                final_rec_tags_tid.extend(rec_tids) # 추천 플레이리스트(tid로 이루어진)에 넣어라\n",
    "                final_rec_tags_tid = set(final_rec_tags_tid) # 중복 제거\n",
    "                final_rec_tags_tid = list(final_rec_tags_tid) # 중복 제거\n",
    "\n",
    "        if len(final_rec_tags_tid) > 10:\n",
    "            final_rec_tags_tid = final_rec_tags_tid[:10]\n",
    "            break\n",
    "    \n",
    "    final_rec_tags = [] # tid를 실제 tag이름으로 바꿔주자\n",
    "    for each in final_rec_tags_tid:\n",
    "        final_rec_tags.append(tag_tid_id[each])\n",
    "                        \n",
    "    return plylst_nid_id[nid], final_rec_songs, final_rec_tags"
   ]
  },
  {
   "cell_type": "code",
   "execution_count": 36,
   "metadata": {},
   "outputs": [],
   "source": [
    "def recommend_tags_ver2(nid, song_model):\n",
    "    sim_user_idxs = song_model.similar_users(nid, N = 500)\n",
    "    \n",
    "    exist_tid = plylst_train.loc[nid]['tags_id']\n",
    "    \n",
    "    final_rec_tags_tid = []\n",
    "                \n",
    "    for sim_nid, score in sim_user_idxs[1:]: # tid (중복제외) 10개를 추천 받아보자\n",
    "        rec_tids = plylst_train.loc[sim_nid,'tags_id']\n",
    "        final_rec_tags_tid.extend(rec_tids)\n",
    "        final_rec_tags_tid = set(final_rec_tags_tid) # 중복 제거\n",
    "        final_rec_tags_tid = list(final_rec_tags_tid) # 중복 제거\n",
    "        if len(final_rec_tags_tid) > 10:\n",
    "            final_rec_tags_tid = final_rec_tags_tid[:10]\n",
    "            break\n",
    "    \n",
    "    final_rec_tags = [] # tid를 실제 tag이름으로 바꿔주자\n",
    "    for each in final_rec_tags_tid:\n",
    "        final_rec_tags.append(tag_tid_id[each])\n",
    "                \n",
    "    return plylst_nid_id[nid], final_rec_tags"
   ]
  },
  {
   "cell_type": "markdown",
   "metadata": {},
   "source": [
    "### model 생성 및 fit"
   ]
  },
  {
   "cell_type": "code",
   "execution_count": 96,
   "metadata": {},
   "outputs": [],
   "source": [
    "song_model = build_model(factors = 1000, iteration = 30)\n",
    "tag_model = build_model(factors = 30, iteration = 30)"
   ]
  },
  {
   "cell_type": "code",
   "execution_count": 93,
   "metadata": {},
   "outputs": [
    {
     "data": {
      "text/plain": [
       "(<implicit.cpu.als.AlternatingLeastSquares at 0x316ddfac0>,\n",
       " <implicit.cpu.als.AlternatingLeastSquares at 0x316ddf280>)"
      ]
     },
     "execution_count": 93,
     "metadata": {},
     "output_type": "execute_result"
    }
   ],
   "source": [
    "song_model, tag_model"
   ]
  },
  {
   "cell_type": "code",
   "execution_count": 97,
   "metadata": {
    "collapsed": true
   },
   "outputs": [
    {
     "data": {
      "application/vnd.jupyter.widget-view+json": {
       "model_id": "426bcd9bdf01496e80f09754d958d8e4",
       "version_major": 2,
       "version_minor": 0
      },
      "text/plain": [
       "  0%|          | 0/30 [00:00<?, ?it/s]"
      ]
     },
     "metadata": {},
     "output_type": "display_data"
    },
    {
     "ename": "KeyboardInterrupt",
     "evalue": "",
     "output_type": "error",
     "traceback": [
      "\u001b[0;31m---------------------------------------------------------------------------\u001b[0m",
      "\u001b[0;31mKeyboardInterrupt\u001b[0m                         Traceback (most recent call last)",
      "\u001b[0;32m/var/folders/8p/gs84m2q96dgb1865nxypp42h0000gn/T/ipykernel_899/2779201810.py\u001b[0m in \u001b[0;36m<module>\u001b[0;34m\u001b[0m\n\u001b[0;32m----> 1\u001b[0;31m \u001b[0mfit_model\u001b[0m\u001b[0;34m(\u001b[0m\u001b[0msong_model\u001b[0m\u001b[0;34m,\u001b[0m \u001b[0mtest_songs_A\u001b[0m\u001b[0;34m,\u001b[0m \u001b[0malpha\u001b[0m \u001b[0;34m=\u001b[0m \u001b[0;36m100\u001b[0m\u001b[0;34m)\u001b[0m\u001b[0;34m\u001b[0m\u001b[0;34m\u001b[0m\u001b[0m\n\u001b[0m\u001b[1;32m      2\u001b[0m \u001b[0mfit_model\u001b[0m\u001b[0;34m(\u001b[0m\u001b[0mtag_model\u001b[0m\u001b[0;34m,\u001b[0m \u001b[0mtest_tags_A\u001b[0m\u001b[0;34m,\u001b[0m \u001b[0malpha\u001b[0m \u001b[0;34m=\u001b[0m \u001b[0;36m80\u001b[0m\u001b[0;34m)\u001b[0m\u001b[0;34m\u001b[0m\u001b[0;34m\u001b[0m\u001b[0m\n",
      "\u001b[0;32m/var/folders/8p/gs84m2q96dgb1865nxypp42h0000gn/T/ipykernel_899/4108486335.py\u001b[0m in \u001b[0;36mfit_model\u001b[0;34m(model, ui_sparse_matrix, alpha)\u001b[0m\n\u001b[1;32m      7\u001b[0m     \u001b[0;31m#global model\u001b[0m\u001b[0;34m\u001b[0m\u001b[0;34m\u001b[0m\u001b[0m\n\u001b[1;32m      8\u001b[0m     \u001b[0mdata_conf\u001b[0m \u001b[0;34m=\u001b[0m \u001b[0;34m(\u001b[0m\u001b[0mui_sparse_matrix\u001b[0m \u001b[0;34m*\u001b[0m \u001b[0malpha\u001b[0m\u001b[0;34m)\u001b[0m\u001b[0;34m\u001b[0m\u001b[0;34m\u001b[0m\u001b[0m\n\u001b[0;32m----> 9\u001b[0;31m     \u001b[0mmodel\u001b[0m\u001b[0;34m.\u001b[0m\u001b[0mfit\u001b[0m\u001b[0;34m(\u001b[0m\u001b[0mdata_conf\u001b[0m\u001b[0;34m.\u001b[0m\u001b[0mT\u001b[0m\u001b[0;34m)\u001b[0m\u001b[0;34m\u001b[0m\u001b[0;34m\u001b[0m\u001b[0m\n\u001b[0m",
      "\u001b[0;32m~/miniforge3/envs/ds_study/lib/python3.10/site-packages/implicit/cpu/als.py\u001b[0m in \u001b[0;36mfit\u001b[0;34m(self, item_users, show_progress)\u001b[0m\n\u001b[1;32m    166\u001b[0m                     \u001b[0mnum_threads\u001b[0m\u001b[0;34m=\u001b[0m\u001b[0mself\u001b[0m\u001b[0;34m.\u001b[0m\u001b[0mnum_threads\u001b[0m\u001b[0;34m,\u001b[0m\u001b[0;34m\u001b[0m\u001b[0;34m\u001b[0m\u001b[0m\n\u001b[1;32m    167\u001b[0m                 )\n\u001b[0;32m--> 168\u001b[0;31m                 solver(\n\u001b[0m\u001b[1;32m    169\u001b[0m                     \u001b[0mCiu\u001b[0m\u001b[0;34m,\u001b[0m\u001b[0;34m\u001b[0m\u001b[0;34m\u001b[0m\u001b[0m\n\u001b[1;32m    170\u001b[0m                     \u001b[0mself\u001b[0m\u001b[0;34m.\u001b[0m\u001b[0mitem_factors\u001b[0m\u001b[0;34m,\u001b[0m\u001b[0;34m\u001b[0m\u001b[0;34m\u001b[0m\u001b[0m\n",
      "\u001b[0;31mKeyboardInterrupt\u001b[0m: "
     ]
    }
   ],
   "source": [
    "fit_model(song_model, test_songs_A, alpha = 100)\n",
    "fit_model(tag_model, test_tags_A, alpha = 80)"
   ]
  },
  {
   "cell_type": "code",
   "execution_count": 107,
   "metadata": {},
   "outputs": [
    {
     "data": {
      "text/plain": [
       "((138086, 1000), (638336, 1000))"
      ]
     },
     "execution_count": 107,
     "metadata": {},
     "output_type": "execute_result"
    }
   ],
   "source": [
    "song_model.user_factors.shape, song_model.item_factors.shape"
   ]
  },
  {
   "cell_type": "code",
   "execution_count": 106,
   "metadata": {},
   "outputs": [],
   "source": [
    "np.save('../data/user_factors_1000.npy', song_model.user_factors)\n",
    "np.save('../data/item_factors_1000.npy', song_model.item_factors)"
   ]
  },
  {
   "cell_type": "code",
   "execution_count": 4,
   "metadata": {},
   "outputs": [],
   "source": [
    "tmp_user_latent = np.load('../data/user_factors_1000.npy')\n",
    "tmp_item_latent = np.load('../data/item_factors_1000.npy')"
   ]
  },
  {
   "cell_type": "code",
   "execution_count": 21,
   "metadata": {},
   "outputs": [
    {
     "data": {
      "text/plain": [
       "(array([ 8.44102644e-04,  6.32819079e-04,  1.24787941e-04, -6.38371101e-04,\n",
       "        -7.57455360e-04,  1.19899618e-04,  2.92325072e-04, -1.83505553e-03,\n",
       "        -7.44962716e-04, -9.97394207e-04,  5.91474993e-04,  4.65681340e-04,\n",
       "         1.32643720e-04, -3.82996484e-04,  4.01481707e-03, -4.37749201e-04,\n",
       "        -4.89285274e-04, -1.50183114e-05, -1.53524382e-03,  4.31334396e-04,\n",
       "        -9.32455703e-04,  3.09924100e-04,  1.96873187e-03,  1.55724512e-04,\n",
       "         1.16741960e-03, -3.92708171e-04, -1.14094280e-03, -4.38030111e-05,\n",
       "         8.51217424e-04, -3.55470402e-04,  6.00370549e-05,  5.40069828e-04,\n",
       "        -2.55026360e-04, -3.72729613e-04,  7.33271241e-04, -6.82142505e-04,\n",
       "         6.51493086e-04, -2.99971198e-05,  1.36006426e-03,  8.51108518e-04,\n",
       "         1.13197125e-03, -8.79247000e-06,  1.23709231e-03,  6.52832910e-04,\n",
       "        -2.72557169e-04, -7.85632437e-05,  5.86035568e-03,  9.55441676e-04,\n",
       "         5.55138744e-04,  2.18311697e-03,  3.79450154e-03, -2.97752937e-04,\n",
       "        -6.72275273e-05, -4.68212093e-04, -2.51762359e-03,  8.84644687e-04,\n",
       "        -2.42634051e-04,  2.16782396e-03,  5.05424943e-03,  8.51127494e-04,\n",
       "         4.64303326e-03,  5.06955490e-04,  4.04392194e-04, -1.30421671e-04,\n",
       "         7.13225891e-05,  6.74311072e-04, -1.10942246e-05,  8.85573390e-04,\n",
       "         2.68595322e-04, -5.27904886e-05, -1.81151481e-04, -7.22743280e-04,\n",
       "        -7.26844301e-04, -3.49510199e-04, -9.93144000e-04,  9.17323283e-04,\n",
       "        -1.58559938e-04, -4.55676520e-04, -1.37211871e-04, -4.33662994e-04,\n",
       "         1.65760459e-03,  7.57271081e-08,  2.40805512e-05, -5.18419474e-05,\n",
       "        -1.13092538e-05,  5.03977388e-03, -4.63243574e-04,  2.35583633e-03,\n",
       "        -1.42703619e-04,  1.30872196e-03,  1.81480171e-03,  4.24805377e-03,\n",
       "        -5.52812766e-04, -3.71744303e-04, -1.41036217e-04,  1.70808431e-04,\n",
       "        -1.71551772e-03,  3.73952161e-03, -4.07245214e-04,  2.30539031e-03,\n",
       "        -9.34378651e-04, -4.55520698e-04,  1.23921921e-03, -2.48078443e-03,\n",
       "         4.22972208e-03,  5.34597493e-04, -2.27415789e-04,  1.18446734e-03,\n",
       "         2.19548238e-03, -2.37545441e-03, -3.35974124e-04,  6.27513975e-04,\n",
       "         7.99322675e-04,  8.21928552e-05, -3.15691868e-04, -8.11754260e-04,\n",
       "        -8.81480810e-04,  8.33143597e-04, -3.73360846e-04,  1.19818083e-03,\n",
       "         2.29655707e-04, -1.51619338e-03,  8.68996722e-06, -1.05936488e-03,\n",
       "        -3.20437772e-04,  3.14181787e-03, -6.81622711e-04,  3.24775791e-03,\n",
       "         4.20848606e-04,  1.55691578e-05, -5.84417896e-04, -5.18142071e-04,\n",
       "        -6.80806057e-04,  1.39139913e-04,  7.54974550e-04,  1.01427338e-03,\n",
       "         1.78671279e-03, -2.51400867e-04, -7.17243820e-04, -2.34355079e-03,\n",
       "        -1.27701333e-03, -8.61201188e-05,  2.44681665e-04,  2.76396982e-03,\n",
       "         7.33836554e-04,  7.71673687e-04, -3.00520565e-04, -6.81838254e-04,\n",
       "         7.98842375e-05,  1.07199163e-03,  5.72230667e-04,  3.58745834e-04,\n",
       "         2.51304545e-03,  6.28626673e-04,  2.88528914e-04,  1.80742471e-04,\n",
       "        -1.77915033e-04,  1.60570315e-03, -4.03553480e-04,  1.27809588e-03,\n",
       "         8.46916591e-05,  9.88149433e-04,  4.14632115e-04, -1.21299527e-03,\n",
       "        -4.10717366e-05,  5.07698744e-04,  1.39842834e-03, -1.16855698e-03,\n",
       "         3.50306050e-06,  1.82377829e-04, -8.42230045e-04,  6.46992004e-04,\n",
       "         1.34366588e-03,  7.29363761e-04, -3.01150576e-04,  6.34244701e-04,\n",
       "        -6.40301150e-04,  4.06415165e-06, -3.65536223e-04,  1.39460462e-04,\n",
       "         2.44487921e-04,  1.03881396e-03,  4.09294711e-03,  3.62471049e-03,\n",
       "        -1.02374749e-03,  1.35722233e-03, -3.09042283e-04,  1.76842243e-03,\n",
       "         2.21605971e-03,  1.89976199e-04,  1.50697457e-03, -1.40553142e-03,\n",
       "         2.01261789e-03, -1.17442326e-03, -1.24027880e-04, -8.56118495e-05,\n",
       "        -1.51470338e-03,  1.35590279e-04, -9.25966524e-05,  3.45371757e-03,\n",
       "         3.48828756e-03,  2.44651310e-04,  3.17026861e-03,  9.35303397e-05,\n",
       "        -9.31442250e-04,  2.79936916e-03,  3.20828141e-04, -2.17639771e-03,\n",
       "        -1.21768855e-03,  4.03615925e-03,  4.64355061e-03, -5.84508816e-04,\n",
       "         7.70754239e-04, -1.01861532e-03,  2.29480048e-03,  3.51030001e-04,\n",
       "        -2.82457186e-04,  2.53547169e-03, -1.50367458e-04, -5.34157793e-04,\n",
       "        -2.14701006e-03,  1.03656115e-04,  9.99384094e-04, -9.32949129e-04,\n",
       "        -2.73249985e-04,  1.69366493e-03,  4.01337957e-03,  2.83002993e-03,\n",
       "        -9.37516917e-04,  5.06739598e-03, -2.54878367e-04, -1.82596064e-04,\n",
       "         1.20277160e-04, -1.16728863e-03,  1.91340793e-03, -1.40273522e-04,\n",
       "        -2.15378168e-04, -1.55851303e-04,  1.81766669e-03,  1.98136969e-03,\n",
       "        -2.14172713e-03,  1.77207275e-03, -8.83883840e-05,  1.53321322e-04,\n",
       "        -8.55381222e-06,  6.42092992e-03,  9.67340136e-04, -3.26278969e-04,\n",
       "         4.70801519e-04, -9.38833167e-04, -1.03719460e-04,  1.21075462e-03,\n",
       "        -8.90742958e-05,  1.35863083e-04, -2.09773658e-04,  4.58250870e-04,\n",
       "        -1.02096703e-03, -4.27479506e-04, -1.62717042e-04, -8.50821787e-04,\n",
       "         1.43521058e-03,  2.55668419e-04, -2.11971404e-04, -9.39842197e-04,\n",
       "         4.60605777e-04, -3.41885825e-05,  1.76824420e-03,  4.71728163e-05,\n",
       "        -5.18954068e-04, -5.52345475e-04, -9.44569998e-04,  2.16206128e-04,\n",
       "        -5.87911985e-04, -2.48841534e-05, -1.00420904e-03, -2.74562975e-03,\n",
       "         1.60221360e-04, -8.01649076e-05,  3.14238365e-04,  1.33490737e-03,\n",
       "         2.06027040e-03,  3.25100054e-03,  6.24400622e-04,  1.05284876e-03,\n",
       "        -9.95259732e-04,  2.44093034e-03, -2.73234509e-05, -1.97078683e-04,\n",
       "         2.56013079e-03, -9.64756298e-04, -2.21374142e-03,  5.21408838e-05,\n",
       "         1.32365234e-03,  4.48904140e-03, -1.59571017e-03, -5.02530611e-06,\n",
       "         5.24345692e-03, -3.65325423e-06,  1.83418731e-03,  1.87695108e-03,\n",
       "         4.95391025e-04, -5.58186555e-04,  1.14832842e-03,  1.40966280e-04,\n",
       "         2.49581551e-03, -1.98509724e-06,  1.12471555e-03,  2.56219204e-03,\n",
       "        -2.59003672e-03,  1.54286379e-03,  1.29226595e-03, -2.66723855e-05,\n",
       "         5.69572032e-04, -1.00858393e-03,  1.05145625e-06,  1.14757556e-03,\n",
       "        -6.72998780e-04, -3.53389652e-03,  5.62250323e-04, -1.09031261e-03,\n",
       "         2.13718013e-04,  1.40286924e-03,  7.18308147e-05, -1.13027217e-03,\n",
       "         1.52320287e-03, -2.05905898e-03, -3.90603440e-04,  2.89976620e-03,\n",
       "         1.46607417e-04,  2.96319695e-03,  7.81724637e-04,  2.43463786e-03,\n",
       "        -1.04140170e-04,  4.29067964e-04, -4.50873456e-04, -5.39661385e-04,\n",
       "         1.06418063e-03,  1.36286230e-03, -1.16256077e-03, -2.04402325e-03,\n",
       "        -8.26141040e-04,  7.45443301e-03,  1.22001825e-03,  4.44572279e-03,\n",
       "         3.23959463e-03,  3.93903442e-03,  3.28524364e-03, -5.85709931e-04,\n",
       "         8.93870718e-04,  3.06055212e-04, -1.18742500e-04, -3.86620173e-04,\n",
       "        -1.52321445e-04,  3.81388272e-05,  9.20009217e-04, -3.51470080e-05,\n",
       "         6.39616570e-04,  5.10356156e-03, -1.16425543e-03, -6.31424991e-05,\n",
       "        -3.27858585e-03,  1.62808236e-03,  1.82467885e-03, -2.87521980e-03,\n",
       "        -3.59372207e-04,  1.72080204e-03, -5.49838878e-04,  6.63620071e-04,\n",
       "        -7.14452006e-04,  3.29470285e-03, -1.40376575e-03,  5.55194390e-04,\n",
       "         1.59764732e-03,  2.48949545e-05, -2.09334918e-04, -2.34292078e-04,\n",
       "         3.15536233e-03, -6.67610293e-05,  9.03649081e-04,  2.30616867e-03,\n",
       "         2.09470373e-03,  3.23833927e-04,  1.95889584e-06,  5.31376922e-04,\n",
       "         3.77173332e-04,  8.49637669e-04,  1.30156998e-03,  1.22314843e-04,\n",
       "        -7.20241456e-04, -1.81333962e-04, -5.86080714e-04, -1.93000335e-04,\n",
       "         4.08397149e-03, -1.41076208e-03, -8.90196534e-05, -7.70173967e-04,\n",
       "         9.86718107e-04, -2.76828097e-04, -7.17996818e-06, -3.52078670e-04,\n",
       "        -9.47353023e-04,  2.65352917e-03,  3.25889466e-03,  3.02471279e-04,\n",
       "         1.28438289e-03,  3.36840458e-06,  5.13434643e-04,  5.00179455e-03,\n",
       "         1.94375159e-03,  7.10443011e-04, -2.46225245e-04, -8.64558970e-05,\n",
       "         1.64892612e-04, -1.11930458e-04,  9.48922534e-04,  2.34995852e-03,\n",
       "         2.40036505e-04,  3.46484059e-03,  1.99966854e-03,  3.55404365e-04,\n",
       "         1.00324524e-03,  1.10777526e-03, -7.31617329e-04,  6.99805561e-04,\n",
       "        -2.79736967e-04,  2.60572648e-03,  8.37380867e-06,  3.97144875e-04,\n",
       "        -5.94598241e-04,  6.44753803e-04, -4.31807770e-04,  1.11021637e-03,\n",
       "         3.68001219e-03,  2.07546749e-03,  4.03736718e-03, -1.15461287e-03,\n",
       "         3.36055597e-03,  3.14708496e-03, -5.03863848e-04, -4.66315076e-04,\n",
       "         2.68648262e-04,  8.05004209e-04,  4.31840832e-04,  2.39105150e-03,\n",
       "         4.56350297e-03,  5.63049037e-03, -1.49000889e-05,  5.89279516e-04,\n",
       "         6.95751514e-04,  4.25531907e-04, -7.19840638e-04, -1.20229623e-03,\n",
       "        -2.47938465e-03, -4.48530074e-04,  5.40292531e-04,  3.13433353e-03,\n",
       "        -4.87233890e-04, -1.32432222e-04, -4.82874428e-04,  2.42304825e-03,\n",
       "         7.08803243e-04,  3.31402384e-03,  4.79112990e-04, -9.57074459e-04,\n",
       "        -1.76159192e-05,  3.83284967e-03,  1.85221771e-03,  9.08634393e-04,\n",
       "         2.47334247e-03,  6.74509734e-04, -4.56867449e-04,  2.48037068e-05,\n",
       "         5.45970304e-03, -1.93416243e-04,  1.52733537e-05,  7.65800087e-06,\n",
       "         2.65790080e-03, -8.56125494e-04,  5.60004916e-03,  2.86717573e-03,\n",
       "        -9.84764629e-05, -1.09528727e-03,  6.23229775e-04,  1.47776189e-03,\n",
       "         5.18243352e-04, -5.26401098e-04,  3.74579773e-04,  3.48124048e-03,\n",
       "         1.85454660e-03,  2.75321101e-04,  3.93015158e-04,  8.71816825e-04,\n",
       "         2.84869224e-04,  3.36125703e-03,  2.88744894e-04, -2.12177489e-04,\n",
       "         3.66027933e-03,  2.18865625e-03,  4.15347196e-04,  3.35321855e-03,\n",
       "        -2.48105236e-04,  5.59912878e-04, -1.18613581e-03,  2.08869739e-03,\n",
       "         4.17699106e-03,  1.29653099e-05,  2.92859913e-04, -7.79573631e-04,\n",
       "         1.50908483e-03, -1.75174908e-03,  6.06300216e-03,  5.48972329e-03,\n",
       "         1.21689867e-03, -1.07493205e-03, -4.92361782e-04,  2.07605553e-04,\n",
       "        -2.91344535e-04,  4.18638997e-03, -1.60953344e-03,  1.24554930e-03,\n",
       "         1.03717833e-03, -7.17791088e-04, -1.54298719e-03,  3.09809484e-03,\n",
       "         2.20703590e-03,  4.73019638e-04,  7.39041890e-04, -1.05518918e-03,\n",
       "         2.14415276e-03, -4.14330047e-04,  2.19465420e-03, -3.70475638e-04,\n",
       "         1.62913243e-03,  4.43155784e-03,  1.71904883e-03,  5.31637625e-06,\n",
       "         2.60839734e-04,  3.25352332e-04,  2.01153616e-05,  1.63562538e-04,\n",
       "         8.43140064e-04, -5.18881483e-04,  7.14963317e-05,  1.54835661e-03,\n",
       "        -2.57759268e-04,  2.32238928e-03,  3.35627096e-03, -2.84004811e-04,\n",
       "        -1.22556070e-04, -1.36769644e-03, -1.08058506e-03,  3.46397836e-04,\n",
       "        -2.47926131e-04, -4.38880757e-04,  1.46912376e-03, -5.55458319e-05,\n",
       "        -5.15999564e-05,  4.23591305e-03,  3.11107025e-03,  3.17048631e-04,\n",
       "        -8.76742299e-04,  5.98026253e-03, -1.15833897e-03, -2.65723182e-04,\n",
       "        -2.78153573e-04,  1.23931526e-03,  8.18492903e-04,  5.72991325e-04,\n",
       "         1.61642197e-03, -9.42113766e-05, -1.63768325e-03, -9.86108324e-04,\n",
       "        -1.74984118e-04, -1.01335580e-03, -7.06228238e-05,  8.26981734e-04,\n",
       "        -1.30345597e-05,  5.96194644e-04, -6.10104289e-05, -4.99637536e-05,\n",
       "         2.84775603e-03, -9.25980101e-04, -3.86221102e-04,  1.51726868e-04,\n",
       "         8.80582491e-04,  5.14043961e-03,  2.91053584e-04, -1.27354753e-03,\n",
       "         1.44103848e-04, -3.15498648e-04, -7.00420132e-05,  2.29293219e-04,\n",
       "         7.67943566e-04, -7.08878390e-04,  1.11458234e-04,  2.37110956e-03,\n",
       "         3.59195028e-03,  8.86646740e-04, -1.10142888e-03,  1.34310307e-04,\n",
       "         4.00044897e-04,  1.90630590e-03, -1.17752934e-04,  3.27792222e-04,\n",
       "         6.58314908e-04,  2.40417127e-03,  1.45575643e-04, -6.94954942e-05,\n",
       "        -1.84428325e-04,  2.08967761e-03,  7.36952235e-04,  3.44312564e-03,\n",
       "         4.81702125e-04, -3.49101843e-04,  1.17242441e-03, -1.44880105e-04,\n",
       "        -2.83405738e-04,  1.38092402e-03,  1.94606509e-05,  2.32871086e-03,\n",
       "        -6.42615661e-04, -2.76301027e-04, -2.74425984e-04, -5.64802787e-04,\n",
       "         4.44799243e-03, -1.28747182e-04,  1.57914928e-05, -3.80863290e-04,\n",
       "        -2.46216186e-05,  1.52147096e-03, -4.18401556e-04,  1.86005118e-03,\n",
       "         3.84501717e-03,  2.91412842e-04,  7.31346605e-04, -1.89703249e-03,\n",
       "         3.19675572e-04, -6.29859351e-05, -2.28698459e-03,  4.29216726e-03,\n",
       "        -2.77209940e-04,  8.21934082e-04, -2.60503468e-04,  1.27976562e-03,\n",
       "        -7.50585168e-04,  1.24433113e-03,  9.45403153e-05, -3.24071909e-04,\n",
       "        -5.41678222e-04,  1.54881843e-03, -3.71793372e-04, -2.17140856e-04,\n",
       "         2.95757502e-03,  1.92507996e-05, -1.00347772e-03, -7.88628240e-04,\n",
       "        -9.20429942e-04, -2.17191805e-03,  1.06919208e-03, -1.11336960e-03,\n",
       "        -1.02188403e-03,  2.71552661e-03, -1.01839064e-03, -1.16294716e-03,\n",
       "         1.41448341e-03,  8.51619756e-04, -3.34181605e-05, -1.31082081e-04,\n",
       "         4.02312697e-04,  3.16684437e-03,  3.54167819e-03,  1.15896892e-02,\n",
       "         6.53896423e-04,  2.97584548e-03,  1.39971409e-04, -6.61197701e-05,\n",
       "         3.43720382e-03, -3.91445239e-04,  1.95968692e-04, -4.98527916e-05,\n",
       "         3.52462739e-05,  2.61763693e-04, -2.59907800e-03,  3.82225518e-03,\n",
       "         2.59314640e-03, -6.02507498e-04,  3.04619782e-03,  4.09629283e-04,\n",
       "         2.90963496e-03,  2.06502358e-04,  2.79251044e-03, -2.56071886e-04,\n",
       "         2.75946310e-04,  2.82154907e-03,  1.61856602e-04, -2.04794647e-04,\n",
       "         2.17507913e-04,  1.43759171e-04, -3.61011298e-05, -4.66130557e-04,\n",
       "         6.23781746e-03,  1.02309149e-03,  1.39494159e-03, -2.04166150e-04,\n",
       "         1.13583182e-03,  2.27774214e-03, -2.09273450e-04,  3.95733659e-04,\n",
       "         2.48663896e-03,  2.60878401e-03, -1.03097956e-03,  1.01971324e-03,\n",
       "         2.44838698e-03,  6.18657796e-04,  6.59319246e-03, -6.57564786e-04,\n",
       "         6.88965723e-04, -3.15064186e-04,  1.61768810e-03,  8.54261994e-09,\n",
       "         2.88889138e-03,  1.12570636e-03,  4.88313308e-05,  9.85268620e-04,\n",
       "         3.97573784e-03,  3.13210883e-03,  2.66048100e-05,  3.90606438e-04,\n",
       "         7.78864196e-04, -1.27007877e-06,  6.63689862e-05, -8.56922474e-04,\n",
       "        -1.66222756e-03,  1.06483360e-03,  2.16868139e-04, -6.04332658e-04,\n",
       "        -1.33900333e-03, -4.39217052e-04, -1.58197712e-04,  1.86342536e-03,\n",
       "        -2.77235958e-04,  1.10604719e-03, -1.55025773e-04,  2.21716799e-03,\n",
       "        -1.00827287e-03, -6.40501676e-05,  8.11173813e-04,  2.89848424e-04,\n",
       "         5.65817766e-03,  1.78210721e-05, -1.30505452e-03,  1.84656749e-03,\n",
       "        -6.67976783e-05,  2.89245090e-03, -7.09948305e-04, -1.55722140e-04,\n",
       "        -1.48690931e-04, -3.50545539e-04, -1.16876341e-04, -2.80298904e-04,\n",
       "        -3.58138670e-04,  3.18230619e-03, -1.13981681e-04,  1.99070689e-03,\n",
       "         9.08984279e-04,  6.14670012e-03,  3.24724911e-04, -2.00226932e-04,\n",
       "         1.66754657e-03,  6.98087155e-04, -1.53293295e-05,  1.69507787e-03,\n",
       "        -1.28610828e-03,  1.21821267e-05,  9.37644436e-05,  6.88363158e-04,\n",
       "         3.08657996e-03, -2.83093075e-04, -1.36353367e-03, -4.39212818e-05,\n",
       "         2.23779716e-04, -9.65410218e-05,  4.72865795e-04,  2.15108693e-03,\n",
       "         3.71239381e-04,  5.71999187e-03, -1.75951142e-03,  5.12011023e-03,\n",
       "         6.19341561e-04,  4.20970173e-04, -8.67903174e-04,  2.19691754e-03,\n",
       "         2.12183036e-03, -5.37024694e-04, -1.33793073e-04,  9.28387235e-05,\n",
       "        -5.42846043e-04, -4.21998149e-04,  1.01273305e-04, -9.58885124e-04,\n",
       "        -3.06673697e-04,  1.60314550e-03,  3.51442664e-04, -1.56405622e-05,\n",
       "        -2.47148681e-04,  5.17379340e-05,  1.35446549e-03, -1.89739760e-04,\n",
       "         1.52351655e-04, -2.01857463e-03,  1.11400825e-03, -7.06194958e-04,\n",
       "        -1.99589616e-04, -4.03883867e-04,  1.41101785e-03,  8.05560616e-04,\n",
       "         3.38611053e-03, -1.05671503e-03, -9.52897535e-05,  2.61476589e-03,\n",
       "         2.11815746e-03,  3.85978237e-05, -2.61890473e-05,  3.56708129e-04,\n",
       "        -4.30721411e-04,  1.10570365e-03,  3.11086624e-05,  7.91573257e-04,\n",
       "         2.99291598e-04, -3.15841427e-03,  1.95575482e-03,  7.27480801e-04,\n",
       "         5.11711929e-04, -7.12262408e-04,  3.29691358e-03,  2.40451284e-03,\n",
       "         1.04075437e-03,  2.54137907e-04,  1.86481998e-06,  8.22567963e-04,\n",
       "         4.50566877e-03,  1.27093215e-03, -9.41295410e-04,  3.37737147e-03,\n",
       "         1.45274433e-04,  1.99582995e-04,  2.36622104e-03,  6.39315054e-04,\n",
       "        -1.22048042e-03, -2.01956223e-04,  6.33114111e-03, -4.67604768e-05,\n",
       "         6.56532031e-03, -1.48660748e-03, -3.39944934e-04, -5.52181271e-04,\n",
       "         6.75999967e-04,  7.50340289e-04, -4.48051654e-03,  6.55270123e-04,\n",
       "         1.19464181e-03, -1.20162069e-04, -7.00924953e-04, -3.81726801e-04,\n",
       "         5.01427613e-03, -4.60089272e-04, -6.46761328e-04, -7.12401961e-05,\n",
       "         3.25830793e-03, -2.17479712e-04,  4.49630432e-04, -7.22146709e-04,\n",
       "         1.11241068e-03, -8.90096417e-05,  1.26818777e-03,  1.82716103e-05,\n",
       "         4.71343199e-04,  3.90882883e-03,  4.12430309e-05,  2.29551760e-03,\n",
       "        -1.02554238e-03, -1.30613567e-03, -1.70753570e-03,  5.53759560e-03,\n",
       "        -6.42562882e-05,  1.54116744e-04,  2.61710072e-03,  3.27864982e-04,\n",
       "         1.42261357e-04, -3.99340503e-03,  1.65322237e-03, -4.83748190e-05,\n",
       "        -1.36117148e-03,  1.29078818e-03, -8.23077280e-05,  2.17064604e-04,\n",
       "        -3.22251552e-04,  1.53595218e-04, -8.86328926e-04,  2.18183710e-03,\n",
       "        -2.40038251e-04, -8.54508893e-04,  4.38677758e-04,  2.67984043e-03,\n",
       "         6.31506671e-04, -1.12529007e-04,  1.32062868e-03, -7.95911124e-04,\n",
       "         7.51122192e-04,  6.65004118e-05, -2.87213479e-04, -1.02847232e-03,\n",
       "        -9.27419533e-05, -8.96790996e-04,  3.99341667e-03,  2.86067720e-04,\n",
       "         1.21267000e-03, -4.98688372e-04, -3.67880508e-04, -1.36636590e-04,\n",
       "         7.42267526e-04,  4.77232097e-04,  2.81716301e-03,  2.47784541e-03,\n",
       "         1.24549959e-03, -5.65702619e-04, -2.04406260e-03, -2.34057574e-04,\n",
       "        -2.47918593e-04,  3.42036105e-06, -3.41960695e-04, -5.36192209e-04,\n",
       "        -7.12258770e-06, -3.10480536e-04, -2.66812462e-03,  5.14363265e-03,\n",
       "         4.84340417e-05,  7.97132889e-05, -1.05463178e-03,  4.66926504e-05,\n",
       "        -6.25115703e-04, -6.61205850e-04, -4.78592439e-04, -6.85406339e-05,\n",
       "         2.24937149e-03,  2.79331766e-03,  1.45117869e-03,  4.00636432e-04,\n",
       "         1.77915848e-04,  1.48678327e-03,  3.79751204e-04, -1.50621199e-04,\n",
       "         2.30297534e-04,  3.67129943e-03,  3.55501194e-03,  6.18865946e-04,\n",
       "         5.69043448e-04,  1.15131878e-03, -4.62967473e-05,  5.49440330e-04,\n",
       "        -3.87278415e-05,  2.38310755e-03,  1.30686749e-04, -3.83905746e-04,\n",
       "        -1.79387105e-03,  1.96178909e-03, -3.86066240e-04, -4.23342688e-03,\n",
       "         2.54362822e-03,  4.05067392e-03, -1.57307368e-05, -2.37260567e-04,\n",
       "        -1.91160513e-03, -2.09931459e-04,  5.10979071e-03,  2.75799050e-03,\n",
       "        -2.70351931e-03, -3.03423498e-04,  2.77553801e-03,  1.25379779e-03,\n",
       "         9.73485992e-04,  4.96308610e-04, -4.66344442e-04,  5.97349543e-04,\n",
       "        -1.81791664e-04, -6.53589144e-04, -9.40373226e-04, -1.70922419e-03,\n",
       "         1.87192869e-04,  1.61213989e-04,  2.95400876e-03,  3.79325589e-04,\n",
       "         8.34779989e-04,  7.04354723e-04,  3.26110562e-03,  2.75929924e-04,\n",
       "        -2.39523815e-05, -4.36329465e-05,  3.46176676e-03,  1.20903330e-03],\n",
       "       dtype=float32),\n",
       " 1)"
      ]
     },
     "execution_count": 21,
     "metadata": {},
     "output_type": "execute_result"
    }
   ],
   "source": [
    "tmp_user_latent[0] * tmp_item_latent[0], 1"
   ]
  },
  {
   "cell_type": "code",
   "execution_count": null,
   "metadata": {},
   "outputs": [],
   "source": []
  },
  {
   "cell_type": "code",
   "execution_count": 115,
   "metadata": {},
   "outputs": [
    {
     "data": {
      "text/plain": [
       "0.006928752437286079"
      ]
     },
     "execution_count": 115,
     "metadata": {},
     "output_type": "execute_result"
    }
   ],
   "source": [
    "sum(song_model.user_factors[0] * song_model.item_factors[67])"
   ]
  },
  {
   "cell_type": "code",
   "execution_count": null,
   "metadata": {},
   "outputs": [],
   "source": []
  },
  {
   "cell_type": "code",
   "execution_count": 1,
   "metadata": {},
   "outputs": [
    {
     "ename": "NameError",
     "evalue": "name 'tqdm' is not defined",
     "output_type": "error",
     "traceback": [
      "\u001b[0;31m---------------------------------------------------------------------------\u001b[0m",
      "\u001b[0;31mNameError\u001b[0m                                 Traceback (most recent call last)",
      "\u001b[0;32m/var/folders/8p/gs84m2q96dgb1865nxypp42h0000gn/T/ipykernel_1955/3157575002.py\u001b[0m in \u001b[0;36m<module>\u001b[0;34m\u001b[0m\n\u001b[1;32m      1\u001b[0m \u001b[0mtmp_list\u001b[0m \u001b[0;34m=\u001b[0m \u001b[0;34m[\u001b[0m\u001b[0;34m]\u001b[0m\u001b[0;34m\u001b[0m\u001b[0;34m\u001b[0m\u001b[0m\n\u001b[0;32m----> 2\u001b[0;31m \u001b[0;32mfor\u001b[0m \u001b[0mi\u001b[0m \u001b[0;32min\u001b[0m \u001b[0mtqdm\u001b[0m\u001b[0;34m(\u001b[0m\u001b[0mrange\u001b[0m\u001b[0;34m(\u001b[0m\u001b[0;36m5\u001b[0m\u001b[0;34m)\u001b[0m\u001b[0;34m)\u001b[0m\u001b[0;34m:\u001b[0m\u001b[0;34m\u001b[0m\u001b[0;34m\u001b[0m\u001b[0m\n\u001b[0m\u001b[1;32m      3\u001b[0m     \u001b[0;32mfor\u001b[0m \u001b[0mj\u001b[0m \u001b[0;32min\u001b[0m \u001b[0mrange\u001b[0m\u001b[0;34m(\u001b[0m\u001b[0;36m5\u001b[0m\u001b[0;34m)\u001b[0m\u001b[0;34m:\u001b[0m\u001b[0;34m\u001b[0m\u001b[0;34m\u001b[0m\u001b[0m\n\u001b[1;32m      4\u001b[0m         \u001b[0mtmp_list\u001b[0m\u001b[0;34m.\u001b[0m\u001b[0mappend\u001b[0m\u001b[0;34m(\u001b[0m\u001b[0msong_model\u001b[0m\u001b[0;34m.\u001b[0m\u001b[0muser_factors\u001b[0m\u001b[0;34m[\u001b[0m\u001b[0mi\u001b[0m\u001b[0;34m]\u001b[0m \u001b[0;34m*\u001b[0m \u001b[0msong_model\u001b[0m\u001b[0;34m.\u001b[0m\u001b[0mitem_factors\u001b[0m\u001b[0;34m[\u001b[0m\u001b[0mj\u001b[0m\u001b[0;34m]\u001b[0m\u001b[0;34m)\u001b[0m\u001b[0;34m\u001b[0m\u001b[0;34m\u001b[0m\u001b[0m\n\u001b[1;32m      5\u001b[0m \u001b[0;34m\u001b[0m\u001b[0m\n",
      "\u001b[0;31mNameError\u001b[0m: name 'tqdm' is not defined"
     ]
    }
   ],
   "source": [
    "tmp_list = []\n",
    "for i in tqdm(range(5)):\n",
    "    for j in range(5):\n",
    "        tmp_list.append(song_model.user_factors[i] * song_model.item_factors[j])\n",
    "        \n",
    "tmp_list"
   ]
  },
  {
   "cell_type": "code",
   "execution_count": 127,
   "metadata": {},
   "outputs": [
    {
     "data": {
      "text/plain": [
       "(25, 600)"
      ]
     },
     "execution_count": 127,
     "metadata": {},
     "output_type": "execute_result"
    }
   ],
   "source": [
    "np.array(tmp_list)"
   ]
  },
  {
   "cell_type": "code",
   "execution_count": 91,
   "metadata": {},
   "outputs": [
    {
     "data": {
      "text/plain": [
       "array([ 5.95174439e-04,  6.42766291e-03,  1.06232159e-03,  1.02544436e-03,\n",
       "       -9.99996555e-04,  5.61277557e-04, -4.48000181e-04,  9.96891642e-04,\n",
       "        2.90869200e-03, -1.41763687e-03,  1.30380495e-05, -3.99104203e-04,\n",
       "        3.84083530e-03, -3.35479825e-04,  9.92288115e-04, -7.96111533e-04,\n",
       "       -1.12479681e-03, -5.30454214e-04, -1.64472222e-04,  1.62770972e-03,\n",
       "       -9.03123931e-04, -4.98802256e-05,  5.75515023e-03,  5.88239694e-04,\n",
       "        2.32572856e-05,  2.62792513e-04,  4.84797201e-04, -2.42970549e-04,\n",
       "       -2.22542277e-03, -1.24969229e-05,  7.41331186e-03, -1.05955834e-04,\n",
       "        9.77585209e-04,  1.04878312e-02, -1.25392078e-04,  6.57807977e-04,\n",
       "        2.50810105e-03, -9.76124313e-04, -4.09618311e-04,  6.71610609e-03,\n",
       "        7.74393848e-04,  1.31843309e-03,  1.07363936e-04,  1.81941068e-04,\n",
       "       -2.23457129e-04,  6.10668620e-04,  3.68674565e-03,  4.14789174e-05,\n",
       "        4.63740085e-04,  1.65977079e-04,  2.94318015e-04,  1.01008883e-03,\n",
       "        3.63393943e-03,  7.89655198e-04, -1.04150607e-03, -2.56602507e-04,\n",
       "       -1.06955797e-03,  2.61561014e-03, -5.61850087e-04, -1.93505068e-04,\n",
       "       -7.81799725e-04,  3.74820363e-03, -5.28903445e-04,  1.22559792e-03,\n",
       "       -1.28515146e-03,  1.28590991e-03,  7.08762184e-03, -2.00993272e-05,\n",
       "        9.32210591e-03,  6.93026639e-04, -2.44370487e-04, -9.63989296e-05,\n",
       "        1.75199960e-03,  6.99908473e-04, -2.30026944e-03,  5.83554199e-03,\n",
       "        5.47950272e-04, -1.04816645e-04,  6.12136093e-04,  5.67352260e-03,\n",
       "        8.26665855e-05,  2.38769664e-03,  6.20522333e-05, -1.16804545e-03,\n",
       "       -2.01309900e-04, -1.33323760e-04,  6.43627066e-03,  4.32834262e-03,\n",
       "        6.93559123e-04,  3.09194275e-03, -4.34603600e-04, -5.97764563e-04,\n",
       "       -4.30096225e-05, -3.97968892e-04, -5.80522290e-04,  2.15090346e-03,\n",
       "        7.32575427e-04, -1.90690963e-03,  2.84894160e-03,  4.53700457e-04,\n",
       "       -8.48521886e-04, -1.40702425e-04,  2.49915262e-04, -1.17821863e-03,\n",
       "        1.24773348e-03,  5.43782907e-03,  8.60739499e-03,  3.65365595e-05,\n",
       "       -2.09656474e-03,  1.40922246e-04,  5.13798208e-04,  1.76934549e-03,\n",
       "       -5.36371481e-05, -1.43787052e-04,  8.67444178e-05,  3.03425677e-05,\n",
       "        1.77033042e-04, -5.01705799e-04,  4.58588917e-03,  5.67409617e-04,\n",
       "        3.99998302e-04, -3.35727818e-04, -1.69686664e-05, -7.66066150e-05,\n",
       "       -4.49010869e-04,  7.85411976e-06,  5.07022208e-03, -5.36644191e-04,\n",
       "       -4.85797791e-05,  2.16892222e-03, -6.30156777e-04,  2.02506024e-04,\n",
       "       -5.74315432e-04, -3.64888198e-04, -1.69422990e-03, -1.24220387e-03,\n",
       "       -1.00778055e-03,  1.16379824e-05, -4.44786827e-04,  9.80162178e-04,\n",
       "        7.06291350e-04,  1.10575184e-03, -1.37757752e-06,  8.95733887e-04,\n",
       "        3.14327131e-04,  7.27332837e-04, -7.26093072e-04,  1.64242563e-04,\n",
       "        9.94730362e-05,  5.36894472e-03,  4.69209306e-04, -1.37905497e-03,\n",
       "        1.23971158e-05,  1.24234217e-03,  1.60346957e-04,  3.63224605e-03,\n",
       "       -3.75306809e-05,  4.08724463e-03,  1.16053619e-03,  7.01052602e-04,\n",
       "        2.32448475e-03, -1.17760712e-04,  1.23445886e-06, -6.90049550e-04,\n",
       "        1.04413147e-03,  1.98048976e-04,  4.26948798e-04,  4.67208633e-03,\n",
       "        1.49587751e-03, -1.27702986e-03,  1.62604696e-03, -4.20301134e-04,\n",
       "        8.41473136e-03, -1.07615313e-03,  1.34299962e-05, -1.14114303e-03,\n",
       "        7.90395425e-04,  2.22194969e-04, -4.02847712e-04,  8.92268872e-06,\n",
       "        4.15770992e-05, -2.46533193e-04, -6.65195257e-05,  1.96908764e-03,\n",
       "        5.51664410e-03, -1.21153239e-03,  7.62976613e-03,  5.82452491e-03,\n",
       "        1.37389335e-03, -1.06117237e-04, -3.22725711e-04, -9.19418471e-06,\n",
       "        5.33882063e-04, -6.61123122e-05,  5.05716214e-03, -1.50096539e-05,\n",
       "       -2.25344367e-04,  1.39036612e-03, -2.70496868e-03, -1.50384835e-03,\n",
       "       -2.51273377e-05,  1.45557418e-03,  8.00010582e-07,  3.40373581e-03,\n",
       "        3.86484908e-06,  4.54812450e-03,  1.98979652e-03, -2.41971393e-05,\n",
       "        1.90001761e-03,  1.96484965e-03, -2.70427408e-04,  1.53162063e-03,\n",
       "        2.33738188e-04, -3.41856861e-07,  3.30241839e-03,  4.20432724e-03,\n",
       "       -1.45293234e-04,  1.00812598e-04,  3.42587464e-06, -5.16537810e-04,\n",
       "        6.45783264e-04, -2.69633223e-04,  2.86177243e-03,  6.26606727e-03,\n",
       "        4.87971818e-03,  4.84100869e-03,  3.08899884e-03,  2.41845250e-04,\n",
       "       -2.95098219e-03,  4.76839305e-05,  5.49143413e-04, -6.17810641e-04,\n",
       "        9.55059077e-04,  6.38148049e-04, -2.22784787e-04,  4.48482315e-05,\n",
       "       -1.85168792e-05, -4.11841698e-04,  6.35289494e-03, -1.04933803e-03,\n",
       "        1.08989079e-04,  1.06911245e-03,  3.32233380e-03, -4.36728151e-05,\n",
       "       -4.98979061e-05,  3.27734277e-03,  3.68152163e-03, -8.85003828e-05,\n",
       "        3.40681220e-03,  2.70441902e-04, -6.06096350e-04,  5.00502414e-04,\n",
       "        4.52210847e-03,  5.54126920e-03,  1.82983268e-03,  8.44417373e-04,\n",
       "       -5.06094715e-04,  8.86787893e-04,  1.60115317e-03,  1.75337004e-03,\n",
       "        1.51735579e-03,  5.12680458e-03,  1.44826830e-03, -1.89776067e-04,\n",
       "        1.32722547e-03, -2.07130561e-05,  3.63213802e-03, -2.76301289e-03,\n",
       "        1.74058034e-04,  3.11181461e-03, -1.55318843e-03, -4.53363638e-04,\n",
       "        5.48056967e-04, -9.80229174e-07,  5.16224354e-05,  1.75932876e-03,\n",
       "        4.27367922e-04,  3.07075749e-03,  1.04254759e-04,  1.91944861e-03,\n",
       "       -2.56508077e-03,  2.59415363e-04,  9.47730325e-04,  9.75332980e-04,\n",
       "       -1.48213425e-04,  5.16257656e-04, -2.14738378e-04,  1.78665132e-03,\n",
       "       -7.70685801e-05,  1.73510649e-04, -9.72486232e-05,  3.85105377e-05,\n",
       "        6.37740083e-03,  1.68825220e-03, -7.74541753e-04, -3.54917720e-03,\n",
       "        6.94222341e-04, -3.88168410e-04, -1.12060079e-05,  2.40509165e-03,\n",
       "       -2.76773440e-04,  5.36045106e-03, -1.20787736e-04,  5.56410887e-05,\n",
       "        2.36551627e-03,  3.89330019e-03, -2.69542827e-04, -5.96909085e-05,\n",
       "        6.20289124e-04,  2.94925971e-03, -1.05621883e-04,  1.34975626e-03,\n",
       "        5.09181246e-03,  9.24103777e-04,  3.90975241e-04, -2.44559342e-04,\n",
       "        4.24696249e-04, -5.84675232e-04,  3.74013092e-04,  3.47214891e-03,\n",
       "        5.19814668e-03, -1.33814683e-04,  1.91263112e-04, -3.43163847e-04,\n",
       "        3.16886720e-03,  3.29558854e-04,  6.56955410e-03, -1.12914902e-04,\n",
       "        1.99779589e-03,  2.72876117e-03, -9.70211186e-05,  5.03424462e-03,\n",
       "        2.64611939e-04,  7.03221478e-04, -5.54015511e-04,  7.25575956e-04,\n",
       "        1.75020425e-03,  5.39306493e-04,  2.68534455e-03,  3.08180723e-04,\n",
       "       -1.08147702e-04,  1.55906728e-03, -2.46485113e-03,  1.77407346e-03,\n",
       "        1.95041497e-03,  2.18633935e-03,  3.23546818e-03, -7.74011947e-04,\n",
       "        2.77090049e-03,  2.54940329e-04, -4.50014224e-04,  2.80483619e-05,\n",
       "        2.65903841e-03, -5.84023306e-04,  2.19457885e-04,  1.95013836e-03,\n",
       "        6.24477281e-04,  4.75294562e-03, -8.55636899e-05, -4.06224950e-04,\n",
       "        2.07846519e-04, -1.64175697e-03, -7.07572544e-05,  3.98099888e-04,\n",
       "       -2.75406288e-04, -7.42758566e-05, -1.30420306e-03, -6.06937858e-04,\n",
       "        6.98797919e-07,  2.83054949e-04, -4.01121288e-05,  1.06920314e-03,\n",
       "       -1.29986685e-04, -6.23733387e-04,  4.57873801e-03,  1.18564826e-03,\n",
       "        2.48034741e-03,  1.70017825e-04,  8.79929774e-03,  4.46868507e-04,\n",
       "        2.65406215e-05,  2.60986853e-03,  4.54300198e-06, -3.70125636e-05,\n",
       "        4.93011100e-07,  2.24326365e-03, -9.42914048e-05,  1.41004857e-03,\n",
       "       -4.03528014e-04,  1.21295732e-03, -5.73308789e-04, -6.14275632e-04,\n",
       "        1.03550792e-05,  1.22196798e-04,  2.08818019e-04, -1.82339945e-03,\n",
       "       -5.84865920e-05,  4.61275084e-03,  3.22949304e-03,  3.92527552e-04,\n",
       "        8.19971261e-04,  5.63980313e-04,  5.17096720e-04,  1.34533202e-05,\n",
       "        9.13971977e-04, -3.55436729e-04,  1.81714655e-04,  5.13727951e-04,\n",
       "        4.99809394e-03,  4.71275462e-06,  6.62299572e-04,  1.06544801e-04,\n",
       "        7.18234805e-04,  1.26106257e-04, -1.43995465e-04,  6.64655410e-04,\n",
       "        4.00469266e-03,  5.12972299e-04,  7.44699137e-05,  2.01962728e-04,\n",
       "        1.21105746e-04,  1.21863047e-03,  1.49922358e-04,  2.99314084e-03,\n",
       "        1.33815729e-05, -1.72895772e-04,  4.96669847e-04,  2.14670273e-03,\n",
       "       -1.53749468e-04, -4.16663279e-05,  2.17612163e-04,  2.39740155e-04,\n",
       "        1.91323285e-04,  1.59866281e-03,  2.89828144e-03, -3.38600308e-04,\n",
       "        4.22567209e-05,  1.04622543e-03,  2.40430945e-05, -2.01306376e-03,\n",
       "        6.00028667e-04,  2.20390619e-03, -2.13131239e-03,  6.83493447e-04,\n",
       "        1.28832625e-07, -5.80455890e-05,  4.48102830e-03,  3.72148264e-04,\n",
       "       -1.50203926e-03,  2.31534606e-04,  2.40997970e-03, -4.81792958e-04,\n",
       "       -6.82774058e-04,  1.78376946e-03,  1.83787104e-03,  4.33337191e-05,\n",
       "        1.23037418e-04,  3.00484686e-03, -4.75457491e-04,  3.83986771e-04,\n",
       "        1.70458970e-03,  5.88785810e-03,  4.54280002e-04,  1.65518490e-04,\n",
       "        1.29000586e-03,  1.05952437e-04,  1.06817728e-03,  2.28771730e-03,\n",
       "        6.53242576e-04,  2.51674675e-03,  1.14658411e-04, -2.14328780e-03,\n",
       "        8.16013722e-04,  6.33163436e-04,  2.09455848e-05,  1.11640140e-03,\n",
       "        2.63511378e-04, -8.08631245e-04, -6.37363939e-07,  2.14082608e-03,\n",
       "        9.89559107e-03,  1.46713137e-04, -4.37760355e-05, -4.87602083e-04,\n",
       "        3.29950330e-04,  2.94467621e-03, -9.94719565e-04,  2.22452552e-04,\n",
       "        3.88622633e-04,  4.20645549e-04,  1.13603179e-04,  1.87451241e-03,\n",
       "       -3.55656375e-05, -3.79451725e-04,  2.47748080e-03,  3.69442532e-05,\n",
       "        2.91825098e-04,  7.64045762e-05,  2.50568893e-03,  1.09793933e-03,\n",
       "       -6.91371606e-05,  4.87134268e-04,  4.44942096e-04,  1.80701027e-05,\n",
       "        3.65973829e-04, -1.95996050e-04,  1.60724449e-04,  5.56010462e-04,\n",
       "        2.91866297e-03,  1.83626264e-03, -2.23775790e-03,  5.64544927e-03,\n",
       "        5.91420627e-04, -4.93594154e-04,  1.21454766e-03, -4.43730358e-04,\n",
       "        6.93733455e-04,  2.27271672e-03,  2.57513486e-03, -1.99667367e-04,\n",
       "       -9.14340839e-04,  2.43568735e-04, -1.53984240e-06,  3.13969038e-04,\n",
       "       -9.87077146e-05, -6.58669218e-04,  2.32523977e-04,  5.06275892e-03,\n",
       "       -9.11786265e-05,  3.14505131e-04,  4.86086705e-04, -3.01281776e-04,\n",
       "       -5.04880620e-04,  3.70979542e-04,  1.88002479e-03,  5.67831812e-05,\n",
       "       -5.37867709e-05,  8.68095260e-04,  3.99883691e-04,  1.53434370e-03,\n",
       "       -1.52421679e-04,  5.03099836e-05,  4.95862623e-04, -1.06012879e-03,\n",
       "        5.71451574e-06, -8.50403667e-05,  3.12847272e-03,  1.86685333e-03,\n",
       "        3.87934670e-05, -3.49346628e-05,  1.24807621e-03,  7.77357258e-04,\n",
       "       -7.18566182e-04,  1.37476122e-03,  8.38351145e-04, -2.28898076e-04,\n",
       "       -8.48193769e-04,  2.62737134e-03,  5.94603131e-04,  2.61432899e-04,\n",
       "        1.09719665e-04,  5.79435000e-05, -4.35106049e-04, -2.17641136e-04,\n",
       "        3.02305585e-03, -4.31874869e-05, -1.00085934e-04, -2.35200205e-04,\n",
       "        7.74364511e-04,  4.11135890e-03,  7.40935886e-03,  3.58364428e-04,\n",
       "        1.12546713e-03, -3.89780063e-04,  2.41647329e-04,  1.15025548e-04,\n",
       "        8.52860860e-04,  1.19289593e-03,  3.49979498e-04,  2.83755176e-03,\n",
       "        1.09913433e-02, -3.04304012e-05, -1.58278111e-04, -4.18180338e-04,\n",
       "        1.09091715e-03,  5.59573760e-04, -1.64829780e-05, -3.77653865e-04,\n",
       "       -9.90899862e-04, -6.42279920e-04,  5.13007224e-04, -1.26234663e-03,\n",
       "        1.37787356e-04,  6.40079472e-03, -2.91181175e-04,  3.06693441e-03,\n",
       "       -1.23558519e-03,  1.08465808e-03, -8.50251934e-04, -6.49286201e-04],\n",
       "      dtype=float32)"
      ]
     },
     "execution_count": 91,
     "metadata": {},
     "output_type": "execute_result"
    }
   ],
   "source": [
    "tmp_list[0]."
   ]
  },
  {
   "cell_type": "markdown",
   "metadata": {},
   "source": [
    "### 플레이리스트에 곡과 태그 추천해주기"
   ]
  },
  {
   "cell_type": "code",
   "execution_count": 318,
   "metadata": {
    "collapsed": true
   },
   "outputs": [
    {
     "name": "stderr",
     "output_type": "stream",
     "text": [
      " 51%|██████████████████▊                  | 11672/23015 [05:48<05:38, 33.51it/s]\n"
     ]
    },
    {
     "ename": "KeyboardInterrupt",
     "evalue": "",
     "output_type": "error",
     "traceback": [
      "\u001b[0;31m---------------------------------------------------------------------------\u001b[0m",
      "\u001b[0;31mKeyboardInterrupt\u001b[0m                         Traceback (most recent call last)",
      "\u001b[0;32m/var/folders/8p/gs84m2q96dgb1865nxypp42h0000gn/T/ipykernel_1078/4067887344.py\u001b[0m in \u001b[0;36m<module>\u001b[0;34m\u001b[0m\n\u001b[1;32m      2\u001b[0m \u001b[0manswer\u001b[0m \u001b[0;34m=\u001b[0m \u001b[0;34m[\u001b[0m\u001b[0;34m]\u001b[0m\u001b[0;34m\u001b[0m\u001b[0;34m\u001b[0m\u001b[0m\n\u001b[1;32m      3\u001b[0m \u001b[0;32mfor\u001b[0m \u001b[0midx\u001b[0m \u001b[0;32min\u001b[0m \u001b[0mtqdm\u001b[0m\u001b[0;34m(\u001b[0m\u001b[0mrange\u001b[0m\u001b[0;34m(\u001b[0m\u001b[0;36m115071\u001b[0m\u001b[0;34m,\u001b[0m\u001b[0;36m138086\u001b[0m\u001b[0;34m)\u001b[0m\u001b[0;34m)\u001b[0m\u001b[0;34m:\u001b[0m \u001b[0;31m# test nid start : 115071\u001b[0m\u001b[0;34m\u001b[0m\u001b[0;34m\u001b[0m\u001b[0m\n\u001b[0;32m----> 4\u001b[0;31m     \u001b[0mresult\u001b[0m \u001b[0;34m=\u001b[0m \u001b[0mrecommend\u001b[0m\u001b[0;34m(\u001b[0m\u001b[0midx\u001b[0m\u001b[0;34m,\u001b[0m \u001b[0msong_model\u001b[0m\u001b[0;34m,\u001b[0m \u001b[0mtag_model\u001b[0m\u001b[0;34m)\u001b[0m\u001b[0;34m\u001b[0m\u001b[0;34m\u001b[0m\u001b[0m\n\u001b[0m\u001b[1;32m      5\u001b[0m     answer.append({\n\u001b[1;32m      6\u001b[0m         \u001b[0;34m'id'\u001b[0m \u001b[0;34m:\u001b[0m \u001b[0mresult\u001b[0m\u001b[0;34m[\u001b[0m\u001b[0;36m0\u001b[0m\u001b[0;34m]\u001b[0m\u001b[0;34m,\u001b[0m\u001b[0;34m\u001b[0m\u001b[0;34m\u001b[0m\u001b[0m\n",
      "\u001b[0;32m/var/folders/8p/gs84m2q96dgb1865nxypp42h0000gn/T/ipykernel_1078/1765153411.py\u001b[0m in \u001b[0;36mrecommend\u001b[0;34m(nid, song_model, tag_model)\u001b[0m\n\u001b[1;32m      1\u001b[0m \u001b[0;32mdef\u001b[0m \u001b[0mrecommend\u001b[0m\u001b[0;34m(\u001b[0m\u001b[0mnid\u001b[0m\u001b[0;34m,\u001b[0m \u001b[0msong_model\u001b[0m \u001b[0;34m=\u001b[0m \u001b[0mmodel\u001b[0m\u001b[0;34m,\u001b[0m \u001b[0mtag_model\u001b[0m \u001b[0;34m=\u001b[0m \u001b[0mmodel2\u001b[0m\u001b[0;34m)\u001b[0m\u001b[0;34m:\u001b[0m\u001b[0;34m\u001b[0m\u001b[0;34m\u001b[0m\u001b[0m\n\u001b[0;32m----> 2\u001b[0;31m     \u001b[0mrec_sid\u001b[0m \u001b[0;34m=\u001b[0m \u001b[0msong_model\u001b[0m\u001b[0;34m.\u001b[0m\u001b[0mrecommend\u001b[0m\u001b[0;34m(\u001b[0m\u001b[0mnid\u001b[0m\u001b[0;34m,\u001b[0m\u001b[0mtest_songs_A\u001b[0m\u001b[0;34m,\u001b[0m \u001b[0mN\u001b[0m \u001b[0;34m=\u001b[0m \u001b[0;36m300\u001b[0m\u001b[0;34m)\u001b[0m\u001b[0;34m\u001b[0m\u001b[0;34m\u001b[0m\u001b[0m\n\u001b[0m\u001b[1;32m      3\u001b[0m     \u001b[0mrec_tid\u001b[0m \u001b[0;34m=\u001b[0m \u001b[0mtag_model\u001b[0m\u001b[0;34m.\u001b[0m\u001b[0mrecommend\u001b[0m\u001b[0;34m(\u001b[0m\u001b[0mnid\u001b[0m\u001b[0;34m,\u001b[0m\u001b[0mtest_tags_A\u001b[0m\u001b[0;34m,\u001b[0m \u001b[0mN\u001b[0m \u001b[0;34m=\u001b[0m \u001b[0;36m30\u001b[0m\u001b[0;34m)\u001b[0m\u001b[0;34m\u001b[0m\u001b[0;34m\u001b[0m\u001b[0m\n\u001b[1;32m      4\u001b[0m \u001b[0;34m\u001b[0m\u001b[0m\n\u001b[1;32m      5\u001b[0m     \u001b[0mexist_sid\u001b[0m \u001b[0;34m=\u001b[0m \u001b[0mplylst_train\u001b[0m\u001b[0;34m.\u001b[0m\u001b[0mloc\u001b[0m\u001b[0;34m[\u001b[0m\u001b[0mnid\u001b[0m\u001b[0;34m]\u001b[0m\u001b[0;34m[\u001b[0m\u001b[0;34m'songs_id'\u001b[0m\u001b[0;34m]\u001b[0m\u001b[0;34m\u001b[0m\u001b[0;34m\u001b[0m\u001b[0m\n",
      "\u001b[0;32mimplicit/recommender_base.pyx\u001b[0m in \u001b[0;36mimplicit.recommender_base.MatrixFactorizationBase.recommend\u001b[0;34m()\u001b[0m\n",
      "\u001b[0;32m~/miniforge3/envs/ds_study/lib/python3.10/site-packages/numpy/core/overrides.py\u001b[0m in \u001b[0;36margpartition\u001b[0;34m(*args, **kwargs)\u001b[0m\n",
      "\u001b[0;31mKeyboardInterrupt\u001b[0m: "
     ]
    }
   ],
   "source": [
    "from tqdm import tqdm\n",
    "answer = []\n",
    "for idx in tqdm(range(115071,138086)): # test nid start : 115071\n",
    "    result = recommend(idx, song_model, tag_model)\n",
    "    answer.append({\n",
    "        'id' : result[0],\n",
    "        'songs' : result[1],\n",
    "        'tags' : result[2]\n",
    "    })"
   ]
  },
  {
   "cell_type": "code",
   "execution_count": 316,
   "metadata": {
    "collapsed": true
   },
   "outputs": [
    {
     "name": "stderr",
     "output_type": "stream",
     "text": [
      "  0%|                                                 | 0/23015 [00:00<?, ?it/s]\n"
     ]
    },
    {
     "ename": "IndexError",
     "evalue": "list index out of range",
     "output_type": "error",
     "traceback": [
      "\u001b[0;31m---------------------------------------------------------------------------\u001b[0m",
      "\u001b[0;31mIndexError\u001b[0m                                Traceback (most recent call last)",
      "\u001b[0;32m/var/folders/8p/gs84m2q96dgb1865nxypp42h0000gn/T/ipykernel_1078/191907765.py\u001b[0m in \u001b[0;36m<module>\u001b[0;34m\u001b[0m\n\u001b[1;32m      3\u001b[0m \u001b[0;32mfor\u001b[0m \u001b[0midx\u001b[0m \u001b[0;32min\u001b[0m \u001b[0mtqdm\u001b[0m\u001b[0;34m(\u001b[0m\u001b[0mrange\u001b[0m\u001b[0;34m(\u001b[0m\u001b[0;36m115071\u001b[0m\u001b[0;34m,\u001b[0m\u001b[0;36m138086\u001b[0m\u001b[0;34m)\u001b[0m\u001b[0;34m)\u001b[0m\u001b[0;34m:\u001b[0m\u001b[0;34m\u001b[0m\u001b[0;34m\u001b[0m\u001b[0m\n\u001b[1;32m      4\u001b[0m     \u001b[0mtag_result\u001b[0m \u001b[0;34m=\u001b[0m \u001b[0mrecommend_tags_ver2\u001b[0m\u001b[0;34m(\u001b[0m\u001b[0midx\u001b[0m\u001b[0;34m,\u001b[0m \u001b[0msong_model\u001b[0m\u001b[0;34m)\u001b[0m\u001b[0;34m\u001b[0m\u001b[0;34m\u001b[0m\u001b[0m\n\u001b[0;32m----> 5\u001b[0;31m     \u001b[0manswer\u001b[0m\u001b[0;34m[\u001b[0m\u001b[0mplylst_id_nid\u001b[0m\u001b[0;34m[\u001b[0m\u001b[0midx\u001b[0m\u001b[0;34m]\u001b[0m\u001b[0;34m-\u001b[0m\u001b[0;36m115071\u001b[0m\u001b[0;34m]\u001b[0m\u001b[0;34m[\u001b[0m\u001b[0;34m'tags'\u001b[0m\u001b[0;34m]\u001b[0m \u001b[0;34m=\u001b[0m \u001b[0mtag_result\u001b[0m\u001b[0;34m[\u001b[0m\u001b[0;36m1\u001b[0m\u001b[0;34m]\u001b[0m\u001b[0;34m\u001b[0m\u001b[0;34m\u001b[0m\u001b[0m\n\u001b[0m",
      "\u001b[0;31mIndexError\u001b[0m: list index out of range"
     ]
    }
   ],
   "source": [
    "# tag 하이퍼 파라미터만 변경해서 따로 작업했을 때\n",
    "\n",
    "for idx in tqdm(range(115071,138086)):\n",
    "    tag_result = recommend_tags_ver2(idx, song_model)\n",
    "    answer[idx-115071]['tags'] = tag_result[1]"
   ]
  },
  {
   "cell_type": "code",
   "execution_count": 101,
   "metadata": {},
   "outputs": [
    {
     "name": "stderr",
     "output_type": "stream",
     "text": [
      "100%|█████████████████████████████████████| 23015/23015 [25:21<00:00, 15.12it/s]\n"
     ]
    }
   ],
   "source": [
    "# simillar user 이용해서 tag 추천하는 recommend_ver2로 전체 결과 추천할 때\n",
    "\n",
    "from tqdm import tqdm\n",
    "answer = []\n",
    "for idx in tqdm(range(115071,138086)): # test nid start : 115071\n",
    "    result = recommend_ver2(idx, song_model)\n",
    "    answer.append({\n",
    "        'id' : result[0],\n",
    "        'songs' : result[1],\n",
    "        'tags' : result[2]\n",
    "    })"
   ]
  },
  {
   "cell_type": "code",
   "execution_count": 102,
   "metadata": {},
   "outputs": [
    {
     "data": {
      "text/plain": [
       "(23015, 0, [])"
      ]
     },
     "execution_count": 102,
     "metadata": {},
     "output_type": "execute_result"
    }
   ],
   "source": [
    "# 노래 추천 잘 됐는지 확인\n",
    "len_wrong_cnt = 0\n",
    "len_unique_wrong_cnt = 0\n",
    "wrong_idx = []\n",
    "for i in range(len(answer)):\n",
    "    if len(answer[i]['songs']) != 100:\n",
    "        len_wrong_cnt += 1\n",
    "        wrong_idx.append({i : len(answer[i]['songs'])})\n",
    "        \n",
    "len(answer), len_wrong_cnt, wrong_idx"
   ]
  },
  {
   "cell_type": "code",
   "execution_count": 103,
   "metadata": {
    "scrolled": true
   },
   "outputs": [
    {
     "data": {
      "text/plain": [
       "(23015, 0, [])"
      ]
     },
     "execution_count": 103,
     "metadata": {},
     "output_type": "execute_result"
    }
   ],
   "source": [
    "# 태그 추천 잘 됐는지 확인\n",
    "len_wrong_cnt = 0\n",
    "len_unique_wrong_cnt = 0\n",
    "wrong_idx = []\n",
    "for i in range(len(answer)):\n",
    "    if len(answer[i]['tags']) != 10:\n",
    "        len_wrong_cnt += 1\n",
    "        wrong_idx.append({i : len(answer[i]['tags'])})\n",
    "        \n",
    "len(answer), len_wrong_cnt, wrong_idx"
   ]
  },
  {
   "cell_type": "code",
   "execution_count": 345,
   "metadata": {
    "scrolled": true
   },
   "outputs": [
    {
     "data": {
      "text/plain": [
       "tags                                                           []\n",
       "id                                                         118598\n",
       "plylst_title                                                     \n",
       "songs           [373313, 151080, 275346, 696876, 165237, 52593...\n",
       "like_cnt                                                     1675\n",
       "updt_date                                 2019-05-27 14:14:33.000\n",
       "nid                                                        115071\n",
       "songs_id        [82770, 73350, 49850, 283466, 38811, 14654, 83...\n",
       "tags_id                                                        []\n",
       "Name: 115071, dtype: object"
      ]
     },
     "execution_count": 345,
     "metadata": {},
     "output_type": "execute_result"
    }
   ],
   "source": [
    "plylst.iloc[115071,:]"
   ]
  },
  {
   "cell_type": "code",
   "execution_count": 104,
   "metadata": {
    "scrolled": true
   },
   "outputs": [
    {
     "data": {
      "text/plain": [
       "{'id': 118598,\n",
       " 'songs': [207912,\n",
       "  322215,\n",
       "  623047,\n",
       "  690767,\n",
       "  516376,\n",
       "  472374,\n",
       "  157900,\n",
       "  638488,\n",
       "  78983,\n",
       "  396028,\n",
       "  422438,\n",
       "  421833,\n",
       "  447762,\n",
       "  39436,\n",
       "  382962,\n",
       "  416417,\n",
       "  557956,\n",
       "  703323,\n",
       "  439161,\n",
       "  209622,\n",
       "  217622,\n",
       "  569715,\n",
       "  607459,\n",
       "  182907,\n",
       "  411438,\n",
       "  606063,\n",
       "  219415,\n",
       "  328908,\n",
       "  307938,\n",
       "  259770,\n",
       "  187531,\n",
       "  66475,\n",
       "  212592,\n",
       "  249378,\n",
       "  367826,\n",
       "  140837,\n",
       "  448547,\n",
       "  226991,\n",
       "  412246,\n",
       "  693988,\n",
       "  545816,\n",
       "  413459,\n",
       "  169426,\n",
       "  545553,\n",
       "  485776,\n",
       "  262430,\n",
       "  551157,\n",
       "  297376,\n",
       "  616144,\n",
       "  467269,\n",
       "  620311,\n",
       "  438857,\n",
       "  554509,\n",
       "  394031,\n",
       "  646988,\n",
       "  10690,\n",
       "  585728,\n",
       "  380092,\n",
       "  292859,\n",
       "  654428,\n",
       "  680970,\n",
       "  455806,\n",
       "  584108,\n",
       "  209684,\n",
       "  530762,\n",
       "  590972,\n",
       "  220100,\n",
       "  343420,\n",
       "  626157,\n",
       "  251035,\n",
       "  242188,\n",
       "  546070,\n",
       "  650957,\n",
       "  21512,\n",
       "  385871,\n",
       "  193674,\n",
       "  546713,\n",
       "  444103,\n",
       "  267837,\n",
       "  404536,\n",
       "  667791,\n",
       "  407255,\n",
       "  648022,\n",
       "  498401,\n",
       "  419274,\n",
       "  375776,\n",
       "  283939,\n",
       "  494552,\n",
       "  320642,\n",
       "  271335,\n",
       "  352807,\n",
       "  225652,\n",
       "  462968,\n",
       "  151704,\n",
       "  26908,\n",
       "  70465,\n",
       "  574308,\n",
       "  693580,\n",
       "  167375,\n",
       "  79444],\n",
       " 'tags': ['영화',\n",
       "  '유치원',\n",
       "  '어린이',\n",
       "  '애니매이션',\n",
       "  'TV만화주제가',\n",
       "  '아기',\n",
       "  '디즈니',\n",
       "  '애니메이션',\n",
       "  '주제가',\n",
       "  'disney']}"
      ]
     },
     "execution_count": 104,
     "metadata": {},
     "output_type": "execute_result"
    }
   ],
   "source": [
    "answer[0]"
   ]
  },
  {
   "cell_type": "markdown",
   "metadata": {},
   "source": [
    "### 결과물 생성"
   ]
  },
  {
   "cell_type": "markdown",
   "metadata": {},
   "source": [
    "- write_json : json파일 저장 함수"
   ]
  },
  {
   "cell_type": "code",
   "execution_count": 45,
   "metadata": {},
   "outputs": [],
   "source": [
    "import io\n",
    "import os\n",
    "import json\n",
    "import distutils.dir_util\n",
    "from collections import Counter\n",
    "\n",
    "import numpy as np\n",
    "\n",
    "\n",
    "def write_json(data, fname):\n",
    "    def _conv(o):\n",
    "        if isinstance(o, np.int64) or isinstance(o, np.int32):\n",
    "            return int(o)\n",
    "        raise TypeError\n",
    "\n",
    "    parent = os.path.dirname(fname)\n",
    "    distutils.dir_util.mkpath(\"../data/\" + parent)\n",
    "    with io.open(\"../data/\" + fname, \"w\", encoding=\"utf8\") as f:\n",
    "        json_str = json.dumps(data, ensure_ascii=False, default=_conv)\n",
    "        f.write(json_str)"
   ]
  },
  {
   "cell_type": "code",
   "execution_count": 105,
   "metadata": {},
   "outputs": [],
   "source": [
    "write_json(answer, \"./similar_user/f_1000/results.json\")"
   ]
  },
  {
   "cell_type": "markdown",
   "metadata": {},
   "source": [
    "---"
   ]
  },
  {
   "cell_type": "markdown",
   "metadata": {},
   "source": [
    "---"
   ]
  },
  {
   "cell_type": "markdown",
   "metadata": {},
   "source": [
    "##### 함수 만드는 과정에서 썼던 테스트 코드들"
   ]
  },
  {
   "cell_type": "markdown",
   "metadata": {},
   "source": [
    "- 2번 nid를 가진 playlist의 맞춤 태그를 추천해보자"
   ]
  },
  {
   "cell_type": "code",
   "execution_count": 129,
   "metadata": {},
   "outputs": [
    {
     "data": {
      "text/plain": [
       "[(112, 0.22263646),\n",
       " (72, 0.108597435),\n",
       " (65, 0.083253555),\n",
       " (103, 0.07775032),\n",
       " (417, 0.07139853),\n",
       " (184, 0.07092448),\n",
       " (71, 0.063434176),\n",
       " (111, 0.062599815),\n",
       " (4509, 0.054990232),\n",
       " (437, 0.05413252)]"
      ]
     },
     "execution_count": 129,
     "metadata": {},
     "output_type": "execute_result"
    }
   ],
   "source": [
    "rec_tid = model2.recommend(2,train_tags_A, N = 30)\n",
    "rec_tid[:10]"
   ]
  },
  {
   "cell_type": "code",
   "execution_count": 130,
   "metadata": {
    "collapsed": true
   },
   "outputs": [
    {
     "name": "stdout",
     "output_type": "stream",
     "text": [
      "매장음악\n",
      "비오는날\n",
      "가을\n",
      "겨울\n",
      "커피\n",
      "매장\n",
      "설렘\n",
      "여름\n",
      "까페에서듣기좋은노래\n",
      "따뜻한\n",
      "봄\n",
      "차분한\n",
      "공감\n",
      "음색\n",
      "우울할때\n",
      "산책\n",
      "상시업뎃\n",
      "EDM\n",
      "새벽감성\n",
      "감성곡\n",
      "출근길\n",
      "새해\n",
      "공부\n",
      "별\n",
      "브런치\n",
      "홈카페\n",
      "한강\n",
      "리얼북\n",
      "어쿠스틱\n",
      "sweetmind\n"
     ]
    }
   ],
   "source": [
    "for tid,_ in rec_tid:\n",
    "    print(tag_tid_id[tid])"
   ]
  },
  {
   "cell_type": "markdown",
   "metadata": {},
   "source": [
    "- 2번(nid)플레이리스트에 추천해줄만한 곡을 상위 10개만 찾아보자"
   ]
  },
  {
   "cell_type": "code",
   "execution_count": 131,
   "metadata": {
    "scrolled": false
   },
   "outputs": [
    {
     "data": {
      "text/plain": [
       "[(7178, 0.4791444),\n",
       " (42964, 0.46107218),\n",
       " (12776, 0.45183596),\n",
       " (17659, 0.43752182),\n",
       " (5317, 0.43498644),\n",
       " (21914, 0.43245193),\n",
       " (45992, 0.4268237),\n",
       " (16933, 0.4262839),\n",
       " (2280, 0.42286178),\n",
       " (24641, 0.41935915)]"
      ]
     },
     "execution_count": 131,
     "metadata": {},
     "output_type": "execute_result"
    }
   ],
   "source": [
    "rec_sid = model.recommend(2,train_songs_A, N = 300)\n",
    "rec_sid[:10]"
   ]
  },
  {
   "cell_type": "code",
   "execution_count": 80,
   "metadata": {
    "scrolled": true
   },
   "outputs": [
    {
     "name": "stdout",
     "output_type": "stream",
     "text": [
      "88403\n",
      "Psychic (사이킥)\n",
      "['리차드파커스']\n",
      "['GN0500', 'GN0600']\n",
      "------------------------\n",
      "102004\n",
      "Perfume\n",
      "['Nu.D']\n",
      "['GN0500', 'GN0600']\n",
      "------------------------\n",
      "698965\n",
      "별 침대 옥상 (With Boni)\n",
      "['윌콕스']\n",
      "['GN0500', 'GN0600']\n",
      "------------------------\n",
      "691849\n",
      "Dress Code (Feat. G2)\n",
      "['윌콕스']\n",
      "['GN0500', 'GN0600']\n",
      "------------------------\n",
      "616212\n",
      "너를 그리다\n",
      "['디어 (d.ear)']\n",
      "['GN0500', 'GN0600']\n",
      "------------------------\n",
      "564963\n",
      "망고\n",
      "['CHEEZE (치즈)']\n",
      "['GN0500', 'GN0600']\n",
      "------------------------\n",
      "454075\n",
      "Angel 2 Me (Duet. Jeff Bernat)\n",
      "['맥케이 (McKay)']\n",
      "['GN0500', 'GN0600']\n",
      "------------------------\n",
      "56335\n",
      "닮아 (With 슬로 (Sllo), 제이형 Of 타코앤제이형)\n",
      "['정바스']\n",
      "['GN0500', 'GN0600']\n",
      "------------------------\n",
      "322158\n",
      "내게 Him을 줘\n",
      "['Henmi']\n",
      "['GN0500', 'GN0600']\n",
      "------------------------\n",
      "670510\n",
      "Wanna Love You\n",
      "['폴킴']\n",
      "['GN0500', 'GN0600']\n",
      "------------------------\n"
     ]
    }
   ],
   "source": [
    "for sid, score in rec_sid[:10]:\n",
    "    print(song_sid_id[sid])\n",
    "    print(song_meta.loc[song_sid_id[sid]]['song_name'])\n",
    "    print(song_meta.loc[song_sid_id[sid]]['artist_name_basket'])\n",
    "    print(song_meta.loc[song_sid_id[each]]['song_gn_gnr_basket'])\n",
    "    print('------------------------')"
   ]
  },
  {
   "cell_type": "markdown",
   "metadata": {},
   "source": [
    "- 그렇다면 현재 들어있는 2번(nid) 플레이리스트의 노래들을 찾아보자"
   ]
  },
  {
   "cell_type": "code",
   "execution_count": 55,
   "metadata": {},
   "outputs": [
    {
     "data": {
      "text/plain": [
       "76951"
      ]
     },
     "execution_count": 55,
     "metadata": {},
     "output_type": "execute_result"
    }
   ],
   "source": [
    "plylst_nid_id[2] #원래 plylst id = 76951"
   ]
  },
  {
   "cell_type": "code",
   "execution_count": 73,
   "metadata": {
    "scrolled": true
   },
   "outputs": [
    {
     "data": {
      "text/plain": [
       "(28, [61, 62, 63, 64, 65])"
      ]
     },
     "execution_count": 73,
     "metadata": {},
     "output_type": "execute_result"
    }
   ],
   "source": [
    "exist_sid = plylst_train.loc[2]['songs_id'] #담겨있는 songs_sid\n",
    "len(exist_sid), exist_sid[:5]"
   ]
  },
  {
   "cell_type": "code",
   "execution_count": 79,
   "metadata": {},
   "outputs": [
    {
     "name": "stdout",
     "output_type": "stream",
     "text": [
      "83116\n",
      "도시의 밤\n",
      "['소울라이츠']\n",
      "['GN0400']\n",
      "------------------------\n",
      "276692\n",
      "I`m Alright\n",
      "['소울라이츠']\n",
      "['GN0400']\n",
      "------------------------\n",
      "166267\n",
      "너를 좋아하니까\n",
      "['뷰티핸섬']\n",
      "['GN0500', 'GN0600']\n",
      "------------------------\n",
      "186301\n",
      "247 (Feat. AMJ)\n",
      "['소울사이어티']\n",
      "['GN0400']\n",
      "------------------------\n",
      "354465\n",
      "그랬으면 (With 언피)\n",
      "['카멜']\n",
      "['GN0100']\n",
      "------------------------\n",
      "256598\n",
      "싶어 (Feat. Reddy)\n",
      "['오디오라인 (Audioline)']\n",
      "['GN0400']\n",
      "------------------------\n",
      "233195\n",
      "비숲\n",
      "['이루펀트', '김박첼라']\n",
      "['GN0300']\n",
      "------------------------\n",
      "666852\n",
      "오늘 더 좋아\n",
      "['슈가볼']\n",
      "['GN0500', 'GN0600']\n",
      "------------------------\n",
      "686560\n",
      "잠든 널 두고 나오며\n",
      "['슈가볼']\n",
      "['GN0500', 'GN0600']\n",
      "------------------------\n",
      "556426\n",
      "비행기모드 (Feat. Koonta Of Rude Paper, 오성)\n",
      "['Common Tale']\n",
      "['GN0300']\n",
      "------------------------\n",
      "142974\n",
      "Your Song (With 이진아&정승환&권진아)\n",
      "['샘김 (Sam Kim)']\n",
      "['GN0800']\n",
      "------------------------\n",
      "331878\n",
      "같았으면해\n",
      "['와인루프 (Wine Loop)']\n",
      "['GN0500', 'GN0400']\n",
      "------------------------\n",
      "195141\n",
      "5:30 pm\n",
      "['김새한길']\n",
      "['GN0400']\n",
      "------------------------\n",
      "32017\n",
      "사랑인가요 (With 슬로)\n",
      "['타코앤제이형']\n",
      "['GN0500', 'GN0300']\n",
      "------------------------\n",
      "617795\n",
      "LUB DUB (Feat. WINee)\n",
      "['2LSON']\n",
      "['GN0400']\n",
      "------------------------\n",
      "396532\n",
      "무음모드\n",
      "['와인루프 (Wine Loop)']\n",
      "['GN0500', 'GN0400']\n",
      "------------------------\n",
      "623704\n",
      "You (Feat. 오왠)\n",
      "['쏠라티']\n",
      "['GN0500', 'GN0400']\n",
      "------------------------\n",
      "516930\n",
      "& I Love You\n",
      "['달 좋은 밤']\n",
      "['GN0500', 'GN0400']\n",
      "------------------------\n",
      "300104\n",
      "달 좋은 밤\n",
      "['달 좋은 밤']\n",
      "['GN0500', 'GN0400']\n",
      "------------------------\n",
      "176874\n",
      "비가 내리는 밤에\n",
      "['빌런 (Villain)']\n",
      "['GN0400']\n",
      "------------------------\n",
      "443513\n",
      "What A Day\n",
      "['슈가볼', 'DUSKY80']\n",
      "['GN1700']\n",
      "------------------------\n",
      "471385\n",
      "Weekend\n",
      "['PERC%NT']\n",
      "['GN0400']\n",
      "------------------------\n",
      "35784\n",
      "뭉게뭉게\n",
      "['소울라이츠']\n",
      "['GN0400']\n",
      "------------------------\n",
      "153029\n",
      "새벽, 서울은\n",
      "['소울라이츠']\n",
      "['GN0400']\n",
      "------------------------\n",
      "336743\n",
      "Moon (Feat. MYK)\n",
      "['벤츄라']\n",
      "['GN0500', 'GN2600']\n",
      "------------------------\n",
      "203558\n",
      "Rainy Dance\n",
      "['참깨와 솜사탕']\n",
      "['GN0500', 'GN0800']\n",
      "------------------------\n",
      "348801\n",
      "사랑한다고 말해\n",
      "['소심한 오빠들']\n",
      "['GN0100']\n",
      "------------------------\n",
      "454550\n",
      "영화보러 갈래요? (Feat. 김민지, 김은지)\n",
      "['프롬유 (From.U)']\n",
      "['GN0500', 'GN0600']\n",
      "------------------------\n"
     ]
    }
   ],
   "source": [
    "for each in exist_sid:\n",
    "    print(song_sid_id[each])\n",
    "    print(song_meta.loc[song_sid_id[each]]['song_name'])\n",
    "    print(song_meta.loc[song_sid_id[each]]['artist_name_basket'])\n",
    "    print(song_meta.loc[song_sid_id[each]]['song_gn_gnr_basket'])\n",
    "    print('------------------------')"
   ]
  },
  {
   "cell_type": "code",
   "execution_count": 64,
   "metadata": {},
   "outputs": [
    {
     "data": {
      "text/plain": [
       "song_gn_dtl_gnr_basket    [GN0401, GN0403]\n",
       "issue_date                        20170327\n",
       "album_name                  Wanna Love You\n",
       "album_id                          10049202\n",
       "artist_id_basket                  [752425]\n",
       "song_name                   Wanna Love You\n",
       "song_gn_gnr_basket                [GN0400]\n",
       "artist_name_basket                    [폴킴]\n",
       "id                                  670510\n",
       "Name: 670510, dtype: object"
      ]
     },
     "execution_count": 64,
     "metadata": {},
     "output_type": "execute_result"
    }
   ],
   "source": [
    "song_meta.loc[song_sid_id[sid]]"
   ]
  },
  {
   "cell_type": "code",
   "execution_count": 47,
   "metadata": {},
   "outputs": [
    {
     "data": {
      "text/plain": [
       "118598"
      ]
     },
     "execution_count": 47,
     "metadata": {},
     "output_type": "execute_result"
    }
   ],
   "source": [
    "# 115071 부터 test set에 대한 idx\n",
    "plylst_nid_id[115071]"
   ]
  },
  {
   "cell_type": "markdown",
   "metadata": {},
   "source": [
    "---"
   ]
  },
  {
   "cell_type": "code",
   "execution_count": 375,
   "metadata": {},
   "outputs": [
    {
     "data": {
      "text/plain": [
       "[(87989, 0.33962598),\n",
       " (3632, 0.33799744),\n",
       " (131579, 0.337948),\n",
       " (86842, 0.3364419),\n",
       " (121949, 0.33557162)]"
      ]
     },
     "execution_count": 375,
     "metadata": {},
     "output_type": "execute_result"
    }
   ],
   "source": [
    "song_model.similar_users(115071,300)[-5:]"
   ]
  },
  {
   "cell_type": "code",
   "execution_count": 153,
   "metadata": {},
   "outputs": [
    {
     "data": {
      "text/plain": [
       "updt_date                              2015-11-29 12:00:12.000\n",
       "songs_id     [98384, 130472, 38811, 82767, 73386, 256279, 4...\n",
       "tags_id                                                   [86]\n",
       "num_songs                                                   28\n",
       "num_tags                                                     1\n",
       "Name: 72420, dtype: object"
      ]
     },
     "execution_count": 153,
     "metadata": {},
     "output_type": "execute_result"
    }
   ],
   "source": [
    "#plylst.loc[115071,:]\n",
    "plylst_train.loc[72420,:]"
   ]
  }
 ],
 "metadata": {
  "colab": {
   "authorship_tag": "ABX9TyNmRxoGz3T/cA9M5qRscHJD",
   "collapsed_sections": [],
   "mount_file_id": "1rJ76Wpca1nTpEZocxeb8N_bya3ELMFZc",
   "name": "Collaborative_Filtering_MF_ALS.ipynb",
   "provenance": []
  },
  "kernelspec": {
   "display_name": "Python 3 (ipykernel)",
   "language": "python",
   "name": "python3"
  },
  "language_info": {
   "codemirror_mode": {
    "name": "ipython",
    "version": 3
   },
   "file_extension": ".py",
   "mimetype": "text/x-python",
   "name": "python",
   "nbconvert_exporter": "python",
   "pygments_lexer": "ipython3",
   "version": "3.9.7"
  }
 },
 "nbformat": 4,
 "nbformat_minor": 1
}
