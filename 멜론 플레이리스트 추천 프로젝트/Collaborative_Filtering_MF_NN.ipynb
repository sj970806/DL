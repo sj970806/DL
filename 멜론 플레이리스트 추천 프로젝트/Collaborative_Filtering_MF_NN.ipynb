{
 "cells": [
  {
   "cell_type": "markdown",
   "metadata": {
    "id": "9a6wmbkVHVlt"
   },
   "source": [
    "# Colab drive mount"
   ]
  },
  {
   "cell_type": "code",
   "execution_count": 1,
   "metadata": {
    "colab": {
     "base_uri": "https://localhost:8080/"
    },
    "executionInfo": {
     "elapsed": 2170,
     "status": "ok",
     "timestamp": 1643012022934,
     "user": {
      "displayName": "유상준",
      "photoUrl": "https://lh3.googleusercontent.com/a-/AOh14GjwhV3OPaZeVbcnb0L540CX4dtB2wGRfCVw4E8=s64",
      "userId": "06620102043085366517"
     },
     "user_tz": -540
    },
    "id": "Kr86zdusyo7-",
    "outputId": "3c2485b6-47eb-47c1-a647-5557b6d18f81"
   },
   "outputs": [
    {
     "name": "stdout",
     "output_type": "stream",
     "text": [
      "Drive already mounted at /content/drive; to attempt to forcibly remount, call drive.mount(\"/content/drive\", force_remount=True).\n"
     ]
    }
   ],
   "source": [
    "from google.colab import drive\n",
    "drive.mount('/content/drive')"
   ]
  },
  {
   "cell_type": "code",
   "execution_count": 2,
   "metadata": {
    "colab": {
     "base_uri": "https://localhost:8080/"
    },
    "executionInfo": {
     "elapsed": 18,
     "status": "ok",
     "timestamp": 1643012022934,
     "user": {
      "displayName": "유상준",
      "photoUrl": "https://lh3.googleusercontent.com/a-/AOh14GjwhV3OPaZeVbcnb0L540CX4dtB2wGRfCVw4E8=s64",
      "userId": "06620102043085366517"
     },
     "user_tz": -540
    },
    "id": "H_pyHQSUHY0c",
    "outputId": "5c7394a7-01dd-4121-c434-3da945f2c21c"
   },
   "outputs": [
    {
     "name": "stdout",
     "output_type": "stream",
     "text": [
      "/content/drive/MyDrive/네카라쿠배/최종 프로젝트/code\n"
     ]
    }
   ],
   "source": [
    "cd /content/drive/MyDrive/네카라쿠배/최종 프로젝트/code"
   ]
  },
  {
   "cell_type": "code",
   "execution_count": 3,
   "metadata": {
    "colab": {
     "base_uri": "https://localhost:8080/"
    },
    "executionInfo": {
     "elapsed": 13,
     "status": "ok",
     "timestamp": 1643012022934,
     "user": {
      "displayName": "유상준",
      "photoUrl": "https://lh3.googleusercontent.com/a-/AOh14GjwhV3OPaZeVbcnb0L540CX4dtB2wGRfCVw4E8=s64",
      "userId": "06620102043085366517"
     },
     "user_tz": -540
    },
    "id": "GwxHlL-aHirY",
    "outputId": "ca59d421-c521-4fe8-e5de-6d19f9aa3454"
   },
   "outputs": [
    {
     "name": "stdout",
     "output_type": "stream",
     "text": [
      "Collaborative_Filtering_MF_ALS.ipynb  EDA_sj.ipynb\n",
      "Collaborative_Filtering_MF_NN.ipynb   \u001b[0m\u001b[01;34m__pycache__\u001b[0m/\n",
      "collaborative-filtering-nn.ipynb      set_matplotlib_hangul.py\n"
     ]
    }
   ],
   "source": [
    "ls"
   ]
  },
  {
   "cell_type": "code",
   "execution_count": 4,
   "metadata": {
    "executionInfo": {
     "elapsed": 7,
     "status": "ok",
     "timestamp": 1643012022935,
     "user": {
      "displayName": "유상준",
      "photoUrl": "https://lh3.googleusercontent.com/a-/AOh14GjwhV3OPaZeVbcnb0L540CX4dtB2wGRfCVw4E8=s64",
      "userId": "06620102043085366517"
     },
     "user_tz": -540
    },
    "id": "57_dFSq5ynUJ"
   },
   "outputs": [],
   "source": [
    "#!pip install nbformat"
   ]
  },
  {
   "cell_type": "markdown",
   "metadata": {
    "id": "lLuIWVfIHrQe"
   },
   "source": [
    "# Module import, \bPre-Work"
   ]
  },
  {
   "cell_type": "code",
   "execution_count": 5,
   "metadata": {
    "executionInfo": {
     "elapsed": 417,
     "status": "ok",
     "timestamp": 1643012023345,
     "user": {
      "displayName": "유상준",
      "photoUrl": "https://lh3.googleusercontent.com/a-/AOh14GjwhV3OPaZeVbcnb0L540CX4dtB2wGRfCVw4E8=s64",
      "userId": "06620102043085366517"
     },
     "user_tz": -540
    },
    "id": "thW-afcIIrMF"
   },
   "outputs": [],
   "source": [
    "from collections import Counter\n",
    "\n",
    "import numpy as np\n",
    "import pandas as pd\n",
    "\n",
    "import scipy.sparse as spr\n",
    "import pickle"
   ]
  },
  {
   "cell_type": "markdown",
   "metadata": {
    "id": "crIjwAEtHOk7"
   },
   "source": [
    "# Load Data"
   ]
  },
  {
   "cell_type": "code",
   "execution_count": 6,
   "metadata": {
    "executionInfo": {
     "elapsed": 14458,
     "status": "ok",
     "timestamp": 1643012037799,
     "user": {
      "displayName": "유상준",
      "photoUrl": "https://lh3.googleusercontent.com/a-/AOh14GjwhV3OPaZeVbcnb0L540CX4dtB2wGRfCVw4E8=s64",
      "userId": "06620102043085366517"
     },
     "user_tz": -540
    },
    "id": "1J_GnztkIuTv"
   },
   "outputs": [],
   "source": [
    "song_meta = pd.read_json(\"../data/song_meta.json\")\n",
    "train = pd.read_json(\"../data/train.json\")\n",
    "test = pd.read_json(\"../data/val.json\")"
   ]
  },
  {
   "cell_type": "markdown",
   "metadata": {
    "id": "_N9DeqxTJ2f6"
   },
   "source": [
    "## Data Preprocessing"
   ]
  },
  {
   "cell_type": "markdown",
   "metadata": {
    "id": "IP_p3we7Poyq"
   },
   "source": [
    "playlist, song, tag의 id(각각 nid, sid, tid)를 새로 생성하는 이유는, 새로 생성할 id를 matrix의 row, column index로 사용할 것이기 때문입니다.\n",
    "\n",
    "- plylst_id_nid : playlist id -> nid\n",
    "- plylst_nid_id : playlist nid -> id\n",
    "- song_id_sid : song id -> sid\n",
    "- song_sid_id : song sid -> id\n",
    "- tag_id_tid : tag id -> tid\n",
    "- tag_tid_id : tag tid -> id\n",
    "- song_dict : song id -> count\n",
    "- tag_dict : tag id -> count"
   ]
  },
  {
   "cell_type": "code",
   "execution_count": 7,
   "metadata": {
    "executionInfo": {
     "elapsed": 25,
     "status": "ok",
     "timestamp": 1643012037799,
     "user": {
      "displayName": "유상준",
      "photoUrl": "https://lh3.googleusercontent.com/a-/AOh14GjwhV3OPaZeVbcnb0L540CX4dtB2wGRfCVw4E8=s64",
      "userId": "06620102043085366517"
     },
     "user_tz": -540
    },
    "id": "AU1b8AwJJ5cR"
   },
   "outputs": [],
   "source": [
    "# train + test => new train\n",
    "plylst = pd.concat([train, test], ignore_index=True)\n",
    "n_plylst = len(plylst)\n",
    "\n",
    "# playlist id\n",
    "plylst[\"nid\"] = range(n_plylst)\n",
    "\n",
    "# id <-> nid\n",
    "plylst_id_nid = dict(zip(plylst[\"id\"],plylst[\"nid\"]))\n",
    "plylst_nid_id = dict(zip(plylst[\"nid\"],plylst[\"id\"]))"
   ]
  },
  {
   "cell_type": "code",
   "execution_count": 8,
   "metadata": {
    "executionInfo": {
     "elapsed": 3773,
     "status": "ok",
     "timestamp": 1643012041549,
     "user": {
      "displayName": "유상준",
      "photoUrl": "https://lh3.googleusercontent.com/a-/AOh14GjwhV3OPaZeVbcnb0L540CX4dtB2wGRfCVw4E8=s64",
      "userId": "06620102043085366517"
     },
     "user_tz": -540
    },
    "id": "0pa3d4wYQpCZ"
   },
   "outputs": [],
   "source": [
    "plylst_tag = plylst['tags']\n",
    "tag_counter = Counter([tg for tgs in plylst_tag for tg in tgs])\n",
    "tag_dict = {x: tag_counter[x] for x in tag_counter}\n",
    "\n",
    "tag_id_tid = dict()\n",
    "tag_tid_id = dict()\n",
    "for i, t in enumerate(tag_dict):\n",
    "  tag_id_tid[t] = i\n",
    "  tag_tid_id[i] = t\n",
    "\n",
    "n_tags = len(tag_dict)\n",
    "\n",
    "plylst_song = plylst['songs']\n",
    "song_counter = Counter([sg for sgs in plylst_song for sg in sgs])\n",
    "song_dict = {x: song_counter[x] for x in song_counter}\n",
    "\n",
    "song_id_sid = dict()\n",
    "song_sid_id = dict()\n",
    "for i, t in enumerate(song_dict):\n",
    "  song_id_sid[t] = i\n",
    "  song_sid_id[i] = t\n",
    "\n",
    "n_songs = len(song_dict)"
   ]
  },
  {
   "cell_type": "markdown",
   "metadata": {
    "id": "yasM1px9Rp9q"
   },
   "source": [
    "plylst의 songs와 tags를 새로운 id로 변환하여 DataFrame에 추가합니다"
   ]
  },
  {
   "cell_type": "code",
   "execution_count": 9,
   "metadata": {
    "executionInfo": {
     "elapsed": 5023,
     "status": "ok",
     "timestamp": 1643012046567,
     "user": {
      "displayName": "유상준",
      "photoUrl": "https://lh3.googleusercontent.com/a-/AOh14GjwhV3OPaZeVbcnb0L540CX4dtB2wGRfCVw4E8=s64",
      "userId": "06620102043085366517"
     },
     "user_tz": -540
    },
    "id": "Bkd8EkxeTXMo"
   },
   "outputs": [],
   "source": [
    "plylst['songs_id'] = plylst['songs'].map(lambda x: [song_id_sid.get(s) for s in x if song_id_sid.get(s) != None])\n",
    "plylst['tags_id'] = plylst['tags'].map(lambda x: [tag_id_tid.get(t) for t in x if tag_id_tid.get(t) != None])"
   ]
  },
  {
   "cell_type": "code",
   "execution_count": 10,
   "metadata": {
    "colab": {
     "base_uri": "https://localhost:8080/"
    },
    "executionInfo": {
     "elapsed": 11,
     "status": "ok",
     "timestamp": 1643012046567,
     "user": {
      "displayName": "유상준",
      "photoUrl": "https://lh3.googleusercontent.com/a-/AOh14GjwhV3OPaZeVbcnb0L540CX4dtB2wGRfCVw4E8=s64",
      "userId": "06620102043085366517"
     },
     "user_tz": -540
    },
    "id": "5OZHqvdZUWI-",
    "outputId": "5f59933f-4978-45e7-af0f-430b9967aeec"
   },
   "outputs": [
    {
     "name": "stderr",
     "output_type": "stream",
     "text": [
      "/usr/local/lib/python3.7/dist-packages/pandas/core/indexing.py:1596: SettingWithCopyWarning: \n",
      "A value is trying to be set on a copy of a slice from a DataFrame.\n",
      "Try using .loc[row_indexer,col_indexer] = value instead\n",
      "\n",
      "See the caveats in the documentation: https://pandas.pydata.org/pandas-docs/stable/user_guide/indexing.html#returning-a-view-versus-a-copy\n",
      "  self.obj[key] = _infer_fill_value(value)\n",
      "/usr/local/lib/python3.7/dist-packages/pandas/core/indexing.py:1743: SettingWithCopyWarning: \n",
      "A value is trying to be set on a copy of a slice from a DataFrame.\n",
      "Try using .loc[row_indexer,col_indexer] = value instead\n",
      "\n",
      "See the caveats in the documentation: https://pandas.pydata.org/pandas-docs/stable/user_guide/indexing.html#returning-a-view-versus-a-copy\n",
      "  isetter(ilocs[0], value)\n"
     ]
    }
   ],
   "source": [
    "plylst_use = plylst[['nid','updt_date','songs_id','tags_id']]\n",
    "plylst_use.loc[:,'num_songs'] = plylst_use['songs_id'].map(len)\n",
    "plylst_use.loc[:,'num_tags'] = plylst_use['tags_id'].map(len)\n",
    "plylst_use = plylst_use.set_index('nid')"
   ]
  },
  {
   "cell_type": "code",
   "execution_count": 11,
   "metadata": {
    "colab": {
     "base_uri": "https://localhost:8080/",
     "height": 238
    },
    "executionInfo": {
     "elapsed": 445,
     "status": "ok",
     "timestamp": 1643012047009,
     "user": {
      "displayName": "유상준",
      "photoUrl": "https://lh3.googleusercontent.com/a-/AOh14GjwhV3OPaZeVbcnb0L540CX4dtB2wGRfCVw4E8=s64",
      "userId": "06620102043085366517"
     },
     "user_tz": -540
    },
    "id": "4JkaJ0QGHOTo",
    "outputId": "2874a543-60f7-4160-e2cd-c3d47ae82bc2"
   },
   "outputs": [
    {
     "data": {
      "text/html": [
       "\n",
       "  <div id=\"df-bd8ca494-359a-41d0-bea5-4aaab79df64e\">\n",
       "    <div class=\"colab-df-container\">\n",
       "      <div>\n",
       "<style scoped>\n",
       "    .dataframe tbody tr th:only-of-type {\n",
       "        vertical-align: middle;\n",
       "    }\n",
       "\n",
       "    .dataframe tbody tr th {\n",
       "        vertical-align: top;\n",
       "    }\n",
       "\n",
       "    .dataframe thead th {\n",
       "        text-align: right;\n",
       "    }\n",
       "</style>\n",
       "<table border=\"1\" class=\"dataframe\">\n",
       "  <thead>\n",
       "    <tr style=\"text-align: right;\">\n",
       "      <th></th>\n",
       "      <th>updt_date</th>\n",
       "      <th>songs_id</th>\n",
       "      <th>tags_id</th>\n",
       "      <th>num_songs</th>\n",
       "      <th>num_tags</th>\n",
       "    </tr>\n",
       "    <tr>\n",
       "      <th>nid</th>\n",
       "      <th></th>\n",
       "      <th></th>\n",
       "      <th></th>\n",
       "      <th></th>\n",
       "      <th></th>\n",
       "    </tr>\n",
       "  </thead>\n",
       "  <tbody>\n",
       "    <tr>\n",
       "      <th>0</th>\n",
       "      <td>2013-12-19 18:36:19.000</td>\n",
       "      <td>[0, 1, 2, 3, 4, 5, 6, 7, 8, 9, 10, 11, 12, 13,...</td>\n",
       "      <td>[0]</td>\n",
       "      <td>19</td>\n",
       "      <td>1</td>\n",
       "    </tr>\n",
       "    <tr>\n",
       "      <th>1</th>\n",
       "      <td>2014-12-02 16:19:42.000</td>\n",
       "      <td>[19, 20, 21, 22, 23, 24, 25, 26, 27, 28, 29, 3...</td>\n",
       "      <td>[1, 2]</td>\n",
       "      <td>42</td>\n",
       "      <td>2</td>\n",
       "    </tr>\n",
       "    <tr>\n",
       "      <th>2</th>\n",
       "      <td>2017-08-28 07:09:34.000</td>\n",
       "      <td>[61, 62, 63, 64, 65, 66, 67, 68, 69, 70, 71, 7...</td>\n",
       "      <td>[3, 4]</td>\n",
       "      <td>28</td>\n",
       "      <td>2</td>\n",
       "    </tr>\n",
       "    <tr>\n",
       "      <th>3</th>\n",
       "      <td>2019-12-05 15:15:18.000</td>\n",
       "      <td>[89, 90, 91, 92, 93, 94, 95, 96, 97, 98, 99, 1...</td>\n",
       "      <td>[5, 6, 7, 8, 9, 10, 11, 12, 13, 14]</td>\n",
       "      <td>38</td>\n",
       "      <td>10</td>\n",
       "    </tr>\n",
       "    <tr>\n",
       "      <th>4</th>\n",
       "      <td>2011-10-25 13:54:56.000</td>\n",
       "      <td>[127, 128, 129, 130, 131, 132, 133, 134, 135, ...</td>\n",
       "      <td>[15]</td>\n",
       "      <td>53</td>\n",
       "      <td>1</td>\n",
       "    </tr>\n",
       "  </tbody>\n",
       "</table>\n",
       "</div>\n",
       "      <button class=\"colab-df-convert\" onclick=\"convertToInteractive('df-bd8ca494-359a-41d0-bea5-4aaab79df64e')\"\n",
       "              title=\"Convert this dataframe to an interactive table.\"\n",
       "              style=\"display:none;\">\n",
       "        \n",
       "  <svg xmlns=\"http://www.w3.org/2000/svg\" height=\"24px\"viewBox=\"0 0 24 24\"\n",
       "       width=\"24px\">\n",
       "    <path d=\"M0 0h24v24H0V0z\" fill=\"none\"/>\n",
       "    <path d=\"M18.56 5.44l.94 2.06.94-2.06 2.06-.94-2.06-.94-.94-2.06-.94 2.06-2.06.94zm-11 1L8.5 8.5l.94-2.06 2.06-.94-2.06-.94L8.5 2.5l-.94 2.06-2.06.94zm10 10l.94 2.06.94-2.06 2.06-.94-2.06-.94-.94-2.06-.94 2.06-2.06.94z\"/><path d=\"M17.41 7.96l-1.37-1.37c-.4-.4-.92-.59-1.43-.59-.52 0-1.04.2-1.43.59L10.3 9.45l-7.72 7.72c-.78.78-.78 2.05 0 2.83L4 21.41c.39.39.9.59 1.41.59.51 0 1.02-.2 1.41-.59l7.78-7.78 2.81-2.81c.8-.78.8-2.07 0-2.86zM5.41 20L4 18.59l7.72-7.72 1.47 1.35L5.41 20z\"/>\n",
       "  </svg>\n",
       "      </button>\n",
       "      \n",
       "  <style>\n",
       "    .colab-df-container {\n",
       "      display:flex;\n",
       "      flex-wrap:wrap;\n",
       "      gap: 12px;\n",
       "    }\n",
       "\n",
       "    .colab-df-convert {\n",
       "      background-color: #E8F0FE;\n",
       "      border: none;\n",
       "      border-radius: 50%;\n",
       "      cursor: pointer;\n",
       "      display: none;\n",
       "      fill: #1967D2;\n",
       "      height: 32px;\n",
       "      padding: 0 0 0 0;\n",
       "      width: 32px;\n",
       "    }\n",
       "\n",
       "    .colab-df-convert:hover {\n",
       "      background-color: #E2EBFA;\n",
       "      box-shadow: 0px 1px 2px rgba(60, 64, 67, 0.3), 0px 1px 3px 1px rgba(60, 64, 67, 0.15);\n",
       "      fill: #174EA6;\n",
       "    }\n",
       "\n",
       "    [theme=dark] .colab-df-convert {\n",
       "      background-color: #3B4455;\n",
       "      fill: #D2E3FC;\n",
       "    }\n",
       "\n",
       "    [theme=dark] .colab-df-convert:hover {\n",
       "      background-color: #434B5C;\n",
       "      box-shadow: 0px 1px 3px 1px rgba(0, 0, 0, 0.15);\n",
       "      filter: drop-shadow(0px 1px 2px rgba(0, 0, 0, 0.3));\n",
       "      fill: #FFFFFF;\n",
       "    }\n",
       "  </style>\n",
       "\n",
       "      <script>\n",
       "        const buttonEl =\n",
       "          document.querySelector('#df-bd8ca494-359a-41d0-bea5-4aaab79df64e button.colab-df-convert');\n",
       "        buttonEl.style.display =\n",
       "          google.colab.kernel.accessAllowed ? 'block' : 'none';\n",
       "\n",
       "        async function convertToInteractive(key) {\n",
       "          const element = document.querySelector('#df-bd8ca494-359a-41d0-bea5-4aaab79df64e');\n",
       "          const dataTable =\n",
       "            await google.colab.kernel.invokeFunction('convertToInteractive',\n",
       "                                                     [key], {});\n",
       "          if (!dataTable) return;\n",
       "\n",
       "          const docLinkHtml = 'Like what you see? Visit the ' +\n",
       "            '<a target=\"_blank\" href=https://colab.research.google.com/notebooks/data_table.ipynb>data table notebook</a>'\n",
       "            + ' to learn more about interactive tables.';\n",
       "          element.innerHTML = '';\n",
       "          dataTable['output_type'] = 'display_data';\n",
       "          await google.colab.output.renderOutput(dataTable, element);\n",
       "          const docLink = document.createElement('div');\n",
       "          docLink.innerHTML = docLinkHtml;\n",
       "          element.appendChild(docLink);\n",
       "        }\n",
       "      </script>\n",
       "    </div>\n",
       "  </div>\n",
       "  "
      ],
      "text/plain": [
       "                   updt_date  ... num_tags\n",
       "nid                           ...         \n",
       "0    2013-12-19 18:36:19.000  ...        1\n",
       "1    2014-12-02 16:19:42.000  ...        2\n",
       "2    2017-08-28 07:09:34.000  ...        2\n",
       "3    2019-12-05 15:15:18.000  ...       10\n",
       "4    2011-10-25 13:54:56.000  ...        1\n",
       "\n",
       "[5 rows x 5 columns]"
      ]
     },
     "execution_count": 11,
     "metadata": {},
     "output_type": "execute_result"
    }
   ],
   "source": [
    "plylst_train = plylst_use.copy()\n",
    "plylst_train.head()"
   ]
  },
  {
   "cell_type": "code",
   "execution_count": 12,
   "metadata": {
    "colab": {
     "base_uri": "https://localhost:8080/",
     "height": 320
    },
    "executionInfo": {
     "elapsed": 4,
     "status": "ok",
     "timestamp": 1643012047009,
     "user": {
      "displayName": "유상준",
      "photoUrl": "https://lh3.googleusercontent.com/a-/AOh14GjwhV3OPaZeVbcnb0L540CX4dtB2wGRfCVw4E8=s64",
      "userId": "06620102043085366517"
     },
     "user_tz": -540
    },
    "id": "R_vTI6cropFy",
    "outputId": "c54b1fbb-3924-4589-975a-16fb9a04e519"
   },
   "outputs": [
    {
     "data": {
      "text/html": [
       "\n",
       "  <div id=\"df-8831ca02-9709-46b2-9308-43b469f2c97a\">\n",
       "    <div class=\"colab-df-container\">\n",
       "      <div>\n",
       "<style scoped>\n",
       "    .dataframe tbody tr th:only-of-type {\n",
       "        vertical-align: middle;\n",
       "    }\n",
       "\n",
       "    .dataframe tbody tr th {\n",
       "        vertical-align: top;\n",
       "    }\n",
       "\n",
       "    .dataframe thead th {\n",
       "        text-align: right;\n",
       "    }\n",
       "</style>\n",
       "<table border=\"1\" class=\"dataframe\">\n",
       "  <thead>\n",
       "    <tr style=\"text-align: right;\">\n",
       "      <th></th>\n",
       "      <th>tags</th>\n",
       "      <th>id</th>\n",
       "      <th>plylst_title</th>\n",
       "      <th>songs</th>\n",
       "      <th>like_cnt</th>\n",
       "      <th>updt_date</th>\n",
       "    </tr>\n",
       "  </thead>\n",
       "  <tbody>\n",
       "    <tr>\n",
       "      <th>115066</th>\n",
       "      <td>[록메탈, 밴드사운드, 록, 락메탈, 메탈, 락, extreme]</td>\n",
       "      <td>120325</td>\n",
       "      <td>METAL E'SM #2</td>\n",
       "      <td>[429629, 441511, 612106, 516359, 691768, 38714...</td>\n",
       "      <td>3</td>\n",
       "      <td>2020-04-17 04:31:11.000</td>\n",
       "    </tr>\n",
       "    <tr>\n",
       "      <th>115067</th>\n",
       "      <td>[일렉]</td>\n",
       "      <td>106976</td>\n",
       "      <td>빠른 리스너를 위한 따끈따끈한 최신 인기 EDM 모음!</td>\n",
       "      <td>[321330, 216057, 534472, 240306, 331098, 23288...</td>\n",
       "      <td>13</td>\n",
       "      <td>2015-12-24 17:23:19.000</td>\n",
       "    </tr>\n",
       "    <tr>\n",
       "      <th>115068</th>\n",
       "      <td>[담시, 가족, 눈물, 그리움, 주인공, 나의_이야기, 사랑, 친구]</td>\n",
       "      <td>11343</td>\n",
       "      <td>#1. 눈물이 앞을 가리는 나의_이야기</td>\n",
       "      <td>[50512, 249024, 250608, 371171, 229942, 694943...</td>\n",
       "      <td>4</td>\n",
       "      <td>2019-08-16 20:59:22.000</td>\n",
       "    </tr>\n",
       "    <tr>\n",
       "      <th>115069</th>\n",
       "      <td>[잔잔한, 버스, 퇴근버스, Pop, 풍경, 퇴근길]</td>\n",
       "      <td>131982</td>\n",
       "      <td>퇴근 버스에서 편히 들으면서 하루를 마무리하기에 좋은 POP</td>\n",
       "      <td>[533534, 608114, 343608, 417140, 609009, 30217...</td>\n",
       "      <td>4</td>\n",
       "      <td>2019-10-25 23:40:42.000</td>\n",
       "    </tr>\n",
       "    <tr>\n",
       "      <th>115070</th>\n",
       "      <td>[노래추천, 팝송추천, 팝송, 팝송모음]</td>\n",
       "      <td>100389</td>\n",
       "      <td>FAVORITE POPSONG!!!</td>\n",
       "      <td>[26008, 456354, 324105, 89871, 135272, 143548,...</td>\n",
       "      <td>17</td>\n",
       "      <td>2020-04-18 20:35:06.000</td>\n",
       "    </tr>\n",
       "  </tbody>\n",
       "</table>\n",
       "</div>\n",
       "      <button class=\"colab-df-convert\" onclick=\"convertToInteractive('df-8831ca02-9709-46b2-9308-43b469f2c97a')\"\n",
       "              title=\"Convert this dataframe to an interactive table.\"\n",
       "              style=\"display:none;\">\n",
       "        \n",
       "  <svg xmlns=\"http://www.w3.org/2000/svg\" height=\"24px\"viewBox=\"0 0 24 24\"\n",
       "       width=\"24px\">\n",
       "    <path d=\"M0 0h24v24H0V0z\" fill=\"none\"/>\n",
       "    <path d=\"M18.56 5.44l.94 2.06.94-2.06 2.06-.94-2.06-.94-.94-2.06-.94 2.06-2.06.94zm-11 1L8.5 8.5l.94-2.06 2.06-.94-2.06-.94L8.5 2.5l-.94 2.06-2.06.94zm10 10l.94 2.06.94-2.06 2.06-.94-2.06-.94-.94-2.06-.94 2.06-2.06.94z\"/><path d=\"M17.41 7.96l-1.37-1.37c-.4-.4-.92-.59-1.43-.59-.52 0-1.04.2-1.43.59L10.3 9.45l-7.72 7.72c-.78.78-.78 2.05 0 2.83L4 21.41c.39.39.9.59 1.41.59.51 0 1.02-.2 1.41-.59l7.78-7.78 2.81-2.81c.8-.78.8-2.07 0-2.86zM5.41 20L4 18.59l7.72-7.72 1.47 1.35L5.41 20z\"/>\n",
       "  </svg>\n",
       "      </button>\n",
       "      \n",
       "  <style>\n",
       "    .colab-df-container {\n",
       "      display:flex;\n",
       "      flex-wrap:wrap;\n",
       "      gap: 12px;\n",
       "    }\n",
       "\n",
       "    .colab-df-convert {\n",
       "      background-color: #E8F0FE;\n",
       "      border: none;\n",
       "      border-radius: 50%;\n",
       "      cursor: pointer;\n",
       "      display: none;\n",
       "      fill: #1967D2;\n",
       "      height: 32px;\n",
       "      padding: 0 0 0 0;\n",
       "      width: 32px;\n",
       "    }\n",
       "\n",
       "    .colab-df-convert:hover {\n",
       "      background-color: #E2EBFA;\n",
       "      box-shadow: 0px 1px 2px rgba(60, 64, 67, 0.3), 0px 1px 3px 1px rgba(60, 64, 67, 0.15);\n",
       "      fill: #174EA6;\n",
       "    }\n",
       "\n",
       "    [theme=dark] .colab-df-convert {\n",
       "      background-color: #3B4455;\n",
       "      fill: #D2E3FC;\n",
       "    }\n",
       "\n",
       "    [theme=dark] .colab-df-convert:hover {\n",
       "      background-color: #434B5C;\n",
       "      box-shadow: 0px 1px 3px 1px rgba(0, 0, 0, 0.15);\n",
       "      filter: drop-shadow(0px 1px 2px rgba(0, 0, 0, 0.3));\n",
       "      fill: #FFFFFF;\n",
       "    }\n",
       "  </style>\n",
       "\n",
       "      <script>\n",
       "        const buttonEl =\n",
       "          document.querySelector('#df-8831ca02-9709-46b2-9308-43b469f2c97a button.colab-df-convert');\n",
       "        buttonEl.style.display =\n",
       "          google.colab.kernel.accessAllowed ? 'block' : 'none';\n",
       "\n",
       "        async function convertToInteractive(key) {\n",
       "          const element = document.querySelector('#df-8831ca02-9709-46b2-9308-43b469f2c97a');\n",
       "          const dataTable =\n",
       "            await google.colab.kernel.invokeFunction('convertToInteractive',\n",
       "                                                     [key], {});\n",
       "          if (!dataTable) return;\n",
       "\n",
       "          const docLinkHtml = 'Like what you see? Visit the ' +\n",
       "            '<a target=\"_blank\" href=https://colab.research.google.com/notebooks/data_table.ipynb>data table notebook</a>'\n",
       "            + ' to learn more about interactive tables.';\n",
       "          element.innerHTML = '';\n",
       "          dataTable['output_type'] = 'display_data';\n",
       "          await google.colab.output.renderOutput(dataTable, element);\n",
       "          const docLink = document.createElement('div');\n",
       "          docLink.innerHTML = docLinkHtml;\n",
       "          element.appendChild(docLink);\n",
       "        }\n",
       "      </script>\n",
       "    </div>\n",
       "  </div>\n",
       "  "
      ],
      "text/plain": [
       "                                          tags  ...                updt_date\n",
       "115066    [록메탈, 밴드사운드, 록, 락메탈, 메탈, 락, extreme]  ...  2020-04-17 04:31:11.000\n",
       "115067                                    [일렉]  ...  2015-12-24 17:23:19.000\n",
       "115068  [담시, 가족, 눈물, 그리움, 주인공, 나의_이야기, 사랑, 친구]  ...  2019-08-16 20:59:22.000\n",
       "115069           [잔잔한, 버스, 퇴근버스, Pop, 풍경, 퇴근길]  ...  2019-10-25 23:40:42.000\n",
       "115070                  [노래추천, 팝송추천, 팝송, 팝송모음]  ...  2020-04-18 20:35:06.000\n",
       "\n",
       "[5 rows x 6 columns]"
      ]
     },
     "execution_count": 12,
     "metadata": {},
     "output_type": "execute_result"
    }
   ],
   "source": [
    "train.tail()"
   ]
  },
  {
   "cell_type": "code",
   "execution_count": 13,
   "metadata": {
    "colab": {
     "base_uri": "https://localhost:8080/",
     "height": 455
    },
    "executionInfo": {
     "elapsed": 3,
     "status": "ok",
     "timestamp": 1643012047009,
     "user": {
      "displayName": "유상준",
      "photoUrl": "https://lh3.googleusercontent.com/a-/AOh14GjwhV3OPaZeVbcnb0L540CX4dtB2wGRfCVw4E8=s64",
      "userId": "06620102043085366517"
     },
     "user_tz": -540
    },
    "id": "GlRnP60EoKSK",
    "outputId": "8ce95add-ec59-4d51-a48a-528a4c4d2ec4"
   },
   "outputs": [
    {
     "data": {
      "text/html": [
       "\n",
       "  <div id=\"df-4454419f-ef96-41f6-98b6-0e631063899e\">\n",
       "    <div class=\"colab-df-container\">\n",
       "      <div>\n",
       "<style scoped>\n",
       "    .dataframe tbody tr th:only-of-type {\n",
       "        vertical-align: middle;\n",
       "    }\n",
       "\n",
       "    .dataframe tbody tr th {\n",
       "        vertical-align: top;\n",
       "    }\n",
       "\n",
       "    .dataframe thead th {\n",
       "        text-align: right;\n",
       "    }\n",
       "</style>\n",
       "<table border=\"1\" class=\"dataframe\">\n",
       "  <thead>\n",
       "    <tr style=\"text-align: right;\">\n",
       "      <th></th>\n",
       "      <th>updt_date</th>\n",
       "      <th>songs_id</th>\n",
       "      <th>tags_id</th>\n",
       "      <th>num_songs</th>\n",
       "      <th>num_tags</th>\n",
       "    </tr>\n",
       "    <tr>\n",
       "      <th>nid</th>\n",
       "      <th></th>\n",
       "      <th></th>\n",
       "      <th></th>\n",
       "      <th></th>\n",
       "      <th></th>\n",
       "    </tr>\n",
       "  </thead>\n",
       "  <tbody>\n",
       "    <tr>\n",
       "      <th>115072</th>\n",
       "      <td>2014-07-16 15:24:24.000</td>\n",
       "      <td>[]</td>\n",
       "      <td>[]</td>\n",
       "      <td>0</td>\n",
       "      <td>0</td>\n",
       "    </tr>\n",
       "    <tr>\n",
       "      <th>115079</th>\n",
       "      <td>2017-02-09 17:33:45.000</td>\n",
       "      <td>[]</td>\n",
       "      <td>[133]</td>\n",
       "      <td>0</td>\n",
       "      <td>1</td>\n",
       "    </tr>\n",
       "    <tr>\n",
       "      <th>115080</th>\n",
       "      <td>2015-06-22 09:11:02.000</td>\n",
       "      <td>[]</td>\n",
       "      <td>[]</td>\n",
       "      <td>0</td>\n",
       "      <td>0</td>\n",
       "    </tr>\n",
       "    <tr>\n",
       "      <th>115088</th>\n",
       "      <td>2016-03-19 23:53:20.000</td>\n",
       "      <td>[]</td>\n",
       "      <td>[7054]</td>\n",
       "      <td>0</td>\n",
       "      <td>1</td>\n",
       "    </tr>\n",
       "    <tr>\n",
       "      <th>115091</th>\n",
       "      <td>2019-12-15 19:15:21.000</td>\n",
       "      <td>[]</td>\n",
       "      <td>[493, 616, 29160]</td>\n",
       "      <td>0</td>\n",
       "      <td>3</td>\n",
       "    </tr>\n",
       "    <tr>\n",
       "      <th>...</th>\n",
       "      <td>...</td>\n",
       "      <td>...</td>\n",
       "      <td>...</td>\n",
       "      <td>...</td>\n",
       "      <td>...</td>\n",
       "    </tr>\n",
       "    <tr>\n",
       "      <th>138062</th>\n",
       "      <td>2019-06-17 14:22:48.000</td>\n",
       "      <td>[]</td>\n",
       "      <td>[]</td>\n",
       "      <td>0</td>\n",
       "      <td>0</td>\n",
       "    </tr>\n",
       "    <tr>\n",
       "      <th>138063</th>\n",
       "      <td>2015-05-08 00:09:01.000</td>\n",
       "      <td>[]</td>\n",
       "      <td>[30]</td>\n",
       "      <td>0</td>\n",
       "      <td>1</td>\n",
       "    </tr>\n",
       "    <tr>\n",
       "      <th>138067</th>\n",
       "      <td>2016-04-27 15:32:55.000</td>\n",
       "      <td>[]</td>\n",
       "      <td>[]</td>\n",
       "      <td>0</td>\n",
       "      <td>0</td>\n",
       "    </tr>\n",
       "    <tr>\n",
       "      <th>138073</th>\n",
       "      <td>2020-04-18 22:02:07.000</td>\n",
       "      <td>[]</td>\n",
       "      <td>[2203, 173, 5794, 685]</td>\n",
       "      <td>0</td>\n",
       "      <td>4</td>\n",
       "    </tr>\n",
       "    <tr>\n",
       "      <th>138079</th>\n",
       "      <td>2020-02-07 14:42:25.000</td>\n",
       "      <td>[]</td>\n",
       "      <td>[1620, 122, 30, 21, 2348]</td>\n",
       "      <td>0</td>\n",
       "      <td>5</td>\n",
       "    </tr>\n",
       "  </tbody>\n",
       "</table>\n",
       "<p>4379 rows × 5 columns</p>\n",
       "</div>\n",
       "      <button class=\"colab-df-convert\" onclick=\"convertToInteractive('df-4454419f-ef96-41f6-98b6-0e631063899e')\"\n",
       "              title=\"Convert this dataframe to an interactive table.\"\n",
       "              style=\"display:none;\">\n",
       "        \n",
       "  <svg xmlns=\"http://www.w3.org/2000/svg\" height=\"24px\"viewBox=\"0 0 24 24\"\n",
       "       width=\"24px\">\n",
       "    <path d=\"M0 0h24v24H0V0z\" fill=\"none\"/>\n",
       "    <path d=\"M18.56 5.44l.94 2.06.94-2.06 2.06-.94-2.06-.94-.94-2.06-.94 2.06-2.06.94zm-11 1L8.5 8.5l.94-2.06 2.06-.94-2.06-.94L8.5 2.5l-.94 2.06-2.06.94zm10 10l.94 2.06.94-2.06 2.06-.94-2.06-.94-.94-2.06-.94 2.06-2.06.94z\"/><path d=\"M17.41 7.96l-1.37-1.37c-.4-.4-.92-.59-1.43-.59-.52 0-1.04.2-1.43.59L10.3 9.45l-7.72 7.72c-.78.78-.78 2.05 0 2.83L4 21.41c.39.39.9.59 1.41.59.51 0 1.02-.2 1.41-.59l7.78-7.78 2.81-2.81c.8-.78.8-2.07 0-2.86zM5.41 20L4 18.59l7.72-7.72 1.47 1.35L5.41 20z\"/>\n",
       "  </svg>\n",
       "      </button>\n",
       "      \n",
       "  <style>\n",
       "    .colab-df-container {\n",
       "      display:flex;\n",
       "      flex-wrap:wrap;\n",
       "      gap: 12px;\n",
       "    }\n",
       "\n",
       "    .colab-df-convert {\n",
       "      background-color: #E8F0FE;\n",
       "      border: none;\n",
       "      border-radius: 50%;\n",
       "      cursor: pointer;\n",
       "      display: none;\n",
       "      fill: #1967D2;\n",
       "      height: 32px;\n",
       "      padding: 0 0 0 0;\n",
       "      width: 32px;\n",
       "    }\n",
       "\n",
       "    .colab-df-convert:hover {\n",
       "      background-color: #E2EBFA;\n",
       "      box-shadow: 0px 1px 2px rgba(60, 64, 67, 0.3), 0px 1px 3px 1px rgba(60, 64, 67, 0.15);\n",
       "      fill: #174EA6;\n",
       "    }\n",
       "\n",
       "    [theme=dark] .colab-df-convert {\n",
       "      background-color: #3B4455;\n",
       "      fill: #D2E3FC;\n",
       "    }\n",
       "\n",
       "    [theme=dark] .colab-df-convert:hover {\n",
       "      background-color: #434B5C;\n",
       "      box-shadow: 0px 1px 3px 1px rgba(0, 0, 0, 0.15);\n",
       "      filter: drop-shadow(0px 1px 2px rgba(0, 0, 0, 0.3));\n",
       "      fill: #FFFFFF;\n",
       "    }\n",
       "  </style>\n",
       "\n",
       "      <script>\n",
       "        const buttonEl =\n",
       "          document.querySelector('#df-4454419f-ef96-41f6-98b6-0e631063899e button.colab-df-convert');\n",
       "        buttonEl.style.display =\n",
       "          google.colab.kernel.accessAllowed ? 'block' : 'none';\n",
       "\n",
       "        async function convertToInteractive(key) {\n",
       "          const element = document.querySelector('#df-4454419f-ef96-41f6-98b6-0e631063899e');\n",
       "          const dataTable =\n",
       "            await google.colab.kernel.invokeFunction('convertToInteractive',\n",
       "                                                     [key], {});\n",
       "          if (!dataTable) return;\n",
       "\n",
       "          const docLinkHtml = 'Like what you see? Visit the ' +\n",
       "            '<a target=\"_blank\" href=https://colab.research.google.com/notebooks/data_table.ipynb>data table notebook</a>'\n",
       "            + ' to learn more about interactive tables.';\n",
       "          element.innerHTML = '';\n",
       "          dataTable['output_type'] = 'display_data';\n",
       "          await google.colab.output.renderOutput(dataTable, element);\n",
       "          const docLink = document.createElement('div');\n",
       "          docLink.innerHTML = docLinkHtml;\n",
       "          element.appendChild(docLink);\n",
       "        }\n",
       "      </script>\n",
       "    </div>\n",
       "  </div>\n",
       "  "
      ],
      "text/plain": [
       "                      updt_date songs_id  ... num_songs  num_tags\n",
       "nid                                       ...                    \n",
       "115072  2014-07-16 15:24:24.000       []  ...         0         0\n",
       "115079  2017-02-09 17:33:45.000       []  ...         0         1\n",
       "115080  2015-06-22 09:11:02.000       []  ...         0         0\n",
       "115088  2016-03-19 23:53:20.000       []  ...         0         1\n",
       "115091  2019-12-15 19:15:21.000       []  ...         0         3\n",
       "...                         ...      ...  ...       ...       ...\n",
       "138062  2019-06-17 14:22:48.000       []  ...         0         0\n",
       "138063  2015-05-08 00:09:01.000       []  ...         0         1\n",
       "138067  2016-04-27 15:32:55.000       []  ...         0         0\n",
       "138073  2020-04-18 22:02:07.000       []  ...         0         4\n",
       "138079  2020-02-07 14:42:25.000       []  ...         0         5\n",
       "\n",
       "[4379 rows x 5 columns]"
      ]
     },
     "execution_count": 13,
     "metadata": {},
     "output_type": "execute_result"
    }
   ],
   "source": [
    "plylst_train[plylst_train['num_songs'] == 0]"
   ]
  },
  {
   "cell_type": "markdown",
   "metadata": {
    "id": "4-6iehcsJ_Ye"
   },
   "source": [
    "## Make Sparse Matrix with torch.sparse_coo_tenscor"
   ]
  },
  {
   "cell_type": "markdown",
   "metadata": {
    "id": "MtsmQyJyjMFu"
   },
   "source": [
    "row가 playlist(nid)이고 column이 item(sid or tid)인 sparse matrix A를 만듭니다."
   ]
  },
  {
   "cell_type": "code",
   "execution_count": 14,
   "metadata": {
    "executionInfo": {
     "elapsed": 3625,
     "status": "ok",
     "timestamp": 1643012050631,
     "user": {
      "displayName": "유상준",
      "photoUrl": "https://lh3.googleusercontent.com/a-/AOh14GjwhV3OPaZeVbcnb0L540CX4dtB2wGRfCVw4E8=s64",
      "userId": "06620102043085366517"
     },
     "user_tz": -540
    },
    "id": "qEz6H9Rwztd_"
   },
   "outputs": [],
   "source": [
    "import torch\n",
    "import torch.nn as nn\n",
    "import torch.nn.functional as F\n",
    "import torch.optim as optim\n",
    "from torchvision import datasets, transforms"
   ]
  },
  {
   "cell_type": "code",
   "execution_count": 15,
   "metadata": {
    "colab": {
     "base_uri": "https://localhost:8080/"
    },
    "executionInfo": {
     "elapsed": 24,
     "status": "ok",
     "timestamp": 1643012050631,
     "user": {
      "displayName": "유상준",
      "photoUrl": "https://lh3.googleusercontent.com/a-/AOh14GjwhV3OPaZeVbcnb0L540CX4dtB2wGRfCVw4E8=s64",
      "userId": "06620102043085366517"
     },
     "user_tz": -540
    },
    "id": "YC97Qe0WEF-i",
    "outputId": "730f3dfe-6b69-4e50-8d70-81a3753cf7a5"
   },
   "outputs": [
    {
     "name": "stdout",
     "output_type": "stream",
     "text": [
      "Current cuda device is cpu\n"
     ]
    }
   ],
   "source": [
    "is_cuda = torch.cuda.is_available()\n",
    "device = torch.device('cuda' if is_cuda else 'cpu')\n",
    "\n",
    "print('Current cuda device is', device)"
   ]
  },
  {
   "cell_type": "code",
   "execution_count": 16,
   "metadata": {
    "colab": {
     "base_uri": "https://localhost:8080/"
    },
    "executionInfo": {
     "elapsed": 3570,
     "status": "ok",
     "timestamp": 1643012054181,
     "user": {
      "displayName": "유상준",
      "photoUrl": "https://lh3.googleusercontent.com/a-/AOh14GjwhV3OPaZeVbcnb0L540CX4dtB2wGRfCVw4E8=s64",
      "userId": "06620102043085366517"
     },
     "user_tz": -540
    },
    "id": "zvFDg0m4zakJ",
    "outputId": "c1d00f91-0937-4a5a-9020-e9b788592607"
   },
   "outputs": [
    {
     "name": "stderr",
     "output_type": "stream",
     "text": [
      "/usr/local/lib/python3.7/dist-packages/ipykernel_launcher.py:4: UserWarning: Creating a tensor from a list of numpy.ndarrays is extremely slow. Please consider converting the list to a single numpy.ndarray with numpy.array() before converting to a tensor. (Triggered internally at  ../torch/csrc/utils/tensor_new.cpp:201.)\n",
      "  after removing the cwd from sys.path.\n"
     ]
    }
   ],
   "source": [
    "row = np.repeat(range(n_plylst), plylst_train['num_songs'])\n",
    "col = [song for songs in plylst_train['songs_id'] for song in songs]\n",
    "dat = np.repeat(1, plylst_train['num_songs'].sum())\n",
    "train_songs_A = torch.sparse_coo_tensor([np.array(row),np.array(col)], dat, (n_plylst, n_songs))\n",
    "\n",
    "row = np.repeat(range(n_plylst), plylst_train['num_tags'])\n",
    "col = [tag for tags in plylst_train['tags_id'] for tag in tags]\n",
    "dat = np.repeat(1, plylst_train['num_tags'].sum())\n",
    "train_tags_A = torch.sparse_coo_tensor([np.array(row),np.array(col)], dat, (n_plylst, n_tags))"
   ]
  },
  {
   "cell_type": "code",
   "execution_count": 17,
   "metadata": {
    "executionInfo": {
     "elapsed": 400,
     "status": "ok",
     "timestamp": 1643012054560,
     "user": {
      "displayName": "유상준",
      "photoUrl": "https://lh3.googleusercontent.com/a-/AOh14GjwhV3OPaZeVbcnb0L540CX4dtB2wGRfCVw4E8=s64",
      "userId": "06620102043085366517"
     },
     "user_tz": -540
    },
    "id": "nCLyaFpWFXGK"
   },
   "outputs": [],
   "source": [
    "train_songs_A = train_songs_A.coalesce()"
   ]
  },
  {
   "cell_type": "code",
   "execution_count": 18,
   "metadata": {
    "executionInfo": {
     "elapsed": 4,
     "status": "ok",
     "timestamp": 1643012054560,
     "user": {
      "displayName": "유상준",
      "photoUrl": "https://lh3.googleusercontent.com/a-/AOh14GjwhV3OPaZeVbcnb0L540CX4dtB2wGRfCVw4E8=s64",
      "userId": "06620102043085366517"
     },
     "user_tz": -540
    },
    "id": "UjVYdwQKVEC_"
   },
   "outputs": [],
   "source": [
    "# user_emb = nn.Embedding(138086, 100).cuda()\n",
    "# item_emb = nn.Embedding(638336, 100).cuda()\n",
    "# users = torch.LongTensor(train_songs_A.indices()[0]).cuda()\n",
    "# items = torch.LongTensor(train_songs_A.indices()[1]).cuda()\n",
    "\n",
    "# U = user_emb(users)\n",
    "# V = item_emb(items)"
   ]
  },
  {
   "cell_type": "code",
   "execution_count": 19,
   "metadata": {
    "executionInfo": {
     "elapsed": 4,
     "status": "ok",
     "timestamp": 1643012054561,
     "user": {
      "displayName": "유상준",
      "photoUrl": "https://lh3.googleusercontent.com/a-/AOh14GjwhV3OPaZeVbcnb0L540CX4dtB2wGRfCVw4E8=s64",
      "userId": "06620102043085366517"
     },
     "user_tz": -540
    },
    "id": "pTvo4sVC7kxO"
   },
   "outputs": [],
   "source": [
    "# U*V"
   ]
  },
  {
   "cell_type": "code",
   "execution_count": 20,
   "metadata": {
    "executionInfo": {
     "elapsed": 4,
     "status": "ok",
     "timestamp": 1643012054561,
     "user": {
      "displayName": "유상준",
      "photoUrl": "https://lh3.googleusercontent.com/a-/AOh14GjwhV3OPaZeVbcnb0L540CX4dtB2wGRfCVw4E8=s64",
      "userId": "06620102043085366517"
     },
     "user_tz": -540
    },
    "id": "2qNe8Z8exCj4"
   },
   "outputs": [],
   "source": [
    "# U.shape, V.shape"
   ]
  },
  {
   "cell_type": "markdown",
   "metadata": {
    "id": "_mABT6ux5GSm"
   },
   "source": [
    "### 데이터 샘플 생성 (train + val)"
   ]
  },
  {
   "cell_type": "markdown",
   "metadata": {
    "id": "SzhVXysiKhTG"
   },
   "source": [
    "- trian용 100,000개 생성, val용 30,000개 생성 "
   ]
  },
  {
   "cell_type": "code",
   "execution_count": 78,
   "metadata": {
    "executionInfo": {
     "elapsed": 1044,
     "status": "ok",
     "timestamp": 1642991332408,
     "user": {
      "displayName": "유상준",
      "photoUrl": "https://lh3.googleusercontent.com/a-/AOh14GjwhV3OPaZeVbcnb0L540CX4dtB2wGRfCVw4E8=s64",
      "userId": "06620102043085366517"
     },
     "user_tz": -540
    },
    "id": "4E5PBIsY6nqE"
   },
   "outputs": [],
   "source": [
    "import random\n",
    "\n",
    "# 강제로 label이 1인 데이터 추가 (train + val 용)\n",
    "rand_idx = random.sample(range(5707070), 60000)\n",
    "\n",
    "random_idx_1 = []\n",
    "for idx in rand_idx:\n",
    "    random_idx_1.append((train_songs_A.indices()[0][idx].item(), train_songs_A.indices()[1][idx].item()))\n",
    "\n",
    "# 나머지 추가\n",
    "random_idx_0 = []\n",
    "for _ in range(60000):\n",
    "    random_idx_0.append((random.randrange(138086), random.randrange(638336)))"
   ]
  },
  {
   "cell_type": "code",
   "execution_count": 80,
   "metadata": {
    "colab": {
     "base_uri": "https://localhost:8080/"
    },
    "executionInfo": {
     "elapsed": 411,
     "status": "ok",
     "timestamp": 1642991344356,
     "user": {
      "displayName": "유상준",
      "photoUrl": "https://lh3.googleusercontent.com/a-/AOh14GjwhV3OPaZeVbcnb0L540CX4dtB2wGRfCVw4E8=s64",
      "userId": "06620102043085366517"
     },
     "user_tz": -540
    },
    "id": "jOlXV-g_IUTs",
    "outputId": "5d7f830b-1c79-40d1-94dc-5c96707d0fed"
   },
   "outputs": [
    {
     "data": {
      "text/plain": [
       "(60000, 60000)"
      ]
     },
     "execution_count": 80,
     "metadata": {},
     "output_type": "execute_result"
    }
   ],
   "source": [
    "len(random_idx_1), len(random_idx_0)"
   ]
  },
  {
   "cell_type": "code",
   "execution_count": 81,
   "metadata": {
    "colab": {
     "base_uri": "https://localhost:8080/"
    },
    "executionInfo": {
     "elapsed": 2362701,
     "status": "ok",
     "timestamp": 1642993735800,
     "user": {
      "displayName": "유상준",
      "photoUrl": "https://lh3.googleusercontent.com/a-/AOh14GjwhV3OPaZeVbcnb0L540CX4dtB2wGRfCVw4E8=s64",
      "userId": "06620102043085366517"
     },
     "user_tz": -540
    },
    "id": "X7NGQur5dUnG",
    "outputId": "c79be79d-e17d-4378-bd03-666132f39228"
   },
   "outputs": [
    {
     "name": "stderr",
     "output_type": "stream",
     "text": [
      "100%|██████████| 50000/50000 [20:04<00:00, 41.53it/s]\n",
      "100%|██████████| 50000/50000 [19:18<00:00, 43.18it/s]\n"
     ]
    }
   ],
   "source": [
    "from tqdm import tqdm\n",
    "user_idx = []\n",
    "item_idx = []\n",
    "label = []\n",
    "# train_data에 label 1 넣기\n",
    "for x,y in tqdm(random_idx_1[:50000]):\n",
    "    user_idx.append(x)\n",
    "    item_idx.append(y)\n",
    "    label.append(train_songs_A[x][y].item())\n",
    "\n",
    "# train_data에 label 0 넣기\n",
    "for x,y in tqdm(random_idx_0[:50000]):\n",
    "    user_idx.append(x)\n",
    "    item_idx.append(y)\n",
    "    label.append(train_songs_A[x][y].item())\n",
    "\n",
    "train_data = pd.DataFrame({\n",
    "    'user' : user_idx,\n",
    "    'item' : item_idx,\n",
    "    'label' : label\n",
    "})"
   ]
  },
  {
   "cell_type": "code",
   "execution_count": 82,
   "metadata": {
    "colab": {
     "base_uri": "https://localhost:8080/"
    },
    "executionInfo": {
     "elapsed": 408,
     "status": "ok",
     "timestamp": 1642993886325,
     "user": {
      "displayName": "유상준",
      "photoUrl": "https://lh3.googleusercontent.com/a-/AOh14GjwhV3OPaZeVbcnb0L540CX4dtB2wGRfCVw4E8=s64",
      "userId": "06620102043085366517"
     },
     "user_tz": -540
    },
    "id": "iRnK1cWEIRf4",
    "outputId": "84c3c4c5-3517-4260-92b1-3303558f7170"
   },
   "outputs": [
    {
     "data": {
      "text/plain": [
       "(100000, 50004)"
      ]
     },
     "execution_count": 82,
     "metadata": {},
     "output_type": "execute_result"
    }
   ],
   "source": [
    "len(train_data), train_data.label.sum()"
   ]
  },
  {
   "cell_type": "markdown",
   "metadata": {
    "id": "3mnKWebW5Op2"
   },
   "source": [
    "- validation용 데이터 20000개 생성"
   ]
  },
  {
   "cell_type": "code",
   "execution_count": 83,
   "metadata": {
    "colab": {
     "base_uri": "https://localhost:8080/"
    },
    "executionInfo": {
     "elapsed": 468637,
     "status": "ok",
     "timestamp": 1642994362232,
     "user": {
      "displayName": "유상준",
      "photoUrl": "https://lh3.googleusercontent.com/a-/AOh14GjwhV3OPaZeVbcnb0L540CX4dtB2wGRfCVw4E8=s64",
      "userId": "06620102043085366517"
     },
     "user_tz": -540
    },
    "id": "E5_11VO45ee8",
    "outputId": "5b88e981-786b-4a4c-f1e5-535be4859acb"
   },
   "outputs": [
    {
     "name": "stderr",
     "output_type": "stream",
     "text": [
      "100%|██████████| 10000/10000 [03:57<00:00, 42.16it/s]\n",
      "100%|██████████| 10000/10000 [03:50<00:00, 43.29it/s]\n"
     ]
    }
   ],
   "source": [
    "from tqdm import tqdm\n",
    "user_idx = []\n",
    "item_idx = []\n",
    "label = []\n",
    "# val_data에 label 1 넣기 \n",
    "for x,y in tqdm(random_idx_1[50000:]):\n",
    "    user_idx.append(x)\n",
    "    item_idx.append(y)\n",
    "    label.append(train_songs_A[x][y].item())\n",
    "\n",
    "# val_data에 label 0 넣기\n",
    "for x,y in tqdm(random_idx_0[50000:]):\n",
    "    user_idx.append(x)\n",
    "    item_idx.append(y)\n",
    "    label.append(train_songs_A[x][y].item())\n",
    "\n",
    "val_data = pd.DataFrame({\n",
    "    'user' : user_idx,\n",
    "    'item' : item_idx,\n",
    "    'label' : label\n",
    "})"
   ]
  },
  {
   "cell_type": "code",
   "execution_count": 84,
   "metadata": {
    "executionInfo": {
     "elapsed": 4,
     "status": "ok",
     "timestamp": 1642994363405,
     "user": {
      "displayName": "유상준",
      "photoUrl": "https://lh3.googleusercontent.com/a-/AOh14GjwhV3OPaZeVbcnb0L540CX4dtB2wGRfCVw4E8=s64",
      "userId": "06620102043085366517"
     },
     "user_tz": -540
    },
    "id": "OHbUwH6keJ_L"
   },
   "outputs": [],
   "source": [
    "import sklearn\n",
    "train_data = sklearn.utils.shuffle(train_data)\n",
    "val_data = sklearn.utils.shuffle(val_data)"
   ]
  },
  {
   "cell_type": "code",
   "execution_count": 85,
   "metadata": {
    "executionInfo": {
     "elapsed": 532,
     "status": "ok",
     "timestamp": 1642994363935,
     "user": {
      "displayName": "유상준",
      "photoUrl": "https://lh3.googleusercontent.com/a-/AOh14GjwhV3OPaZeVbcnb0L540CX4dtB2wGRfCVw4E8=s64",
      "userId": "06620102043085366517"
     },
     "user_tz": -540
    },
    "id": "ZDSW8gSM_MlG"
   },
   "outputs": [],
   "source": [
    "train_data.to_csv('../data/train_data_sample_100k_5_5.csv')\n",
    "val_data.to_csv('../data/val_data_sample_20k_5_5.csv')"
   ]
  },
  {
   "cell_type": "code",
   "execution_count": null,
   "metadata": {
    "colab": {
     "base_uri": "https://localhost:8080/"
    },
    "executionInfo": {
     "elapsed": 311,
     "status": "ok",
     "timestamp": 1642580707757,
     "user": {
      "displayName": "유상준",
      "photoUrl": "https://lh3.googleusercontent.com/a-/AOh14GjwhV3OPaZeVbcnb0L540CX4dtB2wGRfCVw4E8=s64",
      "userId": "06620102043085366517"
     },
     "user_tz": -540
    },
    "id": "sKod_Qnp5WL2",
    "outputId": "9496b1ef-67e3-4839-920e-6c634fd43cdd"
   },
   "outputs": [
    {
     "data": {
      "text/plain": [
       "10000"
      ]
     },
     "execution_count": 25,
     "metadata": {},
     "output_type": "execute_result"
    }
   ],
   "source": [
    "import random\n",
    "\n",
    "# 강제로 label이 1인 데이터 추가\n",
    "rand_idx = random.sample(range(5707070), 5000)\n",
    "\n",
    "random_idx = []\n",
    "for idx in rand_idx:\n",
    "    random_idx.append((train_songs_A.indices()[0][idx].item(), train_songs_A.indices()[1][idx].item()))\n",
    "\n",
    "# 나머지 추가\n",
    "for _ in range(5000):\n",
    "    random_idx.append((random.randrange(138086), random.randrange(638336)))\n",
    "\n",
    "len(random_idx)"
   ]
  },
  {
   "cell_type": "code",
   "execution_count": null,
   "metadata": {
    "colab": {
     "base_uri": "https://localhost:8080/"
    },
    "executionInfo": {
     "elapsed": 203681,
     "status": "ok",
     "timestamp": 1642580916707,
     "user": {
      "displayName": "유상준",
      "photoUrl": "https://lh3.googleusercontent.com/a-/AOh14GjwhV3OPaZeVbcnb0L540CX4dtB2wGRfCVw4E8=s64",
      "userId": "06620102043085366517"
     },
     "user_tz": -540
    },
    "id": "-f0221Y05WL3",
    "outputId": "fbe0cb5c-20f7-425b-91ac-ef06457a84ea"
   },
   "outputs": [
    {
     "name": "stderr",
     "output_type": "stream",
     "text": [
      "100%|██████████| 10000/10000 [03:23<00:00, 49.17it/s]\n"
     ]
    }
   ],
   "source": [
    "from tqdm import tqdm\n",
    "user_idx = []\n",
    "item_idx = []\n",
    "label = []\n",
    "for x,y in tqdm(random_idx):\n",
    "    user_idx.append(x)\n",
    "    item_idx.append(y)\n",
    "    label.append(train_songs_A[x][y].item())\n",
    "\n",
    "val_data = pd.DataFrame({\n",
    "    'user' : user_idx,\n",
    "    'item' : item_idx,\n",
    "    'label' : label\n",
    "})"
   ]
  },
  {
   "cell_type": "markdown",
   "metadata": {
    "id": "I8Rso_qbKwvO"
   },
   "source": [
    "### Train, val data load"
   ]
  },
  {
   "cell_type": "code",
   "execution_count": 21,
   "metadata": {
    "executionInfo": {
     "elapsed": 261,
     "status": "ok",
     "timestamp": 1643012071982,
     "user": {
      "displayName": "유상준",
      "photoUrl": "https://lh3.googleusercontent.com/a-/AOh14GjwhV3OPaZeVbcnb0L540CX4dtB2wGRfCVw4E8=s64",
      "userId": "06620102043085366517"
     },
     "user_tz": -540
    },
    "id": "aGnSdWl8Kz8n"
   },
   "outputs": [],
   "source": [
    "data = pd.read_csv('../data/song/train_data_sample.csv', index_col = 0)\n",
    "val_data = pd.read_csv('../data/song/val_data_sample.csv', index_col = 0)"
   ]
  },
  {
   "cell_type": "code",
   "execution_count": 22,
   "metadata": {
    "colab": {
     "base_uri": "https://localhost:8080/"
    },
    "executionInfo": {
     "elapsed": 4,
     "status": "ok",
     "timestamp": 1643012073018,
     "user": {
      "displayName": "유상준",
      "photoUrl": "https://lh3.googleusercontent.com/a-/AOh14GjwhV3OPaZeVbcnb0L540CX4dtB2wGRfCVw4E8=s64",
      "userId": "06620102043085366517"
     },
     "user_tz": -540
    },
    "id": "Bx9NYlckkr5K",
    "outputId": "765f1100-2d94-477a-c68c-75b39fd31360"
   },
   "outputs": [
    {
     "data": {
      "text/plain": [
       "(10000, 2000)"
      ]
     },
     "execution_count": 22,
     "metadata": {},
     "output_type": "execute_result"
    }
   ],
   "source": [
    "len(data), data.label.sum()"
   ]
  },
  {
   "cell_type": "code",
   "execution_count": 23,
   "metadata": {
    "colab": {
     "base_uri": "https://localhost:8080/"
    },
    "executionInfo": {
     "elapsed": 231,
     "status": "ok",
     "timestamp": 1643012074228,
     "user": {
      "displayName": "유상준",
      "photoUrl": "https://lh3.googleusercontent.com/a-/AOh14GjwhV3OPaZeVbcnb0L540CX4dtB2wGRfCVw4E8=s64",
      "userId": "06620102043085366517"
     },
     "user_tz": -540
    },
    "id": "iDPs7ucBkyC5",
    "outputId": "1d8cd6c2-0b7c-45a6-9189-2fd7eab9056c"
   },
   "outputs": [
    {
     "data": {
      "text/plain": [
       "(10000, 2001)"
      ]
     },
     "execution_count": 23,
     "metadata": {},
     "output_type": "execute_result"
    }
   ],
   "source": [
    "len(val_data), val_data.label.sum()"
   ]
  },
  {
   "cell_type": "code",
   "execution_count": 24,
   "metadata": {
    "executionInfo": {
     "elapsed": 626,
     "status": "ok",
     "timestamp": 1643012076667,
     "user": {
      "displayName": "유상준",
      "photoUrl": "https://lh3.googleusercontent.com/a-/AOh14GjwhV3OPaZeVbcnb0L540CX4dtB2wGRfCVw4E8=s64",
      "userId": "06620102043085366517"
     },
     "user_tz": -540
    },
    "id": "KJI6YdySIN-M"
   },
   "outputs": [],
   "source": [
    "import sklearn\n",
    "data = sklearn.utils.shuffle(data)\n",
    "val_data = sklearn.utils.shuffle(val_data)"
   ]
  },
  {
   "cell_type": "markdown",
   "metadata": {
    "id": "aXwp2S9pAv6e"
   },
   "source": [
    "### label이 1인 값의 인덱스를 알려주는 sparse matrix를 이용하여 학습을 해보려고 했던 시도(미니배치)"
   ]
  },
  {
   "cell_type": "markdown",
   "metadata": {
    "id": "yRspTmmnEQSY"
   },
   "source": [
    "---"
   ]
  },
  {
   "cell_type": "code",
   "execution_count": 26,
   "metadata": {
    "colab": {
     "base_uri": "https://localhost:8080/"
    },
    "executionInfo": {
     "elapsed": 414,
     "status": "ok",
     "timestamp": 1643004245432,
     "user": {
      "displayName": "유상준",
      "photoUrl": "https://lh3.googleusercontent.com/a-/AOh14GjwhV3OPaZeVbcnb0L540CX4dtB2wGRfCVw4E8=s64",
      "userId": "06620102043085366517"
     },
     "user_tz": -540
    },
    "id": "KE11ailSrrbg",
    "outputId": "09a09380-662e-43c4-d135-d3ae68a1a411"
   },
   "outputs": [
    {
     "data": {
      "text/plain": [
       "<function Tensor.values>"
      ]
     },
     "execution_count": 26,
     "metadata": {},
     "output_type": "execute_result"
    }
   ],
   "source": [
    "train_songs_A.indices()\n",
    "train_songs_A.values"
   ]
  },
  {
   "cell_type": "markdown",
   "metadata": {
    "id": "rPHwPEdmyuw9"
   },
   "source": [
    "- 배치사이즈 설정후, 미니배치 만들기"
   ]
  },
  {
   "cell_type": "code",
   "execution_count": 103,
   "metadata": {
    "executionInfo": {
     "elapsed": 411,
     "status": "ok",
     "timestamp": 1643006214337,
     "user": {
      "displayName": "유상준",
      "photoUrl": "https://lh3.googleusercontent.com/a-/AOh14GjwhV3OPaZeVbcnb0L540CX4dtB2wGRfCVw4E8=s64",
      "userId": "06620102043085366517"
     },
     "user_tz": -540
    },
    "id": "5YBozNA-xcFe"
   },
   "outputs": [],
   "source": [
    "import torch\n",
    "from torch import nn, optim\n",
    "from sklearn.datasets import load_iris\n",
    "from torch.utils.data import  TensorDataset, DataLoader\n",
    "iris = load_iris()\n",
    "X = iris.data[:100]\n",
    "y = iris.target[:100]\n",
    "X = torch.tensor(X, dtype=torch.float32)\n",
    "y = torch.tensor(y, dtype=torch.float32)\n",
    "ds = TensorDataset(X, y)\n",
    "loader = DataLoader(ds, batch_size=10, shuffle=True)"
   ]
  },
  {
   "cell_type": "markdown",
   "metadata": {
    "id": "_SRTrW7pvmy2"
   },
   "source": [
    "1이 들어있는 위치를 알려주는 sparse matrix를 통해 학습하기 위해, 570만개의 인덱스와 값을 미니배치로 올린다"
   ]
  },
  {
   "cell_type": "code",
   "execution_count": 77,
   "metadata": {
    "colab": {
     "base_uri": "https://localhost:8080/",
     "height": 206
    },
    "executionInfo": {
     "elapsed": 449,
     "status": "ok",
     "timestamp": 1643005581535,
     "user": {
      "displayName": "유상준",
      "photoUrl": "https://lh3.googleusercontent.com/a-/AOh14GjwhV3OPaZeVbcnb0L540CX4dtB2wGRfCVw4E8=s64",
      "userId": "06620102043085366517"
     },
     "user_tz": -540
    },
    "id": "axlvJFUquFwp",
    "outputId": "85980b4d-3ea0-4882-9298-103257306dde"
   },
   "outputs": [
    {
     "data": {
      "text/html": [
       "\n",
       "  <div id=\"df-2ecd37ba-5bcc-4dfe-8417-c385e7360fdc\">\n",
       "    <div class=\"colab-df-container\">\n",
       "      <div>\n",
       "<style scoped>\n",
       "    .dataframe tbody tr th:only-of-type {\n",
       "        vertical-align: middle;\n",
       "    }\n",
       "\n",
       "    .dataframe tbody tr th {\n",
       "        vertical-align: top;\n",
       "    }\n",
       "\n",
       "    .dataframe thead th {\n",
       "        text-align: right;\n",
       "    }\n",
       "</style>\n",
       "<table border=\"1\" class=\"dataframe\">\n",
       "  <thead>\n",
       "    <tr style=\"text-align: right;\">\n",
       "      <th></th>\n",
       "      <th>user</th>\n",
       "      <th>item</th>\n",
       "      <th>label</th>\n",
       "    </tr>\n",
       "  </thead>\n",
       "  <tbody>\n",
       "    <tr>\n",
       "      <th>5707065</th>\n",
       "      <td>138085</td>\n",
       "      <td>37581</td>\n",
       "      <td>1</td>\n",
       "    </tr>\n",
       "    <tr>\n",
       "      <th>5707066</th>\n",
       "      <td>138085</td>\n",
       "      <td>41017</td>\n",
       "      <td>1</td>\n",
       "    </tr>\n",
       "    <tr>\n",
       "      <th>5707067</th>\n",
       "      <td>138085</td>\n",
       "      <td>45173</td>\n",
       "      <td>1</td>\n",
       "    </tr>\n",
       "    <tr>\n",
       "      <th>5707068</th>\n",
       "      <td>138085</td>\n",
       "      <td>46416</td>\n",
       "      <td>1</td>\n",
       "    </tr>\n",
       "    <tr>\n",
       "      <th>5707069</th>\n",
       "      <td>138085</td>\n",
       "      <td>63505</td>\n",
       "      <td>1</td>\n",
       "    </tr>\n",
       "  </tbody>\n",
       "</table>\n",
       "</div>\n",
       "      <button class=\"colab-df-convert\" onclick=\"convertToInteractive('df-2ecd37ba-5bcc-4dfe-8417-c385e7360fdc')\"\n",
       "              title=\"Convert this dataframe to an interactive table.\"\n",
       "              style=\"display:none;\">\n",
       "        \n",
       "  <svg xmlns=\"http://www.w3.org/2000/svg\" height=\"24px\"viewBox=\"0 0 24 24\"\n",
       "       width=\"24px\">\n",
       "    <path d=\"M0 0h24v24H0V0z\" fill=\"none\"/>\n",
       "    <path d=\"M18.56 5.44l.94 2.06.94-2.06 2.06-.94-2.06-.94-.94-2.06-.94 2.06-2.06.94zm-11 1L8.5 8.5l.94-2.06 2.06-.94-2.06-.94L8.5 2.5l-.94 2.06-2.06.94zm10 10l.94 2.06.94-2.06 2.06-.94-2.06-.94-.94-2.06-.94 2.06-2.06.94z\"/><path d=\"M17.41 7.96l-1.37-1.37c-.4-.4-.92-.59-1.43-.59-.52 0-1.04.2-1.43.59L10.3 9.45l-7.72 7.72c-.78.78-.78 2.05 0 2.83L4 21.41c.39.39.9.59 1.41.59.51 0 1.02-.2 1.41-.59l7.78-7.78 2.81-2.81c.8-.78.8-2.07 0-2.86zM5.41 20L4 18.59l7.72-7.72 1.47 1.35L5.41 20z\"/>\n",
       "  </svg>\n",
       "      </button>\n",
       "      \n",
       "  <style>\n",
       "    .colab-df-container {\n",
       "      display:flex;\n",
       "      flex-wrap:wrap;\n",
       "      gap: 12px;\n",
       "    }\n",
       "\n",
       "    .colab-df-convert {\n",
       "      background-color: #E8F0FE;\n",
       "      border: none;\n",
       "      border-radius: 50%;\n",
       "      cursor: pointer;\n",
       "      display: none;\n",
       "      fill: #1967D2;\n",
       "      height: 32px;\n",
       "      padding: 0 0 0 0;\n",
       "      width: 32px;\n",
       "    }\n",
       "\n",
       "    .colab-df-convert:hover {\n",
       "      background-color: #E2EBFA;\n",
       "      box-shadow: 0px 1px 2px rgba(60, 64, 67, 0.3), 0px 1px 3px 1px rgba(60, 64, 67, 0.15);\n",
       "      fill: #174EA6;\n",
       "    }\n",
       "\n",
       "    [theme=dark] .colab-df-convert {\n",
       "      background-color: #3B4455;\n",
       "      fill: #D2E3FC;\n",
       "    }\n",
       "\n",
       "    [theme=dark] .colab-df-convert:hover {\n",
       "      background-color: #434B5C;\n",
       "      box-shadow: 0px 1px 3px 1px rgba(0, 0, 0, 0.15);\n",
       "      filter: drop-shadow(0px 1px 2px rgba(0, 0, 0, 0.3));\n",
       "      fill: #FFFFFF;\n",
       "    }\n",
       "  </style>\n",
       "\n",
       "      <script>\n",
       "        const buttonEl =\n",
       "          document.querySelector('#df-2ecd37ba-5bcc-4dfe-8417-c385e7360fdc button.colab-df-convert');\n",
       "        buttonEl.style.display =\n",
       "          google.colab.kernel.accessAllowed ? 'block' : 'none';\n",
       "\n",
       "        async function convertToInteractive(key) {\n",
       "          const element = document.querySelector('#df-2ecd37ba-5bcc-4dfe-8417-c385e7360fdc');\n",
       "          const dataTable =\n",
       "            await google.colab.kernel.invokeFunction('convertToInteractive',\n",
       "                                                     [key], {});\n",
       "          if (!dataTable) return;\n",
       "\n",
       "          const docLinkHtml = 'Like what you see? Visit the ' +\n",
       "            '<a target=\"_blank\" href=https://colab.research.google.com/notebooks/data_table.ipynb>data table notebook</a>'\n",
       "            + ' to learn more about interactive tables.';\n",
       "          element.innerHTML = '';\n",
       "          dataTable['output_type'] = 'display_data';\n",
       "          await google.colab.output.renderOutput(dataTable, element);\n",
       "          const docLink = document.createElement('div');\n",
       "          docLink.innerHTML = docLinkHtml;\n",
       "          element.appendChild(docLink);\n",
       "        }\n",
       "      </script>\n",
       "    </div>\n",
       "  </div>\n",
       "  "
      ],
      "text/plain": [
       "           user   item  label\n",
       "5707065  138085  37581      1\n",
       "5707066  138085  41017      1\n",
       "5707067  138085  45173      1\n",
       "5707068  138085  46416      1\n",
       "5707069  138085  63505      1"
      ]
     },
     "execution_count": 77,
     "metadata": {},
     "output_type": "execute_result"
    }
   ],
   "source": [
    "sparse_matrix= pd.DataFrame({\n",
    "                'user' : train_songs_A.indices()[0],\n",
    "                'item' : train_songs_A.indices()[1],\n",
    "                'label' : train_songs_A.values()\n",
    "                })\n",
    "\n",
    "sparse_matrix.tail()"
   ]
  },
  {
   "cell_type": "code",
   "execution_count": 72,
   "metadata": {
    "executionInfo": {
     "elapsed": 472,
     "status": "ok",
     "timestamp": 1643005348564,
     "user": {
      "displayName": "유상준",
      "photoUrl": "https://lh3.googleusercontent.com/a-/AOh14GjwhV3OPaZeVbcnb0L540CX4dtB2wGRfCVw4E8=s64",
      "userId": "06620102043085366517"
     },
     "user_tz": -540
    },
    "id": "d9H-IaATtcyq"
   },
   "outputs": [],
   "source": [
    "import torch\n",
    "from torch import nn, optim\n",
    "from sklearn.datasets import load_iris\n",
    "from torch.utils.data import  TensorDataset, DataLoader\n",
    "\n",
    "X = sparse_matrix[['user','item']].values\n",
    "y = sparse_matrix['label'].values\n",
    "\n",
    "X = torch.tensor(X)\n",
    "y = torch.tensor(y)\n",
    "ds = TensorDataset(X,y)\n",
    "train_loader = DataLoader(ds, batch_size = 64, shuffle = True)"
   ]
  },
  {
   "cell_type": "code",
   "execution_count": 73,
   "metadata": {
    "colab": {
     "base_uri": "https://localhost:8080/"
    },
    "executionInfo": {
     "elapsed": 989,
     "status": "ok",
     "timestamp": 1643005351323,
     "user": {
      "displayName": "유상준",
      "photoUrl": "https://lh3.googleusercontent.com/a-/AOh14GjwhV3OPaZeVbcnb0L540CX4dtB2wGRfCVw4E8=s64",
      "userId": "06620102043085366517"
     },
     "user_tz": -540
    },
    "id": "Ozfy30pL9yVq",
    "outputId": "cc891dcd-56b9-46ae-c44d-d96c745743ee"
   },
   "outputs": [
    {
     "name": "stdout",
     "output_type": "stream",
     "text": [
      "name            | type                      | size\n",
      "Num of Batch    |                           | len(train_loader)\n",
      "first_batch     | <class 'list'>            | 2\n",
      "first_batch[0]  | <class 'torch.Tensor'>    | torch.Size([64, 2])\n",
      "first_batch[1]  | <class 'torch.Tensor'>    | torch.Size([64])\n"
     ]
    }
   ],
   "source": [
    "first_batch = train_loader.__iter__().__next__()\n",
    "\n",
    "print('{:15s} | {:<25s} | {}'.format('name','type','size'))\n",
    "print('{:15s} | {:<25s} | {}'.format('Num of Batch','','len(train_loader)'))\n",
    "print('{:15s} | {:<25s} | {}'.format('first_batch',str(type(first_batch)),len(first_batch)))\n",
    "print('{:15s} | {:<25s} | {}'.format('first_batch[0]',str(type(first_batch[0])),first_batch[0].shape))\n",
    "print('{:15s} | {:<25s} | {}'.format('first_batch[1]',str(type(first_batch[1])),first_batch[1].shape))\n",
    "\n",
    "## 설명 ##\n",
    "# 15s : 15칸 공백을 유지하라 (사이즈 제공)\n",
    "# <,> : 왼쪽, 오른쪽 정렬을 유지하라"
   ]
  },
  {
   "cell_type": "code",
   "execution_count": null,
   "metadata": {
    "id": "vqtPrKPvVcNt"
   },
   "outputs": [],
   "source": [
    "for x,y in train_loader:\n",
    "    print(x,y)\n",
    "    break"
   ]
  },
  {
   "cell_type": "markdown",
   "metadata": {
    "id": "j69Ko-2zERKk"
   },
   "source": [
    "---"
   ]
  },
  {
   "cell_type": "markdown",
   "metadata": {
    "id": "Dq4cWuy0D7FJ"
   },
   "source": [
    "### device 확인"
   ]
  },
  {
   "cell_type": "code",
   "execution_count": 25,
   "metadata": {
    "colab": {
     "base_uri": "https://localhost:8080/"
    },
    "executionInfo": {
     "elapsed": 243,
     "status": "ok",
     "timestamp": 1643012078909,
     "user": {
      "displayName": "유상준",
      "photoUrl": "https://lh3.googleusercontent.com/a-/AOh14GjwhV3OPaZeVbcnb0L540CX4dtB2wGRfCVw4E8=s64",
      "userId": "06620102043085366517"
     },
     "user_tz": -540
    },
    "id": "IBx-fnGLB_3R",
    "outputId": "75bff9de-d988-4bfd-9c2c-4e4f8d54db3a"
   },
   "outputs": [
    {
     "name": "stdout",
     "output_type": "stream",
     "text": [
      "Current cuda device is cpu\n"
     ]
    }
   ],
   "source": [
    "is_cuda = torch.cuda.is_available()\n",
    "device = torch.device('cuda' if is_cuda else 'cpu')\n",
    "\n",
    "print('Current cuda device is', device)"
   ]
  },
  {
   "cell_type": "markdown",
   "metadata": {
    "id": "mpy9d9Nc74ir"
   },
   "source": [
    "## GMF model\n",
    "- element wise product"
   ]
  },
  {
   "cell_type": "code",
   "execution_count": 27,
   "metadata": {
    "executionInfo": {
     "elapsed": 356,
     "status": "ok",
     "timestamp": 1643012112977,
     "user": {
      "displayName": "유상준",
      "photoUrl": "https://lh3.googleusercontent.com/a-/AOh14GjwhV3OPaZeVbcnb0L540CX4dtB2wGRfCVw4E8=s64",
      "userId": "06620102043085366517"
     },
     "user_tz": -540
    },
    "id": "fnlXmtux73vl"
   },
   "outputs": [],
   "source": [
    "class GMF(nn.Module):\n",
    "    def __init__(self, num_users, num_items, emb_size=100, n_hidden=20):\n",
    "        super(GMF, self).__init__()\n",
    "        self.user_emb = nn.Embedding(num_users, emb_size)\n",
    "        self.item_emb = nn.Embedding(num_items, emb_size)\n",
    "        self.lin1 = nn.Linear(emb_size, 2) # log_softmax 쓰러면 출력층을 2로\n",
    "        #self.drop1 = nn.Dropout(0.1)\n",
    "        \n",
    "    def forward(self, u, v):\n",
    "        U = self.user_emb(u)\n",
    "        V = self.item_emb(v)\n",
    "        #x = F.sigmoid(self.lin1(U * V))           #sigmoid (BCE)\n",
    "        x = F.log_softmax(self.lin1(U*V), dim=1)  #log_softmax (CrossEntropy)\n",
    "        #x = self.lin1(U*V)                        #linear (BCEwithLogitsLoss)\n",
    "        #x = self.drop1(x)\n",
    "        return x"
   ]
  },
  {
   "cell_type": "markdown",
   "metadata": {
    "id": "JHQahvAxMrHx"
   },
   "source": [
    "## MF + NN model train"
   ]
  },
  {
   "cell_type": "code",
   "execution_count": 28,
   "metadata": {
    "executionInfo": {
     "elapsed": 243,
     "status": "ok",
     "timestamp": 1643012117140,
     "user": {
      "displayName": "유상준",
      "photoUrl": "https://lh3.googleusercontent.com/a-/AOh14GjwhV3OPaZeVbcnb0L540CX4dtB2wGRfCVw4E8=s64",
      "userId": "06620102043085366517"
     },
     "user_tz": -540
    },
    "id": "E7OhQ7-Q48M6"
   },
   "outputs": [],
   "source": [
    "class CollabFNet(nn.Module):\n",
    "    def __init__(self, num_users, num_items, emb_size=100, n_hidden=20):\n",
    "        super(CollabFNet, self).__init__()\n",
    "        self.user_emb = nn.Embedding(num_users, emb_size)\n",
    "        self.item_emb = nn.Embedding(num_items, emb_size)\n",
    "        self.lin1 = nn.Linear(emb_size*2, n_hidden)\n",
    "        self.lin2 = nn.Linear(n_hidden, 2)\n",
    "        #self.drop1 = nn.Dropout(0.1)\n",
    "        \n",
    "    def forward(self, u, v):\n",
    "        U = self.user_emb(u)\n",
    "        V = self.item_emb(v)\n",
    "        x = F.relu(torch.cat([U, V], dim=1))\n",
    "        #x = self.drop1(x)\n",
    "        x = F.relu(self.lin1(x))\n",
    "        x = F.log_softmax(self.lin2(x), dim=1) \n",
    "        return x"
   ]
  },
  {
   "cell_type": "code",
   "execution_count": 29,
   "metadata": {
    "executionInfo": {
     "elapsed": 259,
     "status": "ok",
     "timestamp": 1643012119824,
     "user": {
      "displayName": "유상준",
      "photoUrl": "https://lh3.googleusercontent.com/a-/AOh14GjwhV3OPaZeVbcnb0L540CX4dtB2wGRfCVw4E8=s64",
      "userId": "06620102043085366517"
     },
     "user_tz": -540
    },
    "id": "x8EAHri3wJXA"
   },
   "outputs": [],
   "source": [
    "from tqdm import tqdm\n",
    "\n",
    "train_loss_history = []\n",
    "val_loss_history = []\n",
    "\n",
    "def train_epocs(model, epochs=10, lr=0.01, wd=0.0, unsqueeze=True):\n",
    "    optimizer = torch.optim.Adam(model.parameters(), lr=lr, weight_decay=wd)\n",
    "    criterion = nn.CrossEntropyLoss() # BCEwithLogitsLoss()\n",
    "\n",
    "    model.train()\n",
    "\n",
    "\n",
    "    for i in tqdm(range(epochs)):\n",
    "        users = torch.LongTensor(data.user.values).to(device)\n",
    "        items = torch.LongTensor(data.item.values).to(device)\n",
    "        labels = torch.LongTensor(data.label.values).to(device)\n",
    "        if unsqueeze:\n",
    "            labels = labels.unsqueeze(1)\n",
    "        y_hat = model(users, items).to(device)\n",
    "        loss = criterion(y_hat, labels) # criterion = nn.CrossEntropyLoss()\n",
    "        optimizer.zero_grad()\n",
    "        loss.backward()\n",
    "        optimizer.step()\n",
    "        print('train loss : ', loss.item())\n",
    "        train_loss_history.append(loss.item())\n",
    "\n",
    "        ########## validation loss recode ############\n",
    "        # with torch.no_grad():\n",
    "        #     val_users = torch.LongTensor(val_data.user.values).to(device)\n",
    "        #     val_items = torch.LongTensor(val_data.item.values).to(device)\n",
    "        #     val_labels = torch.LongTensor(val_data.label.values).to(device)\n",
    "        #     if unsqueeze:\n",
    "        #         val_labels = val_labels.unsqueeze(1).to(device)\n",
    "        #     val_y_hat = model(val_users, val_items).to(device)\n",
    "        #     val_loss = criterion(val_y_hat, val_labels) # criterion = nn.CrossEntropyLoss()\n",
    "        #     print('val loss : ', val_loss.item()) \n",
    "        #     val_loss_history.append(val_loss.item())\n",
    "        test_loss(model, unsqueeze)"
   ]
  },
  {
   "cell_type": "code",
   "execution_count": 30,
   "metadata": {
    "executionInfo": {
     "elapsed": 326,
     "status": "ok",
     "timestamp": 1643012127300,
     "user": {
      "displayName": "유상준",
      "photoUrl": "https://lh3.googleusercontent.com/a-/AOh14GjwhV3OPaZeVbcnb0L540CX4dtB2wGRfCVw4E8=s64",
      "userId": "06620102043085366517"
     },
     "user_tz": -540
    },
    "id": "-xHKeoctwJXC"
   },
   "outputs": [],
   "source": [
    "def test_loss(model, unsqueeze=False):\n",
    "    criterion = nn.CrossEntropyLoss()\n",
    "    model.eval()\n",
    "    with torch.no_grad():\n",
    "        val_users = torch.LongTensor(val_data.user.values).to(device)\n",
    "        val_items = torch.LongTensor(val_data.item.values).to(device)\n",
    "        val_labels = torch.LongTensor(val_data.label.values).to(device)\n",
    "        if unsqueeze:\n",
    "            val_labels = val_labels.unsqueeze(1)\n",
    "        y_hat = model(val_users, val_items).to(device)\n",
    "        val_loss = criterion(y_hat, val_labels)\n",
    "        val_loss_history.append(val_loss.item())\n",
    "        print(\"test loss %.3f \" % val_loss.item())"
   ]
  },
  {
   "cell_type": "code",
   "execution_count": 32,
   "metadata": {
    "executionInfo": {
     "elapsed": 259,
     "status": "ok",
     "timestamp": 1643012173697,
     "user": {
      "displayName": "유상준",
      "photoUrl": "https://lh3.googleusercontent.com/a-/AOh14GjwhV3OPaZeVbcnb0L540CX4dtB2wGRfCVw4E8=s64",
      "userId": "06620102043085366517"
     },
     "user_tz": -540
    },
    "id": "9nA1iFeo-C2S"
   },
   "outputs": [],
   "source": [
    "from tqdm import tqdm\n",
    "\n",
    "def train_epocs_minibatch(model, epochs=10, batch_size = 100000, lr=0.01, wd=0.0, unsqueeze=False):\n",
    "    optimizer = torch.optim.Adam(model.parameters(), lr=lr, weight_decay=wd)\n",
    "    criterion = nn.CrossEntropy() #BCEWithLogitsLoss()\n",
    "    model.train()\n",
    "    \n",
    "    n = len(data)\n",
    "    bs = batch_size\n",
    "    repeat = (n - 1) // bs + 1\n",
    "    \n",
    "    for i in range(epochs):\n",
    "        for j in range(repeat):\n",
    "            users = torch.LongTensor(data.user[j * bs: j * bs + bs].reset_index(drop=True))\n",
    "            items = torch.LongTensor(data.item[j * bs: j * bs + bs].reset_index(drop=True))\n",
    "            labels = torch.LongTensor(data.label[j * bs: j * bs + bs].reset_index(drop=True))\n",
    "\n",
    "            if unsqueeze:\n",
    "                labels = labels.unsqueeze(1)\n",
    "            y_hat = model(users, items)\n",
    "            loss = criterion(y_hat, labels) # probabilities, targets\n",
    "            optimizer.zero_grad()\n",
    "            loss.backward()\n",
    "            optimizer.step()\n",
    "\n",
    "            train_loss_history.append(loss.item())\n",
    "            test_loss(model, unsqueeze)\n",
    "            print('batch:{}/{}'.format(j+1,repeat), loss.item())\n",
    "            \n",
    "        print('===== {} epoch =====\\n'.format(i+1))"
   ]
  },
  {
   "cell_type": "markdown",
   "metadata": {
    "id": "lYODMYVDxSZU"
   },
   "source": [
    "---"
   ]
  },
  {
   "cell_type": "markdown",
   "metadata": {
    "id": "u0o6-2zrBVSb"
   },
   "source": [
    "### 미니 batch를 이용한 학습 시도"
   ]
  },
  {
   "cell_type": "markdown",
   "metadata": {
    "id": "UdmuDmJCxO8J"
   },
   "source": [
    "- 미니 batch를 이용한 학습 시도"
   ]
  },
  {
   "cell_type": "code",
   "execution_count": 83,
   "metadata": {
    "executionInfo": {
     "elapsed": 5,
     "status": "ok",
     "timestamp": 1643005769388,
     "user": {
      "displayName": "유상준",
      "photoUrl": "https://lh3.googleusercontent.com/a-/AOh14GjwhV3OPaZeVbcnb0L540CX4dtB2wGRfCVw4E8=s64",
      "userId": "06620102043085366517"
     },
     "user_tz": -540
    },
    "id": "UdrlNZWExZda"
   },
   "outputs": [],
   "source": [
    "batch_size = 64\n",
    "learning_rate = 0.0001\n",
    "epoch_num = 15"
   ]
  },
  {
   "cell_type": "code",
   "execution_count": 98,
   "metadata": {
    "executionInfo": {
     "elapsed": 1070,
     "status": "ok",
     "timestamp": 1643006044298,
     "user": {
      "displayName": "유상준",
      "photoUrl": "https://lh3.googleusercontent.com/a-/AOh14GjwhV3OPaZeVbcnb0L540CX4dtB2wGRfCVw4E8=s64",
      "userId": "06620102043085366517"
     },
     "user_tz": -540
    },
    "id": "Vi8dbfk2xOnb"
   },
   "outputs": [],
   "source": [
    "model = CollabFNet(138086, 638336, emb_size=100).cuda()\n",
    "optimizer = optim.Adam(model.parameters(), lr = learning_rate)\n",
    "criterion = nn.CrossEntropyLoss()"
   ]
  },
  {
   "cell_type": "code",
   "execution_count": null,
   "metadata": {
    "id": "QVFkmwTMxLsC"
   },
   "outputs": [],
   "source": [
    "model.train()   # 학습을 시작하겠다는 선언. 여기서부터 학습되는것이 아님\n",
    "i = 1\n",
    "for epoch in range(epoch_num):  # 15번 학습\n",
    "    for data, target in train_loader: # 한번의 epoch안에서, batch로 나눈 12,000개의 데이터 묶음을 학습 반복\n",
    "\n",
    "        # 미니배치 데이터를 내가 설정한 device로 보내기\n",
    "        data = data.cuda()\n",
    "        target = target.cuda()\n",
    "        print('data:',data)\n",
    "        optimizer.zero_grad() # gradient 를 0으로 (반복 될때마다 새롭게 갱신)\n",
    "        output = model(data)\n",
    "        print('output:',output)\n",
    "        print('target:',target)\n",
    "        loss = criterion(output, target) # criterion = nn.CrossEntropyLoss()\n",
    "        loss.backward()  # loss backpropagation\n",
    "        optimizer.step() # 가중치 업데이트\n",
    "\n",
    "        if i % 1000 == 0:\n",
    "            print('Train Step : {}\\tLoss : {:.3f}'.format(i,loss.item()))\n",
    "        \n",
    "        i+=1"
   ]
  },
  {
   "cell_type": "markdown",
   "metadata": {
    "id": "o_obAoaTxTdG"
   },
   "source": [
    "---"
   ]
  },
  {
   "cell_type": "markdown",
   "metadata": {
    "id": "0XfcrzXzLH3R"
   },
   "source": [
    "### model 턈색"
   ]
  },
  {
   "cell_type": "markdown",
   "metadata": {
    "id": "_Uc6bt1NLKTd"
   },
   "source": [
    "- 1. embedding size = 100, train_data_size = 10k"
   ]
  },
  {
   "cell_type": "code",
   "execution_count": 29,
   "metadata": {
    "executionInfo": {
     "elapsed": 913,
     "status": "ok",
     "timestamp": 1643011249473,
     "user": {
      "displayName": "유상준",
      "photoUrl": "https://lh3.googleusercontent.com/a-/AOh14GjwhV3OPaZeVbcnb0L540CX4dtB2wGRfCVw4E8=s64",
      "userId": "06620102043085366517"
     },
     "user_tz": -540
    },
    "id": "AfjDYbccdDgd"
   },
   "outputs": [],
   "source": [
    "model = CollabFNet(138086, 638336, emb_size=100).to(device)"
   ]
  },
  {
   "cell_type": "code",
   "execution_count": null,
   "metadata": {
    "id": "KCIjBgEMdDWj"
   },
   "outputs": [],
   "source": [
    "train_loss_history = []\n",
    "val_loss_history = []\n",
    "\n",
    "train_epocs(model, epochs=500, lr=0.001, wd=1e-3, unsqueeze=False) "
   ]
  },
  {
   "cell_type": "code",
   "execution_count": 31,
   "metadata": {
    "colab": {
     "base_uri": "https://localhost:8080/",
     "height": 406
    },
    "executionInfo": {
     "elapsed": 694,
     "status": "ok",
     "timestamp": 1643011363553,
     "user": {
      "displayName": "유상준",
      "photoUrl": "https://lh3.googleusercontent.com/a-/AOh14GjwhV3OPaZeVbcnb0L540CX4dtB2wGRfCVw4E8=s64",
      "userId": "06620102043085366517"
     },
     "user_tz": -540
    },
    "id": "Y51JKxLNBse4",
    "outputId": "5ab5b4b1-2413-438a-da25-2d05ea3af1f2"
   },
   "outputs": [
    {
     "data": {
      "image/png": "[encoded data removed]",
      "text/plain": [
       "<Figure size 720x432 with 1 Axes>"
      ]
     },
     "metadata": {
      "needs_background": "light"
     },
     "output_type": "display_data"
    }
   ],
   "source": [
    "import matplotlib.pyplot as plt\n",
    "import seaborn as sns\n",
    "\n",
    "iteration = range(len(train_loss_history))\n",
    "plt.figure(figsize = (10,6))\n",
    "plt.plot(iteration, train_loss_history, label = 'train_loss')\n",
    "plt.plot(iteration, val_loss_history, label = 'val_loss')\n",
    "plt.xlabel('iteration')\n",
    "plt.ylabel('loss')\n",
    "plt.legend()\n",
    "plt.title('Train vs Val loss', size = 16)\n",
    "plt.grid()\n",
    "plt.show()"
   ]
  },
  {
   "cell_type": "markdown",
   "metadata": {
    "id": "APekgUsQD7TB"
   },
   "source": [
    "#### 과적합 발생, 해결 방안을 세워보자\n",
    "    - 1. train_data 수를 늘려보자\n",
    "    - 2. dropout을 추가해보자"
   ]
  },
  {
   "cell_type": "markdown",
   "metadata": {
    "id": "GLNM5VdpKP_g"
   },
   "source": [
    "- 2. embedding size = 300, train_data_size = 30k\n",
    "    - 300이상 설정 시 cuda out of memory : minibatch이용해야 할듯?\n"
   ]
  },
  {
   "cell_type": "code",
   "execution_count": 32,
   "metadata": {
    "executionInfo": {
     "elapsed": 2119,
     "status": "ok",
     "timestamp": 1643011377612,
     "user": {
      "displayName": "유상준",
      "photoUrl": "https://lh3.googleusercontent.com/a-/AOh14GjwhV3OPaZeVbcnb0L540CX4dtB2wGRfCVw4E8=s64",
      "userId": "06620102043085366517"
     },
     "user_tz": -540
    },
    "id": "cOvZ2_5eKPRz"
   },
   "outputs": [],
   "source": [
    "model = CollabFNet(138086, 638336, emb_size=300).to(device)"
   ]
  },
  {
   "cell_type": "code",
   "execution_count": null,
   "metadata": {
    "id": "hfLATN8_KPRz"
   },
   "outputs": [],
   "source": [
    "train_loss_history = []\n",
    "val_loss_history = []\n",
    "\n",
    "train_epocs(model, epochs=1000, lr=0.001, wd=0.001, unsqueeze=False) "
   ]
  },
  {
   "cell_type": "code",
   "execution_count": 34,
   "metadata": {
    "colab": {
     "base_uri": "https://localhost:8080/",
     "height": 406
    },
    "executionInfo": {
     "elapsed": 329,
     "status": "ok",
     "timestamp": 1643011643931,
     "user": {
      "displayName": "유상준",
      "photoUrl": "https://lh3.googleusercontent.com/a-/AOh14GjwhV3OPaZeVbcnb0L540CX4dtB2wGRfCVw4E8=s64",
      "userId": "06620102043085366517"
     },
     "user_tz": -540
    },
    "id": "PLmznnM9KPR0",
    "outputId": "4d64146e-b243-47cd-985d-1df42bc94703"
   },
   "outputs": [
    {
     "data": {
      "image/png": "[encoded data removed]",
      "text/plain": [
       "<Figure size 720x432 with 1 Axes>"
      ]
     },
     "metadata": {
      "needs_background": "light"
     },
     "output_type": "display_data"
    }
   ],
   "source": [
    "import matplotlib.pyplot as plt\n",
    "import seaborn as sns\n",
    "\n",
    "iteration = range(len(train_loss_history))\n",
    "plt.figure(figsize = (10,6))\n",
    "plt.plot(iteration, train_loss_history, label = 'train_loss')\n",
    "plt.plot(iteration, val_loss_history, label = 'val_loss')\n",
    "plt.xlabel('iteration')\n",
    "plt.ylabel('loss')\n",
    "plt.legend()\n",
    "plt.title('Train vs Val loss (Adam), (Train:100k, emb_size = 300)', size = 16)\n",
    "plt.grid()\n",
    "plt.show()"
   ]
  },
  {
   "cell_type": "markdown",
   "metadata": {
    "id": "Ih0y4dNlIGLn"
   },
   "source": [
    "- 3. dropout을 이용해보자"
   ]
  },
  {
   "cell_type": "code",
   "execution_count": 44,
   "metadata": {
    "executionInfo": {
     "elapsed": 227,
     "status": "ok",
     "timestamp": 1643010960470,
     "user": {
      "displayName": "유상준",
      "photoUrl": "https://lh3.googleusercontent.com/a-/AOh14GjwhV3OPaZeVbcnb0L540CX4dtB2wGRfCVw4E8=s64",
      "userId": "06620102043085366517"
     },
     "user_tz": -540
    },
    "id": "R7DQ0W0WEHIp"
   },
   "outputs": [],
   "source": [
    "# Note here there is no matrix multiplication, we could potentially make the embeddings of different sizes.\n",
    "# Here we could get better results by keep playing with regularization.\n",
    "    \n",
    "class CollabFNet_dropout(nn.Module):\n",
    "    def __init__(self, num_users, num_items, emb_size=100, n_hidden=20):\n",
    "        super(CollabFNet_dropout, self).__init__()\n",
    "        self.user_emb = nn.Embedding(num_users, emb_size)\n",
    "        self.item_emb = nn.Embedding(num_items, emb_size)\n",
    "        self.lin1 = nn.Linear(emb_size*2, n_hidden)\n",
    "        self.lin2 = nn.Linear(n_hidden, 2)\n",
    "        self.drop1 = nn.Dropout(0.2)\n",
    "        \n",
    "    def forward(self, u, v):\n",
    "        U = self.user_emb(u)\n",
    "        V = self.item_emb(v)\n",
    "        x = F.relu(torch.cat([U, V], dim=1))\n",
    "        x = self.drop1(x)\n",
    "        x = F.relu(self.lin1(x))\n",
    "        x = self.drop1(x)\n",
    "        x = F.log_softmax(self.lin2(x), dim=1) \n",
    "        return x"
   ]
  },
  {
   "cell_type": "code",
   "execution_count": 45,
   "metadata": {
    "executionInfo": {
     "elapsed": 1911,
     "status": "ok",
     "timestamp": 1643010977410,
     "user": {
      "displayName": "유상준",
      "photoUrl": "https://lh3.googleusercontent.com/a-/AOh14GjwhV3OPaZeVbcnb0L540CX4dtB2wGRfCVw4E8=s64",
      "userId": "06620102043085366517"
     },
     "user_tz": -540
    },
    "id": "hosldLNgIUK9"
   },
   "outputs": [],
   "source": [
    "dropout_model = CollabFNet_dropout(138086, 638336, emb_size=300).to(device)"
   ]
  },
  {
   "cell_type": "code",
   "execution_count": null,
   "metadata": {
    "id": "9PONyQyVIqeF"
   },
   "outputs": [],
   "source": [
    "train_loss_history = []\n",
    "val_loss_history = []\n",
    "\n",
    "train_epocs(dropout_model, epochs=1000, lr=0.01, wd=1e-4, unsqueeze=False)"
   ]
  },
  {
   "cell_type": "code",
   "execution_count": 47,
   "metadata": {
    "colab": {
     "base_uri": "https://localhost:8080/",
     "height": 406
    },
    "executionInfo": {
     "elapsed": 374,
     "status": "ok",
     "timestamp": 1643011020307,
     "user": {
      "displayName": "유상준",
      "photoUrl": "https://lh3.googleusercontent.com/a-/AOh14GjwhV3OPaZeVbcnb0L540CX4dtB2wGRfCVw4E8=s64",
      "userId": "06620102043085366517"
     },
     "user_tz": -540
    },
    "id": "d6q5ta4vIqeG",
    "outputId": "650108c9-82e2-439b-bfb2-96f340f79e1c"
   },
   "outputs": [
    {
     "data": {
      "image/png": "[encoded data removed]",
      "text/plain": [
       "<Figure size 720x432 with 1 Axes>"
      ]
     },
     "metadata": {
      "needs_background": "light"
     },
     "output_type": "display_data"
    }
   ],
   "source": [
    "import matplotlib.pyplot as plt\n",
    "import seaborn as sns\n",
    "\n",
    "iteration = range(len(train_loss_history))\n",
    "plt.figure(figsize = (10,6))\n",
    "plt.plot(iteration, train_loss_history, label = 'train_loss')\n",
    "plt.plot(iteration, val_loss_history, label = 'val_loss')\n",
    "plt.xlabel('iteration')\n",
    "plt.ylabel('loss')\n",
    "plt.legend()\n",
    "plt.title('Train vs Val loss, (Train:30k, dropout O)', size = 16)\n",
    "plt.grid()\n",
    "plt.show()"
   ]
  },
  {
   "cell_type": "markdown",
   "metadata": {
    "id": "iOst8p7wJ_Z3"
   },
   "source": [
    "- 극 초반에 최저의 val_loss를 보여주고 일정 반복 뒤 수렴..?"
   ]
  },
  {
   "cell_type": "markdown",
   "metadata": {
    "id": "P56QEGiZQXeV"
   },
   "source": [
    "- 4. layer를 더 여러개 쌓아보기\n",
    "    - 600(입력) -> 300 -> 100 -> 10 -> 2(출력)"
   ]
  },
  {
   "cell_type": "code",
   "execution_count": 31,
   "metadata": {
    "executionInfo": {
     "elapsed": 279,
     "status": "ok",
     "timestamp": 1643012143317,
     "user": {
      "displayName": "유상준",
      "photoUrl": "https://lh3.googleusercontent.com/a-/AOh14GjwhV3OPaZeVbcnb0L540CX4dtB2wGRfCVw4E8=s64",
      "userId": "06620102043085366517"
     },
     "user_tz": -540
    },
    "id": "BN0gA6hCIUFA"
   },
   "outputs": [],
   "source": [
    "# Note here there is no matrix multiplication, we could potentially make the embeddings of different sizes.\n",
    "# Here we could get better results by keep playing with regularization.\n",
    "    \n",
    "class CollabFNet_L4(nn.Module):\n",
    "    def __init__(self, num_users, num_items, emb_size=300):\n",
    "        super(CollabFNet_L4, self).__init__()\n",
    "        self.user_emb = nn.Embedding(num_users, emb_size)\n",
    "        self.item_emb = nn.Embedding(num_items, emb_size)\n",
    "        self.lin1 = nn.Linear(emb_size*2, 300)\n",
    "        self.lin2 = nn.Linear(300, 100)\n",
    "        self.lin3 = nn.Linear(100, 10)\n",
    "        self.lin4 = nn.Linear(10, 2)\n",
    "        self.drop1 = nn.Dropout(0.1)\n",
    "        \n",
    "    def forward(self, u, v):\n",
    "        U = self.user_emb(u)\n",
    "        V = self.item_emb(v)\n",
    "        x = F.relu(torch.cat([U, V], dim=1))\n",
    "        x = self.drop1(x)\n",
    "        x = F.relu(self.lin1(x))\n",
    "        x = F.relu(self.lin2(x))\n",
    "        x = self.drop1(x)\n",
    "        x = F.relu(self.lin3(x))\n",
    "        x = F.log_softmax(self.lin4(x), dim=1) \n",
    "        return x"
   ]
  },
  {
   "cell_type": "code",
   "execution_count": 33,
   "metadata": {
    "executionInfo": {
     "elapsed": 2281,
     "status": "ok",
     "timestamp": 1643012195711,
     "user": {
      "displayName": "유상준",
      "photoUrl": "https://lh3.googleusercontent.com/a-/AOh14GjwhV3OPaZeVbcnb0L540CX4dtB2wGRfCVw4E8=s64",
      "userId": "06620102043085366517"
     },
     "user_tz": -540
    },
    "id": "RCd__1glRPxV"
   },
   "outputs": [],
   "source": [
    "MLP_model = CollabFNet_L4(138086, 638336, emb_size=300).to(device)"
   ]
  },
  {
   "cell_type": "code",
   "execution_count": null,
   "metadata": {
    "id": "L3DIVCsHRPxV"
   },
   "outputs": [],
   "source": [
    "train_loss_history = []\n",
    "val_loss_history = []\n",
    "\n",
    "train_epocs(MLP_model, epochs=400, lr=0.01, wd=1e-4, unsqueeze=False) "
   ]
  },
  {
   "cell_type": "code",
   "execution_count": 35,
   "metadata": {
    "colab": {
     "base_uri": "https://localhost:8080/",
     "height": 406
    },
    "executionInfo": {
     "elapsed": 847,
     "status": "ok",
     "timestamp": 1643012384704,
     "user": {
      "displayName": "유상준",
      "photoUrl": "https://lh3.googleusercontent.com/a-/AOh14GjwhV3OPaZeVbcnb0L540CX4dtB2wGRfCVw4E8=s64",
      "userId": "06620102043085366517"
     },
     "user_tz": -540
    },
    "id": "RCGN0Z-yRPxV",
    "outputId": "49e08064-afb1-4a9d-e623-e7a0c61804ef"
   },
   "outputs": [
    {
     "data": {
      "image/png": "[encoded data removed]",
      "text/plain": [
       "<Figure size 720x432 with 1 Axes>"
      ]
     },
     "metadata": {
      "needs_background": "light"
     },
     "output_type": "display_data"
    }
   ],
   "source": [
    "import matplotlib.pyplot as plt\n",
    "import seaborn as sns\n",
    "\n",
    "iteration = range(len(train_loss_history))\n",
    "plt.figure(figsize = (10,6))\n",
    "plt.plot(iteration, train_loss_history, label = 'train_loss')\n",
    "plt.plot(iteration, val_loss_history, label = 'val_loss')\n",
    "plt.xlabel('iteration')\n",
    "plt.ylabel('loss')\n",
    "\n",
    "plt.legend()\n",
    "plt.title('Train vs Val loss, (Train:30k, emb_size = 300)', size = 16)\n",
    "plt.grid()\n",
    "plt.show()"
   ]
  },
  {
   "cell_type": "markdown",
   "metadata": {
    "id": "1q1bnBJcF1H3"
   },
   "source": [
    "- 5. GMF 모델 이용해보자"
   ]
  },
  {
   "cell_type": "markdown",
   "metadata": {
    "id": "RtiFBDOYW-2R"
   },
   "source": [
    "- BCELoss() 이용하기"
   ]
  },
  {
   "cell_type": "code",
   "execution_count": 36,
   "metadata": {
    "executionInfo": {
     "elapsed": 233,
     "status": "ok",
     "timestamp": 1643012395257,
     "user": {
      "displayName": "유상준",
      "photoUrl": "https://lh3.googleusercontent.com/a-/AOh14GjwhV3OPaZeVbcnb0L540CX4dtB2wGRfCVw4E8=s64",
      "userId": "06620102043085366517"
     },
     "user_tz": -540
    },
    "id": "uuc6JGiE_sKH"
   },
   "outputs": [],
   "source": [
    "class GMF(nn.Module):\n",
    "    def __init__(self, num_users, num_items, emb_size=100, n_hidden=20):\n",
    "        super(GMF, self).__init__()\n",
    "        self.user_emb = nn.Embedding(num_users, emb_size)\n",
    "        self.item_emb = nn.Embedding(num_items, emb_size)\n",
    "        self.lin1 = nn.Linear(emb_size, 1) # log_softmax 쓰러면 출력층을 2로\n",
    "        #self.drop1 = nn.Dropout(0.1)\n",
    "        \n",
    "    def forward(self, u, v):\n",
    "        U = self.user_emb(u)\n",
    "        V = self.item_emb(v)\n",
    "        x = F.sigmoid(self.lin1(U * V))           #sigmoid (BCE)\n",
    "        #x = F.log_softmax(self.lin1(U*V), dim=1)  #log_softmax (CrossEntropy)\n",
    "        #x = self.lin1(U*V)                        #linear (BCEwithLogitsLoss)\n",
    "        #x = self.drop1(x)\n",
    "        return x"
   ]
  },
  {
   "cell_type": "code",
   "execution_count": 40,
   "metadata": {
    "executionInfo": {
     "elapsed": 285,
     "status": "ok",
     "timestamp": 1643012451430,
     "user": {
      "displayName": "유상준",
      "photoUrl": "https://lh3.googleusercontent.com/a-/AOh14GjwhV3OPaZeVbcnb0L540CX4dtB2wGRfCVw4E8=s64",
      "userId": "06620102043085366517"
     },
     "user_tz": -540
    },
    "id": "tACJ6jZyWiUz"
   },
   "outputs": [],
   "source": [
    "from tqdm import tqdm\n",
    "\n",
    "train_loss_history = []\n",
    "val_loss_history = []\n",
    "\n",
    "def train_epocs(model, epochs=10, lr=0.01, wd=0.0, unsqueeze=True):\n",
    "    optimizer = torch.optim.Adam(model.parameters(), lr=lr, weight_decay=wd)\n",
    "    criterion = nn.BCELoss() # BCEwithLogitsLoss()\n",
    "\n",
    "    model.train()\n",
    "\n",
    "\n",
    "    for i in tqdm(range(epochs)):\n",
    "        users = torch.LongTensor(data.user.values).to(device)\n",
    "        items = torch.LongTensor(data.item.values).to(device)\n",
    "        labels = torch.FloatTensor(data.label.values).to(device)\n",
    "        if unsqueeze:\n",
    "            labels = labels.unsqueeze(1)\n",
    "        y_hat = model(users, items).to(device)\n",
    "        loss = criterion(y_hat, labels.to(torch.float32))\n",
    "        optimizer.zero_grad()\n",
    "        loss.backward()\n",
    "        optimizer.step()\n",
    "        print('train loss : ', loss.item())\n",
    "        train_loss_history.append(loss.item())\n",
    "\n",
    "        ######### validation loss recode ############\n",
    "        with torch.no_grad():\n",
    "            val_users = torch.LongTensor(val_data.user.values).to(device)\n",
    "            val_items = torch.LongTensor(val_data.item.values).to(device)\n",
    "            val_labels = torch.FloatTensor(val_data.label.values).to(device)\n",
    "            if unsqueeze:\n",
    "                val_labels = val_labels.unsqueeze(1).to(device)\n",
    "            val_y_hat = model(val_users, val_items).to(device)\n",
    "            val_loss = criterion(val_y_hat, val_labels) # criterion = nn.CrossEntropyLoss()\n",
    "            print('val loss : ', val_loss.item()) \n",
    "            val_loss_history.append(val_loss.item())\n",
    "        #test_loss(model, unsqueeze).to(device)"
   ]
  },
  {
   "cell_type": "code",
   "execution_count": 41,
   "metadata": {
    "executionInfo": {
     "elapsed": 782,
     "status": "ok",
     "timestamp": 1643012454961,
     "user": {
      "displayName": "유상준",
      "photoUrl": "https://lh3.googleusercontent.com/a-/AOh14GjwhV3OPaZeVbcnb0L540CX4dtB2wGRfCVw4E8=s64",
      "userId": "06620102043085366517"
     },
     "user_tz": -540
    },
    "id": "V7vdHZvqFzCv"
   },
   "outputs": [],
   "source": [
    "model = GMF(138086, 638336, emb_size=50).to(device)"
   ]
  },
  {
   "cell_type": "code",
   "execution_count": null,
   "metadata": {
    "id": "gNop3xc3FzC8"
   },
   "outputs": [],
   "source": [
    "train_loss_history = []\n",
    "val_loss_history = []\n",
    "\n",
    "train_epocs(model, epochs=1000, lr=0.005, wd=0.01, unsqueeze=True) "
   ]
  },
  {
   "cell_type": "code",
   "execution_count": 43,
   "metadata": {
    "colab": {
     "base_uri": "https://localhost:8080/",
     "height": 406
    },
    "executionInfo": {
     "elapsed": 280,
     "status": "ok",
     "timestamp": 1643012865961,
     "user": {
      "displayName": "유상준",
      "photoUrl": "https://lh3.googleusercontent.com/a-/AOh14GjwhV3OPaZeVbcnb0L540CX4dtB2wGRfCVw4E8=s64",
      "userId": "06620102043085366517"
     },
     "user_tz": -540
    },
    "id": "Q0tL74pjFzC9",
    "outputId": "ab567ec2-9cf5-4f9e-8bb2-a680b4700898"
   },
   "outputs": [
    {
     "data": {
      "image/png": "[encoded data removed]",
      "text/plain": [
       "<Figure size 720x432 with 1 Axes>"
      ]
     },
     "metadata": {
      "needs_background": "light"
     },
     "output_type": "display_data"
    }
   ],
   "source": [
    "import matplotlib.pyplot as plt\n",
    "import seaborn as sns\n",
    "\n",
    "iteration = range(len(train_loss_history))\n",
    "plt.figure(figsize = (10,6))\n",
    "plt.plot(iteration, train_loss_history, label = 'train_loss')\n",
    "plt.plot(iteration, val_loss_history, label = 'val_loss')\n",
    "plt.xlabel('iteration')\n",
    "plt.ylabel('loss')\n",
    "plt.legend()\n",
    "plt.title('Train vs Val loss', size = 16)\n",
    "plt.grid()\n",
    "plt.show()"
   ]
  },
  {
   "cell_type": "code",
   "execution_count": null,
   "metadata": {
    "id": "-3g-Lyxb5jgK"
   },
   "outputs": [],
   "source": [
    "import gc\n",
    "gc.collect()\n",
    "torch.cuda.empty_cache()"
   ]
  },
  {
   "cell_type": "markdown",
   "metadata": {
    "id": "KSXR4OaU6c2S"
   },
   "source": [
    "### predict"
   ]
  },
  {
   "cell_type": "code",
   "execution_count": 44,
   "metadata": {
    "colab": {
     "base_uri": "https://localhost:8080/",
     "height": 363
    },
    "executionInfo": {
     "elapsed": 225,
     "status": "ok",
     "timestamp": 1643012875283,
     "user": {
      "displayName": "유상준",
      "photoUrl": "https://lh3.googleusercontent.com/a-/AOh14GjwhV3OPaZeVbcnb0L540CX4dtB2wGRfCVw4E8=s64",
      "userId": "06620102043085366517"
     },
     "user_tz": -540
    },
    "id": "ADQjVAj4S0bI",
    "outputId": "38c3f64a-e214-42d0-d813-d8d748aa9518"
   },
   "outputs": [
    {
     "data": {
      "text/html": [
       "\n",
       "  <div id=\"df-a8276a5b-74e4-43d2-9ac1-6f4ad08f1304\">\n",
       "    <div class=\"colab-df-container\">\n",
       "      <div>\n",
       "<style scoped>\n",
       "    .dataframe tbody tr th:only-of-type {\n",
       "        vertical-align: middle;\n",
       "    }\n",
       "\n",
       "    .dataframe tbody tr th {\n",
       "        vertical-align: top;\n",
       "    }\n",
       "\n",
       "    .dataframe thead th {\n",
       "        text-align: right;\n",
       "    }\n",
       "</style>\n",
       "<table border=\"1\" class=\"dataframe\">\n",
       "  <thead>\n",
       "    <tr style=\"text-align: right;\">\n",
       "      <th></th>\n",
       "      <th>user</th>\n",
       "      <th>item</th>\n",
       "      <th>label</th>\n",
       "    </tr>\n",
       "  </thead>\n",
       "  <tbody>\n",
       "    <tr>\n",
       "      <th>2416</th>\n",
       "      <td>135777</td>\n",
       "      <td>278542</td>\n",
       "      <td>0</td>\n",
       "    </tr>\n",
       "    <tr>\n",
       "      <th>1443</th>\n",
       "      <td>71675</td>\n",
       "      <td>113907</td>\n",
       "      <td>1</td>\n",
       "    </tr>\n",
       "    <tr>\n",
       "      <th>6036</th>\n",
       "      <td>5030</td>\n",
       "      <td>81042</td>\n",
       "      <td>0</td>\n",
       "    </tr>\n",
       "    <tr>\n",
       "      <th>7073</th>\n",
       "      <td>19517</td>\n",
       "      <td>181425</td>\n",
       "      <td>0</td>\n",
       "    </tr>\n",
       "    <tr>\n",
       "      <th>9136</th>\n",
       "      <td>120281</td>\n",
       "      <td>595778</td>\n",
       "      <td>0</td>\n",
       "    </tr>\n",
       "    <tr>\n",
       "      <th>7285</th>\n",
       "      <td>137875</td>\n",
       "      <td>199101</td>\n",
       "      <td>0</td>\n",
       "    </tr>\n",
       "    <tr>\n",
       "      <th>9375</th>\n",
       "      <td>43609</td>\n",
       "      <td>179511</td>\n",
       "      <td>0</td>\n",
       "    </tr>\n",
       "    <tr>\n",
       "      <th>3563</th>\n",
       "      <td>92656</td>\n",
       "      <td>347366</td>\n",
       "      <td>0</td>\n",
       "    </tr>\n",
       "    <tr>\n",
       "      <th>3936</th>\n",
       "      <td>126402</td>\n",
       "      <td>92001</td>\n",
       "      <td>0</td>\n",
       "    </tr>\n",
       "    <tr>\n",
       "      <th>5215</th>\n",
       "      <td>67878</td>\n",
       "      <td>170826</td>\n",
       "      <td>0</td>\n",
       "    </tr>\n",
       "  </tbody>\n",
       "</table>\n",
       "</div>\n",
       "      <button class=\"colab-df-convert\" onclick=\"convertToInteractive('df-a8276a5b-74e4-43d2-9ac1-6f4ad08f1304')\"\n",
       "              title=\"Convert this dataframe to an interactive table.\"\n",
       "              style=\"display:none;\">\n",
       "        \n",
       "  <svg xmlns=\"http://www.w3.org/2000/svg\" height=\"24px\"viewBox=\"0 0 24 24\"\n",
       "       width=\"24px\">\n",
       "    <path d=\"M0 0h24v24H0V0z\" fill=\"none\"/>\n",
       "    <path d=\"M18.56 5.44l.94 2.06.94-2.06 2.06-.94-2.06-.94-.94-2.06-.94 2.06-2.06.94zm-11 1L8.5 8.5l.94-2.06 2.06-.94-2.06-.94L8.5 2.5l-.94 2.06-2.06.94zm10 10l.94 2.06.94-2.06 2.06-.94-2.06-.94-.94-2.06-.94 2.06-2.06.94z\"/><path d=\"M17.41 7.96l-1.37-1.37c-.4-.4-.92-.59-1.43-.59-.52 0-1.04.2-1.43.59L10.3 9.45l-7.72 7.72c-.78.78-.78 2.05 0 2.83L4 21.41c.39.39.9.59 1.41.59.51 0 1.02-.2 1.41-.59l7.78-7.78 2.81-2.81c.8-.78.8-2.07 0-2.86zM5.41 20L4 18.59l7.72-7.72 1.47 1.35L5.41 20z\"/>\n",
       "  </svg>\n",
       "      </button>\n",
       "      \n",
       "  <style>\n",
       "    .colab-df-container {\n",
       "      display:flex;\n",
       "      flex-wrap:wrap;\n",
       "      gap: 12px;\n",
       "    }\n",
       "\n",
       "    .colab-df-convert {\n",
       "      background-color: #E8F0FE;\n",
       "      border: none;\n",
       "      border-radius: 50%;\n",
       "      cursor: pointer;\n",
       "      display: none;\n",
       "      fill: #1967D2;\n",
       "      height: 32px;\n",
       "      padding: 0 0 0 0;\n",
       "      width: 32px;\n",
       "    }\n",
       "\n",
       "    .colab-df-convert:hover {\n",
       "      background-color: #E2EBFA;\n",
       "      box-shadow: 0px 1px 2px rgba(60, 64, 67, 0.3), 0px 1px 3px 1px rgba(60, 64, 67, 0.15);\n",
       "      fill: #174EA6;\n",
       "    }\n",
       "\n",
       "    [theme=dark] .colab-df-convert {\n",
       "      background-color: #3B4455;\n",
       "      fill: #D2E3FC;\n",
       "    }\n",
       "\n",
       "    [theme=dark] .colab-df-convert:hover {\n",
       "      background-color: #434B5C;\n",
       "      box-shadow: 0px 1px 3px 1px rgba(0, 0, 0, 0.15);\n",
       "      filter: drop-shadow(0px 1px 2px rgba(0, 0, 0, 0.3));\n",
       "      fill: #FFFFFF;\n",
       "    }\n",
       "  </style>\n",
       "\n",
       "      <script>\n",
       "        const buttonEl =\n",
       "          document.querySelector('#df-a8276a5b-74e4-43d2-9ac1-6f4ad08f1304 button.colab-df-convert');\n",
       "        buttonEl.style.display =\n",
       "          google.colab.kernel.accessAllowed ? 'block' : 'none';\n",
       "\n",
       "        async function convertToInteractive(key) {\n",
       "          const element = document.querySelector('#df-a8276a5b-74e4-43d2-9ac1-6f4ad08f1304');\n",
       "          const dataTable =\n",
       "            await google.colab.kernel.invokeFunction('convertToInteractive',\n",
       "                                                     [key], {});\n",
       "          if (!dataTable) return;\n",
       "\n",
       "          const docLinkHtml = 'Like what you see? Visit the ' +\n",
       "            '<a target=\"_blank\" href=https://colab.research.google.com/notebooks/data_table.ipynb>data table notebook</a>'\n",
       "            + ' to learn more about interactive tables.';\n",
       "          element.innerHTML = '';\n",
       "          dataTable['output_type'] = 'display_data';\n",
       "          await google.colab.output.renderOutput(dataTable, element);\n",
       "          const docLink = document.createElement('div');\n",
       "          docLink.innerHTML = docLinkHtml;\n",
       "          element.appendChild(docLink);\n",
       "        }\n",
       "      </script>\n",
       "    </div>\n",
       "  </div>\n",
       "  "
      ],
      "text/plain": [
       "        user    item  label\n",
       "2416  135777  278542      0\n",
       "1443   71675  113907      1\n",
       "6036    5030   81042      0\n",
       "7073   19517  181425      0\n",
       "9136  120281  595778      0\n",
       "7285  137875  199101      0\n",
       "9375   43609  179511      0\n",
       "3563   92656  347366      0\n",
       "3936  126402   92001      0\n",
       "5215   67878  170826      0"
      ]
     },
     "execution_count": 44,
     "metadata": {},
     "output_type": "execute_result"
    }
   ],
   "source": [
    "data.head(10)"
   ]
  },
  {
   "cell_type": "code",
   "execution_count": 45,
   "metadata": {
    "colab": {
     "base_uri": "https://localhost:8080/",
     "height": 363
    },
    "executionInfo": {
     "elapsed": 239,
     "status": "ok",
     "timestamp": 1643012877213,
     "user": {
      "displayName": "유상준",
      "photoUrl": "https://lh3.googleusercontent.com/a-/AOh14GjwhV3OPaZeVbcnb0L540CX4dtB2wGRfCVw4E8=s64",
      "userId": "06620102043085366517"
     },
     "user_tz": -540
    },
    "id": "6IMLNcZHd-2f",
    "outputId": "4e97ff31-b99d-4062-e2a3-1daff02a7d6b"
   },
   "outputs": [
    {
     "data": {
      "text/html": [
       "\n",
       "  <div id=\"df-47dd88df-a57a-4d91-a13d-1894e0fb099f\">\n",
       "    <div class=\"colab-df-container\">\n",
       "      <div>\n",
       "<style scoped>\n",
       "    .dataframe tbody tr th:only-of-type {\n",
       "        vertical-align: middle;\n",
       "    }\n",
       "\n",
       "    .dataframe tbody tr th {\n",
       "        vertical-align: top;\n",
       "    }\n",
       "\n",
       "    .dataframe thead th {\n",
       "        text-align: right;\n",
       "    }\n",
       "</style>\n",
       "<table border=\"1\" class=\"dataframe\">\n",
       "  <thead>\n",
       "    <tr style=\"text-align: right;\">\n",
       "      <th></th>\n",
       "      <th>user</th>\n",
       "      <th>item</th>\n",
       "      <th>label</th>\n",
       "    </tr>\n",
       "  </thead>\n",
       "  <tbody>\n",
       "    <tr>\n",
       "      <th>739</th>\n",
       "      <td>86745</td>\n",
       "      <td>16128</td>\n",
       "      <td>1</td>\n",
       "    </tr>\n",
       "    <tr>\n",
       "      <th>9354</th>\n",
       "      <td>44721</td>\n",
       "      <td>283610</td>\n",
       "      <td>0</td>\n",
       "    </tr>\n",
       "    <tr>\n",
       "      <th>7645</th>\n",
       "      <td>107892</td>\n",
       "      <td>445063</td>\n",
       "      <td>0</td>\n",
       "    </tr>\n",
       "    <tr>\n",
       "      <th>9502</th>\n",
       "      <td>90617</td>\n",
       "      <td>171677</td>\n",
       "      <td>0</td>\n",
       "    </tr>\n",
       "    <tr>\n",
       "      <th>24</th>\n",
       "      <td>38198</td>\n",
       "      <td>439</td>\n",
       "      <td>1</td>\n",
       "    </tr>\n",
       "    <tr>\n",
       "      <th>860</th>\n",
       "      <td>54174</td>\n",
       "      <td>899</td>\n",
       "      <td>1</td>\n",
       "    </tr>\n",
       "    <tr>\n",
       "      <th>9462</th>\n",
       "      <td>57734</td>\n",
       "      <td>482988</td>\n",
       "      <td>0</td>\n",
       "    </tr>\n",
       "    <tr>\n",
       "      <th>8883</th>\n",
       "      <td>126343</td>\n",
       "      <td>484500</td>\n",
       "      <td>0</td>\n",
       "    </tr>\n",
       "    <tr>\n",
       "      <th>439</th>\n",
       "      <td>66878</td>\n",
       "      <td>4387</td>\n",
       "      <td>1</td>\n",
       "    </tr>\n",
       "    <tr>\n",
       "      <th>7640</th>\n",
       "      <td>84008</td>\n",
       "      <td>87391</td>\n",
       "      <td>0</td>\n",
       "    </tr>\n",
       "  </tbody>\n",
       "</table>\n",
       "</div>\n",
       "      <button class=\"colab-df-convert\" onclick=\"convertToInteractive('df-47dd88df-a57a-4d91-a13d-1894e0fb099f')\"\n",
       "              title=\"Convert this dataframe to an interactive table.\"\n",
       "              style=\"display:none;\">\n",
       "        \n",
       "  <svg xmlns=\"http://www.w3.org/2000/svg\" height=\"24px\"viewBox=\"0 0 24 24\"\n",
       "       width=\"24px\">\n",
       "    <path d=\"M0 0h24v24H0V0z\" fill=\"none\"/>\n",
       "    <path d=\"M18.56 5.44l.94 2.06.94-2.06 2.06-.94-2.06-.94-.94-2.06-.94 2.06-2.06.94zm-11 1L8.5 8.5l.94-2.06 2.06-.94-2.06-.94L8.5 2.5l-.94 2.06-2.06.94zm10 10l.94 2.06.94-2.06 2.06-.94-2.06-.94-.94-2.06-.94 2.06-2.06.94z\"/><path d=\"M17.41 7.96l-1.37-1.37c-.4-.4-.92-.59-1.43-.59-.52 0-1.04.2-1.43.59L10.3 9.45l-7.72 7.72c-.78.78-.78 2.05 0 2.83L4 21.41c.39.39.9.59 1.41.59.51 0 1.02-.2 1.41-.59l7.78-7.78 2.81-2.81c.8-.78.8-2.07 0-2.86zM5.41 20L4 18.59l7.72-7.72 1.47 1.35L5.41 20z\"/>\n",
       "  </svg>\n",
       "      </button>\n",
       "      \n",
       "  <style>\n",
       "    .colab-df-container {\n",
       "      display:flex;\n",
       "      flex-wrap:wrap;\n",
       "      gap: 12px;\n",
       "    }\n",
       "\n",
       "    .colab-df-convert {\n",
       "      background-color: #E8F0FE;\n",
       "      border: none;\n",
       "      border-radius: 50%;\n",
       "      cursor: pointer;\n",
       "      display: none;\n",
       "      fill: #1967D2;\n",
       "      height: 32px;\n",
       "      padding: 0 0 0 0;\n",
       "      width: 32px;\n",
       "    }\n",
       "\n",
       "    .colab-df-convert:hover {\n",
       "      background-color: #E2EBFA;\n",
       "      box-shadow: 0px 1px 2px rgba(60, 64, 67, 0.3), 0px 1px 3px 1px rgba(60, 64, 67, 0.15);\n",
       "      fill: #174EA6;\n",
       "    }\n",
       "\n",
       "    [theme=dark] .colab-df-convert {\n",
       "      background-color: #3B4455;\n",
       "      fill: #D2E3FC;\n",
       "    }\n",
       "\n",
       "    [theme=dark] .colab-df-convert:hover {\n",
       "      background-color: #434B5C;\n",
       "      box-shadow: 0px 1px 3px 1px rgba(0, 0, 0, 0.15);\n",
       "      filter: drop-shadow(0px 1px 2px rgba(0, 0, 0, 0.3));\n",
       "      fill: #FFFFFF;\n",
       "    }\n",
       "  </style>\n",
       "\n",
       "      <script>\n",
       "        const buttonEl =\n",
       "          document.querySelector('#df-47dd88df-a57a-4d91-a13d-1894e0fb099f button.colab-df-convert');\n",
       "        buttonEl.style.display =\n",
       "          google.colab.kernel.accessAllowed ? 'block' : 'none';\n",
       "\n",
       "        async function convertToInteractive(key) {\n",
       "          const element = document.querySelector('#df-47dd88df-a57a-4d91-a13d-1894e0fb099f');\n",
       "          const dataTable =\n",
       "            await google.colab.kernel.invokeFunction('convertToInteractive',\n",
       "                                                     [key], {});\n",
       "          if (!dataTable) return;\n",
       "\n",
       "          const docLinkHtml = 'Like what you see? Visit the ' +\n",
       "            '<a target=\"_blank\" href=https://colab.research.google.com/notebooks/data_table.ipynb>data table notebook</a>'\n",
       "            + ' to learn more about interactive tables.';\n",
       "          element.innerHTML = '';\n",
       "          dataTable['output_type'] = 'display_data';\n",
       "          await google.colab.output.renderOutput(dataTable, element);\n",
       "          const docLink = document.createElement('div');\n",
       "          docLink.innerHTML = docLinkHtml;\n",
       "          element.appendChild(docLink);\n",
       "        }\n",
       "      </script>\n",
       "    </div>\n",
       "  </div>\n",
       "  "
      ],
      "text/plain": [
       "        user    item  label\n",
       "739    86745   16128      1\n",
       "9354   44721  283610      0\n",
       "7645  107892  445063      0\n",
       "9502   90617  171677      0\n",
       "24     38198     439      1\n",
       "860    54174     899      1\n",
       "9462   57734  482988      0\n",
       "8883  126343  484500      0\n",
       "439    66878    4387      1\n",
       "7640   84008   87391      0"
      ]
     },
     "execution_count": 45,
     "metadata": {},
     "output_type": "execute_result"
    }
   ],
   "source": [
    "val_data.head(10)"
   ]
  },
  {
   "cell_type": "code",
   "execution_count": 49,
   "metadata": {
    "colab": {
     "base_uri": "https://localhost:8080/"
    },
    "executionInfo": {
     "elapsed": 242,
     "status": "ok",
     "timestamp": 1643013444831,
     "user": {
      "displayName": "유상준",
      "photoUrl": "https://lh3.googleusercontent.com/a-/AOh14GjwhV3OPaZeVbcnb0L540CX4dtB2wGRfCVw4E8=s64",
      "userId": "06620102043085366517"
     },
     "user_tz": -540
    },
    "id": "yg5lt0iCRDZR",
    "outputId": "89064b95-11ff-4487-983b-88b11326d92c"
   },
   "outputs": [
    {
     "data": {
      "text/plain": [
       "tensor([[-2.1818e-01, -1.6295e+00],\n",
       "        [-7.8358e-01, -6.1022e-01],\n",
       "        [-7.8624e-01, -6.0799e-01],\n",
       "        [-1.9625e-01, -1.7249e+00],\n",
       "        [-7.6729e-04, -7.1731e+00],\n",
       "        [-6.8424e-05, -9.5893e+00],\n",
       "        [-4.2775e-04, -7.7571e+00],\n",
       "        [-9.9193e-04, -6.9163e+00],\n",
       "        [-2.1619e-02, -3.8450e+00],\n",
       "        [-2.9214e-04, -8.1386e+00]], grad_fn=<LogSoftmaxBackward0>)"
      ]
     },
     "execution_count": 49,
     "metadata": {},
     "output_type": "execute_result"
    }
   ],
   "source": [
    "MLP_model(torch.LongTensor(list(data.user[:10])).to(device),torch.LongTensor(list(data.item[:10])).to(device))#[0][0].item()"
   ]
  },
  {
   "cell_type": "code",
   "execution_count": 50,
   "metadata": {
    "colab": {
     "base_uri": "https://localhost:8080/"
    },
    "executionInfo": {
     "elapsed": 254,
     "status": "ok",
     "timestamp": 1643013479144,
     "user": {
      "displayName": "유상준",
      "photoUrl": "https://lh3.googleusercontent.com/a-/AOh14GjwhV3OPaZeVbcnb0L540CX4dtB2wGRfCVw4E8=s64",
      "userId": "06620102043085366517"
     },
     "user_tz": -540
    },
    "id": "j8Ga1gPtj4yS",
    "outputId": "9c49db13-fe08-488e-8367-560e56b9cea8"
   },
   "outputs": [
    {
     "data": {
      "text/plain": [
       "tensor([[-6.3763e-01, -7.5192e-01],\n",
       "        [-3.9526e-01, -1.1193e+00],\n",
       "        [-1.9708e-01, -1.7211e+00],\n",
       "        [-4.0769e-05, -1.0107e+01],\n",
       "        [-7.7742e-01, -6.1543e-01],\n",
       "        [-9.0088e-03, -4.7141e+00],\n",
       "        [-5.3484e-02, -2.9550e+00],\n",
       "        [-1.8963e-01, -1.7560e+00],\n",
       "        [-2.8629e-01, -1.3905e+00],\n",
       "        [-5.3393e-02, -2.9567e+00]], grad_fn=<LogSoftmaxBackward0>)"
      ]
     },
     "execution_count": 50,
     "metadata": {},
     "output_type": "execute_result"
    }
   ],
   "source": [
    "MLP_model(torch.LongTensor(list(val_data.user[:10])).to(device),torch.LongTensor(list(val_data.item[:10])).to(device))#[0][0].item()"
   ]
  },
  {
   "cell_type": "markdown",
   "metadata": {
    "id": "dunt6hQMfeMT"
   },
   "source": [
    "---"
   ]
  },
  {
   "cell_type": "markdown",
   "metadata": {
    "id": "aJzOGdekfbds"
   },
   "source": [
    "- 추천 함수 짜기 참고 코드"
   ]
  },
  {
   "cell_type": "code",
   "execution_count": null,
   "metadata": {
    "id": "qLqvUclkZi-n"
   },
   "outputs": [],
   "source": [
    "# test plylst_1에 대한 예측 값들\n",
    "# class 1에 속할 log확률 값이 큰 순으로 100개를 나열하여 인덱스를 뽑으면 됨\n",
    "nid = 115071\n",
    "tmp = MLP_model(torch.LongTensor([nid]*638336).to(device), torch.LongTensor(list(range(638336))).to(device)).data"
   ]
  },
  {
   "cell_type": "code",
   "execution_count": 294,
   "metadata": {
    "colab": {
     "base_uri": "https://localhost:8080/"
    },
    "executionInfo": {
     "elapsed": 14569,
     "status": "ok",
     "timestamp": 1643003594694,
     "user": {
      "displayName": "유상준",
      "photoUrl": "https://lh3.googleusercontent.com/a-/AOh14GjwhV3OPaZeVbcnb0L540CX4dtB2wGRfCVw4E8=s64",
      "userId": "06620102043085366517"
     },
     "user_tz": -540
    },
    "id": "eGA5QW3wbEbp",
    "outputId": "a08b10b1-c496-4b9b-f87b-ac65fce9c746"
   },
   "outputs": [
    {
     "name": "stderr",
     "output_type": "stream",
     "text": [
      "638336it [00:13, 45665.51it/s]\n"
     ]
    }
   ],
   "source": [
    "rec_list_all = []\n",
    "for idx, prob in tqdm(enumerate(tmp)):\n",
    "    rec_list_all.append([idx, prob[1].item()])"
   ]
  },
  {
   "cell_type": "code",
   "execution_count": null,
   "metadata": {
    "id": "O9XhFD8mX7cC"
   },
   "outputs": [],
   "source": [
    "rec_list_all"
   ]
  },
  {
   "cell_type": "code",
   "execution_count": 295,
   "metadata": {
    "colab": {
     "base_uri": "https://localhost:8080/"
    },
    "executionInfo": {
     "elapsed": 2,
     "status": "ok",
     "timestamp": 1643003596374,
     "user": {
      "displayName": "유상준",
      "photoUrl": "https://lh3.googleusercontent.com/a-/AOh14GjwhV3OPaZeVbcnb0L540CX4dtB2wGRfCVw4E8=s64",
      "userId": "06620102043085366517"
     },
     "user_tz": -540
    },
    "id": "ken5Zatqb2r2",
    "outputId": "d8e1e12c-93ce-467c-809b-df1d351c22e5"
   },
   "outputs": [
    {
     "data": {
      "text/plain": [
       "[[384154, -0.0003800861886702478],\n",
       " [575905, -0.0004911408759653568],\n",
       " [539496, -0.0006094505661167204],\n",
       " [529709, -0.0006177900941111147],\n",
       " [528340, -0.0007133323233574629],\n",
       " [283460, -0.0008760428754612803],\n",
       " [415423, -0.0011381583753973246],\n",
       " [465610, -0.0011607821797952056],\n",
       " [69033, -0.0012172202114015818],\n",
       " [365633, -0.0012654400197789073]]"
      ]
     },
     "execution_count": 295,
     "metadata": {},
     "output_type": "execute_result"
    }
   ],
   "source": [
    "from operator import itemgetter\n",
    "rec_list_300 = sorted(rec_list_all, key = itemgetter(1), reverse = True)[:300]\n",
    "rec_list_300[:10]"
   ]
  },
  {
   "cell_type": "code",
   "execution_count": 200,
   "metadata": {
    "executionInfo": {
     "elapsed": 387,
     "status": "ok",
     "timestamp": 1643002636615,
     "user": {
      "displayName": "유상준",
      "photoUrl": "https://lh3.googleusercontent.com/a-/AOh14GjwhV3OPaZeVbcnb0L540CX4dtB2wGRfCVw4E8=s64",
      "userId": "06620102043085366517"
     },
     "user_tz": -540
    },
    "id": "PDLFXnggeXii"
   },
   "outputs": [],
   "source": [
    "from operator import itemgetter\n",
    "\n",
    "def recommend_ncf(nid, song_model = model):  #, tag_model = tag_model\n",
    "    ##### 노래추천 #####\n",
    "    song_tmp = model(torch.LongTensor([nid]*638336).to(device), torch.LongTensor(list(range(638336))).to(device)).data # 모델에서 결과 예측 (확률값 받아오기)\n",
    "\n",
    "    rec_list_all = []  # 인덱스와 log(확률값) 넣어주기\n",
    "    for idx, prob in enumerate(song_tmp):\n",
    "        rec_list_all.append([idx, prob[1].item()])\n",
    "    \n",
    "    rec_list_300 = sorted(rec_list_all, key = itemgetter(1), reverse = True)[:300] # log(확률값) 큰 순서대로 300개 곡 짜르기\n",
    "    rec_list_300[:5]\n",
    "    \n",
    "    exist_sid = plylst_train.loc[nid]['songs_id'] # 이미 들어 있던 곡 파악하기\n",
    "\n",
    "    final_rec_songs = [] # 마지막으로 추천해줄 100개의 곡 리스트 만들기\n",
    "\n",
    "    for sid, score in rec_list_300: # 300곡중 이미 들어있던 곡 제외하고 100개 추천해주기\n",
    "        if sid not in exist_sid:\n",
    "            final_rec_songs.append(song_sid_id[sid])\n",
    "            if len(final_rec_songs) == 100:\n",
    "                break\n",
    "\n",
    "    return plylst_nid_id[nid], final_rec_songs"
   ]
  },
  {
   "cell_type": "code",
   "execution_count": null,
   "metadata": {
    "id": "YWa-koA8imoY"
   },
   "outputs": [],
   "source": [
    "from tqdm import tqdm\n",
    "answer = []\n",
    "for idx in tqdm(range(115071,115073)): # test nid start : 115071\n",
    "    result = recommend_ncf(idx, model)\n",
    "    answer.append({\n",
    "        'id' : result[0],\n",
    "        'songs' : result[1],\n",
    "        #'tags' : result[2]\n",
    "    })"
   ]
  },
  {
   "cell_type": "code",
   "execution_count": 312,
   "metadata": {
    "colab": {
     "base_uri": "https://localhost:8080/"
    },
    "executionInfo": {
     "elapsed": 425,
     "status": "ok",
     "timestamp": 1643003841391,
     "user": {
      "displayName": "유상준",
      "photoUrl": "https://lh3.googleusercontent.com/a-/AOh14GjwhV3OPaZeVbcnb0L540CX4dtB2wGRfCVw4E8=s64",
      "userId": "06620102043085366517"
     },
     "user_tz": -540
    },
    "id": "mpyWuijvc8L2",
    "outputId": "89ec121d-9e67-4633-a9f2-71ef381864b4",
    "scrolled": true
   },
   "outputs": [
    {
     "data": {
      "text/plain": [
       "tags                                                           []\n",
       "id                                                         118598\n",
       "plylst_title                                                     \n",
       "songs           [373313, 151080, 275346, 696876, 165237, 52593...\n",
       "like_cnt                                                     1675\n",
       "updt_date                                 2019-05-27 14:14:33.000\n",
       "nid                                                        115071\n",
       "songs_id        [82770, 73350, 49850, 283466, 38811, 14654, 83...\n",
       "tags_id                                                        []\n",
       "Name: 115071, dtype: object"
      ]
     },
     "execution_count": 312,
     "metadata": {},
     "output_type": "execute_result"
    }
   ],
   "source": [
    "plylst.loc[115071]"
   ]
  },
  {
   "cell_type": "code",
   "execution_count": 315,
   "metadata": {
    "colab": {
     "base_uri": "https://localhost:8080/"
    },
    "executionInfo": {
     "elapsed": 419,
     "status": "ok",
     "timestamp": 1643003894903,
     "user": {
      "displayName": "유상준",
      "photoUrl": "https://lh3.googleusercontent.com/a-/AOh14GjwhV3OPaZeVbcnb0L540CX4dtB2wGRfCVw4E8=s64",
      "userId": "06620102043085366517"
     },
     "user_tz": -540
    },
    "id": "toDnbrdbdA9G",
    "outputId": "12b87f6d-ab97-4b44-def8-2d21aa2e4f9b"
   },
   "outputs": [
    {
     "data": {
      "text/plain": [
       "song_gn_dtl_gnr_basket                     [GN2207, GN1501, GN1506, GN1509]\n",
       "issue_date                                                         20150101\n",
       "album_name                Walt Disney Records The Legacy Collection: Pin...\n",
       "album_id                                                            2308104\n",
       "artist_id_basket                                                   [353277]\n",
       "song_name                                           I&#39;ve Got No Strings\n",
       "song_gn_gnr_basket                                         [GN1500, GN2200]\n",
       "artist_name_basket                                           [Dickie Jones]\n",
       "id                                                                   373313\n",
       "Name: 373313, dtype: object"
      ]
     },
     "execution_count": 315,
     "metadata": {},
     "output_type": "execute_result"
    }
   ],
   "source": [
    "song_meta.loc[373313]"
   ]
  },
  {
   "cell_type": "code",
   "execution_count": 308,
   "metadata": {
    "colab": {
     "base_uri": "https://localhost:8080/"
    },
    "executionInfo": {
     "elapsed": 422,
     "status": "ok",
     "timestamp": 1643003723854,
     "user": {
      "displayName": "유상준",
      "photoUrl": "https://lh3.googleusercontent.com/a-/AOh14GjwhV3OPaZeVbcnb0L540CX4dtB2wGRfCVw4E8=s64",
      "userId": "06620102043085366517"
     },
     "user_tz": -540
    },
    "id": "To63Z7magbSM",
    "outputId": "c51f1e3d-dfc2-473d-e357-06d9429c54ec",
    "scrolled": true
   },
   "outputs": [
    {
     "data": {
      "text/plain": [
       "song_gn_dtl_gnr_basket    [GN1502, GN1501]\n",
       "issue_date                        20061017\n",
       "album_name                          타짜 OST\n",
       "album_id                            328956\n",
       "artist_id_basket                    [7343]\n",
       "song_name                             꽃의 춤\n",
       "song_gn_gnr_basket                [GN1500]\n",
       "artist_name_basket                   [장영규]\n",
       "id                                  456036\n",
       "Name: 456036, dtype: object"
      ]
     },
     "execution_count": 308,
     "metadata": {},
     "output_type": "execute_result"
    }
   ],
   "source": [
    "song_meta.loc[456036]"
   ]
  },
  {
   "cell_type": "code",
   "execution_count": 316,
   "metadata": {
    "colab": {
     "base_uri": "https://localhost:8080/",
     "height": 166
    },
    "executionInfo": {
     "elapsed": 673,
     "status": "error",
     "timestamp": 1643003915917,
     "user": {
      "displayName": "유상준",
      "photoUrl": "https://lh3.googleusercontent.com/a-/AOh14GjwhV3OPaZeVbcnb0L540CX4dtB2wGRfCVw4E8=s64",
      "userId": "06620102043085366517"
     },
     "user_tz": -540
    },
    "id": "9z-t87q6kx9l",
    "outputId": "a19239f6-d4d2-44d1-bf78-88eb4866ac82",
    "scrolled": true
   },
   "outputs": [
    {
     "ename": "IndexError",
     "evalue": "ignored",
     "output_type": "error",
     "traceback": [
      "\u001b[0;31m---------------------------------------------------------------------------\u001b[0m",
      "\u001b[0;31mIndexError\u001b[0m                                Traceback (most recent call last)",
      "\u001b[0;32m<ipython-input-316-8693140ee06e>\u001b[0m in \u001b[0;36m<module>\u001b[0;34m()\u001b[0m\n\u001b[0;32m----> 1\u001b[0;31m \u001b[0manswer\u001b[0m\u001b[0;34m[\u001b[0m\u001b[0;36m0\u001b[0m\u001b[0;34m]\u001b[0m\u001b[0;34m\u001b[0m\u001b[0;34m\u001b[0m\u001b[0m\n\u001b[0m",
      "\u001b[0;31mIndexError\u001b[0m: list index out of range"
     ]
    }
   ],
   "source": [
    "answer[0]"
   ]
  },
  {
   "cell_type": "markdown",
   "metadata": {
    "id": "1ZZd2NYxwwGQ"
   },
   "source": [
    "---"
   ]
  }
 ],
 "metadata": {
  "accelerator": "GPU",
  "colab": {
   "collapsed_sections": [
    "_mABT6ux5GSm",
    "aXwp2S9pAv6e"
   ],
   "name": "Collaborative_Filtering_MF_NN.ipynb",
   "provenance": []
  },
  "kernelspec": {
   "display_name": "Python 3 (ipykernel)",
   "language": "python",
   "name": "python3"
  },
  "language_info": {
   "codemirror_mode": {
    "name": "ipython",
    "version": 3
   },
   "file_extension": ".py",
   "mimetype": "text/x-python",
   "name": "python",
   "nbconvert_exporter": "python",
   "pygments_lexer": "ipython3",
   "version": "3.9.7"
  }
 },
 "nbformat": 4,
 "nbformat_minor": 1
}
