{
 "cells": [
  {
   "cell_type": "markdown",
   "metadata": {
    "id": "4bbgXSoBnlbq"
   },
   "source": [
    "# Colab Drive Mount & Directory settings"
   ]
  },
  {
   "cell_type": "code",
   "execution_count": null,
   "metadata": {
    "colab": {
     "base_uri": "https://localhost:8080/"
    },
    "executionInfo": {
     "elapsed": 12513,
     "status": "ok",
     "timestamp": 1642129631370,
     "user": {
      "displayName": "유상준",
      "photoUrl": "https://lh3.googleusercontent.com/a-/AOh14GjwhV3OPaZeVbcnb0L540CX4dtB2wGRfCVw4E8=s64",
      "userId": "06620102043085366517"
     },
     "user_tz": -540
    },
    "id": "6Z1fFAB-j-2E",
    "outputId": "376765cd-1ab4-430a-80ad-00a8befc5c5a"
   },
   "outputs": [
    {
     "name": "stdout",
     "output_type": "stream",
     "text": [
      "Drive already mounted at /content/drive; to attempt to forcibly remount, call drive.mount(\"/content/drive\", force_remount=True).\n"
     ]
    }
   ],
   "source": [
    "from google.colab import drive\n",
    "drive.mount('/content/drive')"
   ]
  },
  {
   "cell_type": "code",
   "execution_count": null,
   "metadata": {
    "colab": {
     "base_uri": "https://localhost:8080/"
    },
    "executionInfo": {
     "elapsed": 304,
     "status": "ok",
     "timestamp": 1642129646762,
     "user": {
      "displayName": "유상준",
      "photoUrl": "https://lh3.googleusercontent.com/a-/AOh14GjwhV3OPaZeVbcnb0L540CX4dtB2wGRfCVw4E8=s64",
      "userId": "06620102043085366517"
     },
     "user_tz": -540
    },
    "id": "4_AeB1CMj9Kh",
    "outputId": "68fc9314-a340-4b01-c2fc-7bffd1985d55"
   },
   "outputs": [
    {
     "name": "stdout",
     "output_type": "stream",
     "text": [
      "/content/drive/MyDrive/네카라쿠배/최종 프로젝트\n"
     ]
    }
   ],
   "source": [
    "cd /content/drive/MyDrive/네카라쿠배/최종 프로젝트"
   ]
  },
  {
   "cell_type": "code",
   "execution_count": null,
   "metadata": {
    "colab": {
     "base_uri": "https://localhost:8080/"
    },
    "executionInfo": {
     "elapsed": 460,
     "status": "ok",
     "timestamp": 1642129648502,
     "user": {
      "displayName": "유상준",
      "photoUrl": "https://lh3.googleusercontent.com/a-/AOh14GjwhV3OPaZeVbcnb0L540CX4dtB2wGRfCVw4E8=s64",
      "userId": "06620102043085366517"
     },
     "user_tz": -540
    },
    "id": "FgFXhGq7j9Iw",
    "outputId": "25a664ea-d30e-47ac-e752-89c99aa0079d"
   },
   "outputs": [
    {
     "name": "stdout",
     "output_type": "stream",
     "text": [
      " 0103프로젝트계획.txt                      '3조 프로젝트 기획안.pdf'\n",
      " 0105.txt                                   \u001b[0m\u001b[01;34mcode\u001b[0m/\n",
      "'~$년 1월 딥러닝 프로젝트 주제 선정.docx'   \u001b[01;34mdata\u001b[0m/\n",
      "'22년 1월 딥러닝 프로젝트 주제 선정.docx'  '~$ 프로젝트 기획안.docx'\n",
      "'3조 프로젝트 기획안.docx'                 '~$젝트 기획안.docx'\n"
     ]
    }
   ],
   "source": [
    "ls"
   ]
  },
  {
   "cell_type": "code",
   "execution_count": null,
   "metadata": {
    "colab": {
     "base_uri": "https://localhost:8080/"
    },
    "executionInfo": {
     "elapsed": 278,
     "status": "ok",
     "timestamp": 1642129651548,
     "user": {
      "displayName": "유상준",
      "photoUrl": "https://lh3.googleusercontent.com/a-/AOh14GjwhV3OPaZeVbcnb0L540CX4dtB2wGRfCVw4E8=s64",
      "userId": "06620102043085366517"
     },
     "user_tz": -540
    },
    "id": "j_npIQgHkjS0",
    "outputId": "be9485ef-7512-494d-84ba-a0777e42278a"
   },
   "outputs": [
    {
     "name": "stdout",
     "output_type": "stream",
     "text": [
      "/content/drive/MyDrive/네카라쿠배/최종 프로젝트/data\n"
     ]
    }
   ],
   "source": [
    "cd data/"
   ]
  },
  {
   "cell_type": "code",
   "execution_count": null,
   "metadata": {
    "colab": {
     "base_uri": "https://localhost:8080/"
    },
    "executionInfo": {
     "elapsed": 4,
     "status": "ok",
     "timestamp": 1642129652606,
     "user": {
      "displayName": "유상준",
      "photoUrl": "https://lh3.googleusercontent.com/a-/AOh14GjwhV3OPaZeVbcnb0L540CX4dtB2wGRfCVw4E8=s64",
      "userId": "06620102043085366517"
     },
     "user_tz": -540
    },
    "id": "Y5LonQZ5klY7",
    "outputId": "54a3d3ae-9ca0-48c8-8ea2-22d3438937b7"
   },
   "outputs": [
    {
     "name": "stdout",
     "output_type": "stream",
     "text": [
      "arena_collabo_upload.ipynb  genre_gn_all.json  test.json\n",
      "\u001b[0m\u001b[01;34marena_data\u001b[0m/                 song_meta.json     train.json\n",
      "concatenated_data.csv       songs_df.csv       val.json\n"
     ]
    }
   ],
   "source": [
    "ls"
   ]
  },
  {
   "cell_type": "markdown",
   "metadata": {
    "id": "LEs7KJ6AncGt"
   },
   "source": [
    "# Module import\n"
   ]
  },
  {
   "cell_type": "code",
   "execution_count": null,
   "metadata": {
    "id": "DSRxFd2Vj9Gv"
   },
   "outputs": [],
   "source": [
    "import pandas as pd\n",
    "import numpy as np\n",
    "import matplotlib.pyplot as plt\n",
    "import json\n",
    "import tqdm"
   ]
  },
  {
   "cell_type": "markdown",
   "metadata": {
    "id": "PkXC4QZpnfID"
   },
   "source": [
    "# Data Load"
   ]
  },
  {
   "cell_type": "code",
   "execution_count": null,
   "metadata": {
    "id": "iz900Q3JkXMW"
   },
   "outputs": [],
   "source": [
    "train = pd.read_json('train.json')\n",
    "val = pd.read_json('val.json')\n",
    "test = pd.read_json('test.json')\n",
    "genre = pd.read_json('genre_gn_all.json',typ='series')\n",
    "song = pd.read_json('song_meta.json')"
   ]
  },
  {
   "cell_type": "code",
   "execution_count": null,
   "metadata": {
    "colab": {
     "base_uri": "https://localhost:8080/"
    },
    "executionInfo": {
     "elapsed": 269,
     "status": "ok",
     "timestamp": 1642129750916,
     "user": {
      "displayName": "유상준",
      "photoUrl": "https://lh3.googleusercontent.com/a-/AOh14GjwhV3OPaZeVbcnb0L540CX4dtB2wGRfCVw4E8=s64",
      "userId": "06620102043085366517"
     },
     "user_tz": -540
    },
    "id": "lRYkw7_HP6uk",
    "outputId": "7dd119c0-029a-4060-fcb7-2b7580e6ab9f"
   },
   "outputs": [
    {
     "data": {
      "text/plain": [
       "(10740, 6)"
      ]
     },
     "execution_count": 8,
     "metadata": {},
     "output_type": "execute_result"
    }
   ],
   "source": [
    "test.shape"
   ]
  },
  {
   "cell_type": "markdown",
   "metadata": {
    "id": "e7gLFaz5nrS7"
   },
   "source": [
    "# EDA"
   ]
  },
  {
   "cell_type": "markdown",
   "metadata": {
    "id": "YpQXm0twtdK6"
   },
   "source": [
    "---"
   ]
  },
  {
   "cell_type": "markdown",
   "metadata": {
    "id": "mFR5UOLYtZUP"
   },
   "source": [
    "# 01 / 10"
   ]
  },
  {
   "cell_type": "markdown",
   "metadata": {
    "id": "YiB8dtehCLab"
   },
   "source": [
    "---"
   ]
  },
  {
   "cell_type": "markdown",
   "metadata": {
    "id": "saJ2ZJ2Hn2Ye"
   },
   "source": [
    "## song meta data"
   ]
  },
  {
   "cell_type": "markdown",
   "metadata": {
    "id": "MiDszsbRo2EI"
   },
   "source": [
    "- 총 707,989개의 곡에 대한 메타데이터가 수록되어 있습니다.\n",
    "- 개발 데이터와 평가 데이터에 수록된 모든 곡에 대한 메타데이터가 포함되어 있습니다.\n",
    "- 필드 설명\n",
    "    - _id: 곡 ID\n",
    "    - album_id: 앨범 ID\n",
    "    - artist_id_basket: 아티스트 ID 리스트\n",
    "    - artist_name_basket: 아티스트 리스트\n",
    "    - song_name: 곡 제목\n",
    "    - song_gn_gnr_basket: 곡 장르 리스트\n",
    "    - song_gn_dtl_gnr_basket: 곡 세부 장르 리스트\n",
    "    - issue_date: 발매일"
   ]
  },
  {
   "cell_type": "code",
   "execution_count": null,
   "metadata": {
    "colab": {
     "base_uri": "https://localhost:8080/",
     "height": 372
    },
    "executionInfo": {
     "elapsed": 415,
     "status": "ok",
     "timestamp": 1642135486014,
     "user": {
      "displayName": "유상준",
      "photoUrl": "https://lh3.googleusercontent.com/a-/AOh14GjwhV3OPaZeVbcnb0L540CX4dtB2wGRfCVw4E8=s64",
      "userId": "06620102043085366517"
     },
     "user_tz": -540
    },
    "id": "nIE5bVt9kXGP",
    "outputId": "a1b31089-00c4-4b24-aaa3-5ae497ccf0fb"
   },
   "outputs": [
    {
     "data": {
      "text/html": [
       "\n",
       "  <div id=\"df-9d332179-99b4-4eb3-a8af-f14ee69599fa\">\n",
       "    <div class=\"colab-df-container\">\n",
       "      <div>\n",
       "<style scoped>\n",
       "    .dataframe tbody tr th:only-of-type {\n",
       "        vertical-align: middle;\n",
       "    }\n",
       "\n",
       "    .dataframe tbody tr th {\n",
       "        vertical-align: top;\n",
       "    }\n",
       "\n",
       "    .dataframe thead th {\n",
       "        text-align: right;\n",
       "    }\n",
       "</style>\n",
       "<table border=\"1\" class=\"dataframe\">\n",
       "  <thead>\n",
       "    <tr style=\"text-align: right;\">\n",
       "      <th></th>\n",
       "      <th>song_gn_dtl_gnr_basket</th>\n",
       "      <th>issue_date</th>\n",
       "      <th>album_name</th>\n",
       "      <th>album_id</th>\n",
       "      <th>artist_id_basket</th>\n",
       "      <th>song_name</th>\n",
       "      <th>song_gn_gnr_basket</th>\n",
       "      <th>artist_name_basket</th>\n",
       "      <th>id</th>\n",
       "    </tr>\n",
       "  </thead>\n",
       "  <tbody>\n",
       "    <tr>\n",
       "      <th>0</th>\n",
       "      <td>[GN0901]</td>\n",
       "      <td>20140512</td>\n",
       "      <td>불후의 명곡 - 7080 추억의 얄개시대 팝송베스트</td>\n",
       "      <td>2255639</td>\n",
       "      <td>[2727]</td>\n",
       "      <td>Feelings</td>\n",
       "      <td>[GN0900]</td>\n",
       "      <td>[Various Artists]</td>\n",
       "      <td>0</td>\n",
       "    </tr>\n",
       "    <tr>\n",
       "      <th>1</th>\n",
       "      <td>[GN1601, GN1606]</td>\n",
       "      <td>20080421</td>\n",
       "      <td>Bach : Partitas Nos. 2, 3 &amp; 4</td>\n",
       "      <td>376431</td>\n",
       "      <td>[29966]</td>\n",
       "      <td>Bach : Partita No. 4 In D Major, BWV 828 - II....</td>\n",
       "      <td>[GN1600]</td>\n",
       "      <td>[Murray Perahia]</td>\n",
       "      <td>1</td>\n",
       "    </tr>\n",
       "    <tr>\n",
       "      <th>2</th>\n",
       "      <td>[GN0901]</td>\n",
       "      <td>20180518</td>\n",
       "      <td>Hit</td>\n",
       "      <td>4698747</td>\n",
       "      <td>[3361]</td>\n",
       "      <td>Solsbury Hill (Remastered 2002)</td>\n",
       "      <td>[GN0900]</td>\n",
       "      <td>[Peter Gabriel]</td>\n",
       "      <td>2</td>\n",
       "    </tr>\n",
       "    <tr>\n",
       "      <th>3</th>\n",
       "      <td>[GN1102, GN1101]</td>\n",
       "      <td>20151016</td>\n",
       "      <td>Feeling Right (Everything Is Nice) (Feat. Popc...</td>\n",
       "      <td>2644882</td>\n",
       "      <td>[838543]</td>\n",
       "      <td>Feeling Right (Everything Is Nice) (Feat. Popc...</td>\n",
       "      <td>[GN1100]</td>\n",
       "      <td>[Matoma]</td>\n",
       "      <td>3</td>\n",
       "    </tr>\n",
       "    <tr>\n",
       "      <th>4</th>\n",
       "      <td>[GN1802, GN1801]</td>\n",
       "      <td>20110824</td>\n",
       "      <td>그남자 그여자</td>\n",
       "      <td>2008470</td>\n",
       "      <td>[560160]</td>\n",
       "      <td>그남자 그여자</td>\n",
       "      <td>[GN1800]</td>\n",
       "      <td>[Jude Law]</td>\n",
       "      <td>4</td>\n",
       "    </tr>\n",
       "  </tbody>\n",
       "</table>\n",
       "</div>\n",
       "      <button class=\"colab-df-convert\" onclick=\"convertToInteractive('df-9d332179-99b4-4eb3-a8af-f14ee69599fa')\"\n",
       "              title=\"Convert this dataframe to an interactive table.\"\n",
       "              style=\"display:none;\">\n",
       "        \n",
       "  <svg xmlns=\"http://www.w3.org/2000/svg\" height=\"24px\"viewBox=\"0 0 24 24\"\n",
       "       width=\"24px\">\n",
       "    <path d=\"M0 0h24v24H0V0z\" fill=\"none\"/>\n",
       "    <path d=\"M18.56 5.44l.94 2.06.94-2.06 2.06-.94-2.06-.94-.94-2.06-.94 2.06-2.06.94zm-11 1L8.5 8.5l.94-2.06 2.06-.94-2.06-.94L8.5 2.5l-.94 2.06-2.06.94zm10 10l.94 2.06.94-2.06 2.06-.94-2.06-.94-.94-2.06-.94 2.06-2.06.94z\"/><path d=\"M17.41 7.96l-1.37-1.37c-.4-.4-.92-.59-1.43-.59-.52 0-1.04.2-1.43.59L10.3 9.45l-7.72 7.72c-.78.78-.78 2.05 0 2.83L4 21.41c.39.39.9.59 1.41.59.51 0 1.02-.2 1.41-.59l7.78-7.78 2.81-2.81c.8-.78.8-2.07 0-2.86zM5.41 20L4 18.59l7.72-7.72 1.47 1.35L5.41 20z\"/>\n",
       "  </svg>\n",
       "      </button>\n",
       "      \n",
       "  <style>\n",
       "    .colab-df-container {\n",
       "      display:flex;\n",
       "      flex-wrap:wrap;\n",
       "      gap: 12px;\n",
       "    }\n",
       "\n",
       "    .colab-df-convert {\n",
       "      background-color: #E8F0FE;\n",
       "      border: none;\n",
       "      border-radius: 50%;\n",
       "      cursor: pointer;\n",
       "      display: none;\n",
       "      fill: #1967D2;\n",
       "      height: 32px;\n",
       "      padding: 0 0 0 0;\n",
       "      width: 32px;\n",
       "    }\n",
       "\n",
       "    .colab-df-convert:hover {\n",
       "      background-color: #E2EBFA;\n",
       "      box-shadow: 0px 1px 2px rgba(60, 64, 67, 0.3), 0px 1px 3px 1px rgba(60, 64, 67, 0.15);\n",
       "      fill: #174EA6;\n",
       "    }\n",
       "\n",
       "    [theme=dark] .colab-df-convert {\n",
       "      background-color: #3B4455;\n",
       "      fill: #D2E3FC;\n",
       "    }\n",
       "\n",
       "    [theme=dark] .colab-df-convert:hover {\n",
       "      background-color: #434B5C;\n",
       "      box-shadow: 0px 1px 3px 1px rgba(0, 0, 0, 0.15);\n",
       "      filter: drop-shadow(0px 1px 2px rgba(0, 0, 0, 0.3));\n",
       "      fill: #FFFFFF;\n",
       "    }\n",
       "  </style>\n",
       "\n",
       "      <script>\n",
       "        const buttonEl =\n",
       "          document.querySelector('#df-9d332179-99b4-4eb3-a8af-f14ee69599fa button.colab-df-convert');\n",
       "        buttonEl.style.display =\n",
       "          google.colab.kernel.accessAllowed ? 'block' : 'none';\n",
       "\n",
       "        async function convertToInteractive(key) {\n",
       "          const element = document.querySelector('#df-9d332179-99b4-4eb3-a8af-f14ee69599fa');\n",
       "          const dataTable =\n",
       "            await google.colab.kernel.invokeFunction('convertToInteractive',\n",
       "                                                     [key], {});\n",
       "          if (!dataTable) return;\n",
       "\n",
       "          const docLinkHtml = 'Like what you see? Visit the ' +\n",
       "            '<a target=\"_blank\" href=https://colab.research.google.com/notebooks/data_table.ipynb>data table notebook</a>'\n",
       "            + ' to learn more about interactive tables.';\n",
       "          element.innerHTML = '';\n",
       "          dataTable['output_type'] = 'display_data';\n",
       "          await google.colab.output.renderOutput(dataTable, element);\n",
       "          const docLink = document.createElement('div');\n",
       "          docLink.innerHTML = docLinkHtml;\n",
       "          element.appendChild(docLink);\n",
       "        }\n",
       "      </script>\n",
       "    </div>\n",
       "  </div>\n",
       "  "
      ],
      "text/plain": [
       "  song_gn_dtl_gnr_basket  issue_date  ... artist_name_basket  id\n",
       "0               [GN0901]    20140512  ...  [Various Artists]   0\n",
       "1       [GN1601, GN1606]    20080421  ...   [Murray Perahia]   1\n",
       "2               [GN0901]    20180518  ...    [Peter Gabriel]   2\n",
       "3       [GN1102, GN1101]    20151016  ...           [Matoma]   3\n",
       "4       [GN1802, GN1801]    20110824  ...         [Jude Law]   4\n",
       "\n",
       "[5 rows x 9 columns]"
      ]
     },
     "execution_count": 11,
     "metadata": {},
     "output_type": "execute_result"
    }
   ],
   "source": [
    "song.head(5)"
   ]
  },
  {
   "cell_type": "code",
   "execution_count": null,
   "metadata": {
    "colab": {
     "base_uri": "https://localhost:8080/"
    },
    "executionInfo": {
     "elapsed": 2706,
     "status": "ok",
     "timestamp": 1642135491177,
     "user": {
      "displayName": "유상준",
      "photoUrl": "https://lh3.googleusercontent.com/a-/AOh14GjwhV3OPaZeVbcnb0L540CX4dtB2wGRfCVw4E8=s64",
      "userId": "06620102043085366517"
     },
     "user_tz": -540
    },
    "id": "0jJwR__ntwxb",
    "outputId": "529ce18b-42ec-4106-8b97-9671b3ff1edd"
   },
   "outputs": [
    {
     "data": {
      "text/plain": [
       "song_gn_dtl_gnr_basket    0\n",
       "issue_date                0\n",
       "album_name                4\n",
       "album_id                  0\n",
       "artist_id_basket          0\n",
       "song_name                 0\n",
       "song_gn_gnr_basket        0\n",
       "artist_name_basket        0\n",
       "id                        0\n",
       "dtype: int64"
      ]
     },
     "execution_count": 12,
     "metadata": {},
     "output_type": "execute_result"
    }
   ],
   "source": [
    "# alnum_id 에서 결측치 4개 발견\n",
    "song.isnull().sum()"
   ]
  },
  {
   "cell_type": "markdown",
   "metadata": {
    "id": "2NUTVBqBvgXc"
   },
   "source": [
    "- album_name이 누락된 4개의 노래 정보에서 앨범 이름 검색하여 업데이트 해주기"
   ]
  },
  {
   "cell_type": "code",
   "execution_count": null,
   "metadata": {
    "colab": {
     "base_uri": "https://localhost:8080/",
     "height": 271
    },
    "executionInfo": {
     "elapsed": 341,
     "status": "ok",
     "timestamp": 1642135499476,
     "user": {
      "displayName": "유상준",
      "photoUrl": "https://lh3.googleusercontent.com/a-/AOh14GjwhV3OPaZeVbcnb0L540CX4dtB2wGRfCVw4E8=s64",
      "userId": "06620102043085366517"
     },
     "user_tz": -540
    },
    "id": "ErkixoyCt8H0",
    "outputId": "eea4423e-9672-46de-ab9e-236033d99996"
   },
   "outputs": [
    {
     "data": {
      "text/html": [
       "\n",
       "  <div id=\"df-2849afd4-543e-4816-86eb-9ec876f0d111\">\n",
       "    <div class=\"colab-df-container\">\n",
       "      <div>\n",
       "<style scoped>\n",
       "    .dataframe tbody tr th:only-of-type {\n",
       "        vertical-align: middle;\n",
       "    }\n",
       "\n",
       "    .dataframe tbody tr th {\n",
       "        vertical-align: top;\n",
       "    }\n",
       "\n",
       "    .dataframe thead th {\n",
       "        text-align: right;\n",
       "    }\n",
       "</style>\n",
       "<table border=\"1\" class=\"dataframe\">\n",
       "  <thead>\n",
       "    <tr style=\"text-align: right;\">\n",
       "      <th></th>\n",
       "      <th>song_gn_dtl_gnr_basket</th>\n",
       "      <th>issue_date</th>\n",
       "      <th>album_name</th>\n",
       "      <th>album_id</th>\n",
       "      <th>artist_id_basket</th>\n",
       "      <th>song_name</th>\n",
       "      <th>song_gn_gnr_basket</th>\n",
       "      <th>artist_name_basket</th>\n",
       "      <th>id</th>\n",
       "    </tr>\n",
       "  </thead>\n",
       "  <tbody>\n",
       "    <tr>\n",
       "      <th>143209</th>\n",
       "      <td>[GN0501, GN0601, GN0503, GN0606, GN0509]</td>\n",
       "      <td>20150522</td>\n",
       "      <td>None</td>\n",
       "      <td>2318271</td>\n",
       "      <td>[726168]</td>\n",
       "      <td>사랑바보</td>\n",
       "      <td>[GN0500, GN0600]</td>\n",
       "      <td>[민은서밴드]</td>\n",
       "      <td>143209</td>\n",
       "    </tr>\n",
       "    <tr>\n",
       "      <th>291631</th>\n",
       "      <td>[GN0105, GN0101]</td>\n",
       "      <td>20101108</td>\n",
       "      <td>None</td>\n",
       "      <td>1065178</td>\n",
       "      <td>[28772]</td>\n",
       "      <td>빗속에서</td>\n",
       "      <td>[GN0100]</td>\n",
       "      <td>[존박]</td>\n",
       "      <td>291631</td>\n",
       "    </tr>\n",
       "    <tr>\n",
       "      <th>431110</th>\n",
       "      <td>[GN0509, GN0601, GN0503, GN0606, GN0501]</td>\n",
       "      <td>20200208</td>\n",
       "      <td>None</td>\n",
       "      <td>10385717</td>\n",
       "      <td>[2203064]</td>\n",
       "      <td>화면</td>\n",
       "      <td>[GN0500, GN0600]</td>\n",
       "      <td>[Oowl Hannal (우울 한날)]</td>\n",
       "      <td>431110</td>\n",
       "    </tr>\n",
       "    <tr>\n",
       "      <th>552088</th>\n",
       "      <td>[GN0105, GN0601]</td>\n",
       "      <td>20101108</td>\n",
       "      <td>None</td>\n",
       "      <td>1065178</td>\n",
       "      <td>[28263]</td>\n",
       "      <td>본능적으로 (Feat. Swings)</td>\n",
       "      <td>[GN0600, GN0100]</td>\n",
       "      <td>[강승윤]</td>\n",
       "      <td>552088</td>\n",
       "    </tr>\n",
       "  </tbody>\n",
       "</table>\n",
       "</div>\n",
       "      <button class=\"colab-df-convert\" onclick=\"convertToInteractive('df-2849afd4-543e-4816-86eb-9ec876f0d111')\"\n",
       "              title=\"Convert this dataframe to an interactive table.\"\n",
       "              style=\"display:none;\">\n",
       "        \n",
       "  <svg xmlns=\"http://www.w3.org/2000/svg\" height=\"24px\"viewBox=\"0 0 24 24\"\n",
       "       width=\"24px\">\n",
       "    <path d=\"M0 0h24v24H0V0z\" fill=\"none\"/>\n",
       "    <path d=\"M18.56 5.44l.94 2.06.94-2.06 2.06-.94-2.06-.94-.94-2.06-.94 2.06-2.06.94zm-11 1L8.5 8.5l.94-2.06 2.06-.94-2.06-.94L8.5 2.5l-.94 2.06-2.06.94zm10 10l.94 2.06.94-2.06 2.06-.94-2.06-.94-.94-2.06-.94 2.06-2.06.94z\"/><path d=\"M17.41 7.96l-1.37-1.37c-.4-.4-.92-.59-1.43-.59-.52 0-1.04.2-1.43.59L10.3 9.45l-7.72 7.72c-.78.78-.78 2.05 0 2.83L4 21.41c.39.39.9.59 1.41.59.51 0 1.02-.2 1.41-.59l7.78-7.78 2.81-2.81c.8-.78.8-2.07 0-2.86zM5.41 20L4 18.59l7.72-7.72 1.47 1.35L5.41 20z\"/>\n",
       "  </svg>\n",
       "      </button>\n",
       "      \n",
       "  <style>\n",
       "    .colab-df-container {\n",
       "      display:flex;\n",
       "      flex-wrap:wrap;\n",
       "      gap: 12px;\n",
       "    }\n",
       "\n",
       "    .colab-df-convert {\n",
       "      background-color: #E8F0FE;\n",
       "      border: none;\n",
       "      border-radius: 50%;\n",
       "      cursor: pointer;\n",
       "      display: none;\n",
       "      fill: #1967D2;\n",
       "      height: 32px;\n",
       "      padding: 0 0 0 0;\n",
       "      width: 32px;\n",
       "    }\n",
       "\n",
       "    .colab-df-convert:hover {\n",
       "      background-color: #E2EBFA;\n",
       "      box-shadow: 0px 1px 2px rgba(60, 64, 67, 0.3), 0px 1px 3px 1px rgba(60, 64, 67, 0.15);\n",
       "      fill: #174EA6;\n",
       "    }\n",
       "\n",
       "    [theme=dark] .colab-df-convert {\n",
       "      background-color: #3B4455;\n",
       "      fill: #D2E3FC;\n",
       "    }\n",
       "\n",
       "    [theme=dark] .colab-df-convert:hover {\n",
       "      background-color: #434B5C;\n",
       "      box-shadow: 0px 1px 3px 1px rgba(0, 0, 0, 0.15);\n",
       "      filter: drop-shadow(0px 1px 2px rgba(0, 0, 0, 0.3));\n",
       "      fill: #FFFFFF;\n",
       "    }\n",
       "  </style>\n",
       "\n",
       "      <script>\n",
       "        const buttonEl =\n",
       "          document.querySelector('#df-2849afd4-543e-4816-86eb-9ec876f0d111 button.colab-df-convert');\n",
       "        buttonEl.style.display =\n",
       "          google.colab.kernel.accessAllowed ? 'block' : 'none';\n",
       "\n",
       "        async function convertToInteractive(key) {\n",
       "          const element = document.querySelector('#df-2849afd4-543e-4816-86eb-9ec876f0d111');\n",
       "          const dataTable =\n",
       "            await google.colab.kernel.invokeFunction('convertToInteractive',\n",
       "                                                     [key], {});\n",
       "          if (!dataTable) return;\n",
       "\n",
       "          const docLinkHtml = 'Like what you see? Visit the ' +\n",
       "            '<a target=\"_blank\" href=https://colab.research.google.com/notebooks/data_table.ipynb>data table notebook</a>'\n",
       "            + ' to learn more about interactive tables.';\n",
       "          element.innerHTML = '';\n",
       "          dataTable['output_type'] = 'display_data';\n",
       "          await google.colab.output.renderOutput(dataTable, element);\n",
       "          const docLink = document.createElement('div');\n",
       "          docLink.innerHTML = docLinkHtml;\n",
       "          element.appendChild(docLink);\n",
       "        }\n",
       "      </script>\n",
       "    </div>\n",
       "  </div>\n",
       "  "
      ],
      "text/plain": [
       "                          song_gn_dtl_gnr_basket  ...      id\n",
       "143209  [GN0501, GN0601, GN0503, GN0606, GN0509]  ...  143209\n",
       "291631                          [GN0105, GN0101]  ...  291631\n",
       "431110  [GN0509, GN0601, GN0503, GN0606, GN0501]  ...  431110\n",
       "552088                          [GN0105, GN0601]  ...  552088\n",
       "\n",
       "[4 rows x 9 columns]"
      ]
     },
     "execution_count": 13,
     "metadata": {},
     "output_type": "execute_result"
    }
   ],
   "source": [
    "song[song['album_name'].isnull()]"
   ]
  },
  {
   "cell_type": "code",
   "execution_count": null,
   "metadata": {
    "id": "-F16zdzvuWyt"
   },
   "outputs": [],
   "source": [
    "song.iloc[143209,2] = '사랑바보'\n",
    "song.iloc[431110,2] = '슈퍼스타K 2 Top11 Part.3'\n",
    "song.iloc[552088,2] = '슈퍼스타K2 Up To 11'"
   ]
  },
  {
   "cell_type": "markdown",
   "metadata": {
    "id": "VAE0bCNcxGm9"
   },
   "source": [
    "가수 '우울 한 날'의 노래 '화면'은 EP이기때문에 앨범 표시가 없다. => 노래 제목을 앨범 이름으로 매칭"
   ]
  },
  {
   "cell_type": "code",
   "execution_count": null,
   "metadata": {
    "id": "ocPcg27Lxb6o"
   },
   "outputs": [],
   "source": [
    "song.iloc[291631,2] = '화면'"
   ]
  },
  {
   "cell_type": "code",
   "execution_count": null,
   "metadata": {
    "colab": {
     "base_uri": "https://localhost:8080/",
     "height": 271
    },
    "executionInfo": {
     "elapsed": 372,
     "status": "ok",
     "timestamp": 1642135503616,
     "user": {
      "displayName": "유상준",
      "photoUrl": "https://lh3.googleusercontent.com/a-/AOh14GjwhV3OPaZeVbcnb0L540CX4dtB2wGRfCVw4E8=s64",
      "userId": "06620102043085366517"
     },
     "user_tz": -540
    },
    "id": "FBZ5x3ySxhF-",
    "outputId": "6a39d669-43e3-47d5-9440-33e933dc7173"
   },
   "outputs": [
    {
     "data": {
      "text/html": [
       "\n",
       "  <div id=\"df-a95ec02a-2b14-4b9f-8d1c-8bd11629e30e\">\n",
       "    <div class=\"colab-df-container\">\n",
       "      <div>\n",
       "<style scoped>\n",
       "    .dataframe tbody tr th:only-of-type {\n",
       "        vertical-align: middle;\n",
       "    }\n",
       "\n",
       "    .dataframe tbody tr th {\n",
       "        vertical-align: top;\n",
       "    }\n",
       "\n",
       "    .dataframe thead th {\n",
       "        text-align: right;\n",
       "    }\n",
       "</style>\n",
       "<table border=\"1\" class=\"dataframe\">\n",
       "  <thead>\n",
       "    <tr style=\"text-align: right;\">\n",
       "      <th></th>\n",
       "      <th>song_gn_dtl_gnr_basket</th>\n",
       "      <th>issue_date</th>\n",
       "      <th>album_name</th>\n",
       "      <th>album_id</th>\n",
       "      <th>artist_id_basket</th>\n",
       "      <th>song_name</th>\n",
       "      <th>song_gn_gnr_basket</th>\n",
       "      <th>artist_name_basket</th>\n",
       "      <th>id</th>\n",
       "    </tr>\n",
       "  </thead>\n",
       "  <tbody>\n",
       "    <tr>\n",
       "      <th>143209</th>\n",
       "      <td>[GN0501, GN0601, GN0503, GN0606, GN0509]</td>\n",
       "      <td>20150522</td>\n",
       "      <td>사랑바보</td>\n",
       "      <td>2318271</td>\n",
       "      <td>[726168]</td>\n",
       "      <td>사랑바보</td>\n",
       "      <td>[GN0500, GN0600]</td>\n",
       "      <td>[민은서밴드]</td>\n",
       "      <td>143209</td>\n",
       "    </tr>\n",
       "    <tr>\n",
       "      <th>291631</th>\n",
       "      <td>[GN0105, GN0101]</td>\n",
       "      <td>20101108</td>\n",
       "      <td>화면</td>\n",
       "      <td>1065178</td>\n",
       "      <td>[28772]</td>\n",
       "      <td>빗속에서</td>\n",
       "      <td>[GN0100]</td>\n",
       "      <td>[존박]</td>\n",
       "      <td>291631</td>\n",
       "    </tr>\n",
       "    <tr>\n",
       "      <th>431110</th>\n",
       "      <td>[GN0509, GN0601, GN0503, GN0606, GN0501]</td>\n",
       "      <td>20200208</td>\n",
       "      <td>슈퍼스타K 2 Top11 Part.3</td>\n",
       "      <td>10385717</td>\n",
       "      <td>[2203064]</td>\n",
       "      <td>화면</td>\n",
       "      <td>[GN0500, GN0600]</td>\n",
       "      <td>[Oowl Hannal (우울 한날)]</td>\n",
       "      <td>431110</td>\n",
       "    </tr>\n",
       "    <tr>\n",
       "      <th>552088</th>\n",
       "      <td>[GN0105, GN0601]</td>\n",
       "      <td>20101108</td>\n",
       "      <td>슈퍼스타K2 Up To 11</td>\n",
       "      <td>1065178</td>\n",
       "      <td>[28263]</td>\n",
       "      <td>본능적으로 (Feat. Swings)</td>\n",
       "      <td>[GN0600, GN0100]</td>\n",
       "      <td>[강승윤]</td>\n",
       "      <td>552088</td>\n",
       "    </tr>\n",
       "  </tbody>\n",
       "</table>\n",
       "</div>\n",
       "      <button class=\"colab-df-convert\" onclick=\"convertToInteractive('df-a95ec02a-2b14-4b9f-8d1c-8bd11629e30e')\"\n",
       "              title=\"Convert this dataframe to an interactive table.\"\n",
       "              style=\"display:none;\">\n",
       "        \n",
       "  <svg xmlns=\"http://www.w3.org/2000/svg\" height=\"24px\"viewBox=\"0 0 24 24\"\n",
       "       width=\"24px\">\n",
       "    <path d=\"M0 0h24v24H0V0z\" fill=\"none\"/>\n",
       "    <path d=\"M18.56 5.44l.94 2.06.94-2.06 2.06-.94-2.06-.94-.94-2.06-.94 2.06-2.06.94zm-11 1L8.5 8.5l.94-2.06 2.06-.94-2.06-.94L8.5 2.5l-.94 2.06-2.06.94zm10 10l.94 2.06.94-2.06 2.06-.94-2.06-.94-.94-2.06-.94 2.06-2.06.94z\"/><path d=\"M17.41 7.96l-1.37-1.37c-.4-.4-.92-.59-1.43-.59-.52 0-1.04.2-1.43.59L10.3 9.45l-7.72 7.72c-.78.78-.78 2.05 0 2.83L4 21.41c.39.39.9.59 1.41.59.51 0 1.02-.2 1.41-.59l7.78-7.78 2.81-2.81c.8-.78.8-2.07 0-2.86zM5.41 20L4 18.59l7.72-7.72 1.47 1.35L5.41 20z\"/>\n",
       "  </svg>\n",
       "      </button>\n",
       "      \n",
       "  <style>\n",
       "    .colab-df-container {\n",
       "      display:flex;\n",
       "      flex-wrap:wrap;\n",
       "      gap: 12px;\n",
       "    }\n",
       "\n",
       "    .colab-df-convert {\n",
       "      background-color: #E8F0FE;\n",
       "      border: none;\n",
       "      border-radius: 50%;\n",
       "      cursor: pointer;\n",
       "      display: none;\n",
       "      fill: #1967D2;\n",
       "      height: 32px;\n",
       "      padding: 0 0 0 0;\n",
       "      width: 32px;\n",
       "    }\n",
       "\n",
       "    .colab-df-convert:hover {\n",
       "      background-color: #E2EBFA;\n",
       "      box-shadow: 0px 1px 2px rgba(60, 64, 67, 0.3), 0px 1px 3px 1px rgba(60, 64, 67, 0.15);\n",
       "      fill: #174EA6;\n",
       "    }\n",
       "\n",
       "    [theme=dark] .colab-df-convert {\n",
       "      background-color: #3B4455;\n",
       "      fill: #D2E3FC;\n",
       "    }\n",
       "\n",
       "    [theme=dark] .colab-df-convert:hover {\n",
       "      background-color: #434B5C;\n",
       "      box-shadow: 0px 1px 3px 1px rgba(0, 0, 0, 0.15);\n",
       "      filter: drop-shadow(0px 1px 2px rgba(0, 0, 0, 0.3));\n",
       "      fill: #FFFFFF;\n",
       "    }\n",
       "  </style>\n",
       "\n",
       "      <script>\n",
       "        const buttonEl =\n",
       "          document.querySelector('#df-a95ec02a-2b14-4b9f-8d1c-8bd11629e30e button.colab-df-convert');\n",
       "        buttonEl.style.display =\n",
       "          google.colab.kernel.accessAllowed ? 'block' : 'none';\n",
       "\n",
       "        async function convertToInteractive(key) {\n",
       "          const element = document.querySelector('#df-a95ec02a-2b14-4b9f-8d1c-8bd11629e30e');\n",
       "          const dataTable =\n",
       "            await google.colab.kernel.invokeFunction('convertToInteractive',\n",
       "                                                     [key], {});\n",
       "          if (!dataTable) return;\n",
       "\n",
       "          const docLinkHtml = 'Like what you see? Visit the ' +\n",
       "            '<a target=\"_blank\" href=https://colab.research.google.com/notebooks/data_table.ipynb>data table notebook</a>'\n",
       "            + ' to learn more about interactive tables.';\n",
       "          element.innerHTML = '';\n",
       "          dataTable['output_type'] = 'display_data';\n",
       "          await google.colab.output.renderOutput(dataTable, element);\n",
       "          const docLink = document.createElement('div');\n",
       "          docLink.innerHTML = docLinkHtml;\n",
       "          element.appendChild(docLink);\n",
       "        }\n",
       "      </script>\n",
       "    </div>\n",
       "  </div>\n",
       "  "
      ],
      "text/plain": [
       "                          song_gn_dtl_gnr_basket  ...      id\n",
       "143209  [GN0501, GN0601, GN0503, GN0606, GN0509]  ...  143209\n",
       "291631                          [GN0105, GN0101]  ...  291631\n",
       "431110  [GN0509, GN0601, GN0503, GN0606, GN0501]  ...  431110\n",
       "552088                          [GN0105, GN0601]  ...  552088\n",
       "\n",
       "[4 rows x 9 columns]"
      ]
     },
     "execution_count": 16,
     "metadata": {},
     "output_type": "execute_result"
    }
   ],
   "source": [
    "song.iloc[[143209,291631,431110,552088],:]"
   ]
  },
  {
   "cell_type": "code",
   "execution_count": null,
   "metadata": {
    "colab": {
     "base_uri": "https://localhost:8080/"
    },
    "executionInfo": {
     "elapsed": 408,
     "status": "ok",
     "timestamp": 1642135505779,
     "user": {
      "displayName": "유상준",
      "photoUrl": "https://lh3.googleusercontent.com/a-/AOh14GjwhV3OPaZeVbcnb0L540CX4dtB2wGRfCVw4E8=s64",
      "userId": "06620102043085366517"
     },
     "user_tz": -540
    },
    "id": "f9V2ulaVxozN",
    "outputId": "076171b8-29b2-4021-c25c-8640eec69528"
   },
   "outputs": [
    {
     "data": {
      "text/plain": [
       "song_gn_dtl_gnr_basket    0\n",
       "issue_date                0\n",
       "album_name                0\n",
       "album_id                  0\n",
       "artist_id_basket          0\n",
       "song_name                 0\n",
       "song_gn_gnr_basket        0\n",
       "artist_name_basket        0\n",
       "id                        0\n",
       "dtype: int64"
      ]
     },
     "execution_count": 17,
     "metadata": {},
     "output_type": "execute_result"
    }
   ],
   "source": [
    "song.isnull().sum()"
   ]
  },
  {
   "cell_type": "markdown",
   "metadata": {
    "id": "dFlvnBoHxxIA"
   },
   "source": [
    "### 장르 대분류, 소분류 개수 파악 (한 곡이 몇개의 장르에 매핑됐는지)"
   ]
  },
  {
   "cell_type": "code",
   "execution_count": null,
   "metadata": {
    "id": "zB6ckkRXzjP_"
   },
   "outputs": [],
   "source": [
    "gn_gnr_len = [len(x) for x in song['song_gn_gnr_basket']]\n",
    "gn_dtl_gnr_len = [len(x) for x in song['song_gn_dtl_gnr_basket']]"
   ]
  },
  {
   "cell_type": "code",
   "execution_count": null,
   "metadata": {
    "colab": {
     "base_uri": "https://localhost:8080/",
     "height": 206
    },
    "executionInfo": {
     "elapsed": 686,
     "status": "ok",
     "timestamp": 1641968283243,
     "user": {
      "displayName": "유상준",
      "photoUrl": "https://lh3.googleusercontent.com/a-/AOh14GjwhV3OPaZeVbcnb0L540CX4dtB2wGRfCVw4E8=s64",
      "userId": "06620102043085366517"
     },
     "user_tz": -540
    },
    "id": "LCkLsVn_EoeS",
    "outputId": "55991253-a941-4e61-9e22-75a7888c25c5"
   },
   "outputs": [
    {
     "data": {
      "text/html": [
       "\n",
       "  <div id=\"df-fb36b415-279a-46bd-be6c-ec94d594fe14\">\n",
       "    <div class=\"colab-df-container\">\n",
       "      <div>\n",
       "<style scoped>\n",
       "    .dataframe tbody tr th:only-of-type {\n",
       "        vertical-align: middle;\n",
       "    }\n",
       "\n",
       "    .dataframe tbody tr th {\n",
       "        vertical-align: top;\n",
       "    }\n",
       "\n",
       "    .dataframe thead th {\n",
       "        text-align: right;\n",
       "    }\n",
       "</style>\n",
       "<table border=\"1\" class=\"dataframe\">\n",
       "  <thead>\n",
       "    <tr style=\"text-align: right;\">\n",
       "      <th></th>\n",
       "      <th>gn_gnr_len</th>\n",
       "      <th>gn_dtl_gnr_len</th>\n",
       "    </tr>\n",
       "  </thead>\n",
       "  <tbody>\n",
       "    <tr>\n",
       "      <th>0</th>\n",
       "      <td>1</td>\n",
       "      <td>1</td>\n",
       "    </tr>\n",
       "    <tr>\n",
       "      <th>1</th>\n",
       "      <td>1</td>\n",
       "      <td>2</td>\n",
       "    </tr>\n",
       "    <tr>\n",
       "      <th>2</th>\n",
       "      <td>1</td>\n",
       "      <td>1</td>\n",
       "    </tr>\n",
       "    <tr>\n",
       "      <th>3</th>\n",
       "      <td>1</td>\n",
       "      <td>2</td>\n",
       "    </tr>\n",
       "    <tr>\n",
       "      <th>4</th>\n",
       "      <td>1</td>\n",
       "      <td>2</td>\n",
       "    </tr>\n",
       "  </tbody>\n",
       "</table>\n",
       "</div>\n",
       "      <button class=\"colab-df-convert\" onclick=\"convertToInteractive('df-fb36b415-279a-46bd-be6c-ec94d594fe14')\"\n",
       "              title=\"Convert this dataframe to an interactive table.\"\n",
       "              style=\"display:none;\">\n",
       "        \n",
       "  <svg xmlns=\"http://www.w3.org/2000/svg\" height=\"24px\"viewBox=\"0 0 24 24\"\n",
       "       width=\"24px\">\n",
       "    <path d=\"M0 0h24v24H0V0z\" fill=\"none\"/>\n",
       "    <path d=\"M18.56 5.44l.94 2.06.94-2.06 2.06-.94-2.06-.94-.94-2.06-.94 2.06-2.06.94zm-11 1L8.5 8.5l.94-2.06 2.06-.94-2.06-.94L8.5 2.5l-.94 2.06-2.06.94zm10 10l.94 2.06.94-2.06 2.06-.94-2.06-.94-.94-2.06-.94 2.06-2.06.94z\"/><path d=\"M17.41 7.96l-1.37-1.37c-.4-.4-.92-.59-1.43-.59-.52 0-1.04.2-1.43.59L10.3 9.45l-7.72 7.72c-.78.78-.78 2.05 0 2.83L4 21.41c.39.39.9.59 1.41.59.51 0 1.02-.2 1.41-.59l7.78-7.78 2.81-2.81c.8-.78.8-2.07 0-2.86zM5.41 20L4 18.59l7.72-7.72 1.47 1.35L5.41 20z\"/>\n",
       "  </svg>\n",
       "      </button>\n",
       "      \n",
       "  <style>\n",
       "    .colab-df-container {\n",
       "      display:flex;\n",
       "      flex-wrap:wrap;\n",
       "      gap: 12px;\n",
       "    }\n",
       "\n",
       "    .colab-df-convert {\n",
       "      background-color: #E8F0FE;\n",
       "      border: none;\n",
       "      border-radius: 50%;\n",
       "      cursor: pointer;\n",
       "      display: none;\n",
       "      fill: #1967D2;\n",
       "      height: 32px;\n",
       "      padding: 0 0 0 0;\n",
       "      width: 32px;\n",
       "    }\n",
       "\n",
       "    .colab-df-convert:hover {\n",
       "      background-color: #E2EBFA;\n",
       "      box-shadow: 0px 1px 2px rgba(60, 64, 67, 0.3), 0px 1px 3px 1px rgba(60, 64, 67, 0.15);\n",
       "      fill: #174EA6;\n",
       "    }\n",
       "\n",
       "    [theme=dark] .colab-df-convert {\n",
       "      background-color: #3B4455;\n",
       "      fill: #D2E3FC;\n",
       "    }\n",
       "\n",
       "    [theme=dark] .colab-df-convert:hover {\n",
       "      background-color: #434B5C;\n",
       "      box-shadow: 0px 1px 3px 1px rgba(0, 0, 0, 0.15);\n",
       "      filter: drop-shadow(0px 1px 2px rgba(0, 0, 0, 0.3));\n",
       "      fill: #FFFFFF;\n",
       "    }\n",
       "  </style>\n",
       "\n",
       "      <script>\n",
       "        const buttonEl =\n",
       "          document.querySelector('#df-fb36b415-279a-46bd-be6c-ec94d594fe14 button.colab-df-convert');\n",
       "        buttonEl.style.display =\n",
       "          google.colab.kernel.accessAllowed ? 'block' : 'none';\n",
       "\n",
       "        async function convertToInteractive(key) {\n",
       "          const element = document.querySelector('#df-fb36b415-279a-46bd-be6c-ec94d594fe14');\n",
       "          const dataTable =\n",
       "            await google.colab.kernel.invokeFunction('convertToInteractive',\n",
       "                                                     [key], {});\n",
       "          if (!dataTable) return;\n",
       "\n",
       "          const docLinkHtml = 'Like what you see? Visit the ' +\n",
       "            '<a target=\"_blank\" href=https://colab.research.google.com/notebooks/data_table.ipynb>data table notebook</a>'\n",
       "            + ' to learn more about interactive tables.';\n",
       "          element.innerHTML = '';\n",
       "          dataTable['output_type'] = 'display_data';\n",
       "          await google.colab.output.renderOutput(dataTable, element);\n",
       "          const docLink = document.createElement('div');\n",
       "          docLink.innerHTML = docLinkHtml;\n",
       "          element.appendChild(docLink);\n",
       "        }\n",
       "      </script>\n",
       "    </div>\n",
       "  </div>\n",
       "  "
      ],
      "text/plain": [
       "   gn_gnr_len  gn_dtl_gnr_len\n",
       "0           1               1\n",
       "1           1               2\n",
       "2           1               1\n",
       "3           1               2\n",
       "4           1               2"
      ]
     },
     "execution_count": 117,
     "metadata": {},
     "output_type": "execute_result"
    }
   ],
   "source": [
    "tmp = pd.DataFrame({\n",
    "    'gn_gnr_len' : gn_gnr_len,\n",
    "    'gn_dtl_gnr_len' : gn_dtl_gnr_len\n",
    "})\n",
    "\n",
    "tmp.head()"
   ]
  },
  {
   "cell_type": "code",
   "execution_count": null,
   "metadata": {
    "colab": {
     "base_uri": "https://localhost:8080/",
     "height": 531
    },
    "executionInfo": {
     "elapsed": 1431,
     "status": "ok",
     "timestamp": 1641968285809,
     "user": {
      "displayName": "유상준",
      "photoUrl": "https://lh3.googleusercontent.com/a-/AOh14GjwhV3OPaZeVbcnb0L540CX4dtB2wGRfCVw4E8=s64",
      "userId": "06620102043085366517"
     },
     "user_tz": -540
    },
    "id": "dPzLdgepEpGB",
    "outputId": "d387a7b9-826f-4b4b-fc37-51d482194425"
   },
   "outputs": [
    {
     "data": {
      "text/html": [
       "\n",
       "  <div id=\"df-9c94cae1-d30a-4264-992d-93f941bd996f\">\n",
       "    <div class=\"colab-df-container\">\n",
       "      <div>\n",
       "<style scoped>\n",
       "    .dataframe tbody tr th:only-of-type {\n",
       "        vertical-align: middle;\n",
       "    }\n",
       "\n",
       "    .dataframe tbody tr th {\n",
       "        vertical-align: top;\n",
       "    }\n",
       "\n",
       "    .dataframe thead th {\n",
       "        text-align: right;\n",
       "    }\n",
       "</style>\n",
       "<table border=\"1\" class=\"dataframe\">\n",
       "  <thead>\n",
       "    <tr style=\"text-align: right;\">\n",
       "      <th></th>\n",
       "      <th>song_gn_dtl_gnr_basket</th>\n",
       "      <th>issue_date</th>\n",
       "      <th>album_name</th>\n",
       "      <th>album_id</th>\n",
       "      <th>artist_id_basket</th>\n",
       "      <th>song_name</th>\n",
       "      <th>song_gn_gnr_basket</th>\n",
       "      <th>artist_name_basket</th>\n",
       "      <th>id</th>\n",
       "      <th>gn_gnr_len</th>\n",
       "      <th>gn_dtl_gnr_len</th>\n",
       "    </tr>\n",
       "  </thead>\n",
       "  <tbody>\n",
       "    <tr>\n",
       "      <th>0</th>\n",
       "      <td>[GN0901]</td>\n",
       "      <td>20140512</td>\n",
       "      <td>불후의 명곡 - 7080 추억의 얄개시대 팝송베스트</td>\n",
       "      <td>2255639</td>\n",
       "      <td>[2727]</td>\n",
       "      <td>Feelings</td>\n",
       "      <td>[GN0900]</td>\n",
       "      <td>[Various Artists]</td>\n",
       "      <td>0</td>\n",
       "      <td>1</td>\n",
       "      <td>1</td>\n",
       "    </tr>\n",
       "    <tr>\n",
       "      <th>1</th>\n",
       "      <td>[GN1601, GN1606]</td>\n",
       "      <td>20080421</td>\n",
       "      <td>Bach : Partitas Nos. 2, 3 &amp; 4</td>\n",
       "      <td>376431</td>\n",
       "      <td>[29966]</td>\n",
       "      <td>Bach : Partita No. 4 In D Major, BWV 828 - II....</td>\n",
       "      <td>[GN1600]</td>\n",
       "      <td>[Murray Perahia]</td>\n",
       "      <td>1</td>\n",
       "      <td>1</td>\n",
       "      <td>2</td>\n",
       "    </tr>\n",
       "    <tr>\n",
       "      <th>2</th>\n",
       "      <td>[GN0901]</td>\n",
       "      <td>20180518</td>\n",
       "      <td>Hit</td>\n",
       "      <td>4698747</td>\n",
       "      <td>[3361]</td>\n",
       "      <td>Solsbury Hill (Remastered 2002)</td>\n",
       "      <td>[GN0900]</td>\n",
       "      <td>[Peter Gabriel]</td>\n",
       "      <td>2</td>\n",
       "      <td>1</td>\n",
       "      <td>1</td>\n",
       "    </tr>\n",
       "    <tr>\n",
       "      <th>3</th>\n",
       "      <td>[GN1102, GN1101]</td>\n",
       "      <td>20151016</td>\n",
       "      <td>Feeling Right (Everything Is Nice) (Feat. Popc...</td>\n",
       "      <td>2644882</td>\n",
       "      <td>[838543]</td>\n",
       "      <td>Feeling Right (Everything Is Nice) (Feat. Popc...</td>\n",
       "      <td>[GN1100]</td>\n",
       "      <td>[Matoma]</td>\n",
       "      <td>3</td>\n",
       "      <td>1</td>\n",
       "      <td>2</td>\n",
       "    </tr>\n",
       "    <tr>\n",
       "      <th>4</th>\n",
       "      <td>[GN1802, GN1801]</td>\n",
       "      <td>20110824</td>\n",
       "      <td>그남자 그여자</td>\n",
       "      <td>2008470</td>\n",
       "      <td>[560160]</td>\n",
       "      <td>그남자 그여자</td>\n",
       "      <td>[GN1800]</td>\n",
       "      <td>[Jude Law]</td>\n",
       "      <td>4</td>\n",
       "      <td>1</td>\n",
       "      <td>2</td>\n",
       "    </tr>\n",
       "  </tbody>\n",
       "</table>\n",
       "</div>\n",
       "      <button class=\"colab-df-convert\" onclick=\"convertToInteractive('df-9c94cae1-d30a-4264-992d-93f941bd996f')\"\n",
       "              title=\"Convert this dataframe to an interactive table.\"\n",
       "              style=\"display:none;\">\n",
       "        \n",
       "  <svg xmlns=\"http://www.w3.org/2000/svg\" height=\"24px\"viewBox=\"0 0 24 24\"\n",
       "       width=\"24px\">\n",
       "    <path d=\"M0 0h24v24H0V0z\" fill=\"none\"/>\n",
       "    <path d=\"M18.56 5.44l.94 2.06.94-2.06 2.06-.94-2.06-.94-.94-2.06-.94 2.06-2.06.94zm-11 1L8.5 8.5l.94-2.06 2.06-.94-2.06-.94L8.5 2.5l-.94 2.06-2.06.94zm10 10l.94 2.06.94-2.06 2.06-.94-2.06-.94-.94-2.06-.94 2.06-2.06.94z\"/><path d=\"M17.41 7.96l-1.37-1.37c-.4-.4-.92-.59-1.43-.59-.52 0-1.04.2-1.43.59L10.3 9.45l-7.72 7.72c-.78.78-.78 2.05 0 2.83L4 21.41c.39.39.9.59 1.41.59.51 0 1.02-.2 1.41-.59l7.78-7.78 2.81-2.81c.8-.78.8-2.07 0-2.86zM5.41 20L4 18.59l7.72-7.72 1.47 1.35L5.41 20z\"/>\n",
       "  </svg>\n",
       "      </button>\n",
       "      \n",
       "  <style>\n",
       "    .colab-df-container {\n",
       "      display:flex;\n",
       "      flex-wrap:wrap;\n",
       "      gap: 12px;\n",
       "    }\n",
       "\n",
       "    .colab-df-convert {\n",
       "      background-color: #E8F0FE;\n",
       "      border: none;\n",
       "      border-radius: 50%;\n",
       "      cursor: pointer;\n",
       "      display: none;\n",
       "      fill: #1967D2;\n",
       "      height: 32px;\n",
       "      padding: 0 0 0 0;\n",
       "      width: 32px;\n",
       "    }\n",
       "\n",
       "    .colab-df-convert:hover {\n",
       "      background-color: #E2EBFA;\n",
       "      box-shadow: 0px 1px 2px rgba(60, 64, 67, 0.3), 0px 1px 3px 1px rgba(60, 64, 67, 0.15);\n",
       "      fill: #174EA6;\n",
       "    }\n",
       "\n",
       "    [theme=dark] .colab-df-convert {\n",
       "      background-color: #3B4455;\n",
       "      fill: #D2E3FC;\n",
       "    }\n",
       "\n",
       "    [theme=dark] .colab-df-convert:hover {\n",
       "      background-color: #434B5C;\n",
       "      box-shadow: 0px 1px 3px 1px rgba(0, 0, 0, 0.15);\n",
       "      filter: drop-shadow(0px 1px 2px rgba(0, 0, 0, 0.3));\n",
       "      fill: #FFFFFF;\n",
       "    }\n",
       "  </style>\n",
       "\n",
       "      <script>\n",
       "        const buttonEl =\n",
       "          document.querySelector('#df-9c94cae1-d30a-4264-992d-93f941bd996f button.colab-df-convert');\n",
       "        buttonEl.style.display =\n",
       "          google.colab.kernel.accessAllowed ? 'block' : 'none';\n",
       "\n",
       "        async function convertToInteractive(key) {\n",
       "          const element = document.querySelector('#df-9c94cae1-d30a-4264-992d-93f941bd996f');\n",
       "          const dataTable =\n",
       "            await google.colab.kernel.invokeFunction('convertToInteractive',\n",
       "                                                     [key], {});\n",
       "          if (!dataTable) return;\n",
       "\n",
       "          const docLinkHtml = 'Like what you see? Visit the ' +\n",
       "            '<a target=\"_blank\" href=https://colab.research.google.com/notebooks/data_table.ipynb>data table notebook</a>'\n",
       "            + ' to learn more about interactive tables.';\n",
       "          element.innerHTML = '';\n",
       "          dataTable['output_type'] = 'display_data';\n",
       "          await google.colab.output.renderOutput(dataTable, element);\n",
       "          const docLink = document.createElement('div');\n",
       "          docLink.innerHTML = docLinkHtml;\n",
       "          element.appendChild(docLink);\n",
       "        }\n",
       "      </script>\n",
       "    </div>\n",
       "  </div>\n",
       "  "
      ],
      "text/plain": [
       "  song_gn_dtl_gnr_basket  issue_date  ... gn_gnr_len  gn_dtl_gnr_len\n",
       "0               [GN0901]    20140512  ...          1               1\n",
       "1       [GN1601, GN1606]    20080421  ...          1               2\n",
       "2               [GN0901]    20180518  ...          1               1\n",
       "3       [GN1102, GN1101]    20151016  ...          1               2\n",
       "4       [GN1802, GN1801]    20110824  ...          1               2\n",
       "\n",
       "[5 rows x 11 columns]"
      ]
     },
     "execution_count": 118,
     "metadata": {},
     "output_type": "execute_result"
    }
   ],
   "source": [
    "song = pd.concat([song,tmp], axis = 1)\n",
    "song.head()"
   ]
  },
  {
   "cell_type": "markdown",
   "metadata": {
    "id": "2FJyJxHHCGtK"
   },
   "source": [
    "---"
   ]
  },
  {
   "cell_type": "code",
   "execution_count": null,
   "metadata": {
    "colab": {
     "base_uri": "https://localhost:8080/"
    },
    "executionInfo": {
     "elapsed": 265,
     "status": "ok",
     "timestamp": 1641968288916,
     "user": {
      "displayName": "유상준",
      "photoUrl": "https://lh3.googleusercontent.com/a-/AOh14GjwhV3OPaZeVbcnb0L540CX4dtB2wGRfCVw4E8=s64",
      "userId": "06620102043085366517"
     },
     "user_tz": -540
    },
    "id": "Tum532gVI1GV",
    "outputId": "c70c6286-397d-4a36-b9e9-ac4b1f0a45b8"
   },
   "outputs": [
    {
     "data": {
      "text/plain": [
       "1    612806\n",
       "2     92378\n",
       "3      1694\n",
       "0      1059\n",
       "4        48\n",
       "6         3\n",
       "5         1\n",
       "Name: gn_gnr_len, dtype: int64"
      ]
     },
     "execution_count": 119,
     "metadata": {},
     "output_type": "execute_result"
    }
   ],
   "source": [
    "song.gn_gnr_len.value_counts()"
   ]
  },
  {
   "cell_type": "code",
   "execution_count": null,
   "metadata": {
    "colab": {
     "base_uri": "https://localhost:8080/"
    },
    "executionInfo": {
     "elapsed": 382,
     "status": "ok",
     "timestamp": 1641968427916,
     "user": {
      "displayName": "유상준",
      "photoUrl": "https://lh3.googleusercontent.com/a-/AOh14GjwhV3OPaZeVbcnb0L540CX4dtB2wGRfCVw4E8=s64",
      "userId": "06620102043085366517"
     },
     "user_tz": -540
    },
    "id": "qylIaggs7zJH",
    "outputId": "d66608ef-780f-45ea-ec26-6734a7fe5994"
   },
   "outputs": [
    {
     "data": {
      "text/plain": [
       "0.0014957859514766472"
      ]
     },
     "execution_count": 130,
     "metadata": {},
     "output_type": "execute_result"
    }
   ],
   "source": [
    "song.gn_gnr_len.value_counts()[0].sum()/song.gn_gnr_len.value_counts().sum()"
   ]
  },
  {
   "cell_type": "markdown",
   "metadata": {
    "id": "iAAboncbJVnQ"
   },
   "source": [
    "- 장르가 없는 음원도 존재한다 -> 어떻게 취급할 것인가?"
   ]
  },
  {
   "cell_type": "markdown",
   "metadata": {
    "id": "iXocbmleJePO"
   },
   "source": []
  },
  {
   "cell_type": "code",
   "execution_count": null,
   "metadata": {
    "colab": {
     "base_uri": "https://localhost:8080/",
     "height": 340
    },
    "executionInfo": {
     "elapsed": 674,
     "status": "ok",
     "timestamp": 1641949947306,
     "user": {
      "displayName": "유상준",
      "photoUrl": "https://lh3.googleusercontent.com/a-/AOh14GjwhV3OPaZeVbcnb0L540CX4dtB2wGRfCVw4E8=s64",
      "userId": "06620102043085366517"
     },
     "user_tz": -540
    },
    "id": "iF78LLY3I1Db",
    "outputId": "2f69eea4-1320-41ae-f3b8-e17829f105d0"
   },
   "outputs": [
    {
     "data": {
      "text/html": [
       "\n",
       "  <div id=\"df-c3698ab5-8980-4167-9f7a-fd5c2689fbb5\">\n",
       "    <div class=\"colab-df-container\">\n",
       "      <div>\n",
       "<style scoped>\n",
       "    .dataframe tbody tr th:only-of-type {\n",
       "        vertical-align: middle;\n",
       "    }\n",
       "\n",
       "    .dataframe tbody tr th {\n",
       "        vertical-align: top;\n",
       "    }\n",
       "\n",
       "    .dataframe thead th {\n",
       "        text-align: right;\n",
       "    }\n",
       "</style>\n",
       "<table border=\"1\" class=\"dataframe\">\n",
       "  <thead>\n",
       "    <tr style=\"text-align: right;\">\n",
       "      <th></th>\n",
       "      <th>song_gn_dtl_gnr_basket</th>\n",
       "      <th>issue_date</th>\n",
       "      <th>album_name</th>\n",
       "      <th>album_id</th>\n",
       "      <th>artist_id_basket</th>\n",
       "      <th>song_name</th>\n",
       "      <th>song_gn_gnr_basket</th>\n",
       "      <th>artist_name_basket</th>\n",
       "      <th>id</th>\n",
       "      <th>gn_gnr_len</th>\n",
       "      <th>gn_dtl_gnr_len</th>\n",
       "    </tr>\n",
       "  </thead>\n",
       "  <tbody>\n",
       "    <tr>\n",
       "      <th>21</th>\n",
       "      <td>[]</td>\n",
       "      <td>20200331</td>\n",
       "      <td>WHY</td>\n",
       "      <td>10410508</td>\n",
       "      <td>[417985]</td>\n",
       "      <td>WHY</td>\n",
       "      <td>[]</td>\n",
       "      <td>[4minute]</td>\n",
       "      <td>21</td>\n",
       "      <td>0</td>\n",
       "      <td>0</td>\n",
       "    </tr>\n",
       "    <tr>\n",
       "      <th>399</th>\n",
       "      <td>[]</td>\n",
       "      <td>20200106</td>\n",
       "      <td>뽀로로 겨울 동요</td>\n",
       "      <td>10372098</td>\n",
       "      <td>[1703695]</td>\n",
       "      <td>초코 초코 핫초코</td>\n",
       "      <td>[]</td>\n",
       "      <td>[아이코닉스 (ICONIX)]</td>\n",
       "      <td>399</td>\n",
       "      <td>0</td>\n",
       "      <td>0</td>\n",
       "    </tr>\n",
       "    <tr>\n",
       "      <th>803</th>\n",
       "      <td>[]</td>\n",
       "      <td>20040901</td>\n",
       "      <td>Tropical Lullaby</td>\n",
       "      <td>153435</td>\n",
       "      <td>[848353]</td>\n",
       "      <td>Kalua Lullaby</td>\n",
       "      <td>[]</td>\n",
       "      <td>[The Moonlighters]</td>\n",
       "      <td>803</td>\n",
       "      <td>0</td>\n",
       "      <td>0</td>\n",
       "    </tr>\n",
       "    <tr>\n",
       "      <th>1089</th>\n",
       "      <td>[]</td>\n",
       "      <td>20190924</td>\n",
       "      <td>66</td>\n",
       "      <td>10331496</td>\n",
       "      <td>[2747498]</td>\n",
       "      <td>How are you</td>\n",
       "      <td>[]</td>\n",
       "      <td>[유노이아 (Eunoia)]</td>\n",
       "      <td>1089</td>\n",
       "      <td>0</td>\n",
       "      <td>0</td>\n",
       "    </tr>\n",
       "    <tr>\n",
       "      <th>2588</th>\n",
       "      <td>[]</td>\n",
       "      <td>20080709</td>\n",
       "      <td>명상태교음악 `평온` Vol.4</td>\n",
       "      <td>392967</td>\n",
       "      <td>[2727]</td>\n",
       "      <td>Dvorak : Humoresque No.7 Op.101</td>\n",
       "      <td>[]</td>\n",
       "      <td>[Various Artists]</td>\n",
       "      <td>2588</td>\n",
       "      <td>0</td>\n",
       "      <td>0</td>\n",
       "    </tr>\n",
       "  </tbody>\n",
       "</table>\n",
       "</div>\n",
       "      <button class=\"colab-df-convert\" onclick=\"convertToInteractive('df-c3698ab5-8980-4167-9f7a-fd5c2689fbb5')\"\n",
       "              title=\"Convert this dataframe to an interactive table.\"\n",
       "              style=\"display:none;\">\n",
       "        \n",
       "  <svg xmlns=\"http://www.w3.org/2000/svg\" height=\"24px\"viewBox=\"0 0 24 24\"\n",
       "       width=\"24px\">\n",
       "    <path d=\"M0 0h24v24H0V0z\" fill=\"none\"/>\n",
       "    <path d=\"M18.56 5.44l.94 2.06.94-2.06 2.06-.94-2.06-.94-.94-2.06-.94 2.06-2.06.94zm-11 1L8.5 8.5l.94-2.06 2.06-.94-2.06-.94L8.5 2.5l-.94 2.06-2.06.94zm10 10l.94 2.06.94-2.06 2.06-.94-2.06-.94-.94-2.06-.94 2.06-2.06.94z\"/><path d=\"M17.41 7.96l-1.37-1.37c-.4-.4-.92-.59-1.43-.59-.52 0-1.04.2-1.43.59L10.3 9.45l-7.72 7.72c-.78.78-.78 2.05 0 2.83L4 21.41c.39.39.9.59 1.41.59.51 0 1.02-.2 1.41-.59l7.78-7.78 2.81-2.81c.8-.78.8-2.07 0-2.86zM5.41 20L4 18.59l7.72-7.72 1.47 1.35L5.41 20z\"/>\n",
       "  </svg>\n",
       "      </button>\n",
       "      \n",
       "  <style>\n",
       "    .colab-df-container {\n",
       "      display:flex;\n",
       "      flex-wrap:wrap;\n",
       "      gap: 12px;\n",
       "    }\n",
       "\n",
       "    .colab-df-convert {\n",
       "      background-color: #E8F0FE;\n",
       "      border: none;\n",
       "      border-radius: 50%;\n",
       "      cursor: pointer;\n",
       "      display: none;\n",
       "      fill: #1967D2;\n",
       "      height: 32px;\n",
       "      padding: 0 0 0 0;\n",
       "      width: 32px;\n",
       "    }\n",
       "\n",
       "    .colab-df-convert:hover {\n",
       "      background-color: #E2EBFA;\n",
       "      box-shadow: 0px 1px 2px rgba(60, 64, 67, 0.3), 0px 1px 3px 1px rgba(60, 64, 67, 0.15);\n",
       "      fill: #174EA6;\n",
       "    }\n",
       "\n",
       "    [theme=dark] .colab-df-convert {\n",
       "      background-color: #3B4455;\n",
       "      fill: #D2E3FC;\n",
       "    }\n",
       "\n",
       "    [theme=dark] .colab-df-convert:hover {\n",
       "      background-color: #434B5C;\n",
       "      box-shadow: 0px 1px 3px 1px rgba(0, 0, 0, 0.15);\n",
       "      filter: drop-shadow(0px 1px 2px rgba(0, 0, 0, 0.3));\n",
       "      fill: #FFFFFF;\n",
       "    }\n",
       "  </style>\n",
       "\n",
       "      <script>\n",
       "        const buttonEl =\n",
       "          document.querySelector('#df-c3698ab5-8980-4167-9f7a-fd5c2689fbb5 button.colab-df-convert');\n",
       "        buttonEl.style.display =\n",
       "          google.colab.kernel.accessAllowed ? 'block' : 'none';\n",
       "\n",
       "        async function convertToInteractive(key) {\n",
       "          const element = document.querySelector('#df-c3698ab5-8980-4167-9f7a-fd5c2689fbb5');\n",
       "          const dataTable =\n",
       "            await google.colab.kernel.invokeFunction('convertToInteractive',\n",
       "                                                     [key], {});\n",
       "          if (!dataTable) return;\n",
       "\n",
       "          const docLinkHtml = 'Like what you see? Visit the ' +\n",
       "            '<a target=\"_blank\" href=https://colab.research.google.com/notebooks/data_table.ipynb>data table notebook</a>'\n",
       "            + ' to learn more about interactive tables.';\n",
       "          element.innerHTML = '';\n",
       "          dataTable['output_type'] = 'display_data';\n",
       "          await google.colab.output.renderOutput(dataTable, element);\n",
       "          const docLink = document.createElement('div');\n",
       "          docLink.innerHTML = docLinkHtml;\n",
       "          element.appendChild(docLink);\n",
       "        }\n",
       "      </script>\n",
       "    </div>\n",
       "  </div>\n",
       "  "
      ],
      "text/plain": [
       "     song_gn_dtl_gnr_basket  issue_date  ... gn_gnr_len  gn_dtl_gnr_len\n",
       "21                       []    20200331  ...          0               0\n",
       "399                      []    20200106  ...          0               0\n",
       "803                      []    20040901  ...          0               0\n",
       "1089                     []    20190924  ...          0               0\n",
       "2588                     []    20080709  ...          0               0\n",
       "\n",
       "[5 rows x 11 columns]"
      ]
     },
     "execution_count": 18,
     "metadata": {},
     "output_type": "execute_result"
    }
   ],
   "source": [
    "song[song['gn_gnr_len'] == 0].head()"
   ]
  },
  {
   "cell_type": "code",
   "execution_count": null,
   "metadata": {
    "colab": {
     "base_uri": "https://localhost:8080/"
    },
    "executionInfo": {
     "elapsed": 281,
     "status": "ok",
     "timestamp": 1641949952753,
     "user": {
      "displayName": "유상준",
      "photoUrl": "https://lh3.googleusercontent.com/a-/AOh14GjwhV3OPaZeVbcnb0L540CX4dtB2wGRfCVw4E8=s64",
      "userId": "06620102043085366517"
     },
     "user_tz": -540
    },
    "id": "sl-t13JRI1AU",
    "outputId": "ceef666e-cb84-43c3-c9d1-b24740c237c1"
   },
   "outputs": [
    {
     "data": {
      "text/plain": [
       "2     292539\n",
       "1     218835\n",
       "3     106497\n",
       "4      46259\n",
       "5      37238\n",
       "0       4037\n",
       "6       1207\n",
       "7        927\n",
       "8        210\n",
       "10       148\n",
       "9         71\n",
       "11        17\n",
       "12         4\n",
       "Name: gn_dtl_gnr_len, dtype: int64"
      ]
     },
     "execution_count": 19,
     "metadata": {},
     "output_type": "execute_result"
    }
   ],
   "source": [
    "song.gn_dtl_gnr_len.value_counts()"
   ]
  },
  {
   "cell_type": "markdown",
   "metadata": {
    "id": "x1-QtyJxJbID"
   },
   "source": [
    "- 세부 장르는 없지만 대분류 장르는 있는 경우\n",
    "\n",
    "- 주어진 장르 메타데이터와 대분류 장르가 매핑되지 않음\n",
    "    - ex) GN1100과 GN9000등은 없는 장르\n",
    "\n",
    "- 예외의 경우도 존재 \n",
    "    - ex) GN0700은 '성인가요'로 있는 장르임에도 세부장르가 없기도 함\n",
    "    \n",
    "\n",
    "- 이를 토대로 메타데이터와 매핑되지 않는 곡은 따로 처리해줘야 할 듯함"
   ]
  },
  {
   "cell_type": "code",
   "execution_count": null,
   "metadata": {
    "colab": {
     "base_uri": "https://localhost:8080/",
     "height": 852
    },
    "executionInfo": {
     "elapsed": 267,
     "status": "ok",
     "timestamp": 1641949957867,
     "user": {
      "displayName": "유상준",
      "photoUrl": "https://lh3.googleusercontent.com/a-/AOh14GjwhV3OPaZeVbcnb0L540CX4dtB2wGRfCVw4E8=s64",
      "userId": "06620102043085366517"
     },
     "user_tz": -540
    },
    "id": "KTo0xaL1I090",
    "outputId": "25db0bf0-e745-4461-a6d4-a24232b4c158"
   },
   "outputs": [
    {
     "data": {
      "text/html": [
       "\n",
       "  <div id=\"df-e70ec276-e324-4520-9371-bcae678ef3b5\">\n",
       "    <div class=\"colab-df-container\">\n",
       "      <div>\n",
       "<style scoped>\n",
       "    .dataframe tbody tr th:only-of-type {\n",
       "        vertical-align: middle;\n",
       "    }\n",
       "\n",
       "    .dataframe tbody tr th {\n",
       "        vertical-align: top;\n",
       "    }\n",
       "\n",
       "    .dataframe thead th {\n",
       "        text-align: right;\n",
       "    }\n",
       "</style>\n",
       "<table border=\"1\" class=\"dataframe\">\n",
       "  <thead>\n",
       "    <tr style=\"text-align: right;\">\n",
       "      <th></th>\n",
       "      <th>song_gn_dtl_gnr_basket</th>\n",
       "      <th>issue_date</th>\n",
       "      <th>album_name</th>\n",
       "      <th>album_id</th>\n",
       "      <th>artist_id_basket</th>\n",
       "      <th>song_name</th>\n",
       "      <th>song_gn_gnr_basket</th>\n",
       "      <th>artist_name_basket</th>\n",
       "      <th>id</th>\n",
       "      <th>gn_gnr_len</th>\n",
       "      <th>gn_dtl_gnr_len</th>\n",
       "    </tr>\n",
       "  </thead>\n",
       "  <tbody>\n",
       "    <tr>\n",
       "      <th>262</th>\n",
       "      <td>[]</td>\n",
       "      <td>20150318</td>\n",
       "      <td>노년의 건강을 지켜주는 음악 처방전 (부제 : 휴식 때 들으면 좋은 음악친구)</td>\n",
       "      <td>2309524</td>\n",
       "      <td>[726909]</td>\n",
       "      <td>Bio Sound `Breathing &amp; Big Bell`</td>\n",
       "      <td>[GN9000]</td>\n",
       "      <td>[차병원]</td>\n",
       "      <td>262</td>\n",
       "      <td>1</td>\n",
       "      <td>0</td>\n",
       "    </tr>\n",
       "    <tr>\n",
       "      <th>454</th>\n",
       "      <td>[]</td>\n",
       "      <td>20191108</td>\n",
       "      <td>MAGDALENE</td>\n",
       "      <td>10349014</td>\n",
       "      <td>[788767]</td>\n",
       "      <td>thousand eyes</td>\n",
       "      <td>[GN1100]</td>\n",
       "      <td>[FKA Twigs]</td>\n",
       "      <td>454</td>\n",
       "      <td>1</td>\n",
       "      <td>0</td>\n",
       "    </tr>\n",
       "    <tr>\n",
       "      <th>916</th>\n",
       "      <td>[]</td>\n",
       "      <td>20170825</td>\n",
       "      <td>크리스마스의 기적</td>\n",
       "      <td>10090652</td>\n",
       "      <td>[750416]</td>\n",
       "      <td>Springtime In December</td>\n",
       "      <td>[GN9000]</td>\n",
       "      <td>[Larry Warren]</td>\n",
       "      <td>916</td>\n",
       "      <td>1</td>\n",
       "      <td>0</td>\n",
       "    </tr>\n",
       "    <tr>\n",
       "      <th>1074</th>\n",
       "      <td>[]</td>\n",
       "      <td>20131128</td>\n",
       "      <td>Open It Up</td>\n",
       "      <td>10008901</td>\n",
       "      <td>[1221466]</td>\n",
       "      <td>Open It Up</td>\n",
       "      <td>[GN9000]</td>\n",
       "      <td>[Tchengiz]</td>\n",
       "      <td>1074</td>\n",
       "      <td>1</td>\n",
       "      <td>0</td>\n",
       "    </tr>\n",
       "    <tr>\n",
       "      <th>2061</th>\n",
       "      <td>[]</td>\n",
       "      <td>20200416</td>\n",
       "      <td>주의 집에 거하는 자</td>\n",
       "      <td>10417840</td>\n",
       "      <td>[2295323]</td>\n",
       "      <td>주의 집에 거하는 자 (Blessed)</td>\n",
       "      <td>[GN2100]</td>\n",
       "      <td>[예람워십]</td>\n",
       "      <td>2061</td>\n",
       "      <td>1</td>\n",
       "      <td>0</td>\n",
       "    </tr>\n",
       "    <tr>\n",
       "      <th>...</th>\n",
       "      <td>...</td>\n",
       "      <td>...</td>\n",
       "      <td>...</td>\n",
       "      <td>...</td>\n",
       "      <td>...</td>\n",
       "      <td>...</td>\n",
       "      <td>...</td>\n",
       "      <td>...</td>\n",
       "      <td>...</td>\n",
       "      <td>...</td>\n",
       "      <td>...</td>\n",
       "    </tr>\n",
       "    <tr>\n",
       "      <th>706438</th>\n",
       "      <td>[]</td>\n",
       "      <td>20191104</td>\n",
       "      <td>송가인 1st ALBUM &amp;#39;佳人&amp;#39;</td>\n",
       "      <td>10346934</td>\n",
       "      <td>[1701869]</td>\n",
       "      <td>어머님 사랑합니다</td>\n",
       "      <td>[GN0700]</td>\n",
       "      <td>[송가인]</td>\n",
       "      <td>706438</td>\n",
       "      <td>1</td>\n",
       "      <td>0</td>\n",
       "    </tr>\n",
       "    <tr>\n",
       "      <th>706502</th>\n",
       "      <td>[]</td>\n",
       "      <td>20110831</td>\n",
       "      <td>엄마와 아가와의 행복한 대화 태교음악 뉴에이지</td>\n",
       "      <td>2009854</td>\n",
       "      <td>[561734]</td>\n",
       "      <td>Love Love Love</td>\n",
       "      <td>[GN9000]</td>\n",
       "      <td>[해피타임뮤직]</td>\n",
       "      <td>706502</td>\n",
       "      <td>1</td>\n",
       "      <td>0</td>\n",
       "    </tr>\n",
       "    <tr>\n",
       "      <th>706716</th>\n",
       "      <td>[]</td>\n",
       "      <td>20200109</td>\n",
       "      <td>Have It All</td>\n",
       "      <td>10373946</td>\n",
       "      <td>[2762722]</td>\n",
       "      <td>Have It All</td>\n",
       "      <td>[GN9000]</td>\n",
       "      <td>[Renegade]</td>\n",
       "      <td>706716</td>\n",
       "      <td>1</td>\n",
       "      <td>0</td>\n",
       "    </tr>\n",
       "    <tr>\n",
       "      <th>707201</th>\n",
       "      <td>[]</td>\n",
       "      <td>20200115</td>\n",
       "      <td>모두의 MR반주 123</td>\n",
       "      <td>10376105</td>\n",
       "      <td>[770787]</td>\n",
       "      <td>Into the Unknown (겨울왕국 2 OST) (Melody MR)</td>\n",
       "      <td>[GN9000]</td>\n",
       "      <td>[모두의MR]</td>\n",
       "      <td>707201</td>\n",
       "      <td>1</td>\n",
       "      <td>0</td>\n",
       "    </tr>\n",
       "    <tr>\n",
       "      <th>707869</th>\n",
       "      <td>[]</td>\n",
       "      <td>20170106</td>\n",
       "      <td>아기와 엄마가 함께 듣는 태교 음악 피아노 자장가 연주곡 베스트</td>\n",
       "      <td>10028977</td>\n",
       "      <td>[927524]</td>\n",
       "      <td>도레미송 (Doremi Song)</td>\n",
       "      <td>[GN9000]</td>\n",
       "      <td>[태교음악 베베]</td>\n",
       "      <td>707869</td>\n",
       "      <td>1</td>\n",
       "      <td>0</td>\n",
       "    </tr>\n",
       "  </tbody>\n",
       "</table>\n",
       "<p>2978 rows × 11 columns</p>\n",
       "</div>\n",
       "      <button class=\"colab-df-convert\" onclick=\"convertToInteractive('df-e70ec276-e324-4520-9371-bcae678ef3b5')\"\n",
       "              title=\"Convert this dataframe to an interactive table.\"\n",
       "              style=\"display:none;\">\n",
       "        \n",
       "  <svg xmlns=\"http://www.w3.org/2000/svg\" height=\"24px\"viewBox=\"0 0 24 24\"\n",
       "       width=\"24px\">\n",
       "    <path d=\"M0 0h24v24H0V0z\" fill=\"none\"/>\n",
       "    <path d=\"M18.56 5.44l.94 2.06.94-2.06 2.06-.94-2.06-.94-.94-2.06-.94 2.06-2.06.94zm-11 1L8.5 8.5l.94-2.06 2.06-.94-2.06-.94L8.5 2.5l-.94 2.06-2.06.94zm10 10l.94 2.06.94-2.06 2.06-.94-2.06-.94-.94-2.06-.94 2.06-2.06.94z\"/><path d=\"M17.41 7.96l-1.37-1.37c-.4-.4-.92-.59-1.43-.59-.52 0-1.04.2-1.43.59L10.3 9.45l-7.72 7.72c-.78.78-.78 2.05 0 2.83L4 21.41c.39.39.9.59 1.41.59.51 0 1.02-.2 1.41-.59l7.78-7.78 2.81-2.81c.8-.78.8-2.07 0-2.86zM5.41 20L4 18.59l7.72-7.72 1.47 1.35L5.41 20z\"/>\n",
       "  </svg>\n",
       "      </button>\n",
       "      \n",
       "  <style>\n",
       "    .colab-df-container {\n",
       "      display:flex;\n",
       "      flex-wrap:wrap;\n",
       "      gap: 12px;\n",
       "    }\n",
       "\n",
       "    .colab-df-convert {\n",
       "      background-color: #E8F0FE;\n",
       "      border: none;\n",
       "      border-radius: 50%;\n",
       "      cursor: pointer;\n",
       "      display: none;\n",
       "      fill: #1967D2;\n",
       "      height: 32px;\n",
       "      padding: 0 0 0 0;\n",
       "      width: 32px;\n",
       "    }\n",
       "\n",
       "    .colab-df-convert:hover {\n",
       "      background-color: #E2EBFA;\n",
       "      box-shadow: 0px 1px 2px rgba(60, 64, 67, 0.3), 0px 1px 3px 1px rgba(60, 64, 67, 0.15);\n",
       "      fill: #174EA6;\n",
       "    }\n",
       "\n",
       "    [theme=dark] .colab-df-convert {\n",
       "      background-color: #3B4455;\n",
       "      fill: #D2E3FC;\n",
       "    }\n",
       "\n",
       "    [theme=dark] .colab-df-convert:hover {\n",
       "      background-color: #434B5C;\n",
       "      box-shadow: 0px 1px 3px 1px rgba(0, 0, 0, 0.15);\n",
       "      filter: drop-shadow(0px 1px 2px rgba(0, 0, 0, 0.3));\n",
       "      fill: #FFFFFF;\n",
       "    }\n",
       "  </style>\n",
       "\n",
       "      <script>\n",
       "        const buttonEl =\n",
       "          document.querySelector('#df-e70ec276-e324-4520-9371-bcae678ef3b5 button.colab-df-convert');\n",
       "        buttonEl.style.display =\n",
       "          google.colab.kernel.accessAllowed ? 'block' : 'none';\n",
       "\n",
       "        async function convertToInteractive(key) {\n",
       "          const element = document.querySelector('#df-e70ec276-e324-4520-9371-bcae678ef3b5');\n",
       "          const dataTable =\n",
       "            await google.colab.kernel.invokeFunction('convertToInteractive',\n",
       "                                                     [key], {});\n",
       "          if (!dataTable) return;\n",
       "\n",
       "          const docLinkHtml = 'Like what you see? Visit the ' +\n",
       "            '<a target=\"_blank\" href=https://colab.research.google.com/notebooks/data_table.ipynb>data table notebook</a>'\n",
       "            + ' to learn more about interactive tables.';\n",
       "          element.innerHTML = '';\n",
       "          dataTable['output_type'] = 'display_data';\n",
       "          await google.colab.output.renderOutput(dataTable, element);\n",
       "          const docLink = document.createElement('div');\n",
       "          docLink.innerHTML = docLinkHtml;\n",
       "          element.appendChild(docLink);\n",
       "        }\n",
       "      </script>\n",
       "    </div>\n",
       "  </div>\n",
       "  "
      ],
      "text/plain": [
       "       song_gn_dtl_gnr_basket  issue_date  ... gn_gnr_len  gn_dtl_gnr_len\n",
       "262                        []    20150318  ...          1               0\n",
       "454                        []    20191108  ...          1               0\n",
       "916                        []    20170825  ...          1               0\n",
       "1074                       []    20131128  ...          1               0\n",
       "2061                       []    20200416  ...          1               0\n",
       "...                       ...         ...  ...        ...             ...\n",
       "706438                     []    20191104  ...          1               0\n",
       "706502                     []    20110831  ...          1               0\n",
       "706716                     []    20200109  ...          1               0\n",
       "707201                     []    20200115  ...          1               0\n",
       "707869                     []    20170106  ...          1               0\n",
       "\n",
       "[2978 rows x 11 columns]"
      ]
     },
     "execution_count": 20,
     "metadata": {},
     "output_type": "execute_result"
    }
   ],
   "source": [
    "song[(song['gn_dtl_gnr_len'] == 0) & (song['gn_gnr_len'] != 0)]"
   ]
  },
  {
   "cell_type": "code",
   "execution_count": null,
   "metadata": {
    "colab": {
     "base_uri": "https://localhost:8080/",
     "height": 35
    },
    "executionInfo": {
     "elapsed": 262,
     "status": "ok",
     "timestamp": 1641949963001,
     "user": {
      "displayName": "유상준",
      "photoUrl": "https://lh3.googleusercontent.com/a-/AOh14GjwhV3OPaZeVbcnb0L540CX4dtB2wGRfCVw4E8=s64",
      "userId": "06620102043085366517"
     },
     "user_tz": -540
    },
    "id": "CIf63-sVI043",
    "outputId": "d2082578-c7aa-4410-ab27-344edc1e76de"
   },
   "outputs": [
    {
     "data": {
      "application/vnd.google.colaboratory.intrinsic+json": {
       "type": "string"
      },
      "text/plain": [
       "'성인가요'"
      ]
     },
     "execution_count": 21,
     "metadata": {},
     "output_type": "execute_result"
    }
   ],
   "source": [
    "genre['GN0700']"
   ]
  },
  {
   "cell_type": "code",
   "execution_count": null,
   "metadata": {
    "colab": {
     "base_uri": "https://localhost:8080/"
    },
    "executionInfo": {
     "elapsed": 301,
     "status": "ok",
     "timestamp": 1641949966914,
     "user": {
      "displayName": "유상준",
      "photoUrl": "https://lh3.googleusercontent.com/a-/AOh14GjwhV3OPaZeVbcnb0L540CX4dtB2wGRfCVw4E8=s64",
      "userId": "06620102043085366517"
     },
     "user_tz": -540
    },
    "id": "x2nAkcGTJsjt",
    "outputId": "c3fc2c24-d502-421d-d762-75c9604516cf"
   },
   "outputs": [
    {
     "name": "stdout",
     "output_type": "stream",
     "text": [
      "/content/drive/My Drive/네카라쿠배/최종 프로젝트\n"
     ]
    }
   ],
   "source": [
    "cd .."
   ]
  },
  {
   "cell_type": "code",
   "execution_count": null,
   "metadata": {
    "colab": {
     "base_uri": "https://localhost:8080/"
    },
    "executionInfo": {
     "elapsed": 2,
     "status": "ok",
     "timestamp": 1641949968012,
     "user": {
      "displayName": "유상준",
      "photoUrl": "https://lh3.googleusercontent.com/a-/AOh14GjwhV3OPaZeVbcnb0L540CX4dtB2wGRfCVw4E8=s64",
      "userId": "06620102043085366517"
     },
     "user_tz": -540
    },
    "id": "gEZ58Ypc3dHa",
    "outputId": "7df50b9a-6e82-4058-96ea-108e959f31bb"
   },
   "outputs": [
    {
     "name": "stdout",
     "output_type": "stream",
     "text": [
      "/content/drive/My Drive/네카라쿠배/최종 프로젝트/code\n"
     ]
    }
   ],
   "source": [
    "cd code"
   ]
  },
  {
   "cell_type": "code",
   "execution_count": null,
   "metadata": {
    "id": "hTB9XdelJmPb"
   },
   "outputs": [],
   "source": [
    "import set_matplotlib_hangul\n",
    "\n",
    "plt.figure(figsize = (10,6))\n",
    "plt.bar(x = song.gn_gnr_len.value_counts().index, height = song.gn_gnr_len.value_counts())\n",
    "plt.title('곡 별 장르 매핑 개수 분포 확인')\n",
    "plt.show()"
   ]
  },
  {
   "cell_type": "code",
   "execution_count": null,
   "metadata": {
    "id": "tID4UHwkIrEd"
   },
   "outputs": [],
   "source": [
    "plt.figure(figsize = (10,6))\n",
    "plt.bar(x = song.gn_dtl_gnr_len.value_counts().index, height = song.gn_dtl_gnr_len.value_counts())\n",
    "plt.title('곡 별 세부 장르 매핑 개수 분포 확인')\n",
    "plt.show()"
   ]
  },
  {
   "cell_type": "markdown",
   "metadata": {
    "id": "WsIdNdHmnzSy"
   },
   "source": [
    "## genre"
   ]
  },
  {
   "cell_type": "markdown",
   "metadata": {
    "id": "bhZuPmniodAJ"
   },
   "source": [
    "![image.png](data:image/png;base64,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)"
   ]
  },
  {
   "cell_type": "code",
   "execution_count": null,
   "metadata": {
    "colab": {
     "base_uri": "https://localhost:8080/"
    },
    "executionInfo": {
     "elapsed": 282,
     "status": "ok",
     "timestamp": 1641949982561,
     "user": {
      "displayName": "유상준",
      "photoUrl": "https://lh3.googleusercontent.com/a-/AOh14GjwhV3OPaZeVbcnb0L540CX4dtB2wGRfCVw4E8=s64",
      "userId": "06620102043085366517"
     },
     "user_tz": -540
    },
    "id": "h5SXK0fen8DP",
    "outputId": "2dea1867-034b-422f-833f-e6b245b81a07"
   },
   "outputs": [
    {
     "data": {
      "text/plain": [
       "254"
      ]
     },
     "execution_count": 26,
     "metadata": {},
     "output_type": "execute_result"
    }
   ],
   "source": [
    "len(genre)"
   ]
  },
  {
   "cell_type": "code",
   "execution_count": null,
   "metadata": {
    "colab": {
     "base_uri": "https://localhost:8080/"
    },
    "executionInfo": {
     "elapsed": 290,
     "status": "ok",
     "timestamp": 1641949984457,
     "user": {
      "displayName": "유상준",
      "photoUrl": "https://lh3.googleusercontent.com/a-/AOh14GjwhV3OPaZeVbcnb0L540CX4dtB2wGRfCVw4E8=s64",
      "userId": "06620102043085366517"
     },
     "user_tz": -540
    },
    "id": "zgsrISCMn8AW",
    "outputId": "ac7460e7-cf53-46fc-9950-737e0b44bda9"
   },
   "outputs": [
    {
     "data": {
      "text/plain": [
       "Index(['GN0100', 'GN0101', 'GN0102', 'GN0103', 'GN0104', 'GN0105', 'GN0200',\n",
       "       'GN0201', 'GN0202', 'GN0203',\n",
       "       ...\n",
       "       'GN2802', 'GN2803', 'GN2804', 'GN2805', 'GN2806', 'GN2900', 'GN2901',\n",
       "       'GN2902', 'GN2903', 'GN3000'],\n",
       "      dtype='object', length=254)"
      ]
     },
     "execution_count": 27,
     "metadata": {},
     "output_type": "execute_result"
    }
   ],
   "source": [
    "genre.index"
   ]
  },
  {
   "cell_type": "markdown",
   "metadata": {
    "id": "I48X3c0pqUWO"
   },
   "source": [
    "### 장르 대분류와 소분류 나누기 (genre1, genre2)"
   ]
  },
  {
   "cell_type": "code",
   "execution_count": null,
   "metadata": {
    "id": "d2Aa-k9PpQdV"
   },
   "outputs": [],
   "source": [
    "genre1 = {}\n",
    "genre2 = {}\n",
    "for each in genre.index:  \n",
    "    if each[-2:] == '00':\n",
    "        genre1[each] = genre[each]\n",
    "    else:\n",
    "        genre2[each] = genre[each]"
   ]
  },
  {
   "cell_type": "code",
   "execution_count": null,
   "metadata": {
    "colab": {
     "base_uri": "https://localhost:8080/"
    },
    "executionInfo": {
     "elapsed": 5,
     "status": "ok",
     "timestamp": 1641949989226,
     "user": {
      "displayName": "유상준",
      "photoUrl": "https://lh3.googleusercontent.com/a-/AOh14GjwhV3OPaZeVbcnb0L540CX4dtB2wGRfCVw4E8=s64",
      "userId": "06620102043085366517"
     },
     "user_tz": -540
    },
    "id": "kUH5tpBKqIpo",
    "outputId": "10ce5e7c-2045-465c-a3fd-fedf67e2619b"
   },
   "outputs": [
    {
     "data": {
      "text/plain": [
       "(30, 224)"
      ]
     },
     "execution_count": 29,
     "metadata": {},
     "output_type": "execute_result"
    }
   ],
   "source": [
    "len(genre1), len(genre2)"
   ]
  },
  {
   "cell_type": "markdown",
   "metadata": {
    "id": "_yEn-nLdqQEb"
   },
   "source": [
    "- 30개의 대분류와 224개의 소분류로 나뉜다.\n",
    "\n",
    "    - 소분류를 이용? 대분류를 이용? 둘 다 이용?"
   ]
  },
  {
   "cell_type": "code",
   "execution_count": null,
   "metadata": {
    "colab": {
     "base_uri": "https://localhost:8080/",
     "height": 206
    },
    "executionInfo": {
     "elapsed": 331,
     "status": "ok",
     "timestamp": 1641949991886,
     "user": {
      "displayName": "유상준",
      "photoUrl": "https://lh3.googleusercontent.com/a-/AOh14GjwhV3OPaZeVbcnb0L540CX4dtB2wGRfCVw4E8=s64",
      "userId": "06620102043085366517"
     },
     "user_tz": -540
    },
    "id": "Ll-fWgr2qa5d",
    "outputId": "81b43380-1699-4414-8939-42fe5289fcea"
   },
   "outputs": [
    {
     "data": {
      "text/html": [
       "\n",
       "  <div id=\"df-a0bb1ccf-05b9-45d6-98bb-da55efb879ef\">\n",
       "    <div class=\"colab-df-container\">\n",
       "      <div>\n",
       "<style scoped>\n",
       "    .dataframe tbody tr th:only-of-type {\n",
       "        vertical-align: middle;\n",
       "    }\n",
       "\n",
       "    .dataframe tbody tr th {\n",
       "        vertical-align: top;\n",
       "    }\n",
       "\n",
       "    .dataframe thead th {\n",
       "        text-align: right;\n",
       "    }\n",
       "</style>\n",
       "<table border=\"1\" class=\"dataframe\">\n",
       "  <thead>\n",
       "    <tr style=\"text-align: right;\">\n",
       "      <th></th>\n",
       "      <th>장르_대분류</th>\n",
       "    </tr>\n",
       "  </thead>\n",
       "  <tbody>\n",
       "    <tr>\n",
       "      <th>GN0100</th>\n",
       "      <td>발라드</td>\n",
       "    </tr>\n",
       "    <tr>\n",
       "      <th>GN0200</th>\n",
       "      <td>댄스</td>\n",
       "    </tr>\n",
       "    <tr>\n",
       "      <th>GN0300</th>\n",
       "      <td>랩/힙합</td>\n",
       "    </tr>\n",
       "    <tr>\n",
       "      <th>GN0400</th>\n",
       "      <td>R&amp;B/Soul</td>\n",
       "    </tr>\n",
       "    <tr>\n",
       "      <th>GN0500</th>\n",
       "      <td>인디음악</td>\n",
       "    </tr>\n",
       "  </tbody>\n",
       "</table>\n",
       "</div>\n",
       "      <button class=\"colab-df-convert\" onclick=\"convertToInteractive('df-a0bb1ccf-05b9-45d6-98bb-da55efb879ef')\"\n",
       "              title=\"Convert this dataframe to an interactive table.\"\n",
       "              style=\"display:none;\">\n",
       "        \n",
       "  <svg xmlns=\"http://www.w3.org/2000/svg\" height=\"24px\"viewBox=\"0 0 24 24\"\n",
       "       width=\"24px\">\n",
       "    <path d=\"M0 0h24v24H0V0z\" fill=\"none\"/>\n",
       "    <path d=\"M18.56 5.44l.94 2.06.94-2.06 2.06-.94-2.06-.94-.94-2.06-.94 2.06-2.06.94zm-11 1L8.5 8.5l.94-2.06 2.06-.94-2.06-.94L8.5 2.5l-.94 2.06-2.06.94zm10 10l.94 2.06.94-2.06 2.06-.94-2.06-.94-.94-2.06-.94 2.06-2.06.94z\"/><path d=\"M17.41 7.96l-1.37-1.37c-.4-.4-.92-.59-1.43-.59-.52 0-1.04.2-1.43.59L10.3 9.45l-7.72 7.72c-.78.78-.78 2.05 0 2.83L4 21.41c.39.39.9.59 1.41.59.51 0 1.02-.2 1.41-.59l7.78-7.78 2.81-2.81c.8-.78.8-2.07 0-2.86zM5.41 20L4 18.59l7.72-7.72 1.47 1.35L5.41 20z\"/>\n",
       "  </svg>\n",
       "      </button>\n",
       "      \n",
       "  <style>\n",
       "    .colab-df-container {\n",
       "      display:flex;\n",
       "      flex-wrap:wrap;\n",
       "      gap: 12px;\n",
       "    }\n",
       "\n",
       "    .colab-df-convert {\n",
       "      background-color: #E8F0FE;\n",
       "      border: none;\n",
       "      border-radius: 50%;\n",
       "      cursor: pointer;\n",
       "      display: none;\n",
       "      fill: #1967D2;\n",
       "      height: 32px;\n",
       "      padding: 0 0 0 0;\n",
       "      width: 32px;\n",
       "    }\n",
       "\n",
       "    .colab-df-convert:hover {\n",
       "      background-color: #E2EBFA;\n",
       "      box-shadow: 0px 1px 2px rgba(60, 64, 67, 0.3), 0px 1px 3px 1px rgba(60, 64, 67, 0.15);\n",
       "      fill: #174EA6;\n",
       "    }\n",
       "\n",
       "    [theme=dark] .colab-df-convert {\n",
       "      background-color: #3B4455;\n",
       "      fill: #D2E3FC;\n",
       "    }\n",
       "\n",
       "    [theme=dark] .colab-df-convert:hover {\n",
       "      background-color: #434B5C;\n",
       "      box-shadow: 0px 1px 3px 1px rgba(0, 0, 0, 0.15);\n",
       "      filter: drop-shadow(0px 1px 2px rgba(0, 0, 0, 0.3));\n",
       "      fill: #FFFFFF;\n",
       "    }\n",
       "  </style>\n",
       "\n",
       "      <script>\n",
       "        const buttonEl =\n",
       "          document.querySelector('#df-a0bb1ccf-05b9-45d6-98bb-da55efb879ef button.colab-df-convert');\n",
       "        buttonEl.style.display =\n",
       "          google.colab.kernel.accessAllowed ? 'block' : 'none';\n",
       "\n",
       "        async function convertToInteractive(key) {\n",
       "          const element = document.querySelector('#df-a0bb1ccf-05b9-45d6-98bb-da55efb879ef');\n",
       "          const dataTable =\n",
       "            await google.colab.kernel.invokeFunction('convertToInteractive',\n",
       "                                                     [key], {});\n",
       "          if (!dataTable) return;\n",
       "\n",
       "          const docLinkHtml = 'Like what you see? Visit the ' +\n",
       "            '<a target=\"_blank\" href=https://colab.research.google.com/notebooks/data_table.ipynb>data table notebook</a>'\n",
       "            + ' to learn more about interactive tables.';\n",
       "          element.innerHTML = '';\n",
       "          dataTable['output_type'] = 'display_data';\n",
       "          await google.colab.output.renderOutput(dataTable, element);\n",
       "          const docLink = document.createElement('div');\n",
       "          docLink.innerHTML = docLinkHtml;\n",
       "          element.appendChild(docLink);\n",
       "        }\n",
       "      </script>\n",
       "    </div>\n",
       "  </div>\n",
       "  "
      ],
      "text/plain": [
       "          장르_대분류\n",
       "GN0100       발라드\n",
       "GN0200        댄스\n",
       "GN0300      랩/힙합\n",
       "GN0400  R&B/Soul\n",
       "GN0500      인디음악"
      ]
     },
     "execution_count": 30,
     "metadata": {},
     "output_type": "execute_result"
    }
   ],
   "source": [
    "genre1 = pd.DataFrame([genre1])\n",
    "genre1 = genre1.T\n",
    "genre1.columns = ['장르_대분류']\n",
    "genre1.head()"
   ]
  },
  {
   "cell_type": "code",
   "execution_count": null,
   "metadata": {
    "colab": {
     "base_uri": "https://localhost:8080/",
     "height": 206
    },
    "executionInfo": {
     "elapsed": 8,
     "status": "ok",
     "timestamp": 1641949992386,
     "user": {
      "displayName": "유상준",
      "photoUrl": "https://lh3.googleusercontent.com/a-/AOh14GjwhV3OPaZeVbcnb0L540CX4dtB2wGRfCVw4E8=s64",
      "userId": "06620102043085366517"
     },
     "user_tz": -540
    },
    "id": "K7Fc6pkpqIm8",
    "outputId": "033a6fbc-a594-4a34-d626-18c49c48e9f7"
   },
   "outputs": [
    {
     "data": {
      "text/html": [
       "\n",
       "  <div id=\"df-34bdee4b-3dd2-468d-98bf-acaf89706ac2\">\n",
       "    <div class=\"colab-df-container\">\n",
       "      <div>\n",
       "<style scoped>\n",
       "    .dataframe tbody tr th:only-of-type {\n",
       "        vertical-align: middle;\n",
       "    }\n",
       "\n",
       "    .dataframe tbody tr th {\n",
       "        vertical-align: top;\n",
       "    }\n",
       "\n",
       "    .dataframe thead th {\n",
       "        text-align: right;\n",
       "    }\n",
       "</style>\n",
       "<table border=\"1\" class=\"dataframe\">\n",
       "  <thead>\n",
       "    <tr style=\"text-align: right;\">\n",
       "      <th></th>\n",
       "      <th>장르_대분류</th>\n",
       "    </tr>\n",
       "  </thead>\n",
       "  <tbody>\n",
       "    <tr>\n",
       "      <th>GN0101</th>\n",
       "      <td>세부장르전체</td>\n",
       "    </tr>\n",
       "    <tr>\n",
       "      <th>GN0102</th>\n",
       "      <td>'80</td>\n",
       "    </tr>\n",
       "    <tr>\n",
       "      <th>GN0103</th>\n",
       "      <td>'90</td>\n",
       "    </tr>\n",
       "    <tr>\n",
       "      <th>GN0104</th>\n",
       "      <td>'00</td>\n",
       "    </tr>\n",
       "    <tr>\n",
       "      <th>GN0105</th>\n",
       "      <td>'10-</td>\n",
       "    </tr>\n",
       "  </tbody>\n",
       "</table>\n",
       "</div>\n",
       "      <button class=\"colab-df-convert\" onclick=\"convertToInteractive('df-34bdee4b-3dd2-468d-98bf-acaf89706ac2')\"\n",
       "              title=\"Convert this dataframe to an interactive table.\"\n",
       "              style=\"display:none;\">\n",
       "        \n",
       "  <svg xmlns=\"http://www.w3.org/2000/svg\" height=\"24px\"viewBox=\"0 0 24 24\"\n",
       "       width=\"24px\">\n",
       "    <path d=\"M0 0h24v24H0V0z\" fill=\"none\"/>\n",
       "    <path d=\"M18.56 5.44l.94 2.06.94-2.06 2.06-.94-2.06-.94-.94-2.06-.94 2.06-2.06.94zm-11 1L8.5 8.5l.94-2.06 2.06-.94-2.06-.94L8.5 2.5l-.94 2.06-2.06.94zm10 10l.94 2.06.94-2.06 2.06-.94-2.06-.94-.94-2.06-.94 2.06-2.06.94z\"/><path d=\"M17.41 7.96l-1.37-1.37c-.4-.4-.92-.59-1.43-.59-.52 0-1.04.2-1.43.59L10.3 9.45l-7.72 7.72c-.78.78-.78 2.05 0 2.83L4 21.41c.39.39.9.59 1.41.59.51 0 1.02-.2 1.41-.59l7.78-7.78 2.81-2.81c.8-.78.8-2.07 0-2.86zM5.41 20L4 18.59l7.72-7.72 1.47 1.35L5.41 20z\"/>\n",
       "  </svg>\n",
       "      </button>\n",
       "      \n",
       "  <style>\n",
       "    .colab-df-container {\n",
       "      display:flex;\n",
       "      flex-wrap:wrap;\n",
       "      gap: 12px;\n",
       "    }\n",
       "\n",
       "    .colab-df-convert {\n",
       "      background-color: #E8F0FE;\n",
       "      border: none;\n",
       "      border-radius: 50%;\n",
       "      cursor: pointer;\n",
       "      display: none;\n",
       "      fill: #1967D2;\n",
       "      height: 32px;\n",
       "      padding: 0 0 0 0;\n",
       "      width: 32px;\n",
       "    }\n",
       "\n",
       "    .colab-df-convert:hover {\n",
       "      background-color: #E2EBFA;\n",
       "      box-shadow: 0px 1px 2px rgba(60, 64, 67, 0.3), 0px 1px 3px 1px rgba(60, 64, 67, 0.15);\n",
       "      fill: #174EA6;\n",
       "    }\n",
       "\n",
       "    [theme=dark] .colab-df-convert {\n",
       "      background-color: #3B4455;\n",
       "      fill: #D2E3FC;\n",
       "    }\n",
       "\n",
       "    [theme=dark] .colab-df-convert:hover {\n",
       "      background-color: #434B5C;\n",
       "      box-shadow: 0px 1px 3px 1px rgba(0, 0, 0, 0.15);\n",
       "      filter: drop-shadow(0px 1px 2px rgba(0, 0, 0, 0.3));\n",
       "      fill: #FFFFFF;\n",
       "    }\n",
       "  </style>\n",
       "\n",
       "      <script>\n",
       "        const buttonEl =\n",
       "          document.querySelector('#df-34bdee4b-3dd2-468d-98bf-acaf89706ac2 button.colab-df-convert');\n",
       "        buttonEl.style.display =\n",
       "          google.colab.kernel.accessAllowed ? 'block' : 'none';\n",
       "\n",
       "        async function convertToInteractive(key) {\n",
       "          const element = document.querySelector('#df-34bdee4b-3dd2-468d-98bf-acaf89706ac2');\n",
       "          const dataTable =\n",
       "            await google.colab.kernel.invokeFunction('convertToInteractive',\n",
       "                                                     [key], {});\n",
       "          if (!dataTable) return;\n",
       "\n",
       "          const docLinkHtml = 'Like what you see? Visit the ' +\n",
       "            '<a target=\"_blank\" href=https://colab.research.google.com/notebooks/data_table.ipynb>data table notebook</a>'\n",
       "            + ' to learn more about interactive tables.';\n",
       "          element.innerHTML = '';\n",
       "          dataTable['output_type'] = 'display_data';\n",
       "          await google.colab.output.renderOutput(dataTable, element);\n",
       "          const docLink = document.createElement('div');\n",
       "          docLink.innerHTML = docLinkHtml;\n",
       "          element.appendChild(docLink);\n",
       "        }\n",
       "      </script>\n",
       "    </div>\n",
       "  </div>\n",
       "  "
      ],
      "text/plain": [
       "        장르_대분류\n",
       "GN0101  세부장르전체\n",
       "GN0102     '80\n",
       "GN0103     '90\n",
       "GN0104     '00\n",
       "GN0105    '10-"
      ]
     },
     "execution_count": 31,
     "metadata": {},
     "output_type": "execute_result"
    }
   ],
   "source": [
    "genre2 = pd.DataFrame([genre2])\n",
    "genre2 = genre2.T\n",
    "genre2.columns = ['장르_대분류']\n",
    "genre2.head()"
   ]
  },
  {
   "cell_type": "markdown",
   "metadata": {
    "id": "2gz4tzOYCPWL"
   },
   "source": [
    "---"
   ]
  },
  {
   "cell_type": "markdown",
   "metadata": {
    "id": "vEF-jtgCnvHF"
   },
   "source": [
    "## train set"
   ]
  },
  {
   "cell_type": "code",
   "execution_count": null,
   "metadata": {
    "colab": {
     "base_uri": "https://localhost:8080/"
    },
    "executionInfo": {
     "elapsed": 269,
     "status": "ok",
     "timestamp": 1642135515825,
     "user": {
      "displayName": "유상준",
      "photoUrl": "https://lh3.googleusercontent.com/a-/AOh14GjwhV3OPaZeVbcnb0L540CX4dtB2wGRfCVw4E8=s64",
      "userId": "06620102043085366517"
     },
     "user_tz": -540
    },
    "id": "2A09fptjiuu8",
    "outputId": "e766a54b-9ae9-49d2-f16f-a845c2a0dbd2"
   },
   "outputs": [
    {
     "data": {
      "text/plain": [
       "(115071, 6)"
      ]
     },
     "execution_count": 18,
     "metadata": {},
     "output_type": "execute_result"
    }
   ],
   "source": [
    "train.shape"
   ]
  },
  {
   "cell_type": "code",
   "execution_count": null,
   "metadata": {
    "colab": {
     "base_uri": "https://localhost:8080/",
     "height": 250
    },
    "executionInfo": {
     "elapsed": 598,
     "status": "ok",
     "timestamp": 1642135517658,
     "user": {
      "displayName": "유상준",
      "photoUrl": "https://lh3.googleusercontent.com/a-/AOh14GjwhV3OPaZeVbcnb0L540CX4dtB2wGRfCVw4E8=s64",
      "userId": "06620102043085366517"
     },
     "user_tz": -540
    },
    "id": "zik24rpIkXJs",
    "outputId": "526bd46f-f68b-49c8-f932-f1fbf783aa8e"
   },
   "outputs": [
    {
     "data": {
      "text/html": [
       "\n",
       "  <div id=\"df-c5b8352d-0a12-403c-90df-d48e2e7c836c\">\n",
       "    <div class=\"colab-df-container\">\n",
       "      <div>\n",
       "<style scoped>\n",
       "    .dataframe tbody tr th:only-of-type {\n",
       "        vertical-align: middle;\n",
       "    }\n",
       "\n",
       "    .dataframe tbody tr th {\n",
       "        vertical-align: top;\n",
       "    }\n",
       "\n",
       "    .dataframe thead th {\n",
       "        text-align: right;\n",
       "    }\n",
       "</style>\n",
       "<table border=\"1\" class=\"dataframe\">\n",
       "  <thead>\n",
       "    <tr style=\"text-align: right;\">\n",
       "      <th></th>\n",
       "      <th>tags</th>\n",
       "      <th>id</th>\n",
       "      <th>plylst_title</th>\n",
       "      <th>songs</th>\n",
       "      <th>like_cnt</th>\n",
       "      <th>updt_date</th>\n",
       "    </tr>\n",
       "  </thead>\n",
       "  <tbody>\n",
       "    <tr>\n",
       "      <th>77496</th>\n",
       "      <td>[서울예술대학교, 실용음악과, 실음과]</td>\n",
       "      <td>122062</td>\n",
       "      <td>서울예술대학교 실음과 뮤지션들의 음악</td>\n",
       "      <td>[337091, 93333, 248552, 635537, 121608, 437333...</td>\n",
       "      <td>25</td>\n",
       "      <td>2020-04-23 23:59:17.000</td>\n",
       "    </tr>\n",
       "    <tr>\n",
       "      <th>86693</th>\n",
       "      <td>[기분전환, 여행, 드라이브, 신나는]</td>\n",
       "      <td>134892</td>\n",
       "      <td>너랑 나랑 쟤랑</td>\n",
       "      <td>[371783, 340540, 294071, 496880, 6223, 616782,...</td>\n",
       "      <td>2</td>\n",
       "      <td>2020-04-23 23:56:00.000</td>\n",
       "    </tr>\n",
       "    <tr>\n",
       "      <th>105024</th>\n",
       "      <td>[센치]</td>\n",
       "      <td>38462</td>\n",
       "      <td>센치한이밤에 운치있는노래</td>\n",
       "      <td>[160291, 513781, 695878, 210576, 525372, 69914...</td>\n",
       "      <td>0</td>\n",
       "      <td>2020-04-23 23:54:19.000</td>\n",
       "    </tr>\n",
       "    <tr>\n",
       "      <th>51188</th>\n",
       "      <td>[햇살, 해질녘, 알앤비, 노을, 여름노래, 소울]</td>\n",
       "      <td>56007</td>\n",
       "      <td>6월에 날씨 같은 노래</td>\n",
       "      <td>[8106, 340540, 589539, 574292, 184830, 27013, ...</td>\n",
       "      <td>1</td>\n",
       "      <td>2020-04-23 23:54:19.000</td>\n",
       "    </tr>\n",
       "    <tr>\n",
       "      <th>35719</th>\n",
       "      <td>[힙합, 기분전환, 드라이브]</td>\n",
       "      <td>93359</td>\n",
       "      <td>기분이가 좋아지는 힙한 노래</td>\n",
       "      <td>[13234, 142231, 162545, 288916, 686046, 57664,...</td>\n",
       "      <td>1</td>\n",
       "      <td>2020-04-23 23:53:49.000</td>\n",
       "    </tr>\n",
       "  </tbody>\n",
       "</table>\n",
       "</div>\n",
       "      <button class=\"colab-df-convert\" onclick=\"convertToInteractive('df-c5b8352d-0a12-403c-90df-d48e2e7c836c')\"\n",
       "              title=\"Convert this dataframe to an interactive table.\"\n",
       "              style=\"display:none;\">\n",
       "        \n",
       "  <svg xmlns=\"http://www.w3.org/2000/svg\" height=\"24px\"viewBox=\"0 0 24 24\"\n",
       "       width=\"24px\">\n",
       "    <path d=\"M0 0h24v24H0V0z\" fill=\"none\"/>\n",
       "    <path d=\"M18.56 5.44l.94 2.06.94-2.06 2.06-.94-2.06-.94-.94-2.06-.94 2.06-2.06.94zm-11 1L8.5 8.5l.94-2.06 2.06-.94-2.06-.94L8.5 2.5l-.94 2.06-2.06.94zm10 10l.94 2.06.94-2.06 2.06-.94-2.06-.94-.94-2.06-.94 2.06-2.06.94z\"/><path d=\"M17.41 7.96l-1.37-1.37c-.4-.4-.92-.59-1.43-.59-.52 0-1.04.2-1.43.59L10.3 9.45l-7.72 7.72c-.78.78-.78 2.05 0 2.83L4 21.41c.39.39.9.59 1.41.59.51 0 1.02-.2 1.41-.59l7.78-7.78 2.81-2.81c.8-.78.8-2.07 0-2.86zM5.41 20L4 18.59l7.72-7.72 1.47 1.35L5.41 20z\"/>\n",
       "  </svg>\n",
       "      </button>\n",
       "      \n",
       "  <style>\n",
       "    .colab-df-container {\n",
       "      display:flex;\n",
       "      flex-wrap:wrap;\n",
       "      gap: 12px;\n",
       "    }\n",
       "\n",
       "    .colab-df-convert {\n",
       "      background-color: #E8F0FE;\n",
       "      border: none;\n",
       "      border-radius: 50%;\n",
       "      cursor: pointer;\n",
       "      display: none;\n",
       "      fill: #1967D2;\n",
       "      height: 32px;\n",
       "      padding: 0 0 0 0;\n",
       "      width: 32px;\n",
       "    }\n",
       "\n",
       "    .colab-df-convert:hover {\n",
       "      background-color: #E2EBFA;\n",
       "      box-shadow: 0px 1px 2px rgba(60, 64, 67, 0.3), 0px 1px 3px 1px rgba(60, 64, 67, 0.15);\n",
       "      fill: #174EA6;\n",
       "    }\n",
       "\n",
       "    [theme=dark] .colab-df-convert {\n",
       "      background-color: #3B4455;\n",
       "      fill: #D2E3FC;\n",
       "    }\n",
       "\n",
       "    [theme=dark] .colab-df-convert:hover {\n",
       "      background-color: #434B5C;\n",
       "      box-shadow: 0px 1px 3px 1px rgba(0, 0, 0, 0.15);\n",
       "      filter: drop-shadow(0px 1px 2px rgba(0, 0, 0, 0.3));\n",
       "      fill: #FFFFFF;\n",
       "    }\n",
       "  </style>\n",
       "\n",
       "      <script>\n",
       "        const buttonEl =\n",
       "          document.querySelector('#df-c5b8352d-0a12-403c-90df-d48e2e7c836c button.colab-df-convert');\n",
       "        buttonEl.style.display =\n",
       "          google.colab.kernel.accessAllowed ? 'block' : 'none';\n",
       "\n",
       "        async function convertToInteractive(key) {\n",
       "          const element = document.querySelector('#df-c5b8352d-0a12-403c-90df-d48e2e7c836c');\n",
       "          const dataTable =\n",
       "            await google.colab.kernel.invokeFunction('convertToInteractive',\n",
       "                                                     [key], {});\n",
       "          if (!dataTable) return;\n",
       "\n",
       "          const docLinkHtml = 'Like what you see? Visit the ' +\n",
       "            '<a target=\"_blank\" href=https://colab.research.google.com/notebooks/data_table.ipynb>data table notebook</a>'\n",
       "            + ' to learn more about interactive tables.';\n",
       "          element.innerHTML = '';\n",
       "          dataTable['output_type'] = 'display_data';\n",
       "          await google.colab.output.renderOutput(dataTable, element);\n",
       "          const docLink = document.createElement('div');\n",
       "          docLink.innerHTML = docLinkHtml;\n",
       "          element.appendChild(docLink);\n",
       "        }\n",
       "      </script>\n",
       "    </div>\n",
       "  </div>\n",
       "  "
      ],
      "text/plain": [
       "                                tags      id  ... like_cnt                updt_date\n",
       "77496          [서울예술대학교, 실용음악과, 실음과]  122062  ...       25  2020-04-23 23:59:17.000\n",
       "86693          [기분전환, 여행, 드라이브, 신나는]  134892  ...        2  2020-04-23 23:56:00.000\n",
       "105024                          [센치]   38462  ...        0  2020-04-23 23:54:19.000\n",
       "51188   [햇살, 해질녘, 알앤비, 노을, 여름노래, 소울]   56007  ...        1  2020-04-23 23:54:19.000\n",
       "35719               [힙합, 기분전환, 드라이브]   93359  ...        1  2020-04-23 23:53:49.000\n",
       "\n",
       "[5 rows x 6 columns]"
      ]
     },
     "execution_count": 19,
     "metadata": {},
     "output_type": "execute_result"
    }
   ],
   "source": [
    "train.sort_values(by = 'updt_date', ascending=False).head(5)"
   ]
  },
  {
   "cell_type": "markdown",
   "metadata": {
    "id": "XZ9ebmVhApoZ"
   },
   "source": [
    "### 플레이리스트의 정보 확인"
   ]
  },
  {
   "cell_type": "markdown",
   "metadata": {
    "id": "03gcoA9c02Ud"
   },
   "source": [
    "- 한 플레이리스트에 곡이 몇개정도 들어 있는지 확인"
   ]
  },
  {
   "cell_type": "code",
   "execution_count": null,
   "metadata": {
    "colab": {
     "base_uri": "https://localhost:8080/",
     "height": 81
    },
    "executionInfo": {
     "elapsed": 549,
     "status": "ok",
     "timestamp": 1642140799491,
     "user": {
      "displayName": "유상준",
      "photoUrl": "https://lh3.googleusercontent.com/a-/AOh14GjwhV3OPaZeVbcnb0L540CX4dtB2wGRfCVw4E8=s64",
      "userId": "06620102043085366517"
     },
     "user_tz": -540
    },
    "id": "DYC1XjmugQ0y",
    "outputId": "ec40b83b-6206-4e0b-9a4c-c8dd5ac13b94"
   },
   "outputs": [
    {
     "data": {
      "text/html": [
       "\n",
       "  <div id=\"df-3a2cf7fc-0ebd-40f7-a79d-03b88b542bfb\">\n",
       "    <div class=\"colab-df-container\">\n",
       "      <div>\n",
       "<style scoped>\n",
       "    .dataframe tbody tr th:only-of-type {\n",
       "        vertical-align: middle;\n",
       "    }\n",
       "\n",
       "    .dataframe tbody tr th {\n",
       "        vertical-align: top;\n",
       "    }\n",
       "\n",
       "    .dataframe thead th {\n",
       "        text-align: right;\n",
       "    }\n",
       "</style>\n",
       "<table border=\"1\" class=\"dataframe\">\n",
       "  <thead>\n",
       "    <tr style=\"text-align: right;\">\n",
       "      <th></th>\n",
       "      <th>tags</th>\n",
       "      <th>id</th>\n",
       "      <th>plylst_title</th>\n",
       "      <th>songs</th>\n",
       "      <th>like_cnt</th>\n",
       "      <th>updt_date</th>\n",
       "      <th>n_songs</th>\n",
       "    </tr>\n",
       "  </thead>\n",
       "  <tbody>\n",
       "    <tr>\n",
       "      <th>0</th>\n",
       "      <td>[락]</td>\n",
       "      <td>61281</td>\n",
       "      <td>여행같은 음악</td>\n",
       "      <td>[525514, 129701, 383374, 562083, 297861, 13954...</td>\n",
       "      <td>71</td>\n",
       "      <td>2013-12-19 18:36:19.000</td>\n",
       "      <td>19</td>\n",
       "    </tr>\n",
       "  </tbody>\n",
       "</table>\n",
       "</div>\n",
       "      <button class=\"colab-df-convert\" onclick=\"convertToInteractive('df-3a2cf7fc-0ebd-40f7-a79d-03b88b542bfb')\"\n",
       "              title=\"Convert this dataframe to an interactive table.\"\n",
       "              style=\"display:none;\">\n",
       "        \n",
       "  <svg xmlns=\"http://www.w3.org/2000/svg\" height=\"24px\"viewBox=\"0 0 24 24\"\n",
       "       width=\"24px\">\n",
       "    <path d=\"M0 0h24v24H0V0z\" fill=\"none\"/>\n",
       "    <path d=\"M18.56 5.44l.94 2.06.94-2.06 2.06-.94-2.06-.94-.94-2.06-.94 2.06-2.06.94zm-11 1L8.5 8.5l.94-2.06 2.06-.94-2.06-.94L8.5 2.5l-.94 2.06-2.06.94zm10 10l.94 2.06.94-2.06 2.06-.94-2.06-.94-.94-2.06-.94 2.06-2.06.94z\"/><path d=\"M17.41 7.96l-1.37-1.37c-.4-.4-.92-.59-1.43-.59-.52 0-1.04.2-1.43.59L10.3 9.45l-7.72 7.72c-.78.78-.78 2.05 0 2.83L4 21.41c.39.39.9.59 1.41.59.51 0 1.02-.2 1.41-.59l7.78-7.78 2.81-2.81c.8-.78.8-2.07 0-2.86zM5.41 20L4 18.59l7.72-7.72 1.47 1.35L5.41 20z\"/>\n",
       "  </svg>\n",
       "      </button>\n",
       "      \n",
       "  <style>\n",
       "    .colab-df-container {\n",
       "      display:flex;\n",
       "      flex-wrap:wrap;\n",
       "      gap: 12px;\n",
       "    }\n",
       "\n",
       "    .colab-df-convert {\n",
       "      background-color: #E8F0FE;\n",
       "      border: none;\n",
       "      border-radius: 50%;\n",
       "      cursor: pointer;\n",
       "      display: none;\n",
       "      fill: #1967D2;\n",
       "      height: 32px;\n",
       "      padding: 0 0 0 0;\n",
       "      width: 32px;\n",
       "    }\n",
       "\n",
       "    .colab-df-convert:hover {\n",
       "      background-color: #E2EBFA;\n",
       "      box-shadow: 0px 1px 2px rgba(60, 64, 67, 0.3), 0px 1px 3px 1px rgba(60, 64, 67, 0.15);\n",
       "      fill: #174EA6;\n",
       "    }\n",
       "\n",
       "    [theme=dark] .colab-df-convert {\n",
       "      background-color: #3B4455;\n",
       "      fill: #D2E3FC;\n",
       "    }\n",
       "\n",
       "    [theme=dark] .colab-df-convert:hover {\n",
       "      background-color: #434B5C;\n",
       "      box-shadow: 0px 1px 3px 1px rgba(0, 0, 0, 0.15);\n",
       "      filter: drop-shadow(0px 1px 2px rgba(0, 0, 0, 0.3));\n",
       "      fill: #FFFFFF;\n",
       "    }\n",
       "  </style>\n",
       "\n",
       "      <script>\n",
       "        const buttonEl =\n",
       "          document.querySelector('#df-3a2cf7fc-0ebd-40f7-a79d-03b88b542bfb button.colab-df-convert');\n",
       "        buttonEl.style.display =\n",
       "          google.colab.kernel.accessAllowed ? 'block' : 'none';\n",
       "\n",
       "        async function convertToInteractive(key) {\n",
       "          const element = document.querySelector('#df-3a2cf7fc-0ebd-40f7-a79d-03b88b542bfb');\n",
       "          const dataTable =\n",
       "            await google.colab.kernel.invokeFunction('convertToInteractive',\n",
       "                                                     [key], {});\n",
       "          if (!dataTable) return;\n",
       "\n",
       "          const docLinkHtml = 'Like what you see? Visit the ' +\n",
       "            '<a target=\"_blank\" href=https://colab.research.google.com/notebooks/data_table.ipynb>data table notebook</a>'\n",
       "            + ' to learn more about interactive tables.';\n",
       "          element.innerHTML = '';\n",
       "          dataTable['output_type'] = 'display_data';\n",
       "          await google.colab.output.renderOutput(dataTable, element);\n",
       "          const docLink = document.createElement('div');\n",
       "          docLink.innerHTML = docLinkHtml;\n",
       "          element.appendChild(docLink);\n",
       "        }\n",
       "      </script>\n",
       "    </div>\n",
       "  </div>\n",
       "  "
      ],
      "text/plain": [
       "  tags     id plylst_title  ... like_cnt                updt_date n_songs\n",
       "0  [락]  61281      여행같은 음악  ...       71  2013-12-19 18:36:19.000      19\n",
       "\n",
       "[1 rows x 7 columns]"
      ]
     },
     "execution_count": 20,
     "metadata": {},
     "output_type": "execute_result"
    }
   ],
   "source": [
    "train['n_songs'] = [len(x) for x in train['songs']]\n",
    "train.head(1)"
   ]
  },
  {
   "cell_type": "markdown",
   "metadata": {
    "id": "5o47yeUugM3H"
   },
   "source": [
    "- 예시 플레이 리스트"
   ]
  },
  {
   "cell_type": "code",
   "execution_count": null,
   "metadata": {
    "colab": {
     "base_uri": "https://localhost:8080/"
    },
    "executionInfo": {
     "elapsed": 373,
     "status": "ok",
     "timestamp": 1642140801410,
     "user": {
      "displayName": "유상준",
      "photoUrl": "https://lh3.googleusercontent.com/a-/AOh14GjwhV3OPaZeVbcnb0L540CX4dtB2wGRfCVw4E8=s64",
      "userId": "06620102043085366517"
     },
     "user_tz": -540
    },
    "id": "3WWHQNHqn8of",
    "outputId": "88635d56-e443-4d8e-e50e-9e396be0d0b4"
   },
   "outputs": [
    {
     "data": {
      "text/plain": [
       "[684998, 530279, 482241, 268506, 681473, 195524, 423503, 85040]"
      ]
     },
     "execution_count": 21,
     "metadata": {},
     "output_type": "execute_result"
    }
   ],
   "source": [
    "train.iloc[17,3]"
   ]
  },
  {
   "cell_type": "code",
   "execution_count": null,
   "metadata": {
    "colab": {
     "base_uri": "https://localhost:8080/",
     "height": 389
    },
    "executionInfo": {
     "elapsed": 280,
     "status": "ok",
     "timestamp": 1642140803160,
     "user": {
      "displayName": "유상준",
      "photoUrl": "https://lh3.googleusercontent.com/a-/AOh14GjwhV3OPaZeVbcnb0L540CX4dtB2wGRfCVw4E8=s64",
      "userId": "06620102043085366517"
     },
     "user_tz": -540
    },
    "id": "XZnMkcvOcaFc",
    "outputId": "94fb7dbc-7d6d-4c28-8cb4-be6a35ed8315"
   },
   "outputs": [
    {
     "data": {
      "text/html": [
       "\n",
       "  <div id=\"df-97b55c29-1641-46b7-9aed-caecaac9b321\">\n",
       "    <div class=\"colab-df-container\">\n",
       "      <div>\n",
       "<style scoped>\n",
       "    .dataframe tbody tr th:only-of-type {\n",
       "        vertical-align: middle;\n",
       "    }\n",
       "\n",
       "    .dataframe tbody tr th {\n",
       "        vertical-align: top;\n",
       "    }\n",
       "\n",
       "    .dataframe thead th {\n",
       "        text-align: right;\n",
       "    }\n",
       "</style>\n",
       "<table border=\"1\" class=\"dataframe\">\n",
       "  <thead>\n",
       "    <tr style=\"text-align: right;\">\n",
       "      <th></th>\n",
       "      <th>song_gn_dtl_gnr_basket</th>\n",
       "      <th>issue_date</th>\n",
       "      <th>album_name</th>\n",
       "      <th>album_id</th>\n",
       "      <th>artist_id_basket</th>\n",
       "      <th>song_name</th>\n",
       "      <th>song_gn_gnr_basket</th>\n",
       "      <th>artist_name_basket</th>\n",
       "      <th>id</th>\n",
       "    </tr>\n",
       "  </thead>\n",
       "  <tbody>\n",
       "    <tr>\n",
       "      <th>684998</th>\n",
       "      <td>[GN0105, GN0101]</td>\n",
       "      <td>20100422</td>\n",
       "      <td>인사</td>\n",
       "      <td>865853</td>\n",
       "      <td>[205858]</td>\n",
       "      <td>감사 (Feat. 소향)</td>\n",
       "      <td>[GN0100]</td>\n",
       "      <td>[이석훈]</td>\n",
       "      <td>684998</td>\n",
       "    </tr>\n",
       "    <tr>\n",
       "      <th>530279</th>\n",
       "      <td>[GN0105, GN0101]</td>\n",
       "      <td>20100603</td>\n",
       "      <td>잔소리</td>\n",
       "      <td>911358</td>\n",
       "      <td>[261143]</td>\n",
       "      <td>잔소리 (With 2AM 슬옹)</td>\n",
       "      <td>[GN0100]</td>\n",
       "      <td>[아이유]</td>\n",
       "      <td>530279</td>\n",
       "    </tr>\n",
       "    <tr>\n",
       "      <th>482241</th>\n",
       "      <td>[GN0105, GN0101]</td>\n",
       "      <td>20110808</td>\n",
       "      <td>Hwang Project Vol.2 - 사람, 사랑</td>\n",
       "      <td>2006984</td>\n",
       "      <td>[6502, 1099]</td>\n",
       "      <td>사람, 사랑</td>\n",
       "      <td>[GN0100]</td>\n",
       "      <td>[김범수, 박정현]</td>\n",
       "      <td>482241</td>\n",
       "    </tr>\n",
       "    <tr>\n",
       "      <th>268506</th>\n",
       "      <td>[GN0105, GN0101, GN2505, GN2503, GN1501, GN250...</td>\n",
       "      <td>20120904</td>\n",
       "      <td>응답하라 1997 Love Story Part 2</td>\n",
       "      <td>2148910</td>\n",
       "      <td>[644871, 436700]</td>\n",
       "      <td>우리 사랑 이대로</td>\n",
       "      <td>[GN2500, GN1500, GN0100]</td>\n",
       "      <td>[정은지, 서인국]</td>\n",
       "      <td>268506</td>\n",
       "    </tr>\n",
       "    <tr>\n",
       "      <th>681473</th>\n",
       "      <td>[GN0105, GN0101]</td>\n",
       "      <td>20150430</td>\n",
       "      <td>축가 (Celebrate Love) (Made in THE VIBE)</td>\n",
       "      <td>2316562</td>\n",
       "      <td>[160080, 100176, 655051, 622112, 197910]</td>\n",
       "      <td>축가 (Celebrate Love)</td>\n",
       "      <td>[GN0100]</td>\n",
       "      <td>[바이브, 포맨, 벤, 임세준, 미(MIIII)]</td>\n",
       "      <td>681473</td>\n",
       "    </tr>\n",
       "  </tbody>\n",
       "</table>\n",
       "</div>\n",
       "      <button class=\"colab-df-convert\" onclick=\"convertToInteractive('df-97b55c29-1641-46b7-9aed-caecaac9b321')\"\n",
       "              title=\"Convert this dataframe to an interactive table.\"\n",
       "              style=\"display:none;\">\n",
       "        \n",
       "  <svg xmlns=\"http://www.w3.org/2000/svg\" height=\"24px\"viewBox=\"0 0 24 24\"\n",
       "       width=\"24px\">\n",
       "    <path d=\"M0 0h24v24H0V0z\" fill=\"none\"/>\n",
       "    <path d=\"M18.56 5.44l.94 2.06.94-2.06 2.06-.94-2.06-.94-.94-2.06-.94 2.06-2.06.94zm-11 1L8.5 8.5l.94-2.06 2.06-.94-2.06-.94L8.5 2.5l-.94 2.06-2.06.94zm10 10l.94 2.06.94-2.06 2.06-.94-2.06-.94-.94-2.06-.94 2.06-2.06.94z\"/><path d=\"M17.41 7.96l-1.37-1.37c-.4-.4-.92-.59-1.43-.59-.52 0-1.04.2-1.43.59L10.3 9.45l-7.72 7.72c-.78.78-.78 2.05 0 2.83L4 21.41c.39.39.9.59 1.41.59.51 0 1.02-.2 1.41-.59l7.78-7.78 2.81-2.81c.8-.78.8-2.07 0-2.86zM5.41 20L4 18.59l7.72-7.72 1.47 1.35L5.41 20z\"/>\n",
       "  </svg>\n",
       "      </button>\n",
       "      \n",
       "  <style>\n",
       "    .colab-df-container {\n",
       "      display:flex;\n",
       "      flex-wrap:wrap;\n",
       "      gap: 12px;\n",
       "    }\n",
       "\n",
       "    .colab-df-convert {\n",
       "      background-color: #E8F0FE;\n",
       "      border: none;\n",
       "      border-radius: 50%;\n",
       "      cursor: pointer;\n",
       "      display: none;\n",
       "      fill: #1967D2;\n",
       "      height: 32px;\n",
       "      padding: 0 0 0 0;\n",
       "      width: 32px;\n",
       "    }\n",
       "\n",
       "    .colab-df-convert:hover {\n",
       "      background-color: #E2EBFA;\n",
       "      box-shadow: 0px 1px 2px rgba(60, 64, 67, 0.3), 0px 1px 3px 1px rgba(60, 64, 67, 0.15);\n",
       "      fill: #174EA6;\n",
       "    }\n",
       "\n",
       "    [theme=dark] .colab-df-convert {\n",
       "      background-color: #3B4455;\n",
       "      fill: #D2E3FC;\n",
       "    }\n",
       "\n",
       "    [theme=dark] .colab-df-convert:hover {\n",
       "      background-color: #434B5C;\n",
       "      box-shadow: 0px 1px 3px 1px rgba(0, 0, 0, 0.15);\n",
       "      filter: drop-shadow(0px 1px 2px rgba(0, 0, 0, 0.3));\n",
       "      fill: #FFFFFF;\n",
       "    }\n",
       "  </style>\n",
       "\n",
       "      <script>\n",
       "        const buttonEl =\n",
       "          document.querySelector('#df-97b55c29-1641-46b7-9aed-caecaac9b321 button.colab-df-convert');\n",
       "        buttonEl.style.display =\n",
       "          google.colab.kernel.accessAllowed ? 'block' : 'none';\n",
       "\n",
       "        async function convertToInteractive(key) {\n",
       "          const element = document.querySelector('#df-97b55c29-1641-46b7-9aed-caecaac9b321');\n",
       "          const dataTable =\n",
       "            await google.colab.kernel.invokeFunction('convertToInteractive',\n",
       "                                                     [key], {});\n",
       "          if (!dataTable) return;\n",
       "\n",
       "          const docLinkHtml = 'Like what you see? Visit the ' +\n",
       "            '<a target=\"_blank\" href=https://colab.research.google.com/notebooks/data_table.ipynb>data table notebook</a>'\n",
       "            + ' to learn more about interactive tables.';\n",
       "          element.innerHTML = '';\n",
       "          dataTable['output_type'] = 'display_data';\n",
       "          await google.colab.output.renderOutput(dataTable, element);\n",
       "          const docLink = document.createElement('div');\n",
       "          docLink.innerHTML = docLinkHtml;\n",
       "          element.appendChild(docLink);\n",
       "        }\n",
       "      </script>\n",
       "    </div>\n",
       "  </div>\n",
       "  "
      ],
      "text/plain": [
       "                                   song_gn_dtl_gnr_basket  ...      id\n",
       "684998                                   [GN0105, GN0101]  ...  684998\n",
       "530279                                   [GN0105, GN0101]  ...  530279\n",
       "482241                                   [GN0105, GN0101]  ...  482241\n",
       "268506  [GN0105, GN0101, GN2505, GN2503, GN1501, GN250...  ...  268506\n",
       "681473                                   [GN0105, GN0101]  ...  681473\n",
       "\n",
       "[5 rows x 9 columns]"
      ]
     },
     "execution_count": 22,
     "metadata": {},
     "output_type": "execute_result"
    }
   ],
   "source": [
    "# train df에서, 곡의 id를 따와서 song df에서 곡의 정보를 확인 (장르 확인)\n",
    "tmp = song.iloc[[684998, 530279, 482241, 268506, 681473, 195524, 423503, 85040],:]\n",
    "tmp.head()"
   ]
  },
  {
   "cell_type": "markdown",
   "metadata": {
    "id": "5a3hDLyfg_QH"
   },
   "source": [
    "- tmp playlist의 대표 장르 설정"
   ]
  },
  {
   "cell_type": "markdown",
   "metadata": {
    "id": "WK8kwHhc3sEU"
   },
   "source": [
    "- count_frequenct(df,col) 함수 작성\n",
    "    - 원하는 df의 col에서 각 변수별 빈도수 계산"
   ]
  },
  {
   "cell_type": "code",
   "execution_count": null,
   "metadata": {
    "id": "uU4JVs_CdVZi"
   },
   "outputs": [],
   "source": [
    "from collections import Counter\n",
    "from tqdm import tqdm\n",
    "\n",
    "def count_frequency(df,col):\n",
    "    dic_ = Counter({})\n",
    "    for row in tqdm(df[col]):\n",
    "        dic_ += Counter(row)\n",
    "    \n",
    "    new_df = pd.DataFrame(dic_,index=[0]).transpose().reset_index()\n",
    "    new_df.columns = [col+'_name','count']\n",
    "    new_df = new_df.sort_values('count',ascending=False)\n",
    "    \n",
    "    return new_df"
   ]
  },
  {
   "cell_type": "code",
   "execution_count": null,
   "metadata": {
    "colab": {
     "base_uri": "https://localhost:8080/",
     "height": 224
    },
    "executionInfo": {
     "elapsed": 368,
     "status": "ok",
     "timestamp": 1642140808782,
     "user": {
      "displayName": "유상준",
      "photoUrl": "https://lh3.googleusercontent.com/a-/AOh14GjwhV3OPaZeVbcnb0L540CX4dtB2wGRfCVw4E8=s64",
      "userId": "06620102043085366517"
     },
     "user_tz": -540
    },
    "id": "i9PfsJFSgwn7",
    "outputId": "36939046-59b2-4b16-f213-4fcf6eb0aeb9"
   },
   "outputs": [
    {
     "name": "stderr",
     "output_type": "stream",
     "text": [
      "100%|██████████| 8/8 [00:00<00:00, 3946.19it/s]\n"
     ]
    },
    {
     "data": {
      "text/html": [
       "\n",
       "  <div id=\"df-1cfaf497-ca9c-491d-b58a-be7af2f79e48\">\n",
       "    <div class=\"colab-df-container\">\n",
       "      <div>\n",
       "<style scoped>\n",
       "    .dataframe tbody tr th:only-of-type {\n",
       "        vertical-align: middle;\n",
       "    }\n",
       "\n",
       "    .dataframe tbody tr th {\n",
       "        vertical-align: top;\n",
       "    }\n",
       "\n",
       "    .dataframe thead th {\n",
       "        text-align: right;\n",
       "    }\n",
       "</style>\n",
       "<table border=\"1\" class=\"dataframe\">\n",
       "  <thead>\n",
       "    <tr style=\"text-align: right;\">\n",
       "      <th></th>\n",
       "      <th>song_gn_gnr_basket_name</th>\n",
       "      <th>count</th>\n",
       "    </tr>\n",
       "  </thead>\n",
       "  <tbody>\n",
       "    <tr>\n",
       "      <th>0</th>\n",
       "      <td>GN0100</td>\n",
       "      <td>6</td>\n",
       "    </tr>\n",
       "    <tr>\n",
       "      <th>1</th>\n",
       "      <td>GN2500</td>\n",
       "      <td>2</td>\n",
       "    </tr>\n",
       "    <tr>\n",
       "      <th>2</th>\n",
       "      <td>GN1500</td>\n",
       "      <td>1</td>\n",
       "    </tr>\n",
       "    <tr>\n",
       "      <th>3</th>\n",
       "      <td>GN0300</td>\n",
       "      <td>1</td>\n",
       "    </tr>\n",
       "    <tr>\n",
       "      <th>4</th>\n",
       "      <td>GN0200</td>\n",
       "      <td>1</td>\n",
       "    </tr>\n",
       "  </tbody>\n",
       "</table>\n",
       "</div>\n",
       "      <button class=\"colab-df-convert\" onclick=\"convertToInteractive('df-1cfaf497-ca9c-491d-b58a-be7af2f79e48')\"\n",
       "              title=\"Convert this dataframe to an interactive table.\"\n",
       "              style=\"display:none;\">\n",
       "        \n",
       "  <svg xmlns=\"http://www.w3.org/2000/svg\" height=\"24px\"viewBox=\"0 0 24 24\"\n",
       "       width=\"24px\">\n",
       "    <path d=\"M0 0h24v24H0V0z\" fill=\"none\"/>\n",
       "    <path d=\"M18.56 5.44l.94 2.06.94-2.06 2.06-.94-2.06-.94-.94-2.06-.94 2.06-2.06.94zm-11 1L8.5 8.5l.94-2.06 2.06-.94-2.06-.94L8.5 2.5l-.94 2.06-2.06.94zm10 10l.94 2.06.94-2.06 2.06-.94-2.06-.94-.94-2.06-.94 2.06-2.06.94z\"/><path d=\"M17.41 7.96l-1.37-1.37c-.4-.4-.92-.59-1.43-.59-.52 0-1.04.2-1.43.59L10.3 9.45l-7.72 7.72c-.78.78-.78 2.05 0 2.83L4 21.41c.39.39.9.59 1.41.59.51 0 1.02-.2 1.41-.59l7.78-7.78 2.81-2.81c.8-.78.8-2.07 0-2.86zM5.41 20L4 18.59l7.72-7.72 1.47 1.35L5.41 20z\"/>\n",
       "  </svg>\n",
       "      </button>\n",
       "      \n",
       "  <style>\n",
       "    .colab-df-container {\n",
       "      display:flex;\n",
       "      flex-wrap:wrap;\n",
       "      gap: 12px;\n",
       "    }\n",
       "\n",
       "    .colab-df-convert {\n",
       "      background-color: #E8F0FE;\n",
       "      border: none;\n",
       "      border-radius: 50%;\n",
       "      cursor: pointer;\n",
       "      display: none;\n",
       "      fill: #1967D2;\n",
       "      height: 32px;\n",
       "      padding: 0 0 0 0;\n",
       "      width: 32px;\n",
       "    }\n",
       "\n",
       "    .colab-df-convert:hover {\n",
       "      background-color: #E2EBFA;\n",
       "      box-shadow: 0px 1px 2px rgba(60, 64, 67, 0.3), 0px 1px 3px 1px rgba(60, 64, 67, 0.15);\n",
       "      fill: #174EA6;\n",
       "    }\n",
       "\n",
       "    [theme=dark] .colab-df-convert {\n",
       "      background-color: #3B4455;\n",
       "      fill: #D2E3FC;\n",
       "    }\n",
       "\n",
       "    [theme=dark] .colab-df-convert:hover {\n",
       "      background-color: #434B5C;\n",
       "      box-shadow: 0px 1px 3px 1px rgba(0, 0, 0, 0.15);\n",
       "      filter: drop-shadow(0px 1px 2px rgba(0, 0, 0, 0.3));\n",
       "      fill: #FFFFFF;\n",
       "    }\n",
       "  </style>\n",
       "\n",
       "      <script>\n",
       "        const buttonEl =\n",
       "          document.querySelector('#df-1cfaf497-ca9c-491d-b58a-be7af2f79e48 button.colab-df-convert');\n",
       "        buttonEl.style.display =\n",
       "          google.colab.kernel.accessAllowed ? 'block' : 'none';\n",
       "\n",
       "        async function convertToInteractive(key) {\n",
       "          const element = document.querySelector('#df-1cfaf497-ca9c-491d-b58a-be7af2f79e48');\n",
       "          const dataTable =\n",
       "            await google.colab.kernel.invokeFunction('convertToInteractive',\n",
       "                                                     [key], {});\n",
       "          if (!dataTable) return;\n",
       "\n",
       "          const docLinkHtml = 'Like what you see? Visit the ' +\n",
       "            '<a target=\"_blank\" href=https://colab.research.google.com/notebooks/data_table.ipynb>data table notebook</a>'\n",
       "            + ' to learn more about interactive tables.';\n",
       "          element.innerHTML = '';\n",
       "          dataTable['output_type'] = 'display_data';\n",
       "          await google.colab.output.renderOutput(dataTable, element);\n",
       "          const docLink = document.createElement('div');\n",
       "          docLink.innerHTML = docLinkHtml;\n",
       "          element.appendChild(docLink);\n",
       "        }\n",
       "      </script>\n",
       "    </div>\n",
       "  </div>\n",
       "  "
      ],
      "text/plain": [
       "  song_gn_gnr_basket_name  count\n",
       "0                  GN0100      6\n",
       "1                  GN2500      2\n",
       "2                  GN1500      1\n",
       "3                  GN0300      1\n",
       "4                  GN0200      1"
      ]
     },
     "execution_count": 24,
     "metadata": {},
     "output_type": "execute_result"
    }
   ],
   "source": [
    "tmp_genre_df = count_frequency(tmp,'song_gn_gnr_basket')\n",
    "tmp_genre_df"
   ]
  },
  {
   "cell_type": "markdown",
   "metadata": {
    "id": "9PLRYMe26dDJ"
   },
   "source": [
    "- 태그가 어느정도 겹치는가 확인"
   ]
  },
  {
   "cell_type": "markdown",
   "metadata": {
    "id": "ikmKlJFH6gqs"
   },
   "source": [
    "- 만약 태그들이 서로 겹치지 않는다면?"
   ]
  },
  {
   "cell_type": "code",
   "execution_count": null,
   "metadata": {
    "colab": {
     "base_uri": "https://localhost:8080/"
    },
    "executionInfo": {
     "elapsed": 232051,
     "status": "ok",
     "timestamp": 1642141045043,
     "user": {
      "displayName": "유상준",
      "photoUrl": "https://lh3.googleusercontent.com/a-/AOh14GjwhV3OPaZeVbcnb0L540CX4dtB2wGRfCVw4E8=s64",
      "userId": "06620102043085366517"
     },
     "user_tz": -540
    },
    "id": "HyYQjTzVn8jv",
    "outputId": "e08dca02-e6e9-4300-90d5-2dd751bb1d9b"
   },
   "outputs": [
    {
     "name": "stderr",
     "output_type": "stream",
     "text": [
      "100%|██████████| 115071/115071 [03:50<00:00, 499.73it/s]\n"
     ]
    }
   ],
   "source": [
    "tags_df = count_frequency(train,'tags')"
   ]
  },
  {
   "cell_type": "code",
   "execution_count": null,
   "metadata": {
    "colab": {
     "base_uri": "https://localhost:8080/",
     "height": 424
    },
    "executionInfo": {
     "elapsed": 293,
     "status": "ok",
     "timestamp": 1642141271956,
     "user": {
      "displayName": "유상준",
      "photoUrl": "https://lh3.googleusercontent.com/a-/AOh14GjwhV3OPaZeVbcnb0L540CX4dtB2wGRfCVw4E8=s64",
      "userId": "06620102043085366517"
     },
     "user_tz": -540
    },
    "id": "eikr0dN-gDMy",
    "outputId": "15574545-41e1-475a-a9f6-28155880dd36"
   },
   "outputs": [
    {
     "data": {
      "text/html": [
       "\n",
       "  <div id=\"df-52d7effb-d360-42e2-a36e-17a8447895af\">\n",
       "    <div class=\"colab-df-container\">\n",
       "      <div>\n",
       "<style scoped>\n",
       "    .dataframe tbody tr th:only-of-type {\n",
       "        vertical-align: middle;\n",
       "    }\n",
       "\n",
       "    .dataframe tbody tr th {\n",
       "        vertical-align: top;\n",
       "    }\n",
       "\n",
       "    .dataframe thead th {\n",
       "        text-align: right;\n",
       "    }\n",
       "</style>\n",
       "<table border=\"1\" class=\"dataframe\">\n",
       "  <thead>\n",
       "    <tr style=\"text-align: right;\">\n",
       "      <th></th>\n",
       "      <th>tags_name</th>\n",
       "      <th>count</th>\n",
       "    </tr>\n",
       "  </thead>\n",
       "  <tbody>\n",
       "    <tr>\n",
       "      <th>21</th>\n",
       "      <td>기분전환</td>\n",
       "      <td>16465</td>\n",
       "    </tr>\n",
       "    <tr>\n",
       "      <th>67</th>\n",
       "      <td>감성</td>\n",
       "      <td>11417</td>\n",
       "    </tr>\n",
       "    <tr>\n",
       "      <th>110</th>\n",
       "      <td>휴식</td>\n",
       "      <td>11215</td>\n",
       "    </tr>\n",
       "    <tr>\n",
       "      <th>122</th>\n",
       "      <td>발라드</td>\n",
       "      <td>10796</td>\n",
       "    </tr>\n",
       "    <tr>\n",
       "      <th>4</th>\n",
       "      <td>잔잔한</td>\n",
       "      <td>10218</td>\n",
       "    </tr>\n",
       "    <tr>\n",
       "      <th>...</th>\n",
       "      <td>...</td>\n",
       "      <td>...</td>\n",
       "    </tr>\n",
       "    <tr>\n",
       "      <th>15357</th>\n",
       "      <td>섹시한분위기</td>\n",
       "      <td>1</td>\n",
       "    </tr>\n",
       "    <tr>\n",
       "      <th>15356</th>\n",
       "      <td>퓨젼재즈</td>\n",
       "      <td>1</td>\n",
       "    </tr>\n",
       "    <tr>\n",
       "      <th>15355</th>\n",
       "      <td>ThankYouLord</td>\n",
       "      <td>1</td>\n",
       "    </tr>\n",
       "    <tr>\n",
       "      <th>15354</th>\n",
       "      <td>드렁크타이거</td>\n",
       "      <td>1</td>\n",
       "    </tr>\n",
       "    <tr>\n",
       "      <th>29159</th>\n",
       "      <td>로맨틱쇼</td>\n",
       "      <td>1</td>\n",
       "    </tr>\n",
       "  </tbody>\n",
       "</table>\n",
       "<p>29160 rows × 2 columns</p>\n",
       "</div>\n",
       "      <button class=\"colab-df-convert\" onclick=\"convertToInteractive('df-52d7effb-d360-42e2-a36e-17a8447895af')\"\n",
       "              title=\"Convert this dataframe to an interactive table.\"\n",
       "              style=\"display:none;\">\n",
       "        \n",
       "  <svg xmlns=\"http://www.w3.org/2000/svg\" height=\"24px\"viewBox=\"0 0 24 24\"\n",
       "       width=\"24px\">\n",
       "    <path d=\"M0 0h24v24H0V0z\" fill=\"none\"/>\n",
       "    <path d=\"M18.56 5.44l.94 2.06.94-2.06 2.06-.94-2.06-.94-.94-2.06-.94 2.06-2.06.94zm-11 1L8.5 8.5l.94-2.06 2.06-.94-2.06-.94L8.5 2.5l-.94 2.06-2.06.94zm10 10l.94 2.06.94-2.06 2.06-.94-2.06-.94-.94-2.06-.94 2.06-2.06.94z\"/><path d=\"M17.41 7.96l-1.37-1.37c-.4-.4-.92-.59-1.43-.59-.52 0-1.04.2-1.43.59L10.3 9.45l-7.72 7.72c-.78.78-.78 2.05 0 2.83L4 21.41c.39.39.9.59 1.41.59.51 0 1.02-.2 1.41-.59l7.78-7.78 2.81-2.81c.8-.78.8-2.07 0-2.86zM5.41 20L4 18.59l7.72-7.72 1.47 1.35L5.41 20z\"/>\n",
       "  </svg>\n",
       "      </button>\n",
       "      \n",
       "  <style>\n",
       "    .colab-df-container {\n",
       "      display:flex;\n",
       "      flex-wrap:wrap;\n",
       "      gap: 12px;\n",
       "    }\n",
       "\n",
       "    .colab-df-convert {\n",
       "      background-color: #E8F0FE;\n",
       "      border: none;\n",
       "      border-radius: 50%;\n",
       "      cursor: pointer;\n",
       "      display: none;\n",
       "      fill: #1967D2;\n",
       "      height: 32px;\n",
       "      padding: 0 0 0 0;\n",
       "      width: 32px;\n",
       "    }\n",
       "\n",
       "    .colab-df-convert:hover {\n",
       "      background-color: #E2EBFA;\n",
       "      box-shadow: 0px 1px 2px rgba(60, 64, 67, 0.3), 0px 1px 3px 1px rgba(60, 64, 67, 0.15);\n",
       "      fill: #174EA6;\n",
       "    }\n",
       "\n",
       "    [theme=dark] .colab-df-convert {\n",
       "      background-color: #3B4455;\n",
       "      fill: #D2E3FC;\n",
       "    }\n",
       "\n",
       "    [theme=dark] .colab-df-convert:hover {\n",
       "      background-color: #434B5C;\n",
       "      box-shadow: 0px 1px 3px 1px rgba(0, 0, 0, 0.15);\n",
       "      filter: drop-shadow(0px 1px 2px rgba(0, 0, 0, 0.3));\n",
       "      fill: #FFFFFF;\n",
       "    }\n",
       "  </style>\n",
       "\n",
       "      <script>\n",
       "        const buttonEl =\n",
       "          document.querySelector('#df-52d7effb-d360-42e2-a36e-17a8447895af button.colab-df-convert');\n",
       "        buttonEl.style.display =\n",
       "          google.colab.kernel.accessAllowed ? 'block' : 'none';\n",
       "\n",
       "        async function convertToInteractive(key) {\n",
       "          const element = document.querySelector('#df-52d7effb-d360-42e2-a36e-17a8447895af');\n",
       "          const dataTable =\n",
       "            await google.colab.kernel.invokeFunction('convertToInteractive',\n",
       "                                                     [key], {});\n",
       "          if (!dataTable) return;\n",
       "\n",
       "          const docLinkHtml = 'Like what you see? Visit the ' +\n",
       "            '<a target=\"_blank\" href=https://colab.research.google.com/notebooks/data_table.ipynb>data table notebook</a>'\n",
       "            + ' to learn more about interactive tables.';\n",
       "          element.innerHTML = '';\n",
       "          dataTable['output_type'] = 'display_data';\n",
       "          await google.colab.output.renderOutput(dataTable, element);\n",
       "          const docLink = document.createElement('div');\n",
       "          docLink.innerHTML = docLinkHtml;\n",
       "          element.appendChild(docLink);\n",
       "        }\n",
       "      </script>\n",
       "    </div>\n",
       "  </div>\n",
       "  "
      ],
      "text/plain": [
       "          tags_name  count\n",
       "21             기분전환  16465\n",
       "67               감성  11417\n",
       "110              휴식  11215\n",
       "122             발라드  10796\n",
       "4               잔잔한  10218\n",
       "...             ...    ...\n",
       "15357        섹시한분위기      1\n",
       "15356          퓨젼재즈      1\n",
       "15355  ThankYouLord      1\n",
       "15354        드렁크타이거      1\n",
       "29159          로맨틱쇼      1\n",
       "\n",
       "[29160 rows x 2 columns]"
      ]
     },
     "execution_count": 26,
     "metadata": {},
     "output_type": "execute_result"
    }
   ],
   "source": [
    "tags_df"
   ]
  },
  {
   "cell_type": "code",
   "execution_count": null,
   "metadata": {
    "colab": {
     "base_uri": "https://localhost:8080/",
     "height": 81
    },
    "executionInfo": {
     "elapsed": 279,
     "status": "ok",
     "timestamp": 1642141331211,
     "user": {
      "displayName": "유상준",
      "photoUrl": "https://lh3.googleusercontent.com/a-/AOh14GjwhV3OPaZeVbcnb0L540CX4dtB2wGRfCVw4E8=s64",
      "userId": "06620102043085366517"
     },
     "user_tz": -540
    },
    "id": "twBLOHeTOMPX",
    "outputId": "f62de9ad-55b4-46e3-aaea-db4350dd25b7"
   },
   "outputs": [
    {
     "data": {
      "text/html": [
       "\n",
       "  <div id=\"df-eb1d2477-c769-4fc9-a415-f9ef9febc6f0\">\n",
       "    <div class=\"colab-df-container\">\n",
       "      <div>\n",
       "<style scoped>\n",
       "    .dataframe tbody tr th:only-of-type {\n",
       "        vertical-align: middle;\n",
       "    }\n",
       "\n",
       "    .dataframe tbody tr th {\n",
       "        vertical-align: top;\n",
       "    }\n",
       "\n",
       "    .dataframe thead th {\n",
       "        text-align: right;\n",
       "    }\n",
       "</style>\n",
       "<table border=\"1\" class=\"dataframe\">\n",
       "  <thead>\n",
       "    <tr style=\"text-align: right;\">\n",
       "      <th></th>\n",
       "      <th>tags_name</th>\n",
       "      <th>count</th>\n",
       "    </tr>\n",
       "  </thead>\n",
       "  <tbody>\n",
       "    <tr>\n",
       "      <th>10057</th>\n",
       "      <td>honne</td>\n",
       "      <td>15</td>\n",
       "    </tr>\n",
       "  </tbody>\n",
       "</table>\n",
       "</div>\n",
       "      <button class=\"colab-df-convert\" onclick=\"convertToInteractive('df-eb1d2477-c769-4fc9-a415-f9ef9febc6f0')\"\n",
       "              title=\"Convert this dataframe to an interactive table.\"\n",
       "              style=\"display:none;\">\n",
       "        \n",
       "  <svg xmlns=\"http://www.w3.org/2000/svg\" height=\"24px\"viewBox=\"0 0 24 24\"\n",
       "       width=\"24px\">\n",
       "    <path d=\"M0 0h24v24H0V0z\" fill=\"none\"/>\n",
       "    <path d=\"M18.56 5.44l.94 2.06.94-2.06 2.06-.94-2.06-.94-.94-2.06-.94 2.06-2.06.94zm-11 1L8.5 8.5l.94-2.06 2.06-.94-2.06-.94L8.5 2.5l-.94 2.06-2.06.94zm10 10l.94 2.06.94-2.06 2.06-.94-2.06-.94-.94-2.06-.94 2.06-2.06.94z\"/><path d=\"M17.41 7.96l-1.37-1.37c-.4-.4-.92-.59-1.43-.59-.52 0-1.04.2-1.43.59L10.3 9.45l-7.72 7.72c-.78.78-.78 2.05 0 2.83L4 21.41c.39.39.9.59 1.41.59.51 0 1.02-.2 1.41-.59l7.78-7.78 2.81-2.81c.8-.78.8-2.07 0-2.86zM5.41 20L4 18.59l7.72-7.72 1.47 1.35L5.41 20z\"/>\n",
       "  </svg>\n",
       "      </button>\n",
       "      \n",
       "  <style>\n",
       "    .colab-df-container {\n",
       "      display:flex;\n",
       "      flex-wrap:wrap;\n",
       "      gap: 12px;\n",
       "    }\n",
       "\n",
       "    .colab-df-convert {\n",
       "      background-color: #E8F0FE;\n",
       "      border: none;\n",
       "      border-radius: 50%;\n",
       "      cursor: pointer;\n",
       "      display: none;\n",
       "      fill: #1967D2;\n",
       "      height: 32px;\n",
       "      padding: 0 0 0 0;\n",
       "      width: 32px;\n",
       "    }\n",
       "\n",
       "    .colab-df-convert:hover {\n",
       "      background-color: #E2EBFA;\n",
       "      box-shadow: 0px 1px 2px rgba(60, 64, 67, 0.3), 0px 1px 3px 1px rgba(60, 64, 67, 0.15);\n",
       "      fill: #174EA6;\n",
       "    }\n",
       "\n",
       "    [theme=dark] .colab-df-convert {\n",
       "      background-color: #3B4455;\n",
       "      fill: #D2E3FC;\n",
       "    }\n",
       "\n",
       "    [theme=dark] .colab-df-convert:hover {\n",
       "      background-color: #434B5C;\n",
       "      box-shadow: 0px 1px 3px 1px rgba(0, 0, 0, 0.15);\n",
       "      filter: drop-shadow(0px 1px 2px rgba(0, 0, 0, 0.3));\n",
       "      fill: #FFFFFF;\n",
       "    }\n",
       "  </style>\n",
       "\n",
       "      <script>\n",
       "        const buttonEl =\n",
       "          document.querySelector('#df-eb1d2477-c769-4fc9-a415-f9ef9febc6f0 button.colab-df-convert');\n",
       "        buttonEl.style.display =\n",
       "          google.colab.kernel.accessAllowed ? 'block' : 'none';\n",
       "\n",
       "        async function convertToInteractive(key) {\n",
       "          const element = document.querySelector('#df-eb1d2477-c769-4fc9-a415-f9ef9febc6f0');\n",
       "          const dataTable =\n",
       "            await google.colab.kernel.invokeFunction('convertToInteractive',\n",
       "                                                     [key], {});\n",
       "          if (!dataTable) return;\n",
       "\n",
       "          const docLinkHtml = 'Like what you see? Visit the ' +\n",
       "            '<a target=\"_blank\" href=https://colab.research.google.com/notebooks/data_table.ipynb>data table notebook</a>'\n",
       "            + ' to learn more about interactive tables.';\n",
       "          element.innerHTML = '';\n",
       "          dataTable['output_type'] = 'display_data';\n",
       "          await google.colab.output.renderOutput(dataTable, element);\n",
       "          const docLink = document.createElement('div');\n",
       "          docLink.innerHTML = docLinkHtml;\n",
       "          element.appendChild(docLink);\n",
       "        }\n",
       "      </script>\n",
       "    </div>\n",
       "  </div>\n",
       "  "
      ],
      "text/plain": [
       "      tags_name  count\n",
       "10057     honne     15"
      ]
     },
     "execution_count": 32,
     "metadata": {},
     "output_type": "execute_result"
    }
   ],
   "source": [
    "tags_df[tags_df.tags_name == '']"
   ]
  },
  {
   "cell_type": "markdown",
   "metadata": {
    "id": "J8E9y3sL6rVf"
   },
   "source": [
    "- 총 태그의 종류는 몇가지정도 되는지"
   ]
  },
  {
   "cell_type": "code",
   "execution_count": null,
   "metadata": {
    "colab": {
     "base_uri": "https://localhost:8080/"
    },
    "executionInfo": {
     "elapsed": 58,
     "status": "ok",
     "timestamp": 1641866774938,
     "user": {
      "displayName": "유상준",
      "photoUrl": "https://lh3.googleusercontent.com/a-/AOh14GjwhV3OPaZeVbcnb0L540CX4dtB2wGRfCVw4E8=s64",
      "userId": "06620102043085366517"
     },
     "user_tz": -540
    },
    "id": "UzAmcM2bkW-8",
    "outputId": "151bdb74-8fa5-4b75-a25f-56478120ee7c"
   },
   "outputs": [
    {
     "data": {
      "text/plain": [
       "29160"
      ]
     },
     "execution_count": 46,
     "metadata": {},
     "output_type": "execute_result"
    }
   ],
   "source": [
    "tags_df.shape[0]"
   ]
  },
  {
   "cell_type": "code",
   "execution_count": null,
   "metadata": {
    "colab": {
     "base_uri": "https://localhost:8080/"
    },
    "executionInfo": {
     "elapsed": 53,
     "status": "ok",
     "timestamp": 1641866774939,
     "user": {
      "displayName": "유상준",
      "photoUrl": "https://lh3.googleusercontent.com/a-/AOh14GjwhV3OPaZeVbcnb0L540CX4dtB2wGRfCVw4E8=s64",
      "userId": "06620102043085366517"
     },
     "user_tz": -540
    },
    "id": "t6b7OCb26Fum",
    "outputId": "3872c25b-9e55-4277-f18f-14e01e5c26c1"
   },
   "outputs": [
    {
     "data": {
      "text/plain": [
       "17431"
      ]
     },
     "execution_count": 47,
     "metadata": {},
     "output_type": "execute_result"
    }
   ],
   "source": [
    "tags_df[tags_df['count'] == 1].shape[0]"
   ]
  },
  {
   "cell_type": "code",
   "execution_count": null,
   "metadata": {
    "colab": {
     "base_uri": "https://localhost:8080/"
    },
    "executionInfo": {
     "elapsed": 51,
     "status": "ok",
     "timestamp": 1641866774942,
     "user": {
      "displayName": "유상준",
      "photoUrl": "https://lh3.googleusercontent.com/a-/AOh14GjwhV3OPaZeVbcnb0L540CX4dtB2wGRfCVw4E8=s64",
      "userId": "06620102043085366517"
     },
     "user_tz": -540
    },
    "id": "OfqZcxx26bcI",
    "outputId": "a7cf4e72-eb8a-48e4-d75e-29e7166f69bb"
   },
   "outputs": [
    {
     "data": {
      "text/plain": [
       "0.5977709190672154"
      ]
     },
     "execution_count": 48,
     "metadata": {},
     "output_type": "execute_result"
    }
   ],
   "source": [
    "17431/29160"
   ]
  },
  {
   "cell_type": "markdown",
   "metadata": {
    "id": "wUiAGBxP60OC"
   },
   "source": [
    "- 60퍼센트의 tag가 서로 겹치지 않는 태그"
   ]
  },
  {
   "cell_type": "markdown",
   "metadata": {
    "id": "TVfPMZG-AoEY"
   },
   "source": [
    "### like_cnt 와 updt_date 를 이용해서 할 수 있는게 있을까?"
   ]
  },
  {
   "cell_type": "markdown",
   "metadata": {
    "id": "mvHK3mk1BomR"
   },
   "source": [
    "- like_cnt가 많은 playlist : 사람들이 많이 공감한 playlist\n",
    "- 많은 사람들이 무난하게 좋아할 노래가 많을 것이다.\n",
    "- 특성 파악해보기"
   ]
  },
  {
   "cell_type": "code",
   "execution_count": null,
   "metadata": {
    "colab": {
     "base_uri": "https://localhost:8080/"
    },
    "executionInfo": {
     "elapsed": 277,
     "status": "ok",
     "timestamp": 1641950053317,
     "user": {
      "displayName": "유상준",
      "photoUrl": "https://lh3.googleusercontent.com/a-/AOh14GjwhV3OPaZeVbcnb0L540CX4dtB2wGRfCVw4E8=s64",
      "userId": "06620102043085366517"
     },
     "user_tz": -540
    },
    "id": "COc9vwf8B9sP",
    "outputId": "bc91ac05-37aa-4459-d75c-1f87fb843f5f"
   },
   "outputs": [
    {
     "data": {
      "text/plain": [
       "0     10356\n",
       "1     10197\n",
       "2      8499\n",
       "3      7463\n",
       "4      6465\n",
       "5      5646\n",
       "6      4934\n",
       "7      4189\n",
       "8      3656\n",
       "9      3295\n",
       "10     2786\n",
       "Name: like_cnt, dtype: int64"
      ]
     },
     "execution_count": 38,
     "metadata": {},
     "output_type": "execute_result"
    }
   ],
   "source": [
    "train.like_cnt.value_counts()[:11]"
   ]
  },
  {
   "cell_type": "code",
   "execution_count": null,
   "metadata": {
    "colab": {
     "base_uri": "https://localhost:8080/"
    },
    "executionInfo": {
     "elapsed": 403,
     "status": "ok",
     "timestamp": 1641950056423,
     "user": {
      "displayName": "유상준",
      "photoUrl": "https://lh3.googleusercontent.com/a-/AOh14GjwhV3OPaZeVbcnb0L540CX4dtB2wGRfCVw4E8=s64",
      "userId": "06620102043085366517"
     },
     "user_tz": -540
    },
    "id": "f13vzwEW8eGE",
    "outputId": "7882e13a-cc77-40c5-d95b-597260ba284b"
   },
   "outputs": [
    {
     "data": {
      "text/plain": [
       "7.0"
      ]
     },
     "execution_count": 39,
     "metadata": {},
     "output_type": "execute_result"
    }
   ],
   "source": [
    "np.median(train.like_cnt)"
   ]
  },
  {
   "cell_type": "code",
   "execution_count": null,
   "metadata": {
    "colab": {
     "base_uri": "https://localhost:8080/"
    },
    "executionInfo": {
     "elapsed": 305,
     "status": "ok",
     "timestamp": 1641950057765,
     "user": {
      "displayName": "유상준",
      "photoUrl": "https://lh3.googleusercontent.com/a-/AOh14GjwhV3OPaZeVbcnb0L540CX4dtB2wGRfCVw4E8=s64",
      "userId": "06620102043085366517"
     },
     "user_tz": -540
    },
    "id": "qnW63NQm8mom",
    "outputId": "e98a51b9-7e3e-4f07-caa4-cd1764d168fd"
   },
   "outputs": [
    {
     "data": {
      "text/plain": [
       "95.19768664563617"
      ]
     },
     "execution_count": 40,
     "metadata": {},
     "output_type": "execute_result"
    }
   ],
   "source": [
    "np.mean(train.like_cnt)"
   ]
  },
  {
   "cell_type": "markdown",
   "metadata": {
    "id": "GMsRqfYTAyxd"
   },
   "source": [
    "- updt_date 변수 이용한 계절 변수 추가\n",
    "    - ex) 여름 휴가철 or 연말연시 or 주요 공휴일 등등"
   ]
  },
  {
   "cell_type": "code",
   "execution_count": null,
   "metadata": {
    "colab": {
     "base_uri": "https://localhost:8080/",
     "height": 112
    },
    "executionInfo": {
     "elapsed": 279,
     "status": "ok",
     "timestamp": 1641950068601,
     "user": {
      "displayName": "유상준",
      "photoUrl": "https://lh3.googleusercontent.com/a-/AOh14GjwhV3OPaZeVbcnb0L540CX4dtB2wGRfCVw4E8=s64",
      "userId": "06620102043085366517"
     },
     "user_tz": -540
    },
    "id": "xQ75AXwij9B7",
    "outputId": "90f79981-941b-46e9-8480-62b8e3ede1ec"
   },
   "outputs": [
    {
     "data": {
      "text/html": [
       "\n",
       "  <div id=\"df-37f3d8b7-7319-4ab2-9628-e6c032e0e2cf\">\n",
       "    <div class=\"colab-df-container\">\n",
       "      <div>\n",
       "<style scoped>\n",
       "    .dataframe tbody tr th:only-of-type {\n",
       "        vertical-align: middle;\n",
       "    }\n",
       "\n",
       "    .dataframe tbody tr th {\n",
       "        vertical-align: top;\n",
       "    }\n",
       "\n",
       "    .dataframe thead th {\n",
       "        text-align: right;\n",
       "    }\n",
       "</style>\n",
       "<table border=\"1\" class=\"dataframe\">\n",
       "  <thead>\n",
       "    <tr style=\"text-align: right;\">\n",
       "      <th></th>\n",
       "      <th>tags</th>\n",
       "      <th>id</th>\n",
       "      <th>plylst_title</th>\n",
       "      <th>songs</th>\n",
       "      <th>like_cnt</th>\n",
       "      <th>updt_date</th>\n",
       "      <th>n_songs</th>\n",
       "    </tr>\n",
       "  </thead>\n",
       "  <tbody>\n",
       "    <tr>\n",
       "      <th>0</th>\n",
       "      <td>[락]</td>\n",
       "      <td>61281</td>\n",
       "      <td>여행같은 음악</td>\n",
       "      <td>[525514, 129701, 383374, 562083, 297861, 13954...</td>\n",
       "      <td>71</td>\n",
       "      <td>2013-12-19 18:36:19.000</td>\n",
       "      <td>19</td>\n",
       "    </tr>\n",
       "    <tr>\n",
       "      <th>1</th>\n",
       "      <td>[추억, 회상]</td>\n",
       "      <td>10532</td>\n",
       "      <td>요즘 너 말야</td>\n",
       "      <td>[432406, 675945, 497066, 120377, 389529, 24427...</td>\n",
       "      <td>1</td>\n",
       "      <td>2014-12-02 16:19:42.000</td>\n",
       "      <td>42</td>\n",
       "    </tr>\n",
       "  </tbody>\n",
       "</table>\n",
       "</div>\n",
       "      <button class=\"colab-df-convert\" onclick=\"convertToInteractive('df-37f3d8b7-7319-4ab2-9628-e6c032e0e2cf')\"\n",
       "              title=\"Convert this dataframe to an interactive table.\"\n",
       "              style=\"display:none;\">\n",
       "        \n",
       "  <svg xmlns=\"http://www.w3.org/2000/svg\" height=\"24px\"viewBox=\"0 0 24 24\"\n",
       "       width=\"24px\">\n",
       "    <path d=\"M0 0h24v24H0V0z\" fill=\"none\"/>\n",
       "    <path d=\"M18.56 5.44l.94 2.06.94-2.06 2.06-.94-2.06-.94-.94-2.06-.94 2.06-2.06.94zm-11 1L8.5 8.5l.94-2.06 2.06-.94-2.06-.94L8.5 2.5l-.94 2.06-2.06.94zm10 10l.94 2.06.94-2.06 2.06-.94-2.06-.94-.94-2.06-.94 2.06-2.06.94z\"/><path d=\"M17.41 7.96l-1.37-1.37c-.4-.4-.92-.59-1.43-.59-.52 0-1.04.2-1.43.59L10.3 9.45l-7.72 7.72c-.78.78-.78 2.05 0 2.83L4 21.41c.39.39.9.59 1.41.59.51 0 1.02-.2 1.41-.59l7.78-7.78 2.81-2.81c.8-.78.8-2.07 0-2.86zM5.41 20L4 18.59l7.72-7.72 1.47 1.35L5.41 20z\"/>\n",
       "  </svg>\n",
       "      </button>\n",
       "      \n",
       "  <style>\n",
       "    .colab-df-container {\n",
       "      display:flex;\n",
       "      flex-wrap:wrap;\n",
       "      gap: 12px;\n",
       "    }\n",
       "\n",
       "    .colab-df-convert {\n",
       "      background-color: #E8F0FE;\n",
       "      border: none;\n",
       "      border-radius: 50%;\n",
       "      cursor: pointer;\n",
       "      display: none;\n",
       "      fill: #1967D2;\n",
       "      height: 32px;\n",
       "      padding: 0 0 0 0;\n",
       "      width: 32px;\n",
       "    }\n",
       "\n",
       "    .colab-df-convert:hover {\n",
       "      background-color: #E2EBFA;\n",
       "      box-shadow: 0px 1px 2px rgba(60, 64, 67, 0.3), 0px 1px 3px 1px rgba(60, 64, 67, 0.15);\n",
       "      fill: #174EA6;\n",
       "    }\n",
       "\n",
       "    [theme=dark] .colab-df-convert {\n",
       "      background-color: #3B4455;\n",
       "      fill: #D2E3FC;\n",
       "    }\n",
       "\n",
       "    [theme=dark] .colab-df-convert:hover {\n",
       "      background-color: #434B5C;\n",
       "      box-shadow: 0px 1px 3px 1px rgba(0, 0, 0, 0.15);\n",
       "      filter: drop-shadow(0px 1px 2px rgba(0, 0, 0, 0.3));\n",
       "      fill: #FFFFFF;\n",
       "    }\n",
       "  </style>\n",
       "\n",
       "      <script>\n",
       "        const buttonEl =\n",
       "          document.querySelector('#df-37f3d8b7-7319-4ab2-9628-e6c032e0e2cf button.colab-df-convert');\n",
       "        buttonEl.style.display =\n",
       "          google.colab.kernel.accessAllowed ? 'block' : 'none';\n",
       "\n",
       "        async function convertToInteractive(key) {\n",
       "          const element = document.querySelector('#df-37f3d8b7-7319-4ab2-9628-e6c032e0e2cf');\n",
       "          const dataTable =\n",
       "            await google.colab.kernel.invokeFunction('convertToInteractive',\n",
       "                                                     [key], {});\n",
       "          if (!dataTable) return;\n",
       "\n",
       "          const docLinkHtml = 'Like what you see? Visit the ' +\n",
       "            '<a target=\"_blank\" href=https://colab.research.google.com/notebooks/data_table.ipynb>data table notebook</a>'\n",
       "            + ' to learn more about interactive tables.';\n",
       "          element.innerHTML = '';\n",
       "          dataTable['output_type'] = 'display_data';\n",
       "          await google.colab.output.renderOutput(dataTable, element);\n",
       "          const docLink = document.createElement('div');\n",
       "          docLink.innerHTML = docLinkHtml;\n",
       "          element.appendChild(docLink);\n",
       "        }\n",
       "      </script>\n",
       "    </div>\n",
       "  </div>\n",
       "  "
      ],
      "text/plain": [
       "       tags     id plylst_title  ... like_cnt                updt_date n_songs\n",
       "0       [락]  61281      여행같은 음악  ...       71  2013-12-19 18:36:19.000      19\n",
       "1  [추억, 회상]  10532      요즘 너 말야  ...        1  2014-12-02 16:19:42.000      42\n",
       "\n",
       "[2 rows x 7 columns]"
      ]
     },
     "execution_count": 41,
     "metadata": {},
     "output_type": "execute_result"
    }
   ],
   "source": [
    "train.head(2)"
   ]
  },
  {
   "cell_type": "markdown",
   "metadata": {
    "id": "Sse-aIFOtfXY"
   },
   "source": [
    "---"
   ]
  },
  {
   "cell_type": "markdown",
   "metadata": {
    "id": "OR0DgITMtPy6"
   },
   "source": [
    "# 01 / 11"
   ]
  },
  {
   "cell_type": "markdown",
   "metadata": {
    "id": "ppDd5mG9te5F"
   },
   "source": [
    "---"
   ]
  },
  {
   "cell_type": "code",
   "execution_count": null,
   "metadata": {
    "colab": {
     "base_uri": "https://localhost:8080/"
    },
    "executionInfo": {
     "elapsed": 358,
     "status": "ok",
     "timestamp": 1641950072620,
     "user": {
      "displayName": "유상준",
      "photoUrl": "https://lh3.googleusercontent.com/a-/AOh14GjwhV3OPaZeVbcnb0L540CX4dtB2wGRfCVw4E8=s64",
      "userId": "06620102043085366517"
     },
     "user_tz": -540
    },
    "id": "a-cDjvCz4M3L",
    "outputId": "c853b932-d62a-44d2-b6a1-02e0c90d22bc"
   },
   "outputs": [
    {
     "data": {
      "text/plain": [
       "(10740, 6)"
      ]
     },
     "execution_count": 42,
     "metadata": {},
     "output_type": "execute_result"
    }
   ],
   "source": [
    "test.shape"
   ]
  },
  {
   "cell_type": "code",
   "execution_count": null,
   "metadata": {
    "colab": {
     "base_uri": "https://localhost:8080/"
    },
    "executionInfo": {
     "elapsed": 4,
     "status": "ok",
     "timestamp": 1641950073395,
     "user": {
      "displayName": "유상준",
      "photoUrl": "https://lh3.googleusercontent.com/a-/AOh14GjwhV3OPaZeVbcnb0L540CX4dtB2wGRfCVw4E8=s64",
      "userId": "06620102043085366517"
     },
     "user_tz": -540
    },
    "id": "i2lZlqtK4MzO",
    "outputId": "acfae386-3141-4276-d1c9-6518193217a8"
   },
   "outputs": [
    {
     "data": {
      "text/plain": [
       "(115071, 7)"
      ]
     },
     "execution_count": 43,
     "metadata": {},
     "output_type": "execute_result"
    }
   ],
   "source": [
    "train.shape"
   ]
  },
  {
   "cell_type": "code",
   "execution_count": null,
   "metadata": {
    "colab": {
     "base_uri": "https://localhost:8080/"
    },
    "executionInfo": {
     "elapsed": 6,
     "status": "ok",
     "timestamp": 1641950074398,
     "user": {
      "displayName": "유상준",
      "photoUrl": "https://lh3.googleusercontent.com/a-/AOh14GjwhV3OPaZeVbcnb0L540CX4dtB2wGRfCVw4E8=s64",
      "userId": "06620102043085366517"
     },
     "user_tz": -540
    },
    "id": "gwujdo0rtTCw",
    "outputId": "a1a377b3-3c46-435f-b447-66d51315c81c"
   },
   "outputs": [
    {
     "data": {
      "text/plain": [
       "(23015, 6)"
      ]
     },
     "execution_count": 44,
     "metadata": {},
     "output_type": "execute_result"
    }
   ],
   "source": [
    "val.shape"
   ]
  },
  {
   "cell_type": "markdown",
   "metadata": {
    "id": "VjwwLC_WFAyM"
   },
   "source": [
    "- train, val, test data set merge"
   ]
  },
  {
   "cell_type": "code",
   "execution_count": null,
   "metadata": {
    "id": "4PxIim-LCTUP"
   },
   "outputs": [],
   "source": [
    "train['data'] = 'train'\n",
    "val['data'] = 'val'\n",
    "test['data'] = 'test'"
   ]
  },
  {
   "cell_type": "code",
   "execution_count": null,
   "metadata": {
    "colab": {
     "base_uri": "https://localhost:8080/",
     "height": 337
    },
    "executionInfo": {
     "elapsed": 421,
     "status": "ok",
     "timestamp": 1641950081497,
     "user": {
      "displayName": "유상준",
      "photoUrl": "https://lh3.googleusercontent.com/a-/AOh14GjwhV3OPaZeVbcnb0L540CX4dtB2wGRfCVw4E8=s64",
      "userId": "06620102043085366517"
     },
     "user_tz": -540
    },
    "id": "AXToTcxAj4jr",
    "outputId": "ffa29614-13ed-4dac-f7e9-dc8237d85a59"
   },
   "outputs": [
    {
     "data": {
      "text/html": [
       "\n",
       "  <div id=\"df-a57ff773-93e8-4a9b-a152-759a46e2fa0a\">\n",
       "    <div class=\"colab-df-container\">\n",
       "      <div>\n",
       "<style scoped>\n",
       "    .dataframe tbody tr th:only-of-type {\n",
       "        vertical-align: middle;\n",
       "    }\n",
       "\n",
       "    .dataframe tbody tr th {\n",
       "        vertical-align: top;\n",
       "    }\n",
       "\n",
       "    .dataframe thead th {\n",
       "        text-align: right;\n",
       "    }\n",
       "</style>\n",
       "<table border=\"1\" class=\"dataframe\">\n",
       "  <thead>\n",
       "    <tr style=\"text-align: right;\">\n",
       "      <th></th>\n",
       "      <th>tags</th>\n",
       "      <th>id</th>\n",
       "      <th>plylst_title</th>\n",
       "      <th>songs</th>\n",
       "      <th>like_cnt</th>\n",
       "      <th>updt_date</th>\n",
       "      <th>data</th>\n",
       "    </tr>\n",
       "  </thead>\n",
       "  <tbody>\n",
       "    <tr>\n",
       "      <th>0</th>\n",
       "      <td>[락]</td>\n",
       "      <td>61281</td>\n",
       "      <td>여행같은 음악</td>\n",
       "      <td>[525514, 129701, 383374, 562083, 297861, 13954...</td>\n",
       "      <td>71</td>\n",
       "      <td>2013-12-19 18:36:19.000</td>\n",
       "      <td>train</td>\n",
       "    </tr>\n",
       "    <tr>\n",
       "      <th>1</th>\n",
       "      <td>[추억, 회상]</td>\n",
       "      <td>10532</td>\n",
       "      <td>요즘 너 말야</td>\n",
       "      <td>[432406, 675945, 497066, 120377, 389529, 24427...</td>\n",
       "      <td>1</td>\n",
       "      <td>2014-12-02 16:19:42.000</td>\n",
       "      <td>train</td>\n",
       "    </tr>\n",
       "    <tr>\n",
       "      <th>2</th>\n",
       "      <td>[까페, 잔잔한]</td>\n",
       "      <td>76951</td>\n",
       "      <td>편하게, 잔잔하게 들을 수 있는 곡.-</td>\n",
       "      <td>[83116, 276692, 166267, 186301, 354465, 256598...</td>\n",
       "      <td>17</td>\n",
       "      <td>2017-08-28 07:09:34.000</td>\n",
       "      <td>train</td>\n",
       "    </tr>\n",
       "    <tr>\n",
       "      <th>3</th>\n",
       "      <td>[연말, 눈오는날, 캐럴, 분위기, 따듯한, 크리스마스캐럴, 겨울노래, 크리스마스,...</td>\n",
       "      <td>147456</td>\n",
       "      <td>크리스마스 분위기에 흠뻑 취하고 싶을때</td>\n",
       "      <td>[394031, 195524, 540149, 287984, 440773, 10033...</td>\n",
       "      <td>33</td>\n",
       "      <td>2019-12-05 15:15:18.000</td>\n",
       "      <td>train</td>\n",
       "    </tr>\n",
       "    <tr>\n",
       "      <th>4</th>\n",
       "      <td>[댄스]</td>\n",
       "      <td>27616</td>\n",
       "      <td>추억의 노래 ㅋ</td>\n",
       "      <td>[159327, 553610, 5130, 645103, 294435, 100657,...</td>\n",
       "      <td>9</td>\n",
       "      <td>2011-10-25 13:54:56.000</td>\n",
       "      <td>train</td>\n",
       "    </tr>\n",
       "  </tbody>\n",
       "</table>\n",
       "</div>\n",
       "      <button class=\"colab-df-convert\" onclick=\"convertToInteractive('df-a57ff773-93e8-4a9b-a152-759a46e2fa0a')\"\n",
       "              title=\"Convert this dataframe to an interactive table.\"\n",
       "              style=\"display:none;\">\n",
       "        \n",
       "  <svg xmlns=\"http://www.w3.org/2000/svg\" height=\"24px\"viewBox=\"0 0 24 24\"\n",
       "       width=\"24px\">\n",
       "    <path d=\"M0 0h24v24H0V0z\" fill=\"none\"/>\n",
       "    <path d=\"M18.56 5.44l.94 2.06.94-2.06 2.06-.94-2.06-.94-.94-2.06-.94 2.06-2.06.94zm-11 1L8.5 8.5l.94-2.06 2.06-.94-2.06-.94L8.5 2.5l-.94 2.06-2.06.94zm10 10l.94 2.06.94-2.06 2.06-.94-2.06-.94-.94-2.06-.94 2.06-2.06.94z\"/><path d=\"M17.41 7.96l-1.37-1.37c-.4-.4-.92-.59-1.43-.59-.52 0-1.04.2-1.43.59L10.3 9.45l-7.72 7.72c-.78.78-.78 2.05 0 2.83L4 21.41c.39.39.9.59 1.41.59.51 0 1.02-.2 1.41-.59l7.78-7.78 2.81-2.81c.8-.78.8-2.07 0-2.86zM5.41 20L4 18.59l7.72-7.72 1.47 1.35L5.41 20z\"/>\n",
       "  </svg>\n",
       "      </button>\n",
       "      \n",
       "  <style>\n",
       "    .colab-df-container {\n",
       "      display:flex;\n",
       "      flex-wrap:wrap;\n",
       "      gap: 12px;\n",
       "    }\n",
       "\n",
       "    .colab-df-convert {\n",
       "      background-color: #E8F0FE;\n",
       "      border: none;\n",
       "      border-radius: 50%;\n",
       "      cursor: pointer;\n",
       "      display: none;\n",
       "      fill: #1967D2;\n",
       "      height: 32px;\n",
       "      padding: 0 0 0 0;\n",
       "      width: 32px;\n",
       "    }\n",
       "\n",
       "    .colab-df-convert:hover {\n",
       "      background-color: #E2EBFA;\n",
       "      box-shadow: 0px 1px 2px rgba(60, 64, 67, 0.3), 0px 1px 3px 1px rgba(60, 64, 67, 0.15);\n",
       "      fill: #174EA6;\n",
       "    }\n",
       "\n",
       "    [theme=dark] .colab-df-convert {\n",
       "      background-color: #3B4455;\n",
       "      fill: #D2E3FC;\n",
       "    }\n",
       "\n",
       "    [theme=dark] .colab-df-convert:hover {\n",
       "      background-color: #434B5C;\n",
       "      box-shadow: 0px 1px 3px 1px rgba(0, 0, 0, 0.15);\n",
       "      filter: drop-shadow(0px 1px 2px rgba(0, 0, 0, 0.3));\n",
       "      fill: #FFFFFF;\n",
       "    }\n",
       "  </style>\n",
       "\n",
       "      <script>\n",
       "        const buttonEl =\n",
       "          document.querySelector('#df-a57ff773-93e8-4a9b-a152-759a46e2fa0a button.colab-df-convert');\n",
       "        buttonEl.style.display =\n",
       "          google.colab.kernel.accessAllowed ? 'block' : 'none';\n",
       "\n",
       "        async function convertToInteractive(key) {\n",
       "          const element = document.querySelector('#df-a57ff773-93e8-4a9b-a152-759a46e2fa0a');\n",
       "          const dataTable =\n",
       "            await google.colab.kernel.invokeFunction('convertToInteractive',\n",
       "                                                     [key], {});\n",
       "          if (!dataTable) return;\n",
       "\n",
       "          const docLinkHtml = 'Like what you see? Visit the ' +\n",
       "            '<a target=\"_blank\" href=https://colab.research.google.com/notebooks/data_table.ipynb>data table notebook</a>'\n",
       "            + ' to learn more about interactive tables.';\n",
       "          element.innerHTML = '';\n",
       "          dataTable['output_type'] = 'display_data';\n",
       "          await google.colab.output.renderOutput(dataTable, element);\n",
       "          const docLink = document.createElement('div');\n",
       "          docLink.innerHTML = docLinkHtml;\n",
       "          element.appendChild(docLink);\n",
       "        }\n",
       "      </script>\n",
       "    </div>\n",
       "  </div>\n",
       "  "
      ],
      "text/plain": [
       "                                                tags  ...   data\n",
       "0                                                [락]  ...  train\n",
       "1                                           [추억, 회상]  ...  train\n",
       "2                                          [까페, 잔잔한]  ...  train\n",
       "3  [연말, 눈오는날, 캐럴, 분위기, 따듯한, 크리스마스캐럴, 겨울노래, 크리스마스,...  ...  train\n",
       "4                                               [댄스]  ...  train\n",
       "\n",
       "[5 rows x 7 columns]"
      ]
     },
     "execution_count": 46,
     "metadata": {},
     "output_type": "execute_result"
    }
   ],
   "source": [
    "df = pd.concat([train,val,test], axis = 0)\n",
    "del df['n_songs']\n",
    "df.head()"
   ]
  },
  {
   "cell_type": "code",
   "execution_count": null,
   "metadata": {
    "colab": {
     "base_uri": "https://localhost:8080/",
     "height": 337
    },
    "executionInfo": {
     "elapsed": 5,
     "status": "ok",
     "timestamp": 1641950082667,
     "user": {
      "displayName": "유상준",
      "photoUrl": "https://lh3.googleusercontent.com/a-/AOh14GjwhV3OPaZeVbcnb0L540CX4dtB2wGRfCVw4E8=s64",
      "userId": "06620102043085366517"
     },
     "user_tz": -540
    },
    "id": "32IdtPWaCCl7",
    "outputId": "3d7c4655-3110-45bb-e10d-080efffd0164"
   },
   "outputs": [
    {
     "data": {
      "text/html": [
       "\n",
       "  <div id=\"df-2e0ab137-3602-4652-8c1d-bb1812404f70\">\n",
       "    <div class=\"colab-df-container\">\n",
       "      <div>\n",
       "<style scoped>\n",
       "    .dataframe tbody tr th:only-of-type {\n",
       "        vertical-align: middle;\n",
       "    }\n",
       "\n",
       "    .dataframe tbody tr th {\n",
       "        vertical-align: top;\n",
       "    }\n",
       "\n",
       "    .dataframe thead th {\n",
       "        text-align: right;\n",
       "    }\n",
       "</style>\n",
       "<table border=\"1\" class=\"dataframe\">\n",
       "  <thead>\n",
       "    <tr style=\"text-align: right;\">\n",
       "      <th></th>\n",
       "      <th>tags</th>\n",
       "      <th>id</th>\n",
       "      <th>plylst_title</th>\n",
       "      <th>songs</th>\n",
       "      <th>like_cnt</th>\n",
       "      <th>updt_date</th>\n",
       "      <th>data</th>\n",
       "    </tr>\n",
       "  </thead>\n",
       "  <tbody>\n",
       "    <tr>\n",
       "      <th>0</th>\n",
       "      <td>[락]</td>\n",
       "      <td>61281</td>\n",
       "      <td>여행같은 음악</td>\n",
       "      <td>[525514, 129701, 383374, 562083, 297861, 13954...</td>\n",
       "      <td>71</td>\n",
       "      <td>2013-12-19 18:36:19.000</td>\n",
       "      <td>train</td>\n",
       "    </tr>\n",
       "    <tr>\n",
       "      <th>1</th>\n",
       "      <td>[추억, 회상]</td>\n",
       "      <td>10532</td>\n",
       "      <td>요즘 너 말야</td>\n",
       "      <td>[432406, 675945, 497066, 120377, 389529, 24427...</td>\n",
       "      <td>1</td>\n",
       "      <td>2014-12-02 16:19:42.000</td>\n",
       "      <td>train</td>\n",
       "    </tr>\n",
       "    <tr>\n",
       "      <th>2</th>\n",
       "      <td>[까페, 잔잔한]</td>\n",
       "      <td>76951</td>\n",
       "      <td>편하게, 잔잔하게 들을 수 있는 곡.-</td>\n",
       "      <td>[83116, 276692, 166267, 186301, 354465, 256598...</td>\n",
       "      <td>17</td>\n",
       "      <td>2017-08-28 07:09:34.000</td>\n",
       "      <td>train</td>\n",
       "    </tr>\n",
       "    <tr>\n",
       "      <th>3</th>\n",
       "      <td>[연말, 눈오는날, 캐럴, 분위기, 따듯한, 크리스마스캐럴, 겨울노래, 크리스마스,...</td>\n",
       "      <td>147456</td>\n",
       "      <td>크리스마스 분위기에 흠뻑 취하고 싶을때</td>\n",
       "      <td>[394031, 195524, 540149, 287984, 440773, 10033...</td>\n",
       "      <td>33</td>\n",
       "      <td>2019-12-05 15:15:18.000</td>\n",
       "      <td>train</td>\n",
       "    </tr>\n",
       "    <tr>\n",
       "      <th>4</th>\n",
       "      <td>[댄스]</td>\n",
       "      <td>27616</td>\n",
       "      <td>추억의 노래 ㅋ</td>\n",
       "      <td>[159327, 553610, 5130, 645103, 294435, 100657,...</td>\n",
       "      <td>9</td>\n",
       "      <td>2011-10-25 13:54:56.000</td>\n",
       "      <td>train</td>\n",
       "    </tr>\n",
       "  </tbody>\n",
       "</table>\n",
       "</div>\n",
       "      <button class=\"colab-df-convert\" onclick=\"convertToInteractive('df-2e0ab137-3602-4652-8c1d-bb1812404f70')\"\n",
       "              title=\"Convert this dataframe to an interactive table.\"\n",
       "              style=\"display:none;\">\n",
       "        \n",
       "  <svg xmlns=\"http://www.w3.org/2000/svg\" height=\"24px\"viewBox=\"0 0 24 24\"\n",
       "       width=\"24px\">\n",
       "    <path d=\"M0 0h24v24H0V0z\" fill=\"none\"/>\n",
       "    <path d=\"M18.56 5.44l.94 2.06.94-2.06 2.06-.94-2.06-.94-.94-2.06-.94 2.06-2.06.94zm-11 1L8.5 8.5l.94-2.06 2.06-.94-2.06-.94L8.5 2.5l-.94 2.06-2.06.94zm10 10l.94 2.06.94-2.06 2.06-.94-2.06-.94-.94-2.06-.94 2.06-2.06.94z\"/><path d=\"M17.41 7.96l-1.37-1.37c-.4-.4-.92-.59-1.43-.59-.52 0-1.04.2-1.43.59L10.3 9.45l-7.72 7.72c-.78.78-.78 2.05 0 2.83L4 21.41c.39.39.9.59 1.41.59.51 0 1.02-.2 1.41-.59l7.78-7.78 2.81-2.81c.8-.78.8-2.07 0-2.86zM5.41 20L4 18.59l7.72-7.72 1.47 1.35L5.41 20z\"/>\n",
       "  </svg>\n",
       "      </button>\n",
       "      \n",
       "  <style>\n",
       "    .colab-df-container {\n",
       "      display:flex;\n",
       "      flex-wrap:wrap;\n",
       "      gap: 12px;\n",
       "    }\n",
       "\n",
       "    .colab-df-convert {\n",
       "      background-color: #E8F0FE;\n",
       "      border: none;\n",
       "      border-radius: 50%;\n",
       "      cursor: pointer;\n",
       "      display: none;\n",
       "      fill: #1967D2;\n",
       "      height: 32px;\n",
       "      padding: 0 0 0 0;\n",
       "      width: 32px;\n",
       "    }\n",
       "\n",
       "    .colab-df-convert:hover {\n",
       "      background-color: #E2EBFA;\n",
       "      box-shadow: 0px 1px 2px rgba(60, 64, 67, 0.3), 0px 1px 3px 1px rgba(60, 64, 67, 0.15);\n",
       "      fill: #174EA6;\n",
       "    }\n",
       "\n",
       "    [theme=dark] .colab-df-convert {\n",
       "      background-color: #3B4455;\n",
       "      fill: #D2E3FC;\n",
       "    }\n",
       "\n",
       "    [theme=dark] .colab-df-convert:hover {\n",
       "      background-color: #434B5C;\n",
       "      box-shadow: 0px 1px 3px 1px rgba(0, 0, 0, 0.15);\n",
       "      filter: drop-shadow(0px 1px 2px rgba(0, 0, 0, 0.3));\n",
       "      fill: #FFFFFF;\n",
       "    }\n",
       "  </style>\n",
       "\n",
       "      <script>\n",
       "        const buttonEl =\n",
       "          document.querySelector('#df-2e0ab137-3602-4652-8c1d-bb1812404f70 button.colab-df-convert');\n",
       "        buttonEl.style.display =\n",
       "          google.colab.kernel.accessAllowed ? 'block' : 'none';\n",
       "\n",
       "        async function convertToInteractive(key) {\n",
       "          const element = document.querySelector('#df-2e0ab137-3602-4652-8c1d-bb1812404f70');\n",
       "          const dataTable =\n",
       "            await google.colab.kernel.invokeFunction('convertToInteractive',\n",
       "                                                     [key], {});\n",
       "          if (!dataTable) return;\n",
       "\n",
       "          const docLinkHtml = 'Like what you see? Visit the ' +\n",
       "            '<a target=\"_blank\" href=https://colab.research.google.com/notebooks/data_table.ipynb>data table notebook</a>'\n",
       "            + ' to learn more about interactive tables.';\n",
       "          element.innerHTML = '';\n",
       "          dataTable['output_type'] = 'display_data';\n",
       "          await google.colab.output.renderOutput(dataTable, element);\n",
       "          const docLink = document.createElement('div');\n",
       "          docLink.innerHTML = docLinkHtml;\n",
       "          element.appendChild(docLink);\n",
       "        }\n",
       "      </script>\n",
       "    </div>\n",
       "  </div>\n",
       "  "
      ],
      "text/plain": [
       "                                                tags  ...   data\n",
       "0                                                [락]  ...  train\n",
       "1                                           [추억, 회상]  ...  train\n",
       "2                                          [까페, 잔잔한]  ...  train\n",
       "3  [연말, 눈오는날, 캐럴, 분위기, 따듯한, 크리스마스캐럴, 겨울노래, 크리스마스,...  ...  train\n",
       "4                                               [댄스]  ...  train\n",
       "\n",
       "[5 rows x 7 columns]"
      ]
     },
     "execution_count": 47,
     "metadata": {},
     "output_type": "execute_result"
    }
   ],
   "source": [
    "df.reset_index(inplace = True)\n",
    "del df['index']\n",
    "df.head()"
   ]
  },
  {
   "cell_type": "code",
   "execution_count": null,
   "metadata": {
    "id": "Cck_KlBwDmLF"
   },
   "outputs": [],
   "source": [
    "df.to_csv('../data/concatenated_data.csv')"
   ]
  },
  {
   "cell_type": "code",
   "execution_count": null,
   "metadata": {
    "colab": {
     "base_uri": "https://localhost:8080/"
    },
    "executionInfo": {
     "elapsed": 253,
     "status": "ok",
     "timestamp": 1641950092506,
     "user": {
      "displayName": "유상준",
      "photoUrl": "https://lh3.googleusercontent.com/a-/AOh14GjwhV3OPaZeVbcnb0L540CX4dtB2wGRfCVw4E8=s64",
      "userId": "06620102043085366517"
     },
     "user_tz": -540
    },
    "id": "-C_m3PmNGB5o",
    "outputId": "5ffb304d-14da-44a9-c6ad-adc734938572"
   },
   "outputs": [
    {
     "name": "stdout",
     "output_type": "stream",
     "text": [
      "/content/drive/MyDrive/네카라쿠배/최종 프로젝트/data\n"
     ]
    }
   ],
   "source": [
    "cd /content/drive/MyDrive/네카라쿠배/최종 프로젝트/data"
   ]
  },
  {
   "cell_type": "code",
   "execution_count": null,
   "metadata": {
    "colab": {
     "base_uri": "https://localhost:8080/"
    },
    "executionInfo": {
     "elapsed": 327,
     "status": "ok",
     "timestamp": 1641950094026,
     "user": {
      "displayName": "유상준",
      "photoUrl": "https://lh3.googleusercontent.com/a-/AOh14GjwhV3OPaZeVbcnb0L540CX4dtB2wGRfCVw4E8=s64",
      "userId": "06620102043085366517"
     },
     "user_tz": -540
    },
    "id": "cmMdBc0pGZXB",
    "outputId": "b051de05-19cf-4aef-fbc3-20ba911d62e4"
   },
   "outputs": [
    {
     "name": "stdout",
     "output_type": "stream",
     "text": [
      "concatenated_data.csv  song_meta.json  test.json   val.json\n",
      "genre_gn_all.json      songs_df.csv    train.json\n"
     ]
    }
   ],
   "source": [
    "ls"
   ]
  },
  {
   "cell_type": "code",
   "execution_count": null,
   "metadata": {
    "colab": {
     "base_uri": "https://localhost:8080/",
     "height": 337
    },
    "executionInfo": {
     "elapsed": 2850,
     "status": "ok",
     "timestamp": 1641950099008,
     "user": {
      "displayName": "유상준",
      "photoUrl": "https://lh3.googleusercontent.com/a-/AOh14GjwhV3OPaZeVbcnb0L540CX4dtB2wGRfCVw4E8=s64",
      "userId": "06620102043085366517"
     },
     "user_tz": -540
    },
    "id": "rKbI52MKGJYF",
    "outputId": "ae6f2583-fdf5-4762-b648-5046312e09c4"
   },
   "outputs": [
    {
     "data": {
      "text/html": [
       "\n",
       "  <div id=\"df-e67ff043-87e3-4a0f-a0b8-dca8949d19de\">\n",
       "    <div class=\"colab-df-container\">\n",
       "      <div>\n",
       "<style scoped>\n",
       "    .dataframe tbody tr th:only-of-type {\n",
       "        vertical-align: middle;\n",
       "    }\n",
       "\n",
       "    .dataframe tbody tr th {\n",
       "        vertical-align: top;\n",
       "    }\n",
       "\n",
       "    .dataframe thead th {\n",
       "        text-align: right;\n",
       "    }\n",
       "</style>\n",
       "<table border=\"1\" class=\"dataframe\">\n",
       "  <thead>\n",
       "    <tr style=\"text-align: right;\">\n",
       "      <th></th>\n",
       "      <th>tags</th>\n",
       "      <th>id</th>\n",
       "      <th>plylst_title</th>\n",
       "      <th>songs</th>\n",
       "      <th>like_cnt</th>\n",
       "      <th>updt_date</th>\n",
       "      <th>data</th>\n",
       "    </tr>\n",
       "  </thead>\n",
       "  <tbody>\n",
       "    <tr>\n",
       "      <th>148821</th>\n",
       "      <td>['추억']</td>\n",
       "      <td>137930</td>\n",
       "      <td>NaN</td>\n",
       "      <td>[323755, 397594, 445908, 570242, 221853, 20018...</td>\n",
       "      <td>16</td>\n",
       "      <td>2016-04-18 11:02:09.000</td>\n",
       "      <td>test</td>\n",
       "    </tr>\n",
       "    <tr>\n",
       "      <th>148822</th>\n",
       "      <td>['띵곡의', '우울', '분위기', '드라이브', '산책']</td>\n",
       "      <td>936</td>\n",
       "      <td>NaN</td>\n",
       "      <td>[105140, 582252, 199262, 422915, 547967, 48791...</td>\n",
       "      <td>1</td>\n",
       "      <td>2020-04-08 07:15:59.000</td>\n",
       "      <td>test</td>\n",
       "    </tr>\n",
       "    <tr>\n",
       "      <th>148823</th>\n",
       "      <td>['기분전환']</td>\n",
       "      <td>110589</td>\n",
       "      <td>NaN</td>\n",
       "      <td>[21976, 207746, 40025, 31635, 567462, 641799, ...</td>\n",
       "      <td>6</td>\n",
       "      <td>2016-06-29 00:57:21.000</td>\n",
       "      <td>test</td>\n",
       "    </tr>\n",
       "    <tr>\n",
       "      <th>148824</th>\n",
       "      <td>['여름']</td>\n",
       "      <td>2605</td>\n",
       "      <td>NaN</td>\n",
       "      <td>[234554, 265033, 507260, 83092, 366757, 497097...</td>\n",
       "      <td>4</td>\n",
       "      <td>2015-06-06 09:52:01.000</td>\n",
       "      <td>test</td>\n",
       "    </tr>\n",
       "    <tr>\n",
       "      <th>148825</th>\n",
       "      <td>[]</td>\n",
       "      <td>126651</td>\n",
       "      <td>NaN</td>\n",
       "      <td>[685111, 20039, 634240, 519385, 321994, 525309...</td>\n",
       "      <td>14</td>\n",
       "      <td>2015-10-26 17:43:30.000</td>\n",
       "      <td>test</td>\n",
       "    </tr>\n",
       "  </tbody>\n",
       "</table>\n",
       "</div>\n",
       "      <button class=\"colab-df-convert\" onclick=\"convertToInteractive('df-e67ff043-87e3-4a0f-a0b8-dca8949d19de')\"\n",
       "              title=\"Convert this dataframe to an interactive table.\"\n",
       "              style=\"display:none;\">\n",
       "        \n",
       "  <svg xmlns=\"http://www.w3.org/2000/svg\" height=\"24px\"viewBox=\"0 0 24 24\"\n",
       "       width=\"24px\">\n",
       "    <path d=\"M0 0h24v24H0V0z\" fill=\"none\"/>\n",
       "    <path d=\"M18.56 5.44l.94 2.06.94-2.06 2.06-.94-2.06-.94-.94-2.06-.94 2.06-2.06.94zm-11 1L8.5 8.5l.94-2.06 2.06-.94-2.06-.94L8.5 2.5l-.94 2.06-2.06.94zm10 10l.94 2.06.94-2.06 2.06-.94-2.06-.94-.94-2.06-.94 2.06-2.06.94z\"/><path d=\"M17.41 7.96l-1.37-1.37c-.4-.4-.92-.59-1.43-.59-.52 0-1.04.2-1.43.59L10.3 9.45l-7.72 7.72c-.78.78-.78 2.05 0 2.83L4 21.41c.39.39.9.59 1.41.59.51 0 1.02-.2 1.41-.59l7.78-7.78 2.81-2.81c.8-.78.8-2.07 0-2.86zM5.41 20L4 18.59l7.72-7.72 1.47 1.35L5.41 20z\"/>\n",
       "  </svg>\n",
       "      </button>\n",
       "      \n",
       "  <style>\n",
       "    .colab-df-container {\n",
       "      display:flex;\n",
       "      flex-wrap:wrap;\n",
       "      gap: 12px;\n",
       "    }\n",
       "\n",
       "    .colab-df-convert {\n",
       "      background-color: #E8F0FE;\n",
       "      border: none;\n",
       "      border-radius: 50%;\n",
       "      cursor: pointer;\n",
       "      display: none;\n",
       "      fill: #1967D2;\n",
       "      height: 32px;\n",
       "      padding: 0 0 0 0;\n",
       "      width: 32px;\n",
       "    }\n",
       "\n",
       "    .colab-df-convert:hover {\n",
       "      background-color: #E2EBFA;\n",
       "      box-shadow: 0px 1px 2px rgba(60, 64, 67, 0.3), 0px 1px 3px 1px rgba(60, 64, 67, 0.15);\n",
       "      fill: #174EA6;\n",
       "    }\n",
       "\n",
       "    [theme=dark] .colab-df-convert {\n",
       "      background-color: #3B4455;\n",
       "      fill: #D2E3FC;\n",
       "    }\n",
       "\n",
       "    [theme=dark] .colab-df-convert:hover {\n",
       "      background-color: #434B5C;\n",
       "      box-shadow: 0px 1px 3px 1px rgba(0, 0, 0, 0.15);\n",
       "      filter: drop-shadow(0px 1px 2px rgba(0, 0, 0, 0.3));\n",
       "      fill: #FFFFFF;\n",
       "    }\n",
       "  </style>\n",
       "\n",
       "      <script>\n",
       "        const buttonEl =\n",
       "          document.querySelector('#df-e67ff043-87e3-4a0f-a0b8-dca8949d19de button.colab-df-convert');\n",
       "        buttonEl.style.display =\n",
       "          google.colab.kernel.accessAllowed ? 'block' : 'none';\n",
       "\n",
       "        async function convertToInteractive(key) {\n",
       "          const element = document.querySelector('#df-e67ff043-87e3-4a0f-a0b8-dca8949d19de');\n",
       "          const dataTable =\n",
       "            await google.colab.kernel.invokeFunction('convertToInteractive',\n",
       "                                                     [key], {});\n",
       "          if (!dataTable) return;\n",
       "\n",
       "          const docLinkHtml = 'Like what you see? Visit the ' +\n",
       "            '<a target=\"_blank\" href=https://colab.research.google.com/notebooks/data_table.ipynb>data table notebook</a>'\n",
       "            + ' to learn more about interactive tables.';\n",
       "          element.innerHTML = '';\n",
       "          dataTable['output_type'] = 'display_data';\n",
       "          await google.colab.output.renderOutput(dataTable, element);\n",
       "          const docLink = document.createElement('div');\n",
       "          docLink.innerHTML = docLinkHtml;\n",
       "          element.appendChild(docLink);\n",
       "        }\n",
       "      </script>\n",
       "    </div>\n",
       "  </div>\n",
       "  "
      ],
      "text/plain": [
       "                                      tags  ...  data\n",
       "148821                              ['추억']  ...  test\n",
       "148822  ['띵곡의', '우울', '분위기', '드라이브', '산책']  ...  test\n",
       "148823                            ['기분전환']  ...  test\n",
       "148824                              ['여름']  ...  test\n",
       "148825                                  []  ...  test\n",
       "\n",
       "[5 rows x 7 columns]"
      ]
     },
     "execution_count": 50,
     "metadata": {},
     "output_type": "execute_result"
    }
   ],
   "source": [
    "df = pd.read_csv('concatenated_data.csv', index_col=0)\n",
    "df.tail()"
   ]
  },
  {
   "cell_type": "code",
   "execution_count": null,
   "metadata": {
    "colab": {
     "base_uri": "https://localhost:8080/"
    },
    "executionInfo": {
     "elapsed": 273,
     "status": "ok",
     "timestamp": 1641950106980,
     "user": {
      "displayName": "유상준",
      "photoUrl": "https://lh3.googleusercontent.com/a-/AOh14GjwhV3OPaZeVbcnb0L540CX4dtB2wGRfCVw4E8=s64",
      "userId": "06620102043085366517"
     },
     "user_tz": -540
    },
    "id": "dfjj82C8FcQl",
    "outputId": "ee1b9497-4de2-4b32-cd2b-120fd3388972"
   },
   "outputs": [
    {
     "data": {
      "text/plain": [
       "Int64Index([     0,      1,      2,      3,      4,      5,      6,      7,\n",
       "                 8,      9,\n",
       "            ...\n",
       "            148816, 148817, 148818, 148819, 148820, 148821, 148822, 148823,\n",
       "            148824, 148825],\n",
       "           dtype='int64', length=148826)"
      ]
     },
     "execution_count": 51,
     "metadata": {},
     "output_type": "execute_result"
    }
   ],
   "source": [
    "df.index"
   ]
  },
  {
   "cell_type": "code",
   "execution_count": null,
   "metadata": {
    "colab": {
     "base_uri": "https://localhost:8080/"
    },
    "executionInfo": {
     "elapsed": 4,
     "status": "ok",
     "timestamp": 1641950108400,
     "user": {
      "displayName": "유상준",
      "photoUrl": "https://lh3.googleusercontent.com/a-/AOh14GjwhV3OPaZeVbcnb0L540CX4dtB2wGRfCVw4E8=s64",
      "userId": "06620102043085366517"
     },
     "user_tz": -540
    },
    "id": "vtFclwKRFjVI",
    "outputId": "848b2ddc-7825-46eb-96b4-ee6ba2af682f"
   },
   "outputs": [
    {
     "data": {
      "text/plain": [
       "RangeIndex(start=0, stop=707989, step=1)"
      ]
     },
     "execution_count": 52,
     "metadata": {},
     "output_type": "execute_result"
    }
   ],
   "source": [
    "song.index"
   ]
  },
  {
   "cell_type": "markdown",
   "metadata": {
    "id": "WWQ1TdKz2obW"
   },
   "source": [
    "- Make sparse matrix\n",
    "    - 너무 많은 0과 1이 존재(14만 x 70만)\n",
    "    "
   ]
  },
  {
   "cell_type": "code",
   "execution_count": null,
   "metadata": {
    "id": "DoZ_qFAdEzUn"
   },
   "outputs": [],
   "source": [
    "plylst_song_mat = pd.DataFrame(index = df.index, columns=song.index)"
   ]
  },
  {
   "cell_type": "code",
   "execution_count": null,
   "metadata": {
    "id": "7o3Nukm8EzRD"
   },
   "outputs": [],
   "source": [
    "plylst_song_mat = pd.DataFrame(np.reshape([0]*(148826*707990), (148826,707990)),index = df.index, columns=song.index)"
   ]
  },
  {
   "cell_type": "code",
   "execution_count": null,
   "metadata": {
    "id": "ePiOsIv-EzOm"
   },
   "outputs": [],
   "source": [
    "import pandas as pd\n",
    "import numpy as np\n",
    "pd.DataFrame(np.reshape([0]*1000000000,(100000,10000)), index = range(0,100000), columns = range(0,10000))"
   ]
  },
  {
   "cell_type": "markdown",
   "metadata": {
    "id": "i_s8KjzAOGZN"
   },
   "source": [
    "---"
   ]
  },
  {
   "cell_type": "markdown",
   "metadata": {
    "id": "q1bTxKIOdv4g"
   },
   "source": [
    "## User-based Collaborative Filtering guide code"
   ]
  },
  {
   "cell_type": "markdown",
   "metadata": {
    "id": "d7vPzlwmA8fi"
   },
   "source": [
    "- 대용량 sparse matrix를 만들기 위한 공부\n",
    "- 가이드라인 코드 뜯어보기\n",
    "https://arena.kakao.com/forum/topics/227"
   ]
  },
  {
   "cell_type": "markdown",
   "metadata": {
    "id": "20sdm1e3A7-b"
   },
   "source": [
    "---"
   ]
  },
  {
   "cell_type": "code",
   "execution_count": null,
   "metadata": {
    "id": "MunpA2wGEzIL"
   },
   "outputs": [],
   "source": [
    "# arena_util.py\n",
    "# -*- coding: utf-8 -*-\n",
    "\n",
    "import io\n",
    "import os\n",
    "import json\n",
    "import distutils.dir_util\n",
    "from collections import Counter\n",
    "\n",
    "import numpy as np\n",
    "\n",
    "\n",
    "def write_json(data, fname):\n",
    "    def _conv(o):\n",
    "        if isinstance(o, np.int64) or isinstance(o, np.int32):\n",
    "            return int(o)\n",
    "        raise TypeError\n",
    "\n",
    "    parent = os.path.dirname(fname)\n",
    "    distutils.dir_util.mkpath(\"./arena_data/\" + parent)\n",
    "    with io.open(\"./arena_data/\" + fname, \"w\", encoding=\"utf8\") as f:\n",
    "        json_str = json.dumps(data, ensure_ascii=False, default=_conv)\n",
    "        f.write(json_str)\n",
    "\n",
    "\n",
    "def load_json(fname):\n",
    "    with open(fname, encoding='utf8') as f:\n",
    "        json_obj = json.load(f)\n",
    "\n",
    "    return json_obj\n",
    "\n",
    "\n",
    "def debug_json(r):\n",
    "    print(json.dumps(r, ensure_ascii=False, indent=4))"
   ]
  },
  {
   "cell_type": "code",
   "execution_count": null,
   "metadata": {
    "id": "w_d7oJR99CPf"
   },
   "outputs": [],
   "source": [
    "# evaluate.py\n",
    "# -*- coding: utf-8 -*-\n",
    "# import fire\n",
    "import numpy as np\n",
    "\n",
    "# from arena_util import load_json\n",
    "\n",
    "\n",
    "class CustomEvaluator:\n",
    "    def _idcg(self, l):\n",
    "        return sum((1.0 / np.log(i + 2) for i in range(l)))\n",
    "\n",
    "    def __init__(self):\n",
    "        self._idcgs = [self._idcg(i) for i in range(101)]\n",
    "\n",
    "    def _ndcg(self, gt, rec):\n",
    "        dcg = 0.0\n",
    "        for i, r in enumerate(rec):\n",
    "            if r in gt:\n",
    "                dcg += 1.0 / np.log(i + 2)\n",
    "\n",
    "        return dcg / self._idcgs[len(gt)]\n",
    "\n",
    "    def _eval(self, gt_fname, rec_fname):\n",
    "        gt_playlists = load_json(gt_fname)\n",
    "        gt_dict = {g[\"id\"]: g for g in gt_playlists}\n",
    "        rec_playlists = load_json(rec_fname)\n",
    "        \n",
    "        music_ndcg = 0.0\n",
    "        tag_ndcg = 0.0\n",
    "\n",
    "        for rec in rec_playlists:\n",
    "            gt = gt_dict[rec[\"id\"]]\n",
    "            music_ndcg += self._ndcg(gt[\"songs\"], rec[\"songs\"][:100])\n",
    "            tag_ndcg += self._ndcg(gt[\"tags\"], rec[\"tags\"][:10])\n",
    "\n",
    "        music_ndcg = music_ndcg / len(rec_playlists)\n",
    "        tag_ndcg = tag_ndcg / len(rec_playlists)\n",
    "        score = music_ndcg * 0.85 + tag_ndcg * 0.15\n",
    "\n",
    "        return music_ndcg, tag_ndcg, score\n",
    "\n",
    "    def evaluate(self, gt_fname, rec_fname):\n",
    "        try:\n",
    "            music_ndcg, tag_ndcg, score = self._eval(gt_fname, rec_fname)\n",
    "            print(f\"Music nDCG: {music_ndcg:.6}\")\n",
    "            print(f\"Tag nDCG: {tag_ndcg:.6}\")\n",
    "            print(f\"Score: {score:.6}\")\n",
    "        except Exception as e:\n",
    "            print(e)\n",
    "\n",
    "\n",
    "# if __name__ == \"__main__\":\n",
    "#     fire.Fire(ArenaEvaluator)"
   ]
  },
  {
   "cell_type": "code",
   "execution_count": null,
   "metadata": {
    "id": "9n0upxlkEzFV"
   },
   "outputs": [],
   "source": [
    "from collections import Counter\n",
    "\n",
    "import numpy as np\n",
    "import pandas as pd\n",
    "\n",
    "import scipy.sparse as spr\n",
    "import pickle"
   ]
  },
  {
   "cell_type": "code",
   "execution_count": null,
   "metadata": {
    "colab": {
     "base_uri": "https://localhost:8080/"
    },
    "executionInfo": {
     "elapsed": 344,
     "status": "ok",
     "timestamp": 1641950241471,
     "user": {
      "displayName": "유상준",
      "photoUrl": "https://lh3.googleusercontent.com/a-/AOh14GjwhV3OPaZeVbcnb0L540CX4dtB2wGRfCVw4E8=s64",
      "userId": "06620102043085366517"
     },
     "user_tz": -540
    },
    "id": "fJt3VI8OOSUy",
    "outputId": "0095a9a8-ba85-4e59-eaa3-37fffd9ea7a8"
   },
   "outputs": [
    {
     "name": "stdout",
     "output_type": "stream",
     "text": [
      "/content/drive/MyDrive/네카라쿠배/최종 프로젝트/data\n"
     ]
    }
   ],
   "source": [
    "cd /content/drive/MyDrive/네카라쿠배/최종 프로젝트/data"
   ]
  },
  {
   "cell_type": "code",
   "execution_count": null,
   "metadata": {
    "id": "aDkbAsdSEzCj"
   },
   "outputs": [],
   "source": [
    "song_meta = pd.read_json(\"song_meta.json\")\n",
    "train = pd.read_json(\"train.json\")\n",
    "test = pd.read_json(\"val.json\")"
   ]
  },
  {
   "cell_type": "code",
   "execution_count": null,
   "metadata": {
    "id": "AKtj2XDyEy_3"
   },
   "outputs": [],
   "source": [
    "train['istrain'] = 1\n",
    "test['istrain'] = 0\n",
    "\n",
    "n_train = len(train)\n",
    "n_test = len(test)\n",
    "\n",
    "# train + test\n",
    "plylst = pd.concat([train, test], ignore_index=True)\n",
    "\n",
    "# playlist id\n",
    "plylst[\"nid\"] = range(n_train + n_test)\n",
    "\n",
    "# id <-> nid\n",
    "plylst_id_nid = dict(zip(plylst[\"id\"],plylst[\"nid\"]))\n",
    "plylst_nid_id = dict(zip(plylst[\"nid\"],plylst[\"id\"]))"
   ]
  },
  {
   "cell_type": "code",
   "execution_count": null,
   "metadata": {
    "id": "ELVGej_TEy9f"
   },
   "outputs": [],
   "source": [
    "plylst_tag = plylst['tags']\n",
    "tag_counter = Counter([tg for tgs in plylst_tag for tg in tgs])\n",
    "tag_dict = {x: tag_counter[x] for x in tag_counter}\n",
    "\n",
    "tag_id_tid = dict()\n",
    "tag_tid_id = dict()\n",
    "for i, t in enumerate(tag_dict):\n",
    "    tag_id_tid[t] = i\n",
    "    tag_tid_id[i] = t\n",
    "\n",
    "n_tags = len(tag_dict)\n",
    "\n",
    "plylst_song = plylst['songs']\n",
    "song_counter = Counter([sg for sgs in plylst_song for sg in sgs])\n",
    "song_dict = {x: song_counter[x] for x in song_counter}\n",
    "\n",
    "song_id_sid = dict()\n",
    "song_sid_id = dict()\n",
    "for i, t in enumerate(song_dict):\n",
    "    song_id_sid[t] = i\n",
    "    song_sid_id[i] = t\n",
    "\n",
    "n_songs = len(song_dict)"
   ]
  },
  {
   "cell_type": "code",
   "execution_count": null,
   "metadata": {
    "id": "zYhNIXRuk2An"
   },
   "outputs": [],
   "source": [
    "tag_counter"
   ]
  },
  {
   "cell_type": "code",
   "execution_count": null,
   "metadata": {
    "colab": {
     "base_uri": "https://localhost:8080/"
    },
    "executionInfo": {
     "elapsed": 2,
     "status": "ok",
     "timestamp": 1641951285598,
     "user": {
      "displayName": "유상준",
      "photoUrl": "https://lh3.googleusercontent.com/a-/AOh14GjwhV3OPaZeVbcnb0L540CX4dtB2wGRfCVw4E8=s64",
      "userId": "06620102043085366517"
     },
     "user_tz": -540
    },
    "id": "U6lx3O3Pkjdv",
    "outputId": "73113a0d-10ac-4dd7-83bc-2b6d439680a5"
   },
   "outputs": [
    {
     "data": {
      "text/plain": [
       "(30197, 638336)"
      ]
     },
     "execution_count": 59,
     "metadata": {},
     "output_type": "execute_result"
    }
   ],
   "source": [
    "n_tags, n_songs"
   ]
  },
  {
   "cell_type": "code",
   "execution_count": null,
   "metadata": {
    "id": "sze-w-KiEy3g"
   },
   "outputs": [],
   "source": [
    "plylst['songs_id'] = plylst['songs'].map(lambda x: [song_id_sid.get(s) for s in x if song_id_sid.get(s) != None])\n",
    "plylst['tags_id'] = plylst['tags'].map(lambda x: [tag_id_tid.get(t) for t in x if tag_id_tid.get(t) != None])"
   ]
  },
  {
   "cell_type": "code",
   "execution_count": null,
   "metadata": {
    "colab": {
     "base_uri": "https://localhost:8080/",
     "height": 674
    },
    "executionInfo": {
     "elapsed": 422,
     "status": "ok",
     "timestamp": 1641951325795,
     "user": {
      "displayName": "유상준",
      "photoUrl": "https://lh3.googleusercontent.com/a-/AOh14GjwhV3OPaZeVbcnb0L540CX4dtB2wGRfCVw4E8=s64",
      "userId": "06620102043085366517"
     },
     "user_tz": -540
    },
    "id": "II_G9iItl2rR",
    "outputId": "6cdd2fd5-2201-41ee-95a5-199cb1d8489a"
   },
   "outputs": [
    {
     "data": {
      "text/html": [
       "\n",
       "  <div id=\"df-e6e4d8c6-bf7f-43f3-99b3-47e943c3b39a\">\n",
       "    <div class=\"colab-df-container\">\n",
       "      <div>\n",
       "<style scoped>\n",
       "    .dataframe tbody tr th:only-of-type {\n",
       "        vertical-align: middle;\n",
       "    }\n",
       "\n",
       "    .dataframe tbody tr th {\n",
       "        vertical-align: top;\n",
       "    }\n",
       "\n",
       "    .dataframe thead th {\n",
       "        text-align: right;\n",
       "    }\n",
       "</style>\n",
       "<table border=\"1\" class=\"dataframe\">\n",
       "  <thead>\n",
       "    <tr style=\"text-align: right;\">\n",
       "      <th></th>\n",
       "      <th>tags</th>\n",
       "      <th>id</th>\n",
       "      <th>plylst_title</th>\n",
       "      <th>songs</th>\n",
       "      <th>like_cnt</th>\n",
       "      <th>updt_date</th>\n",
       "      <th>istrain</th>\n",
       "      <th>nid</th>\n",
       "      <th>songs_id</th>\n",
       "      <th>tags_id</th>\n",
       "    </tr>\n",
       "  </thead>\n",
       "  <tbody>\n",
       "    <tr>\n",
       "      <th>0</th>\n",
       "      <td>[락]</td>\n",
       "      <td>61281</td>\n",
       "      <td>여행같은 음악</td>\n",
       "      <td>[525514, 129701, 383374, 562083, 297861, 13954...</td>\n",
       "      <td>71</td>\n",
       "      <td>2013-12-19 18:36:19.000</td>\n",
       "      <td>1</td>\n",
       "      <td>0</td>\n",
       "      <td>[0, 1, 2, 3, 4, 5, 6, 7, 8, 9, 10, 11, 12, 13,...</td>\n",
       "      <td>[0]</td>\n",
       "    </tr>\n",
       "    <tr>\n",
       "      <th>1</th>\n",
       "      <td>[추억, 회상]</td>\n",
       "      <td>10532</td>\n",
       "      <td>요즘 너 말야</td>\n",
       "      <td>[432406, 675945, 497066, 120377, 389529, 24427...</td>\n",
       "      <td>1</td>\n",
       "      <td>2014-12-02 16:19:42.000</td>\n",
       "      <td>1</td>\n",
       "      <td>1</td>\n",
       "      <td>[19, 20, 21, 22, 23, 24, 25, 26, 27, 28, 29, 3...</td>\n",
       "      <td>[1, 2]</td>\n",
       "    </tr>\n",
       "    <tr>\n",
       "      <th>2</th>\n",
       "      <td>[까페, 잔잔한]</td>\n",
       "      <td>76951</td>\n",
       "      <td>편하게, 잔잔하게 들을 수 있는 곡.-</td>\n",
       "      <td>[83116, 276692, 166267, 186301, 354465, 256598...</td>\n",
       "      <td>17</td>\n",
       "      <td>2017-08-28 07:09:34.000</td>\n",
       "      <td>1</td>\n",
       "      <td>2</td>\n",
       "      <td>[61, 62, 63, 64, 65, 66, 67, 68, 69, 70, 71, 7...</td>\n",
       "      <td>[3, 4]</td>\n",
       "    </tr>\n",
       "    <tr>\n",
       "      <th>3</th>\n",
       "      <td>[연말, 눈오는날, 캐럴, 분위기, 따듯한, 크리스마스캐럴, 겨울노래, 크리스마스,...</td>\n",
       "      <td>147456</td>\n",
       "      <td>크리스마스 분위기에 흠뻑 취하고 싶을때</td>\n",
       "      <td>[394031, 195524, 540149, 287984, 440773, 10033...</td>\n",
       "      <td>33</td>\n",
       "      <td>2019-12-05 15:15:18.000</td>\n",
       "      <td>1</td>\n",
       "      <td>3</td>\n",
       "      <td>[89, 90, 91, 92, 93, 94, 95, 96, 97, 98, 99, 1...</td>\n",
       "      <td>[5, 6, 7, 8, 9, 10, 11, 12, 13, 14]</td>\n",
       "    </tr>\n",
       "    <tr>\n",
       "      <th>4</th>\n",
       "      <td>[댄스]</td>\n",
       "      <td>27616</td>\n",
       "      <td>추억의 노래 ㅋ</td>\n",
       "      <td>[159327, 553610, 5130, 645103, 294435, 100657,...</td>\n",
       "      <td>9</td>\n",
       "      <td>2011-10-25 13:54:56.000</td>\n",
       "      <td>1</td>\n",
       "      <td>4</td>\n",
       "      <td>[127, 128, 129, 130, 131, 132, 133, 134, 135, ...</td>\n",
       "      <td>[15]</td>\n",
       "    </tr>\n",
       "    <tr>\n",
       "      <th>5</th>\n",
       "      <td>[운동, 드라이브, Pop, 트로피컬하우스, 힐링, 기분전환, 2017, 팝, 트렌...</td>\n",
       "      <td>69252</td>\n",
       "      <td>2017 Pop Trend</td>\n",
       "      <td>[418694, 222305, 96545, 135950, 304687, 457451...</td>\n",
       "      <td>435</td>\n",
       "      <td>2017-09-15 15:59:26.000</td>\n",
       "      <td>1</td>\n",
       "      <td>5</td>\n",
       "      <td>[180, 181, 182, 183, 184, 185, 186, 187, 188, ...</td>\n",
       "      <td>[16, 17, 18, 19, 20, 21, 22, 23, 24, 25]</td>\n",
       "    </tr>\n",
       "    <tr>\n",
       "      <th>6</th>\n",
       "      <td>[짝사랑, 취향저격, 슬픔, 고백, 사랑, 이별]</td>\n",
       "      <td>45339</td>\n",
       "      <td>짝사랑..고백..사랑..이별..슬픔.. 감성을 자극하는곡들!</td>\n",
       "      <td>[528130, 505036, 398947, 627363, 37748, 376358...</td>\n",
       "      <td>24</td>\n",
       "      <td>2016-10-24 21:30:17.000</td>\n",
       "      <td>1</td>\n",
       "      <td>6</td>\n",
       "      <td>[210, 211, 212, 213, 214, 215, 216, 217, 218, ...</td>\n",
       "      <td>[26, 27, 28, 29, 30, 31]</td>\n",
       "    </tr>\n",
       "    <tr>\n",
       "      <th>7</th>\n",
       "      <td>[잔잔한, 추억, 회상]</td>\n",
       "      <td>36557</td>\n",
       "      <td>멍청이.. 내맘도 몰라.</td>\n",
       "      <td>[496913, 632529, 501426, 515574, 411161, 10341...</td>\n",
       "      <td>5</td>\n",
       "      <td>2008-09-23 22:32:02.000</td>\n",
       "      <td>1</td>\n",
       "      <td>7</td>\n",
       "      <td>[248, 249, 250, 251, 252, 253, 254, 255, 256, ...</td>\n",
       "      <td>[4, 1, 2]</td>\n",
       "    </tr>\n",
       "  </tbody>\n",
       "</table>\n",
       "</div>\n",
       "      <button class=\"colab-df-convert\" onclick=\"convertToInteractive('df-e6e4d8c6-bf7f-43f3-99b3-47e943c3b39a')\"\n",
       "              title=\"Convert this dataframe to an interactive table.\"\n",
       "              style=\"display:none;\">\n",
       "        \n",
       "  <svg xmlns=\"http://www.w3.org/2000/svg\" height=\"24px\"viewBox=\"0 0 24 24\"\n",
       "       width=\"24px\">\n",
       "    <path d=\"M0 0h24v24H0V0z\" fill=\"none\"/>\n",
       "    <path d=\"M18.56 5.44l.94 2.06.94-2.06 2.06-.94-2.06-.94-.94-2.06-.94 2.06-2.06.94zm-11 1L8.5 8.5l.94-2.06 2.06-.94-2.06-.94L8.5 2.5l-.94 2.06-2.06.94zm10 10l.94 2.06.94-2.06 2.06-.94-2.06-.94-.94-2.06-.94 2.06-2.06.94z\"/><path d=\"M17.41 7.96l-1.37-1.37c-.4-.4-.92-.59-1.43-.59-.52 0-1.04.2-1.43.59L10.3 9.45l-7.72 7.72c-.78.78-.78 2.05 0 2.83L4 21.41c.39.39.9.59 1.41.59.51 0 1.02-.2 1.41-.59l7.78-7.78 2.81-2.81c.8-.78.8-2.07 0-2.86zM5.41 20L4 18.59l7.72-7.72 1.47 1.35L5.41 20z\"/>\n",
       "  </svg>\n",
       "      </button>\n",
       "      \n",
       "  <style>\n",
       "    .colab-df-container {\n",
       "      display:flex;\n",
       "      flex-wrap:wrap;\n",
       "      gap: 12px;\n",
       "    }\n",
       "\n",
       "    .colab-df-convert {\n",
       "      background-color: #E8F0FE;\n",
       "      border: none;\n",
       "      border-radius: 50%;\n",
       "      cursor: pointer;\n",
       "      display: none;\n",
       "      fill: #1967D2;\n",
       "      height: 32px;\n",
       "      padding: 0 0 0 0;\n",
       "      width: 32px;\n",
       "    }\n",
       "\n",
       "    .colab-df-convert:hover {\n",
       "      background-color: #E2EBFA;\n",
       "      box-shadow: 0px 1px 2px rgba(60, 64, 67, 0.3), 0px 1px 3px 1px rgba(60, 64, 67, 0.15);\n",
       "      fill: #174EA6;\n",
       "    }\n",
       "\n",
       "    [theme=dark] .colab-df-convert {\n",
       "      background-color: #3B4455;\n",
       "      fill: #D2E3FC;\n",
       "    }\n",
       "\n",
       "    [theme=dark] .colab-df-convert:hover {\n",
       "      background-color: #434B5C;\n",
       "      box-shadow: 0px 1px 3px 1px rgba(0, 0, 0, 0.15);\n",
       "      filter: drop-shadow(0px 1px 2px rgba(0, 0, 0, 0.3));\n",
       "      fill: #FFFFFF;\n",
       "    }\n",
       "  </style>\n",
       "\n",
       "      <script>\n",
       "        const buttonEl =\n",
       "          document.querySelector('#df-e6e4d8c6-bf7f-43f3-99b3-47e943c3b39a button.colab-df-convert');\n",
       "        buttonEl.style.display =\n",
       "          google.colab.kernel.accessAllowed ? 'block' : 'none';\n",
       "\n",
       "        async function convertToInteractive(key) {\n",
       "          const element = document.querySelector('#df-e6e4d8c6-bf7f-43f3-99b3-47e943c3b39a');\n",
       "          const dataTable =\n",
       "            await google.colab.kernel.invokeFunction('convertToInteractive',\n",
       "                                                     [key], {});\n",
       "          if (!dataTable) return;\n",
       "\n",
       "          const docLinkHtml = 'Like what you see? Visit the ' +\n",
       "            '<a target=\"_blank\" href=https://colab.research.google.com/notebooks/data_table.ipynb>data table notebook</a>'\n",
       "            + ' to learn more about interactive tables.';\n",
       "          element.innerHTML = '';\n",
       "          dataTable['output_type'] = 'display_data';\n",
       "          await google.colab.output.renderOutput(dataTable, element);\n",
       "          const docLink = document.createElement('div');\n",
       "          docLink.innerHTML = docLinkHtml;\n",
       "          element.appendChild(docLink);\n",
       "        }\n",
       "      </script>\n",
       "    </div>\n",
       "  </div>\n",
       "  "
      ],
      "text/plain": [
       "                                                tags  ...                                   tags_id\n",
       "0                                                [락]  ...                                       [0]\n",
       "1                                           [추억, 회상]  ...                                    [1, 2]\n",
       "2                                          [까페, 잔잔한]  ...                                    [3, 4]\n",
       "3  [연말, 눈오는날, 캐럴, 분위기, 따듯한, 크리스마스캐럴, 겨울노래, 크리스마스,...  ...       [5, 6, 7, 8, 9, 10, 11, 12, 13, 14]\n",
       "4                                               [댄스]  ...                                      [15]\n",
       "5  [운동, 드라이브, Pop, 트로피컬하우스, 힐링, 기분전환, 2017, 팝, 트렌...  ...  [16, 17, 18, 19, 20, 21, 22, 23, 24, 25]\n",
       "6                        [짝사랑, 취향저격, 슬픔, 고백, 사랑, 이별]  ...                  [26, 27, 28, 29, 30, 31]\n",
       "7                                      [잔잔한, 추억, 회상]  ...                                 [4, 1, 2]\n",
       "\n",
       "[8 rows x 10 columns]"
      ]
     },
     "execution_count": 61,
     "metadata": {},
     "output_type": "execute_result"
    }
   ],
   "source": [
    "plylst.head(8)"
   ]
  },
  {
   "cell_type": "code",
   "execution_count": null,
   "metadata": {
    "colab": {
     "base_uri": "https://localhost:8080/"
    },
    "executionInfo": {
     "elapsed": 307,
     "status": "ok",
     "timestamp": 1641951327114,
     "user": {
      "displayName": "유상준",
      "photoUrl": "https://lh3.googleusercontent.com/a-/AOh14GjwhV3OPaZeVbcnb0L540CX4dtB2wGRfCVw4E8=s64",
      "userId": "06620102043085366517"
     },
     "user_tz": -540
    },
    "id": "5krSJJu8EyzB",
    "outputId": "0d65cda9-741e-45d1-b238-e381cd36ab54"
   },
   "outputs": [
    {
     "name": "stderr",
     "output_type": "stream",
     "text": [
      "/usr/local/lib/python3.7/dist-packages/pandas/core/indexing.py:1596: SettingWithCopyWarning: \n",
      "A value is trying to be set on a copy of a slice from a DataFrame.\n",
      "Try using .loc[row_indexer,col_indexer] = value instead\n",
      "\n",
      "See the caveats in the documentation: https://pandas.pydata.org/pandas-docs/stable/user_guide/indexing.html#returning-a-view-versus-a-copy\n",
      "  self.obj[key] = _infer_fill_value(value)\n",
      "/usr/local/lib/python3.7/dist-packages/pandas/core/indexing.py:1743: SettingWithCopyWarning: \n",
      "A value is trying to be set on a copy of a slice from a DataFrame.\n",
      "Try using .loc[row_indexer,col_indexer] = value instead\n",
      "\n",
      "See the caveats in the documentation: https://pandas.pydata.org/pandas-docs/stable/user_guide/indexing.html#returning-a-view-versus-a-copy\n",
      "  isetter(ilocs[0], value)\n"
     ]
    }
   ],
   "source": [
    "plylst_use = plylst[['istrain','nid','updt_date','songs_id','tags_id']]\n",
    "plylst_use.loc[:,'num_songs'] = plylst_use['songs_id'].map(len)\n",
    "plylst_use.loc[:,'num_tags'] = plylst_use['tags_id'].map(len)\n",
    "plylst_use = plylst_use.set_index('nid')"
   ]
  },
  {
   "cell_type": "code",
   "execution_count": null,
   "metadata": {
    "colab": {
     "base_uri": "https://localhost:8080/",
     "height": 499
    },
    "executionInfo": {
     "elapsed": 415,
     "status": "ok",
     "timestamp": 1641951329217,
     "user": {
      "displayName": "유상준",
      "photoUrl": "https://lh3.googleusercontent.com/a-/AOh14GjwhV3OPaZeVbcnb0L540CX4dtB2wGRfCVw4E8=s64",
      "userId": "06620102043085366517"
     },
     "user_tz": -540
    },
    "id": "9mTlOCyJnC-X",
    "outputId": "5edbdbed-3a32-4c65-9d81-edc539209f42"
   },
   "outputs": [
    {
     "data": {
      "text/html": [
       "\n",
       "  <div id=\"df-1ff64492-04d6-4d6e-a59a-6c7381666156\">\n",
       "    <div class=\"colab-df-container\">\n",
       "      <div>\n",
       "<style scoped>\n",
       "    .dataframe tbody tr th:only-of-type {\n",
       "        vertical-align: middle;\n",
       "    }\n",
       "\n",
       "    .dataframe tbody tr th {\n",
       "        vertical-align: top;\n",
       "    }\n",
       "\n",
       "    .dataframe thead th {\n",
       "        text-align: right;\n",
       "    }\n",
       "</style>\n",
       "<table border=\"1\" class=\"dataframe\">\n",
       "  <thead>\n",
       "    <tr style=\"text-align: right;\">\n",
       "      <th></th>\n",
       "      <th>istrain</th>\n",
       "      <th>updt_date</th>\n",
       "      <th>songs_id</th>\n",
       "      <th>tags_id</th>\n",
       "      <th>num_songs</th>\n",
       "      <th>num_tags</th>\n",
       "    </tr>\n",
       "    <tr>\n",
       "      <th>nid</th>\n",
       "      <th></th>\n",
       "      <th></th>\n",
       "      <th></th>\n",
       "      <th></th>\n",
       "      <th></th>\n",
       "      <th></th>\n",
       "    </tr>\n",
       "  </thead>\n",
       "  <tbody>\n",
       "    <tr>\n",
       "      <th>0</th>\n",
       "      <td>1</td>\n",
       "      <td>2013-12-19 18:36:19.000</td>\n",
       "      <td>[0, 1, 2, 3, 4, 5, 6, 7, 8, 9, 10, 11, 12, 13,...</td>\n",
       "      <td>[0]</td>\n",
       "      <td>19</td>\n",
       "      <td>1</td>\n",
       "    </tr>\n",
       "    <tr>\n",
       "      <th>1</th>\n",
       "      <td>1</td>\n",
       "      <td>2014-12-02 16:19:42.000</td>\n",
       "      <td>[19, 20, 21, 22, 23, 24, 25, 26, 27, 28, 29, 3...</td>\n",
       "      <td>[1, 2]</td>\n",
       "      <td>42</td>\n",
       "      <td>2</td>\n",
       "    </tr>\n",
       "    <tr>\n",
       "      <th>2</th>\n",
       "      <td>1</td>\n",
       "      <td>2017-08-28 07:09:34.000</td>\n",
       "      <td>[61, 62, 63, 64, 65, 66, 67, 68, 69, 70, 71, 7...</td>\n",
       "      <td>[3, 4]</td>\n",
       "      <td>28</td>\n",
       "      <td>2</td>\n",
       "    </tr>\n",
       "    <tr>\n",
       "      <th>3</th>\n",
       "      <td>1</td>\n",
       "      <td>2019-12-05 15:15:18.000</td>\n",
       "      <td>[89, 90, 91, 92, 93, 94, 95, 96, 97, 98, 99, 1...</td>\n",
       "      <td>[5, 6, 7, 8, 9, 10, 11, 12, 13, 14]</td>\n",
       "      <td>38</td>\n",
       "      <td>10</td>\n",
       "    </tr>\n",
       "    <tr>\n",
       "      <th>4</th>\n",
       "      <td>1</td>\n",
       "      <td>2011-10-25 13:54:56.000</td>\n",
       "      <td>[127, 128, 129, 130, 131, 132, 133, 134, 135, ...</td>\n",
       "      <td>[15]</td>\n",
       "      <td>53</td>\n",
       "      <td>1</td>\n",
       "    </tr>\n",
       "    <tr>\n",
       "      <th>...</th>\n",
       "      <td>...</td>\n",
       "      <td>...</td>\n",
       "      <td>...</td>\n",
       "      <td>...</td>\n",
       "      <td>...</td>\n",
       "      <td>...</td>\n",
       "    </tr>\n",
       "    <tr>\n",
       "      <th>138081</th>\n",
       "      <td>0</td>\n",
       "      <td>2015-12-17 14:06:05.000</td>\n",
       "      <td>[5607, 1025, 9650, 543806, 1424, 7372, 2234, 2...</td>\n",
       "      <td>[4]</td>\n",
       "      <td>48</td>\n",
       "      <td>1</td>\n",
       "    </tr>\n",
       "    <tr>\n",
       "      <th>138082</th>\n",
       "      <td>0</td>\n",
       "      <td>2020-04-16 21:35:44.000</td>\n",
       "      <td>[638333, 244876, 108022, 420983, 20258, 595078...</td>\n",
       "      <td>[11913, 335, 3162, 455, 23086]</td>\n",
       "      <td>100</td>\n",
       "      <td>5</td>\n",
       "    </tr>\n",
       "    <tr>\n",
       "      <th>138083</th>\n",
       "      <td>0</td>\n",
       "      <td>2019-03-27 15:27:40.000</td>\n",
       "      <td>[1435, 718, 2659, 2773, 1359, 8731, 696, 697, ...</td>\n",
       "      <td>[]</td>\n",
       "      <td>12</td>\n",
       "      <td>0</td>\n",
       "    </tr>\n",
       "    <tr>\n",
       "      <th>138084</th>\n",
       "      <td>0</td>\n",
       "      <td>2015-11-18 11:49:09.000</td>\n",
       "      <td>[3091, 308295, 428975, 80278, 35027, 234993, 8...</td>\n",
       "      <td>[]</td>\n",
       "      <td>9</td>\n",
       "      <td>0</td>\n",
       "    </tr>\n",
       "    <tr>\n",
       "      <th>138085</th>\n",
       "      <td>0</td>\n",
       "      <td>2017-04-23 16:50:58.000</td>\n",
       "      <td>[13816, 3775, 10500, 17947, 8519, 3783, 3795, ...</td>\n",
       "      <td>[]</td>\n",
       "      <td>20</td>\n",
       "      <td>0</td>\n",
       "    </tr>\n",
       "  </tbody>\n",
       "</table>\n",
       "<p>138086 rows × 6 columns</p>\n",
       "</div>\n",
       "      <button class=\"colab-df-convert\" onclick=\"convertToInteractive('df-1ff64492-04d6-4d6e-a59a-6c7381666156')\"\n",
       "              title=\"Convert this dataframe to an interactive table.\"\n",
       "              style=\"display:none;\">\n",
       "        \n",
       "  <svg xmlns=\"http://www.w3.org/2000/svg\" height=\"24px\"viewBox=\"0 0 24 24\"\n",
       "       width=\"24px\">\n",
       "    <path d=\"M0 0h24v24H0V0z\" fill=\"none\"/>\n",
       "    <path d=\"M18.56 5.44l.94 2.06.94-2.06 2.06-.94-2.06-.94-.94-2.06-.94 2.06-2.06.94zm-11 1L8.5 8.5l.94-2.06 2.06-.94-2.06-.94L8.5 2.5l-.94 2.06-2.06.94zm10 10l.94 2.06.94-2.06 2.06-.94-2.06-.94-.94-2.06-.94 2.06-2.06.94z\"/><path d=\"M17.41 7.96l-1.37-1.37c-.4-.4-.92-.59-1.43-.59-.52 0-1.04.2-1.43.59L10.3 9.45l-7.72 7.72c-.78.78-.78 2.05 0 2.83L4 21.41c.39.39.9.59 1.41.59.51 0 1.02-.2 1.41-.59l7.78-7.78 2.81-2.81c.8-.78.8-2.07 0-2.86zM5.41 20L4 18.59l7.72-7.72 1.47 1.35L5.41 20z\"/>\n",
       "  </svg>\n",
       "      </button>\n",
       "      \n",
       "  <style>\n",
       "    .colab-df-container {\n",
       "      display:flex;\n",
       "      flex-wrap:wrap;\n",
       "      gap: 12px;\n",
       "    }\n",
       "\n",
       "    .colab-df-convert {\n",
       "      background-color: #E8F0FE;\n",
       "      border: none;\n",
       "      border-radius: 50%;\n",
       "      cursor: pointer;\n",
       "      display: none;\n",
       "      fill: #1967D2;\n",
       "      height: 32px;\n",
       "      padding: 0 0 0 0;\n",
       "      width: 32px;\n",
       "    }\n",
       "\n",
       "    .colab-df-convert:hover {\n",
       "      background-color: #E2EBFA;\n",
       "      box-shadow: 0px 1px 2px rgba(60, 64, 67, 0.3), 0px 1px 3px 1px rgba(60, 64, 67, 0.15);\n",
       "      fill: #174EA6;\n",
       "    }\n",
       "\n",
       "    [theme=dark] .colab-df-convert {\n",
       "      background-color: #3B4455;\n",
       "      fill: #D2E3FC;\n",
       "    }\n",
       "\n",
       "    [theme=dark] .colab-df-convert:hover {\n",
       "      background-color: #434B5C;\n",
       "      box-shadow: 0px 1px 3px 1px rgba(0, 0, 0, 0.15);\n",
       "      filter: drop-shadow(0px 1px 2px rgba(0, 0, 0, 0.3));\n",
       "      fill: #FFFFFF;\n",
       "    }\n",
       "  </style>\n",
       "\n",
       "      <script>\n",
       "        const buttonEl =\n",
       "          document.querySelector('#df-1ff64492-04d6-4d6e-a59a-6c7381666156 button.colab-df-convert');\n",
       "        buttonEl.style.display =\n",
       "          google.colab.kernel.accessAllowed ? 'block' : 'none';\n",
       "\n",
       "        async function convertToInteractive(key) {\n",
       "          const element = document.querySelector('#df-1ff64492-04d6-4d6e-a59a-6c7381666156');\n",
       "          const dataTable =\n",
       "            await google.colab.kernel.invokeFunction('convertToInteractive',\n",
       "                                                     [key], {});\n",
       "          if (!dataTable) return;\n",
       "\n",
       "          const docLinkHtml = 'Like what you see? Visit the ' +\n",
       "            '<a target=\"_blank\" href=https://colab.research.google.com/notebooks/data_table.ipynb>data table notebook</a>'\n",
       "            + ' to learn more about interactive tables.';\n",
       "          element.innerHTML = '';\n",
       "          dataTable['output_type'] = 'display_data';\n",
       "          await google.colab.output.renderOutput(dataTable, element);\n",
       "          const docLink = document.createElement('div');\n",
       "          docLink.innerHTML = docLinkHtml;\n",
       "          element.appendChild(docLink);\n",
       "        }\n",
       "      </script>\n",
       "    </div>\n",
       "  </div>\n",
       "  "
      ],
      "text/plain": [
       "        istrain                updt_date  ... num_songs num_tags\n",
       "nid                                       ...                   \n",
       "0             1  2013-12-19 18:36:19.000  ...        19        1\n",
       "1             1  2014-12-02 16:19:42.000  ...        42        2\n",
       "2             1  2017-08-28 07:09:34.000  ...        28        2\n",
       "3             1  2019-12-05 15:15:18.000  ...        38       10\n",
       "4             1  2011-10-25 13:54:56.000  ...        53        1\n",
       "...         ...                      ...  ...       ...      ...\n",
       "138081        0  2015-12-17 14:06:05.000  ...        48        1\n",
       "138082        0  2020-04-16 21:35:44.000  ...       100        5\n",
       "138083        0  2019-03-27 15:27:40.000  ...        12        0\n",
       "138084        0  2015-11-18 11:49:09.000  ...         9        0\n",
       "138085        0  2017-04-23 16:50:58.000  ...        20        0\n",
       "\n",
       "[138086 rows x 6 columns]"
      ]
     },
     "execution_count": 63,
     "metadata": {},
     "output_type": "execute_result"
    }
   ],
   "source": [
    "plylst_use"
   ]
  },
  {
   "cell_type": "code",
   "execution_count": null,
   "metadata": {
    "id": "R69CIQF8Eywg"
   },
   "outputs": [],
   "source": [
    "plylst_train = plylst_use.iloc[:n_train,:]\n",
    "plylst_test = plylst_use.iloc[n_train:,:]"
   ]
  },
  {
   "cell_type": "code",
   "execution_count": null,
   "metadata": {
    "id": "mPtygPrWEyt0"
   },
   "outputs": [],
   "source": [
    "# sample test\n",
    "np.random.seed(33)\n",
    "n_sample = 300\n",
    "\n",
    "test = plylst_test.iloc[np.random.choice(range(n_test), n_sample, replace=False),:]\n",
    "\n",
    "# real test\n",
    "# test = plylst_test\n",
    "# print(len(test))"
   ]
  },
  {
   "cell_type": "code",
   "execution_count": null,
   "metadata": {
    "id": "qr36-4wzOw5C"
   },
   "outputs": [],
   "source": [
    "row = np.repeat(range(n_train), plylst_train['num_songs'])\n",
    "col = [song for songs in plylst_train['songs_id'] for song in songs]\n",
    "dat = np.repeat(1, plylst_train['num_songs'].sum())\n",
    "train_songs_A = spr.csr_matrix((dat, (row, col)), shape=(n_train, n_songs))\n",
    "\n",
    "row = np.repeat(range(n_train), plylst_train['num_tags'])\n",
    "col = [tag for tags in plylst_train['tags_id'] for tag in tags]\n",
    "dat = np.repeat(1, plylst_train['num_tags'].sum())\n",
    "train_tags_A = spr.csr_matrix((dat, (row, col)), shape=(n_train, n_tags))"
   ]
  },
  {
   "cell_type": "code",
   "execution_count": null,
   "metadata": {
    "colab": {
     "base_uri": "https://localhost:8080/"
    },
    "executionInfo": {
     "elapsed": 3,
     "status": "ok",
     "timestamp": 1641951336590,
     "user": {
      "displayName": "유상준",
      "photoUrl": "https://lh3.googleusercontent.com/a-/AOh14GjwhV3OPaZeVbcnb0L540CX4dtB2wGRfCVw4E8=s64",
      "userId": "06620102043085366517"
     },
     "user_tz": -540
    },
    "id": "MsGvsuBTnyPU",
    "outputId": "8bf90cdd-8c04-4e3e-a284-931abaf25cf5"
   },
   "outputs": [
    {
     "data": {
      "text/plain": [
       "5285871"
      ]
     },
     "execution_count": 67,
     "metadata": {},
     "output_type": "execute_result"
    }
   ],
   "source": [
    "plylst_train['num_songs'].sum()"
   ]
  },
  {
   "cell_type": "code",
   "execution_count": null,
   "metadata": {
    "id": "w01Scv0bigl7"
   },
   "outputs": [],
   "source": [
    "train_songs_A_T = train_songs_A.T.tocsr()\n",
    "train_tags_A_T = train_tags_A.T.tocsr()"
   ]
  },
  {
   "cell_type": "code",
   "execution_count": null,
   "metadata": {
    "colab": {
     "base_uri": "https://localhost:8080/"
    },
    "executionInfo": {
     "elapsed": 286,
     "status": "ok",
     "timestamp": 1641951341149,
     "user": {
      "displayName": "유상준",
      "photoUrl": "https://lh3.googleusercontent.com/a-/AOh14GjwhV3OPaZeVbcnb0L540CX4dtB2wGRfCVw4E8=s64",
      "userId": "06620102043085366517"
     },
     "user_tz": -540
    },
    "id": "y-K7TWGsOw1p",
    "outputId": "2f647201-a491-4259-c195-306a8f50f0a6"
   },
   "outputs": [
    {
     "data": {
      "text/plain": [
       "(115071, 638336)"
      ]
     },
     "execution_count": 69,
     "metadata": {},
     "output_type": "execute_result"
    }
   ],
   "source": [
    "train_songs_A.shape"
   ]
  },
  {
   "cell_type": "code",
   "execution_count": null,
   "metadata": {
    "colab": {
     "base_uri": "https://localhost:8080/"
    },
    "executionInfo": {
     "elapsed": 310,
     "status": "ok",
     "timestamp": 1641951343655,
     "user": {
      "displayName": "유상준",
      "photoUrl": "https://lh3.googleusercontent.com/a-/AOh14GjwhV3OPaZeVbcnb0L540CX4dtB2wGRfCVw4E8=s64",
      "userId": "06620102043085366517"
     },
     "user_tz": -540
    },
    "id": "MURV3SLGBNrZ",
    "outputId": "4c415e66-1aaf-4f53-c4c5-5e4171083551"
   },
   "outputs": [
    {
     "data": {
      "text/plain": [
       "<115071x638336 sparse matrix of type '<class 'numpy.longlong'>'\n",
       "\twith 5285871 stored elements in Compressed Sparse Row format>"
      ]
     },
     "execution_count": 70,
     "metadata": {},
     "output_type": "execute_result"
    }
   ],
   "source": [
    "train_songs_A"
   ]
  },
  {
   "cell_type": "code",
   "execution_count": null,
   "metadata": {
    "colab": {
     "base_uri": "https://localhost:8080/"
    },
    "executionInfo": {
     "elapsed": 410,
     "status": "ok",
     "timestamp": 1641951353587,
     "user": {
      "displayName": "유상준",
      "photoUrl": "https://lh3.googleusercontent.com/a-/AOh14GjwhV3OPaZeVbcnb0L540CX4dtB2wGRfCVw4E8=s64",
      "userId": "06620102043085366517"
     },
     "user_tz": -540
    },
    "id": "XPMu7Nes7Ty-",
    "outputId": "a179809c-86d4-411a-b8ff-7b9a5910a9dc"
   },
   "outputs": [
    {
     "data": {
      "text/plain": [
       "(115071, 30197)"
      ]
     },
     "execution_count": 71,
     "metadata": {},
     "output_type": "execute_result"
    }
   ],
   "source": [
    "train_tags_A.shape"
   ]
  },
  {
   "cell_type": "code",
   "execution_count": null,
   "metadata": {
    "colab": {
     "base_uri": "https://localhost:8080/"
    },
    "executionInfo": {
     "elapsed": 411,
     "status": "ok",
     "timestamp": 1641951357009,
     "user": {
      "displayName": "유상준",
      "photoUrl": "https://lh3.googleusercontent.com/a-/AOh14GjwhV3OPaZeVbcnb0L540CX4dtB2wGRfCVw4E8=s64",
      "userId": "06620102043085366517"
     },
     "user_tz": -540
    },
    "id": "6P2uFCPwOwyz",
    "outputId": "09ba68fa-d3b2-47cd-c2eb-2a7e6cf5868a"
   },
   "outputs": [
    {
     "name": "stdout",
     "output_type": "stream",
     "text": [
      "  (0, 0)\t1\n",
      "  (0, 1)\t1\n",
      "  (0, 2)\t1\n",
      "  (0, 3)\t1\n",
      "  (0, 4)\t1\n",
      "  (0, 5)\t1\n",
      "  (0, 6)\t1\n",
      "  (0, 7)\t1\n",
      "  (0, 8)\t1\n",
      "  (0, 9)\t1\n",
      "  (0, 10)\t1\n",
      "  (0, 11)\t1\n",
      "  (0, 12)\t1\n",
      "  (0, 13)\t1\n",
      "  (0, 14)\t1\n",
      "  (0, 15)\t1\n",
      "  (0, 16)\t1\n",
      "  (0, 17)\t1\n",
      "  (0, 18)\t1\n",
      "  (1, 19)\t1\n",
      "  (1, 20)\t1\n",
      "  (1, 21)\t1\n",
      "  (1, 22)\t1\n",
      "  (1, 23)\t1\n",
      "  (1, 24)\t1\n",
      "  :\t:\n",
      "  (115070, 148790)\t1\n",
      "  (115070, 152153)\t1\n",
      "  (115070, 152971)\t1\n",
      "  (115070, 158556)\t1\n",
      "  (115070, 159981)\t1\n",
      "  (115070, 167238)\t1\n",
      "  (115070, 168941)\t1\n",
      "  (115070, 177557)\t1\n",
      "  (115070, 198533)\t1\n",
      "  (115070, 204461)\t1\n",
      "  (115070, 227041)\t1\n",
      "  (115070, 283396)\t1\n",
      "  (115070, 293555)\t1\n",
      "  (115070, 296045)\t1\n",
      "  (115070, 325770)\t1\n",
      "  (115070, 325818)\t1\n",
      "  (115070, 341200)\t1\n",
      "  (115070, 358145)\t1\n",
      "  (115070, 361502)\t1\n",
      "  (115070, 380113)\t1\n",
      "  (115070, 407970)\t1\n",
      "  (115070, 447705)\t1\n",
      "  (115070, 615139)\t1\n",
      "  (115070, 615140)\t1\n",
      "  (115070, 615141)\t1\n"
     ]
    }
   ],
   "source": [
    "print(\"{}\".format(train_songs_A))"
   ]
  },
  {
   "cell_type": "markdown",
   "metadata": {
    "id": "Bsv1aNhh7a3L"
   },
   "source": [
    "---"
   ]
  },
  {
   "cell_type": "code",
   "execution_count": null,
   "metadata": {
    "id": "1eLa3w-POwwZ"
   },
   "outputs": [],
   "source": [
    "from tqdm import tqdm\n",
    "\n",
    "def rec(pids):\n",
    "    tt = 1\n",
    "\n",
    "    res = []\n",
    "\n",
    "    for pid in pids:\n",
    "\n",
    "        #song\n",
    "        p = np.zeros((n_songs,1))\n",
    "        p[test.loc[pid,'songs_id']] = 1\n",
    "\n",
    "        val = train_songs_A.dot(p).reshape(-1)\n",
    "\n",
    "        songs_already = test.loc[pid, \"songs_id\"]\n",
    "        tags_already = test.loc[pid, \"tags_id\"]\n",
    "\n",
    "        cand_song = train_songs_A_T.dot(val)\n",
    "        cand_song_idx = cand_song.reshape(-1).argsort()[-150:][::-1]\n",
    "\n",
    "        cand_song_idx = cand_song_idx[np.isin(cand_song_idx, songs_already) == False][:100]\n",
    "        rec_song_idx = [song_sid_id[i] for i in cand_song_idx]\n",
    "\n",
    "\n",
    "        #tag\n",
    "        # p = np.zeros((n_tags,1))\n",
    "        # p[test.loc[pid,'tags_id']] = 1\n",
    "\n",
    "        # val = train_tags_A.dot(p).reshape(-1)\n",
    "\n",
    "        cand_tag = train_tags_A_T.dot(val)\n",
    "        cand_tag_idx = cand_tag.reshape(-1).argsort()[-15:][::-1]\n",
    "\n",
    "        cand_tag_idx = cand_tag_idx[np.isin(cand_tag_idx, tags_already) == False][:10]\n",
    "        rec_tag_idx = [tag_tid_id[i] for i in cand_tag_idx]\n",
    "\n",
    "        res.append({\n",
    "                    \"id\": plylst_nid_id[pid],\n",
    "                    \"songs\": rec_song_idx,\n",
    "                    \"tags\": rec_tag_idx\n",
    "            })\n",
    "    if tt % 1000 == 0:\n",
    "        print(tt)\n",
    "\n",
    "    tt += 1\n",
    "    \n",
    "    return res"
   ]
  },
  {
   "cell_type": "code",
   "execution_count": null,
   "metadata": {
    "id": "CAlSn1AwEynr"
   },
   "outputs": [],
   "source": [
    "answers = rec(test.index)"
   ]
  },
  {
   "cell_type": "code",
   "execution_count": null,
   "metadata": {
    "colab": {
     "base_uri": "https://localhost:8080/"
    },
    "executionInfo": {
     "elapsed": 318,
     "status": "ok",
     "timestamp": 1641952414136,
     "user": {
      "displayName": "유상준",
      "photoUrl": "https://lh3.googleusercontent.com/a-/AOh14GjwhV3OPaZeVbcnb0L540CX4dtB2wGRfCVw4E8=s64",
      "userId": "06620102043085366517"
     },
     "user_tz": -540
    },
    "id": "Kj71BOF28ve9",
    "outputId": "3a678533-19e6-4643-90b3-0e00efaf7a3b"
   },
   "outputs": [
    {
     "name": "stdout",
     "output_type": "stream",
     "text": [
      "\u001b[0m\u001b[01;34marena_data\u001b[0m/            genre_gn_all.json  songs_df.csv  train.json\n",
      "concatenated_data.csv  song_meta.json     test.json     val.json\n"
     ]
    }
   ],
   "source": [
    "ls"
   ]
  },
  {
   "cell_type": "code",
   "execution_count": null,
   "metadata": {
    "id": "cJUiRjL-8odw"
   },
   "outputs": [],
   "source": [
    "write_json(answers, \"results.json\")"
   ]
  },
  {
   "cell_type": "code",
   "execution_count": null,
   "metadata": {
    "colab": {
     "base_uri": "https://localhost:8080/"
    },
    "executionInfo": {
     "elapsed": 313,
     "status": "ok",
     "timestamp": 1641952420920,
     "user": {
      "displayName": "유상준",
      "photoUrl": "https://lh3.googleusercontent.com/a-/AOh14GjwhV3OPaZeVbcnb0L540CX4dtB2wGRfCVw4E8=s64",
      "userId": "06620102043085366517"
     },
     "user_tz": -540
    },
    "id": "SzcG4pru8nq8",
    "outputId": "e4ee0493-c3e7-41e8-95ee-9e1b4a00e1c1"
   },
   "outputs": [
    {
     "name": "stdout",
     "output_type": "stream",
     "text": [
      "float division by zero\n"
     ]
    }
   ],
   "source": [
    "evaluator = CustomEvaluator()\n",
    "evaluator.evaluate(\"./val.json\", \"arena_data/results/results.json\")"
   ]
  },
  {
   "cell_type": "markdown",
   "metadata": {
    "id": "LNVdq_fkBCfR"
   },
   "source": [
    "---"
   ]
  }
 ],
 "metadata": {
  "colab": {
   "authorship_tag": "ABX9TyPsK0NkxUqT13a3yl6z20a8",
   "collapsed_sections": [],
   "mount_file_id": "1wJTml5UvXIY3TOk3ZjASJQGi2uoU4Rsh",
   "name": "EDA_UserBasedCF.ipynb",
   "provenance": []
  },
  "kernelspec": {
   "display_name": "Python 3 (ipykernel)",
   "language": "python",
   "name": "python3"
  },
  "language_info": {
   "codemirror_mode": {
    "name": "ipython",
    "version": 3
   },
   "file_extension": ".py",
   "mimetype": "text/x-python",
   "name": "python",
   "nbconvert_exporter": "python",
   "pygments_lexer": "ipython3",
   "version": "3.9.7"
  }
 },
 "nbformat": 4,
 "nbformat_minor": 1
}
